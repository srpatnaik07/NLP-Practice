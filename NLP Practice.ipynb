{
 "cells": [
  {
   "cell_type": "code",
   "execution_count": 1,
   "id": "8aa84841",
   "metadata": {},
   "outputs": [],
   "source": [
    "#regular expression\n"
   ]
  },
  {
   "cell_type": "code",
   "execution_count": 2,
   "id": "756771cb",
   "metadata": {},
   "outputs": [],
   "source": [
    "import re"
   ]
  },
  {
   "cell_type": "code",
   "execution_count": 3,
   "id": "f95ce806",
   "metadata": {},
   "outputs": [
    {
     "data": {
      "text/plain": [
       "['9337598242', '(999)-333-7777']"
      ]
     },
     "execution_count": 3,
     "metadata": {},
     "output_type": "execute_result"
    }
   ],
   "source": [
    "text='''\n",
    "Elon Musk's phone number is 9337598242. Call him if you have any doubts .Tesla's annual revenue is 40 billion USD. Have a nice day.\n",
    "Tesla's CFO number is (999)-333-7777\n",
    "'''\n",
    "pattern='\\(\\d{3}\\)-\\d{3}-\\d{4}|\\d{10}'\n",
    "matches=re.findall(pattern,text)\n",
    "matches"
   ]
  },
  {
   "cell_type": "code",
   "execution_count": 4,
   "id": "51e21730",
   "metadata": {},
   "outputs": [
    {
     "data": {
      "text/plain": [
       "['Overview', 'Summary of Significant Accounting Policies']"
      ]
     },
     "execution_count": 4,
     "metadata": {},
     "output_type": "execute_result"
    }
   ],
   "source": [
    "text_2='''\n",
    "Note 1 - Overview\n",
    "Tesla, Inc. (“Tesla”, the “Company”, “we”, “us” or “our”) was incorporated in the State of Delaware on July 1, 2003. We design, develop, manufacture and sell high-performance fully electric vehicles and design, manufacture, install and sell solar energy generation and energy storage\n",
    "products. Our Chief Executive Officer, as the chief operating decision maker (“CODM”), organizes our company, manages resource allocations and measures performance among two operating and reportable segments: (i) automotive and (ii) energy generation and storage.\n",
    "Beginning in the first quarter of 2021, there has been a trend in many parts of the world of increasing availability and administration of vaccines\n",
    "against COVID-19, as well as an easing of restrictions on social, business, travel and government activities and functions. On the other hand, infection\n",
    "rates and regulations continue to fluctuate in various regions and there are ongoing global impacts resulting from the pandemic, including challenges\n",
    "and increases in costs for logistics and supply chains, such as increased port congestion, intermittent supplier delays and a shortfall of semiconductor\n",
    "supply. We have also previously been affected by temporary manufacturing closures, employment and compensation adjustments and impediments to\n",
    "administrative activities supporting our product deliveries and deployments.\n",
    "Note 2 - Summary of Significant Accounting Policies\n",
    "Unaudited Interim Financial Statements\n",
    "The consolidated balance sheet as of September 30, 2021, the consolidated statements of operations, the consolidated statements of\n",
    "comprehensive income, the consolidated statements of redeemable noncontrolling interests and equity for the three and nine months ended September\n",
    "30, 2021 and 2020 and the consolidated statements of cash flows for the nine months ended September 30, 2021 and 2020, as well as other information\n",
    "disclosed in the accompanying notes, are unaudited. The consolidated balance sheet as of December 31, 2020 was derived from the audited\n",
    "consolidated financial statements as of that date. The interim consolidated financial statements and the accompanying notes should be read in\n",
    "conjunction with the annual consolidated financial statements and the accompanying notes contained in our Annual Report on Form 10-K for the year\n",
    "ended December 31, 2020.\n",
    "'''\n",
    "pattern_2='Note \\d - ([^\\n]*)'\n",
    "matches_2=re.findall(pattern_2,text_2)\n",
    "matches_2"
   ]
  },
  {
   "cell_type": "code",
   "execution_count": 5,
   "id": "4616b0a5",
   "metadata": {},
   "outputs": [
    {
     "data": {
      "text/plain": [
       "['FY2021 Q1', 'fy2020 Q4']"
      ]
     },
     "execution_count": 5,
     "metadata": {},
     "output_type": "execute_result"
    }
   ],
   "source": [
    "text='''\n",
    "The gross cost of operating lease vehicles in FY2021 Q1 was $4.85 billion.\n",
    "In previous quarter i.e. fy2020 Q4 it was $3 billion. \n",
    "'''\n",
    "pattern='FY\\d{4} Q[1-4]'\n",
    "\n",
    "matches=re.findall(pattern,text,flags=re.IGNORECASE)\n",
    "matches"
   ]
  },
  {
   "cell_type": "code",
   "execution_count": 6,
   "id": "a96a6a52",
   "metadata": {},
   "outputs": [
    {
     "data": {
      "text/plain": [
       "['4.85', '3']"
      ]
     },
     "execution_count": 6,
     "metadata": {},
     "output_type": "execute_result"
    }
   ],
   "source": [
    "text='''\n",
    "Tesla's gross cost of operating lease vehicles in FY2021 Q1 was $4.85 billion. \n",
    "In previous quarter i.e. FY2020 Q4 it was $3 billion.\n",
    "'''\n",
    "pattern='\\$([\\d\\.]+)'\n",
    "matches=re.findall(pattern,text)\n",
    "matches"
   ]
  },
  {
   "cell_type": "markdown",
   "id": "269a3dcd",
   "metadata": {},
   "source": [
    " text = '''\n",
    "Tesla's gross cost of operating lease vehicles in FY2021 Q1 was $4.85 billion. \n",
    "In previous quarter i.e. FY2020 Q4 it was $3 billion.\n",
    "'''\n",
    "pattern = 'FY(\\d{4} Q[1-4])[^\\$]+\\$([0-9\\.]+)'\n",
    "\n",
    "matches = re.findall(pattern, text)\n",
    "matches"
   ]
  },
  {
   "cell_type": "code",
   "execution_count": 7,
   "id": "2d872470",
   "metadata": {},
   "outputs": [],
   "source": [
    "#1. Extract all twitter handles from following text. Twitter handle is the text that appears after https://twitter.com/ and is a single word. Also it contains only alpha numeric characters i.e. A-Z a-z , o to 9 and underscore _"
   ]
  },
  {
   "cell_type": "code",
   "execution_count": 8,
   "id": "e3a0de9e",
   "metadata": {},
   "outputs": [
    {
     "data": {
      "text/plain": [
       "['elonmusk', 'teslarati', 'dummy_tesla', 'dummy_2_tesla']"
      ]
     },
     "execution_count": 8,
     "metadata": {},
     "output_type": "execute_result"
    }
   ],
   "source": [
    "text='''\n",
    "Follow our leader Elon musk on twitter here: https://twitter.com/elonmusk, more information \n",
    "on Tesla's products can be found at https://www.tesla.com/. Also here are leading influencers \n",
    "for tesla related news,\n",
    "https://twitter.com/teslarati\n",
    "https://twitter.com/dummy_tesla\n",
    "https://twitter.com/dummy_2_tesla\n",
    "'''\n",
    "pattern='https:\\/\\/twitter\\.com\\/([a-zA-Z0-9_]+)'\n",
    "matches=re.findall(pattern,text)\n",
    "matches"
   ]
  },
  {
   "cell_type": "code",
   "execution_count": 9,
   "id": "9316d85a",
   "metadata": {},
   "outputs": [],
   "source": [
    "#2. Extract Concentration Risk Types. It will be a text that appears after \"Concentration Risk:\", In below example, your regex should extract these two strings\n",
    "\n",
    "#(1) Credit Risk\n",
    "\n",
    "#(2) Supply Rish"
   ]
  },
  {
   "cell_type": "code",
   "execution_count": 10,
   "id": "46654d6b",
   "metadata": {},
   "outputs": [
    {
     "data": {
      "text/plain": [
       "['Credit Risk', 'Supply Risk']"
      ]
     },
     "execution_count": 10,
     "metadata": {},
     "output_type": "execute_result"
    }
   ],
   "source": [
    "text='''\n",
    "Concentration of Risk: Credit Risk\n",
    "Financial instruments that potentially subject us to a concentration of credit risk consist of cash, cash equivalents, marketable securities,\n",
    "restricted cash, accounts receivable, convertible note hedges, and interest rate swaps. Our cash balances are primarily invested in money market funds\n",
    "or on deposit at high credit quality financial institutions in the U.S. These deposits are typically in excess of insured limits. As of September 30, 2021\n",
    "and December 31, 2020, no entity represented 10% or more of our total accounts receivable balance. The risk of concentration for our convertible note\n",
    "hedges and interest rate swaps is mitigated by transacting with several highly-rated multinational banks.\n",
    "Concentration of Risk: Supply Risk\n",
    "We are dependent on our suppliers, including single source suppliers, and the inability of these suppliers to deliver necessary components of our\n",
    "products in a timely manner at prices, quality levels and volumes acceptable to us, or our inability to efficiently manage these components from these\n",
    "suppliers, could have a material adverse effect on our business, prospects, financial condition and operating results.\n",
    "'''\n",
    "pattern='Concentration of Risk: ([^\\n]*)'\n",
    "matches=re.findall(pattern,text)\n",
    "matches"
   ]
  },
  {
   "cell_type": "code",
   "execution_count": 11,
   "id": "6a5c7743",
   "metadata": {},
   "outputs": [],
   "source": [
    "#3. Companies in europe reports their financial numbers of semi annual basis and you can have a document like this. To exatract quarterly and semin annual period you can use a regex as shown below"
   ]
  },
  {
   "cell_type": "code",
   "execution_count": 12,
   "id": "532dc8cd",
   "metadata": {},
   "outputs": [
    {
     "data": {
      "text/plain": [
       "['2021 Q1', '2021 S1']"
      ]
     },
     "execution_count": 12,
     "metadata": {},
     "output_type": "execute_result"
    }
   ],
   "source": [
    "text='''\n",
    "Tesla's gross cost of operating lease vehicles in FY2021 Q1 was $4.85 billion.\n",
    "BMW's gross cost of operating vehicles in FY2021 S1 was $8 billion.\n",
    "'''\n",
    "pattern='FY(\\d{4} (?:Q[1-4]|S[1-2]))'\n",
    "matches=re.findall(pattern,text)\n",
    "matches"
   ]
  },
  {
   "cell_type": "code",
   "execution_count": 13,
   "id": "36a06c99",
   "metadata": {},
   "outputs": [],
   "source": [
    "#Retrieve order number"
   ]
  },
  {
   "cell_type": "code",
   "execution_count": 14,
   "id": "ba7d2412",
   "metadata": {},
   "outputs": [],
   "source": [
    "chat1='codebasics: Hello, I am having an issue with my order # 412889912'"
   ]
  },
  {
   "cell_type": "code",
   "execution_count": 15,
   "id": "2a98fe55",
   "metadata": {},
   "outputs": [
    {
     "data": {
      "text/plain": [
       "['412889912']"
      ]
     },
     "execution_count": 15,
     "metadata": {},
     "output_type": "execute_result"
    }
   ],
   "source": [
    "pattern='order[^\\d]*(\\d*)'\n",
    "matches=re.findall(pattern,chat1)\n",
    "matches"
   ]
  },
  {
   "cell_type": "code",
   "execution_count": 16,
   "id": "4e09d36e",
   "metadata": {},
   "outputs": [],
   "source": [
    "chat2='codebasics: I have a problem with my order number 412889912'"
   ]
  },
  {
   "cell_type": "code",
   "execution_count": 17,
   "id": "00242cb6",
   "metadata": {},
   "outputs": [
    {
     "data": {
      "text/plain": [
       "['412889912']"
      ]
     },
     "execution_count": 17,
     "metadata": {},
     "output_type": "execute_result"
    }
   ],
   "source": [
    "pattern='order[^\\d]*(\\d*)'\n",
    "matches=re.findall(pattern,chat2)\n",
    "matches"
   ]
  },
  {
   "cell_type": "code",
   "execution_count": 18,
   "id": "3905a703",
   "metadata": {},
   "outputs": [],
   "source": [
    "chat3='codebasics: My order 412889912 is having an issue, I was charged 300$ when online it says 280$'"
   ]
  },
  {
   "cell_type": "code",
   "execution_count": 19,
   "id": "0a259209",
   "metadata": {},
   "outputs": [
    {
     "data": {
      "text/plain": [
       "['412889912']"
      ]
     },
     "execution_count": 19,
     "metadata": {},
     "output_type": "execute_result"
    }
   ],
   "source": [
    "pattern='order[^\\d]*(\\d*)'\n",
    "matches=re.findall(pattern,chat2)\n",
    "matches"
   ]
  },
  {
   "cell_type": "code",
   "execution_count": 20,
   "id": "fe7524c5",
   "metadata": {},
   "outputs": [],
   "source": [
    "def get_pattern_match(pattern,text):\n",
    "    matches=re.findall(pattern,text)\n",
    "    if matches:\n",
    "        return matches[0]"
   ]
  },
  {
   "cell_type": "code",
   "execution_count": 21,
   "id": "58fb85b6",
   "metadata": {},
   "outputs": [
    {
     "data": {
      "text/plain": [
       "'412889912'"
      ]
     },
     "execution_count": 21,
     "metadata": {},
     "output_type": "execute_result"
    }
   ],
   "source": [
    "get_pattern_match(pattern,chat1)"
   ]
  },
  {
   "cell_type": "code",
   "execution_count": 22,
   "id": "8718c4b4",
   "metadata": {},
   "outputs": [],
   "source": [
    "#Retrieve e-mail id and phone"
   ]
  },
  {
   "cell_type": "code",
   "execution_count": 23,
   "id": "2db9db44",
   "metadata": {},
   "outputs": [],
   "source": [
    "#E-mail"
   ]
  },
  {
   "cell_type": "code",
   "execution_count": 24,
   "id": "013769ae",
   "metadata": {},
   "outputs": [],
   "source": [
    "chat1 = 'codebasics: you ask lot of questions 😠  1235678912, abc@xyz.com'\n",
    "chat2 = 'codebasics: here it is: (123)-567-8912, abc@xyz.com'\n",
    "chat3 = 'codebasics: yes, phone: 1235678912 email: abc@xyz.com'"
   ]
  },
  {
   "cell_type": "code",
   "execution_count": 25,
   "id": "9d0912fb",
   "metadata": {},
   "outputs": [
    {
     "data": {
      "text/plain": [
       "'abc@xyz.com'"
      ]
     },
     "execution_count": 25,
     "metadata": {},
     "output_type": "execute_result"
    }
   ],
   "source": [
    "get_pattern_match('[a-zA-Z0-9_]*@[a-zA-Z0-9_]*\\.[a-z]*',chat1)"
   ]
  },
  {
   "cell_type": "code",
   "execution_count": 26,
   "id": "ff339d70",
   "metadata": {},
   "outputs": [
    {
     "data": {
      "text/plain": [
       "'abc@xyz.com'"
      ]
     },
     "execution_count": 26,
     "metadata": {},
     "output_type": "execute_result"
    }
   ],
   "source": [
    "get_pattern_match('[a-zA-Z0-9_]*@[a-zA-Z0-9_]*\\.[a-z]*',chat2)"
   ]
  },
  {
   "cell_type": "code",
   "execution_count": 27,
   "id": "d068662f",
   "metadata": {},
   "outputs": [],
   "source": [
    "#phone number"
   ]
  },
  {
   "cell_type": "code",
   "execution_count": 28,
   "id": "7d39a48a",
   "metadata": {},
   "outputs": [
    {
     "data": {
      "text/plain": [
       "('1235678912', '')"
      ]
     },
     "execution_count": 28,
     "metadata": {},
     "output_type": "execute_result"
    }
   ],
   "source": [
    "get_pattern_match('(\\d{10})|(\\(\\d{3}\\)-\\d{3}-\\d{4})',chat1)"
   ]
  },
  {
   "cell_type": "code",
   "execution_count": 29,
   "id": "ae512e06",
   "metadata": {},
   "outputs": [
    {
     "data": {
      "text/plain": [
       "('', '(123)-567-8912')"
      ]
     },
     "execution_count": 29,
     "metadata": {},
     "output_type": "execute_result"
    }
   ],
   "source": [
    "get_pattern_match('(\\d{10})|(\\(\\d{3}\\)-\\d{3}-\\d{4})',chat2)"
   ]
  },
  {
   "cell_type": "code",
   "execution_count": 30,
   "id": "a2f3dd95",
   "metadata": {},
   "outputs": [],
   "source": [
    "#Regx for information extraction"
   ]
  },
  {
   "cell_type": "code",
   "execution_count": 31,
   "id": "1186665a",
   "metadata": {},
   "outputs": [],
   "source": [
    "text='''\n",
    "Born\tElon Reeve Musk\n",
    "June 28, 1971 (age 50)\n",
    "Pretoria, Transvaal, South Africa\n",
    "Citizenship\t\n",
    "South Africa (1971–present)\n",
    "Canada (1971–present)\n",
    "United States (2002–present)\n",
    "Education\tUniversity of Pennsylvania (BS, BA)\n",
    "Title\t\n",
    "Founder, CEO and Chief Engineer of SpaceX\n",
    "CEO and product architect of Tesla, Inc.\n",
    "Founder of The Boring Company and X.com (now part of PayPal)\n",
    "Co-founder of Neuralink, OpenAI, and Zip2\n",
    "Spouse(s)\t\n",
    "Justine Wilson\n",
    "​\n",
    "​(m. 2000; div. 2008)​\n",
    "Talulah Riley\n",
    "​\n",
    "​(m. 2010; div. 2012)​\n",
    "​\n",
    "​(m. 2013; div. 2016)\n",
    "'''"
   ]
  },
  {
   "cell_type": "code",
   "execution_count": 32,
   "id": "de899d92",
   "metadata": {},
   "outputs": [
    {
     "data": {
      "text/plain": [
       "'50'"
      ]
     },
     "execution_count": 32,
     "metadata": {},
     "output_type": "execute_result"
    }
   ],
   "source": [
    "get_pattern_match('age (\\d+)',text).strip()"
   ]
  },
  {
   "cell_type": "code",
   "execution_count": 33,
   "id": "b1718d3f",
   "metadata": {},
   "outputs": [
    {
     "data": {
      "text/plain": [
       "'Elon Reeve Musk'"
      ]
     },
     "execution_count": 33,
     "metadata": {},
     "output_type": "execute_result"
    }
   ],
   "source": [
    "get_pattern_match('Born(.*)\\n',text).strip()"
   ]
  },
  {
   "cell_type": "code",
   "execution_count": 34,
   "id": "88fbf503",
   "metadata": {},
   "outputs": [
    {
     "data": {
      "text/plain": [
       "'June 28, 1971'"
      ]
     },
     "execution_count": 34,
     "metadata": {},
     "output_type": "execute_result"
    }
   ],
   "source": [
    "get_pattern_match('Born.*\\n(.*)\\(age',text).strip()"
   ]
  },
  {
   "cell_type": "code",
   "execution_count": 35,
   "id": "354f4f7d",
   "metadata": {},
   "outputs": [
    {
     "data": {
      "text/plain": [
       "'Pretoria, Transvaal, South Africa'"
      ]
     },
     "execution_count": 35,
     "metadata": {},
     "output_type": "execute_result"
    }
   ],
   "source": [
    "get_pattern_match('\\(age.*\\n(.*)',text).strip()"
   ]
  },
  {
   "cell_type": "code",
   "execution_count": 36,
   "id": "feb44e0c",
   "metadata": {},
   "outputs": [],
   "source": [
    "def extract_personal_information(text):\n",
    "    age=get_pattern_match('age (\\d+)',text)\n",
    "    full_name=get_pattern_match('Born(.*)\\n',text)\n",
    "    DOB=get_pattern_match('Born.*\\n(.*)\\(age',text)\n",
    "    place_of_birth=get_pattern_match('\\(age.*\\n(.*)',text)\n",
    "    return {\n",
    "        'age': int(age),\n",
    "        'name': full_name.strip(),\n",
    "        'birth_date': DOB.strip(),\n",
    "        'birth_place': place_of_birth.strip()\n",
    "    }"
   ]
  },
  {
   "cell_type": "code",
   "execution_count": 37,
   "id": "9d1f6ca9",
   "metadata": {},
   "outputs": [
    {
     "data": {
      "text/plain": [
       "{'age': 50,\n",
       " 'name': 'Elon Reeve Musk',\n",
       " 'birth_date': 'June 28, 1971',\n",
       " 'birth_place': 'Pretoria, Transvaal, South Africa'}"
      ]
     },
     "execution_count": 37,
     "metadata": {},
     "output_type": "execute_result"
    }
   ],
   "source": [
    "extract_personal_information(text)"
   ]
  },
  {
   "cell_type": "code",
   "execution_count": 38,
   "id": "926b823f",
   "metadata": {},
   "outputs": [],
   "source": [
    "text = '''\n",
    "Born\tMukesh Dhirubhai Ambani\n",
    "19 April 1957 (age 64)\n",
    "Aden, Colony of Aden\n",
    "(present-day Yemen)[1][2]\n",
    "Nationality\tIndian\n",
    "Alma mater\t\n",
    "St. Xavier's College, Mumbai\n",
    "Institute of Chemical Technology (B.E.)\n",
    "Stanford University (drop-out)\n",
    "Occupation\tChairman and MD, Reliance Industries\n",
    "Spouse(s)\tNita Ambani ​(m. 1985)​[3]\n",
    "Children\t3\n",
    "Parent(s)\t\n",
    "Dhirubhai Ambani (father)\n",
    "Kokilaben Ambani (mother)\n",
    "Relatives\tAnil Ambani (brother)\n",
    "Tina Ambani (sister-in-law)\n",
    "'''"
   ]
  },
  {
   "cell_type": "code",
   "execution_count": 39,
   "id": "c1e46d2a",
   "metadata": {},
   "outputs": [
    {
     "data": {
      "text/plain": [
       "{'age': 64,\n",
       " 'name': 'Mukesh Dhirubhai Ambani',\n",
       " 'birth_date': '19 April 1957',\n",
       " 'birth_place': 'Aden, Colony of Aden'}"
      ]
     },
     "execution_count": 39,
     "metadata": {},
     "output_type": "execute_result"
    }
   ],
   "source": [
    "extract_personal_information(text)"
   ]
  },
  {
   "cell_type": "code",
   "execution_count": 40,
   "id": "efcfcb11",
   "metadata": {},
   "outputs": [],
   "source": [
    "#Tokenization using spacy"
   ]
  },
  {
   "cell_type": "code",
   "execution_count": 41,
   "id": "3c732248",
   "metadata": {},
   "outputs": [],
   "source": [
    "import spacy"
   ]
  },
  {
   "cell_type": "code",
   "execution_count": 42,
   "id": "8567aa21",
   "metadata": {},
   "outputs": [
    {
     "name": "stdout",
     "output_type": "stream",
     "text": [
      "Dr.\n",
      "Strange\n",
      "loves\n",
      "pav\n",
      "bhaji\n",
      "of\n",
      "mumbai\n",
      "as\n",
      "it\n",
      "costs\n",
      "only\n",
      "2\n",
      "$\n",
      "per\n",
      "plate\n",
      ".\n"
     ]
    }
   ],
   "source": [
    "nlp=spacy.blank(\"en\")\n",
    "doc=nlp(\"Dr. Strange loves pav bhaji of mumbai as it costs only 2$ per plate.\")\n",
    "for token in doc:\n",
    "    print(token)"
   ]
  },
  {
   "cell_type": "code",
   "execution_count": 43,
   "id": "de022908",
   "metadata": {},
   "outputs": [
    {
     "data": {
      "text/plain": [
       "Dr."
      ]
     },
     "execution_count": 43,
     "metadata": {},
     "output_type": "execute_result"
    }
   ],
   "source": [
    "doc[0]"
   ]
  },
  {
   "cell_type": "code",
   "execution_count": 44,
   "id": "e9998b8f",
   "metadata": {},
   "outputs": [
    {
     "data": {
      "text/plain": [
       "Strange"
      ]
     },
     "execution_count": 44,
     "metadata": {},
     "output_type": "execute_result"
    }
   ],
   "source": [
    "doc[1]"
   ]
  },
  {
   "cell_type": "code",
   "execution_count": 45,
   "id": "c02dbb9c",
   "metadata": {},
   "outputs": [
    {
     "data": {
      "text/plain": [
       "spacy.lang.en.English"
      ]
     },
     "execution_count": 45,
     "metadata": {},
     "output_type": "execute_result"
    }
   ],
   "source": [
    "type(nlp)"
   ]
  },
  {
   "cell_type": "code",
   "execution_count": 46,
   "id": "959565e2",
   "metadata": {},
   "outputs": [
    {
     "data": {
      "text/plain": [
       "Dr. Strange loves pav bhaji"
      ]
     },
     "execution_count": 46,
     "metadata": {},
     "output_type": "execute_result"
    }
   ],
   "source": [
    "doc[0:5]"
   ]
  },
  {
   "cell_type": "code",
   "execution_count": 47,
   "id": "eefd07d1",
   "metadata": {},
   "outputs": [
    {
     "data": {
      "text/plain": [
       "['_',\n",
       " '__bytes__',\n",
       " '__class__',\n",
       " '__delattr__',\n",
       " '__dir__',\n",
       " '__doc__',\n",
       " '__eq__',\n",
       " '__format__',\n",
       " '__ge__',\n",
       " '__getattribute__',\n",
       " '__gt__',\n",
       " '__hash__',\n",
       " '__init__',\n",
       " '__init_subclass__',\n",
       " '__le__',\n",
       " '__len__',\n",
       " '__lt__',\n",
       " '__ne__',\n",
       " '__new__',\n",
       " '__pyx_vtable__',\n",
       " '__reduce__',\n",
       " '__reduce_ex__',\n",
       " '__repr__',\n",
       " '__setattr__',\n",
       " '__sizeof__',\n",
       " '__str__',\n",
       " '__subclasshook__',\n",
       " '__unicode__',\n",
       " 'ancestors',\n",
       " 'check_flag',\n",
       " 'children',\n",
       " 'cluster',\n",
       " 'conjuncts',\n",
       " 'dep',\n",
       " 'dep_',\n",
       " 'doc',\n",
       " 'ent_id',\n",
       " 'ent_id_',\n",
       " 'ent_iob',\n",
       " 'ent_iob_',\n",
       " 'ent_kb_id',\n",
       " 'ent_kb_id_',\n",
       " 'ent_type',\n",
       " 'ent_type_',\n",
       " 'get_extension',\n",
       " 'has_dep',\n",
       " 'has_extension',\n",
       " 'has_head',\n",
       " 'has_morph',\n",
       " 'has_vector',\n",
       " 'head',\n",
       " 'i',\n",
       " 'idx',\n",
       " 'iob_strings',\n",
       " 'is_alpha',\n",
       " 'is_ancestor',\n",
       " 'is_ascii',\n",
       " 'is_bracket',\n",
       " 'is_currency',\n",
       " 'is_digit',\n",
       " 'is_left_punct',\n",
       " 'is_lower',\n",
       " 'is_oov',\n",
       " 'is_punct',\n",
       " 'is_quote',\n",
       " 'is_right_punct',\n",
       " 'is_sent_end',\n",
       " 'is_sent_start',\n",
       " 'is_space',\n",
       " 'is_stop',\n",
       " 'is_title',\n",
       " 'is_upper',\n",
       " 'lang',\n",
       " 'lang_',\n",
       " 'left_edge',\n",
       " 'lefts',\n",
       " 'lemma',\n",
       " 'lemma_',\n",
       " 'lex',\n",
       " 'lex_id',\n",
       " 'like_email',\n",
       " 'like_num',\n",
       " 'like_url',\n",
       " 'lower',\n",
       " 'lower_',\n",
       " 'morph',\n",
       " 'n_lefts',\n",
       " 'n_rights',\n",
       " 'nbor',\n",
       " 'norm',\n",
       " 'norm_',\n",
       " 'orth',\n",
       " 'orth_',\n",
       " 'pos',\n",
       " 'pos_',\n",
       " 'prefix',\n",
       " 'prefix_',\n",
       " 'prob',\n",
       " 'rank',\n",
       " 'remove_extension',\n",
       " 'right_edge',\n",
       " 'rights',\n",
       " 'sent',\n",
       " 'sent_start',\n",
       " 'sentiment',\n",
       " 'set_extension',\n",
       " 'set_morph',\n",
       " 'shape',\n",
       " 'shape_',\n",
       " 'similarity',\n",
       " 'subtree',\n",
       " 'suffix',\n",
       " 'suffix_',\n",
       " 'tag',\n",
       " 'tag_',\n",
       " 'tensor',\n",
       " 'text',\n",
       " 'text_with_ws',\n",
       " 'vector',\n",
       " 'vector_norm',\n",
       " 'vocab',\n",
       " 'whitespace_']"
      ]
     },
     "execution_count": 47,
     "metadata": {},
     "output_type": "execute_result"
    }
   ],
   "source": [
    "dir(token)"
   ]
  },
  {
   "cell_type": "code",
   "execution_count": 48,
   "id": "4a34d31a",
   "metadata": {},
   "outputs": [],
   "source": [
    "doc=nlp(\"Tony gave two $ to Peter.\")"
   ]
  },
  {
   "cell_type": "code",
   "execution_count": 49,
   "id": "c42b37e4",
   "metadata": {},
   "outputs": [
    {
     "name": "stdout",
     "output_type": "stream",
     "text": [
      "Tony\n",
      "gave\n",
      "two\n",
      "$\n",
      "to\n",
      "Peter\n",
      ".\n"
     ]
    }
   ],
   "source": [
    "for token in doc:\n",
    "    print(token)"
   ]
  },
  {
   "cell_type": "code",
   "execution_count": 50,
   "id": "a8c28c3c",
   "metadata": {},
   "outputs": [
    {
     "data": {
      "text/plain": [
       "Tony"
      ]
     },
     "execution_count": 50,
     "metadata": {},
     "output_type": "execute_result"
    }
   ],
   "source": [
    "token0=doc[0]\n",
    "token0"
   ]
  },
  {
   "cell_type": "code",
   "execution_count": 51,
   "id": "9d4c1f57",
   "metadata": {},
   "outputs": [
    {
     "data": {
      "text/plain": [
       "True"
      ]
     },
     "execution_count": 51,
     "metadata": {},
     "output_type": "execute_result"
    }
   ],
   "source": [
    "token0.is_alpha"
   ]
  },
  {
   "cell_type": "code",
   "execution_count": 52,
   "id": "ae0be79e",
   "metadata": {},
   "outputs": [
    {
     "data": {
      "text/plain": [
       "False"
      ]
     },
     "execution_count": 52,
     "metadata": {},
     "output_type": "execute_result"
    }
   ],
   "source": [
    "token0.like_num"
   ]
  },
  {
   "cell_type": "code",
   "execution_count": 53,
   "id": "34bf2aae",
   "metadata": {},
   "outputs": [
    {
     "data": {
      "text/plain": [
       "two"
      ]
     },
     "execution_count": 53,
     "metadata": {},
     "output_type": "execute_result"
    }
   ],
   "source": [
    "token2=doc[2]\n",
    "token2"
   ]
  },
  {
   "cell_type": "code",
   "execution_count": 54,
   "id": "0efe6f81",
   "metadata": {},
   "outputs": [
    {
     "data": {
      "text/plain": [
       "True"
      ]
     },
     "execution_count": 54,
     "metadata": {},
     "output_type": "execute_result"
    }
   ],
   "source": [
    "token2.like_num"
   ]
  },
  {
   "cell_type": "code",
   "execution_count": 55,
   "id": "b1275dd3",
   "metadata": {},
   "outputs": [
    {
     "data": {
      "text/plain": [
       "$"
      ]
     },
     "execution_count": 55,
     "metadata": {},
     "output_type": "execute_result"
    }
   ],
   "source": [
    "token3=doc[3]\n",
    "token3"
   ]
  },
  {
   "cell_type": "code",
   "execution_count": 56,
   "id": "914e0c94",
   "metadata": {},
   "outputs": [
    {
     "data": {
      "text/plain": [
       "True"
      ]
     },
     "execution_count": 56,
     "metadata": {},
     "output_type": "execute_result"
    }
   ],
   "source": [
    "token3.is_currency"
   ]
  },
  {
   "cell_type": "code",
   "execution_count": 57,
   "id": "998c89a3",
   "metadata": {},
   "outputs": [
    {
     "data": {
      "text/plain": [
       "False"
      ]
     },
     "execution_count": 57,
     "metadata": {},
     "output_type": "execute_result"
    }
   ],
   "source": [
    "token3.like_num"
   ]
  },
  {
   "cell_type": "code",
   "execution_count": 58,
   "id": "a17444bb",
   "metadata": {},
   "outputs": [],
   "source": [
    "#collecting email id of students"
   ]
  },
  {
   "cell_type": "code",
   "execution_count": 59,
   "id": "93370711",
   "metadata": {},
   "outputs": [],
   "source": [
    "\n",
    "'''text='''\n",
    "Dayton high school, 8th grade students information\n",
    "==================================================\n",
    "\n",
    "Name\tbirth day   \temail\n",
    "-----\t------------\t------\n",
    "Virat   5 June, 1882    virat@kohli.com\n",
    "Maria\t12 April, 2001  maria@sharapova.com\n",
    "Serena  24 June, 1998   serena@williams.com \n",
    "Joe      1 May, 1997    joe@root.com"
   ]
  },
  {
   "cell_type": "code",
   "execution_count": 60,
   "id": "76437885",
   "metadata": {},
   "outputs": [
    {
     "data": {
      "text/plain": [
       "'\\nDayton high school, 8th grade students information\\n==================================================\\n\\nName\\tbirth day   \\temail\\n-----\\t------------\\t------\\nVirat   5 June, 1882    virat@kohli.com\\nMaria\\t12 April, 2001  maria@sharapova.com\\nSerena  24 June, 1998   serena@williams.com \\nJoe      1 May, 1997    joe@root.com\\n'"
      ]
     },
     "execution_count": 60,
     "metadata": {},
     "output_type": "execute_result"
    }
   ],
   "source": [
    "text"
   ]
  },
  {
   "cell_type": "code",
   "execution_count": 61,
   "id": "943dc37d",
   "metadata": {},
   "outputs": [
    {
     "data": {
      "text/plain": [
       "['virat@kohli.com',\n",
       " 'maria@sharapova.com',\n",
       " 'serena@williams.com',\n",
       " 'joe@root.com']"
      ]
     },
     "execution_count": 61,
     "metadata": {},
     "output_type": "execute_result"
    }
   ],
   "source": [
    "doc=nlp(text)\n",
    "emails= []\n",
    "for token in doc:\n",
    "    if token.like_email:\n",
    "        emails.append(token.text)\n",
    "emails        "
   ]
  },
  {
   "cell_type": "code",
   "execution_count": 62,
   "id": "04e0610a",
   "metadata": {},
   "outputs": [],
   "source": [
    "#support in other languages"
   ]
  },
  {
   "cell_type": "code",
   "execution_count": 63,
   "id": "ef8f2a81",
   "metadata": {},
   "outputs": [
    {
     "name": "stdout",
     "output_type": "stream",
     "text": [
      "भैया False\n",
      "जी False\n",
      "! False\n",
      "5000 False\n",
      "₹ True\n",
      "उधार False\n",
      "थे False\n",
      "वो False\n",
      "वापस False\n",
      "देदो False\n"
     ]
    }
   ],
   "source": [
    "nlp=spacy.blank(\"hi\")\n",
    "doc=nlp(\"भैया जी! 5000 ₹ उधार थे वो वापस देदो\")\n",
    "for token in doc:\n",
    "    print(token,token.is_currency)"
   ]
  },
  {
   "cell_type": "code",
   "execution_count": 64,
   "id": "6dcb9770",
   "metadata": {},
   "outputs": [],
   "source": [
    "#customizing tokenizer"
   ]
  },
  {
   "cell_type": "code",
   "execution_count": 65,
   "id": "51717eb1",
   "metadata": {},
   "outputs": [
    {
     "name": "stdout",
     "output_type": "stream",
     "text": [
      "gimme\n",
      "double\n",
      "cheese\n",
      "extra\n",
      "large\n",
      "healthy\n",
      "pizza\n"
     ]
    }
   ],
   "source": [
    "from spacy.symbols import ORTH\n",
    "nlp=spacy.blank(\"en\")\n",
    "doc=nlp(\"gimme double cheese extra large healthy pizza\")\n",
    "for token in doc:\n",
    "    print(token)"
   ]
  },
  {
   "cell_type": "code",
   "execution_count": 66,
   "id": "9e23c28a",
   "metadata": {},
   "outputs": [
    {
     "name": "stdout",
     "output_type": "stream",
     "text": [
      "gim\n",
      "me\n",
      "double\n",
      "cheese\n",
      "extra\n",
      "large\n",
      "healthy\n",
      "pizza\n"
     ]
    }
   ],
   "source": [
    "nlp.tokenizer.add_special_case(\"gimme\",[{ORTH:\"gim\"},{ORTH:\"me\"}])\n",
    "doc=nlp(\"gimme double cheese extra large healthy pizza\")\n",
    "for token in doc:\n",
    "    print(token)"
   ]
  },
  {
   "cell_type": "code",
   "execution_count": 67,
   "id": "34605fd4",
   "metadata": {},
   "outputs": [],
   "source": [
    "#sentence tokenization or segmentation"
   ]
  },
  {
   "cell_type": "code",
   "execution_count": 68,
   "id": "81a5f03d",
   "metadata": {},
   "outputs": [
    {
     "data": {
      "text/plain": [
       "<spacy.pipeline.sentencizer.Sentencizer at 0x1efcfb904c0>"
      ]
     },
     "execution_count": 68,
     "metadata": {},
     "output_type": "execute_result"
    }
   ],
   "source": [
    "nlp.add_pipe('sentencizer')"
   ]
  },
  {
   "cell_type": "code",
   "execution_count": 69,
   "id": "3347b744",
   "metadata": {},
   "outputs": [
    {
     "name": "stdout",
     "output_type": "stream",
     "text": [
      "Dr. Strange loves pav bhaji of mumbai.\n",
      "Hulk loves chat of delhi\n"
     ]
    }
   ],
   "source": [
    "doc=nlp(\"Dr. Strange loves pav bhaji of mumbai. Hulk loves chat of delhi\")\n",
    "for sentence in doc.sents:\n",
    "    print(sentence)"
   ]
  },
  {
   "cell_type": "code",
   "execution_count": 70,
   "id": "f06c00e5",
   "metadata": {},
   "outputs": [],
   "source": [
    "#extract websites from paragraph"
   ]
  },
  {
   "cell_type": "code",
   "execution_count": 71,
   "id": "5f50a0ee",
   "metadata": {},
   "outputs": [],
   "source": [
    "text='''\n",
    "Look for data to help you address the question. Governments are good\n",
    "sources because data from public research is often freely available. Good\n",
    "places to start include http://www.data.gov/, and http://www.science.\n",
    "gov/, and in the United Kingdom, http://data.gov.uk/.\n",
    "Two of my favorite data sets are the General Social Survey at http://www3.norc.org/gss+website/, \n",
    "and the European Social Survey at http://www.europeansocialsurvey.org/.\n",
    "'''"
   ]
  },
  {
   "cell_type": "code",
   "execution_count": 72,
   "id": "19d30d5a",
   "metadata": {},
   "outputs": [
    {
     "data": {
      "text/plain": [
       "['http://www.data.gov/',\n",
       " 'http://www.science',\n",
       " 'http://data.gov.uk/.',\n",
       " 'http://www3.norc.org/gss+website/',\n",
       " 'http://www.europeansocialsurvey.org/.']"
      ]
     },
     "execution_count": 72,
     "metadata": {},
     "output_type": "execute_result"
    }
   ],
   "source": [
    "doc = nlp(text)\n",
    "data_websites = [token.text for token in doc if token.like_url ] \n",
    "data_websites"
   ]
  },
  {
   "cell_type": "code",
   "execution_count": 73,
   "id": "32e15ee3",
   "metadata": {},
   "outputs": [],
   "source": [
    "#Figure out all transactions from this text with amount and currency"
   ]
  },
  {
   "cell_type": "code",
   "execution_count": 74,
   "id": "31f36853",
   "metadata": {},
   "outputs": [
    {
     "name": "stdout",
     "output_type": "stream",
     "text": [
      "two $\n",
      "500 €\n"
     ]
    }
   ],
   "source": [
    "transactions=\"Tony gave two $ to Peter, Bruce gave 500 € to Steve\"\n",
    "doc=nlp(transactions)\n",
    "for token in doc:\n",
    "    if token.like_num and doc[token.i+1].is_currency:\n",
    "        print(token.text,doc[token.i+1])"
   ]
  },
  {
   "cell_type": "code",
   "execution_count": 75,
   "id": "3d28ed68",
   "metadata": {},
   "outputs": [],
   "source": [
    "import spacy"
   ]
  },
  {
   "cell_type": "code",
   "execution_count": 76,
   "id": "1e269333",
   "metadata": {},
   "outputs": [],
   "source": [
    "nlp=spacy.blank('en')"
   ]
  },
  {
   "cell_type": "code",
   "execution_count": 77,
   "id": "d6590619",
   "metadata": {},
   "outputs": [
    {
     "name": "stdout",
     "output_type": "stream",
     "text": [
      "Captain\n",
      "america\n",
      "ate\n",
      "100\n",
      "$\n",
      "of\n",
      "samosa\n",
      ".\n",
      "Then\n",
      "he\n",
      "said\n",
      "I\n",
      "can\n",
      "do\n",
      "this\n",
      "all\n",
      "day\n",
      ".\n"
     ]
    }
   ],
   "source": [
    "doc=nlp(\"Captain america ate 100$ of samosa. Then he said I can do this all day.\")\n",
    "for token in doc:\n",
    "    print(token)"
   ]
  },
  {
   "cell_type": "code",
   "execution_count": 78,
   "id": "519dcfa7",
   "metadata": {},
   "outputs": [
    {
     "data": {
      "text/plain": [
       "['tok2vec', 'tagger', 'parser', 'attribute_ruler', 'lemmatizer', 'ner']"
      ]
     },
     "execution_count": 78,
     "metadata": {},
     "output_type": "execute_result"
    }
   ],
   "source": [
    "nlp=spacy.load('en_core_web_sm')\n",
    "nlp.pipe_names"
   ]
  },
  {
   "cell_type": "code",
   "execution_count": 79,
   "id": "def4a479",
   "metadata": {},
   "outputs": [
    {
     "data": {
      "text/plain": [
       "[('tok2vec', <spacy.pipeline.tok2vec.Tok2Vec at 0x1efcffff4c0>),\n",
       " ('tagger', <spacy.pipeline.tagger.Tagger at 0x1efcffff100>),\n",
       " ('parser', <spacy.pipeline.dep_parser.DependencyParser at 0x1efcfd41740>),\n",
       " ('attribute_ruler',\n",
       "  <spacy.pipeline.attributeruler.AttributeRuler at 0x1efd0022680>),\n",
       " ('lemmatizer', <spacy.lang.en.lemmatizer.EnglishLemmatizer at 0x1efd000bf80>),\n",
       " ('ner', <spacy.pipeline.ner.EntityRecognizer at 0x1efcfd419e0>)]"
      ]
     },
     "execution_count": 79,
     "metadata": {},
     "output_type": "execute_result"
    }
   ],
   "source": [
    "nlp.pipeline"
   ]
  },
  {
   "cell_type": "code",
   "execution_count": 80,
   "id": "54d41f92",
   "metadata": {},
   "outputs": [
    {
     "name": "stdout",
     "output_type": "stream",
     "text": [
      "Captain  |  proper noun  |  Captain\n",
      "america  |  proper noun  |  america\n",
      "ate  |  verb  |  eat\n",
      "100  |  numeral  |  100\n",
      "$  |  noun  |  $\n",
      "of  |  adposition  |  of\n",
      "samosa  |  proper noun  |  samosa\n",
      ".  |  punctuation  |  .\n",
      "Then  |  adverb  |  then\n",
      "he  |  pronoun  |  he\n",
      "said  |  verb  |  say\n",
      "I  |  pronoun  |  I\n",
      "can  |  auxiliary  |  can\n",
      "do  |  verb  |  do\n",
      "this  |  pronoun  |  this\n",
      "all  |  determiner  |  all\n",
      "day  |  noun  |  day\n",
      ".  |  punctuation  |  .\n"
     ]
    }
   ],
   "source": [
    "doc=nlp(\"Captain america ate 100$ of samosa. Then he said I can do this all day.\")\n",
    "for token in doc:\n",
    "    print(token,\" | \",spacy.explain(token.pos_),\" | \",token.lemma_)"
   ]
  },
  {
   "cell_type": "code",
   "execution_count": 81,
   "id": "1dace222",
   "metadata": {},
   "outputs": [],
   "source": [
    "# Named Entity Recognition"
   ]
  },
  {
   "cell_type": "code",
   "execution_count": 82,
   "id": "40a3c936",
   "metadata": {},
   "outputs": [
    {
     "name": "stdout",
     "output_type": "stream",
     "text": [
      "Tesla Inc ORG\n",
      "$45 billion MONEY\n"
     ]
    }
   ],
   "source": [
    "doc=nlp(\"Tesla Inc is going to acquire twitter for $45 billion\")\n",
    "for ent in doc.ents:\n",
    "    print(ent.text,ent.label_)"
   ]
  },
  {
   "cell_type": "code",
   "execution_count": 83,
   "id": "0ba1fa1e",
   "metadata": {},
   "outputs": [],
   "source": [
    "#Stemming in NLTK"
   ]
  },
  {
   "cell_type": "code",
   "execution_count": 84,
   "id": "7d7cfea6",
   "metadata": {},
   "outputs": [],
   "source": [
    "import nltk\n"
   ]
  },
  {
   "cell_type": "code",
   "execution_count": 85,
   "id": "cd2730d8",
   "metadata": {},
   "outputs": [],
   "source": [
    "from nltk.stem import PorterStemmer\n",
    "stemmer=PorterStemmer()"
   ]
  },
  {
   "cell_type": "code",
   "execution_count": 86,
   "id": "7f73f9b3",
   "metadata": {},
   "outputs": [
    {
     "name": "stdout",
     "output_type": "stream",
     "text": [
      "eating  |  eat\n",
      "eats  |  eat\n",
      "eat  |  eat\n",
      "ate  |  ate\n",
      "adjustable  |  adjust\n",
      "rafting  |  raft\n",
      "ability  |  abil\n",
      "meeting  |  meet\n"
     ]
    }
   ],
   "source": [
    "words=[\"eating\", \"eats\", \"eat\", \"ate\", \"adjustable\", \"rafting\", \"ability\", \"meeting\"]\n",
    "for word in words:\n",
    "    print(word,\" | \",stemmer.stem(word))"
   ]
  },
  {
   "cell_type": "code",
   "execution_count": 87,
   "id": "ddb16b00",
   "metadata": {},
   "outputs": [],
   "source": [
    "#Lemmatization in Spacy"
   ]
  },
  {
   "cell_type": "code",
   "execution_count": 88,
   "id": "d8bc39c9",
   "metadata": {},
   "outputs": [
    {
     "name": "stdout",
     "output_type": "stream",
     "text": [
      "Mando  |  mando\n",
      "talked  |  talk\n",
      "for  |  for\n",
      "3  |  3\n",
      "hours  |  hour\n",
      "although  |  although\n",
      "talking  |  talking\n",
      "is  |  be\n",
      "n't  |  not\n",
      "his  |  his\n",
      "thing  |  thing\n"
     ]
    }
   ],
   "source": [
    "import spacy\n",
    "nlp=spacy.load('en_core_web_sm')\n",
    "doc=nlp(\"Mando talked for 3 hours although talking isn't his thing\")\n",
    "for token in doc:\n",
    "    print(token,\" | \",token.lemma_)"
   ]
  },
  {
   "cell_type": "code",
   "execution_count": 89,
   "id": "9da4a716",
   "metadata": {},
   "outputs": [],
   "source": [
    "#Customizing Lemmatizer"
   ]
  },
  {
   "cell_type": "code",
   "execution_count": 90,
   "id": "ba22944a",
   "metadata": {},
   "outputs": [
    {
     "data": {
      "text/plain": [
       "['tok2vec', 'tagger', 'parser', 'attribute_ruler', 'lemmatizer', 'ner']"
      ]
     },
     "execution_count": 90,
     "metadata": {},
     "output_type": "execute_result"
    }
   ],
   "source": [
    "nlp.pipe_names"
   ]
  },
  {
   "cell_type": "code",
   "execution_count": 91,
   "id": "e8a5307c",
   "metadata": {},
   "outputs": [
    {
     "name": "stdout",
     "output_type": "stream",
     "text": [
      "Bro  |  Brother\n",
      ",  |  ,\n",
      "you  |  you\n",
      "wanna  |  wanna\n",
      "go  |  go\n",
      "?  |  ?\n",
      "Brah  |  Brother\n",
      ",  |  ,\n",
      "do  |  do\n",
      "n't  |  not\n",
      "say  |  say\n",
      "no  |  no\n",
      "!  |  !\n",
      "I  |  I\n",
      "am  |  be\n",
      "exhausted  |  exhaust\n"
     ]
    }
   ],
   "source": [
    "ar=nlp.get_pipe('attribute_ruler')\n",
    "ar.add([[{\"TEXT\":\"Bro\"}],[{\"TEXT\":\"Brah\"}]],{\"LEMMA\":\"Brother\"})\n",
    "doc=nlp(\"Bro, you wanna go? Brah, don't say no! I am exhausted\")\n",
    "for token in doc:\n",
    "    print(token,\" | \",token.lemma_)"
   ]
  },
  {
   "cell_type": "code",
   "execution_count": 92,
   "id": "a627e736",
   "metadata": {},
   "outputs": [
    {
     "name": "stdout",
     "output_type": "stream",
     "text": [
      "running  |  run\n",
      "painting  |  paint\n",
      "walking  |  walk\n",
      "dressing  |  dress\n",
      "likely  |  like\n",
      "children  |  children\n",
      "whom  |  whom\n",
      "good  |  good\n",
      "ate  |  ate\n",
      "fishing  |  fish\n"
     ]
    }
   ],
   "source": [
    "lst_words=['running', 'painting', 'walking', 'dressing', 'likely', 'children', 'whom', 'good', 'ate', 'fishing']\n",
    "for word in lst_words:\n",
    "    print(word,\" | \", stemmer.stem(word))"
   ]
  },
  {
   "cell_type": "code",
   "execution_count": 93,
   "id": "9113c7d8",
   "metadata": {},
   "outputs": [
    {
     "name": "stdout",
     "output_type": "stream",
     "text": [
      "running  |  run\n",
      "painting  |  painting\n",
      "walking  |  walking\n",
      "dressing  |  dress\n",
      "likely  |  likely\n",
      "children  |  child\n",
      "who  |  who\n",
      "good  |  good\n",
      "ate  |  eat\n",
      "fishing  |  fishing\n"
     ]
    }
   ],
   "source": [
    "doc=nlp(\"running painting walking dressing likely children who good ate fishing\")\n",
    "for token in doc:\n",
    "    print(token,\" | \",token.lemma_)\n"
   ]
  },
  {
   "cell_type": "code",
   "execution_count": 94,
   "id": "506316c6",
   "metadata": {},
   "outputs": [
    {
     "name": "stderr",
     "output_type": "stream",
     "text": [
      "[nltk_data] Downloading collection 'all'\n",
      "[nltk_data]    | \n",
      "[nltk_data]    | Downloading package abc to\n",
      "[nltk_data]    |     C:\\Users\\sohan\\AppData\\Roaming\\nltk_data...\n",
      "[nltk_data]    |   Package abc is already up-to-date!\n",
      "[nltk_data]    | Downloading package alpino to\n",
      "[nltk_data]    |     C:\\Users\\sohan\\AppData\\Roaming\\nltk_data...\n",
      "[nltk_data]    |   Package alpino is already up-to-date!\n",
      "[nltk_data]    | Downloading package averaged_perceptron_tagger to\n",
      "[nltk_data]    |     C:\\Users\\sohan\\AppData\\Roaming\\nltk_data...\n",
      "[nltk_data]    |   Package averaged_perceptron_tagger is already up-\n",
      "[nltk_data]    |       to-date!\n",
      "[nltk_data]    | Downloading package averaged_perceptron_tagger_ru to\n",
      "[nltk_data]    |     C:\\Users\\sohan\\AppData\\Roaming\\nltk_data...\n",
      "[nltk_data]    |   Package averaged_perceptron_tagger_ru is already\n",
      "[nltk_data]    |       up-to-date!\n",
      "[nltk_data]    | Downloading package basque_grammars to\n",
      "[nltk_data]    |     C:\\Users\\sohan\\AppData\\Roaming\\nltk_data...\n",
      "[nltk_data]    |   Package basque_grammars is already up-to-date!\n",
      "[nltk_data]    | Downloading package bcp47 to\n",
      "[nltk_data]    |     C:\\Users\\sohan\\AppData\\Roaming\\nltk_data...\n",
      "[nltk_data]    |   Package bcp47 is already up-to-date!\n",
      "[nltk_data]    | Downloading package biocreative_ppi to\n",
      "[nltk_data]    |     C:\\Users\\sohan\\AppData\\Roaming\\nltk_data...\n",
      "[nltk_data]    |   Package biocreative_ppi is already up-to-date!\n",
      "[nltk_data]    | Downloading package bllip_wsj_no_aux to\n",
      "[nltk_data]    |     C:\\Users\\sohan\\AppData\\Roaming\\nltk_data...\n",
      "[nltk_data]    |   Package bllip_wsj_no_aux is already up-to-date!\n",
      "[nltk_data]    | Downloading package book_grammars to\n",
      "[nltk_data]    |     C:\\Users\\sohan\\AppData\\Roaming\\nltk_data...\n",
      "[nltk_data]    |   Package book_grammars is already up-to-date!\n",
      "[nltk_data]    | Downloading package brown to\n",
      "[nltk_data]    |     C:\\Users\\sohan\\AppData\\Roaming\\nltk_data...\n",
      "[nltk_data]    |   Package brown is already up-to-date!\n",
      "[nltk_data]    | Downloading package brown_tei to\n",
      "[nltk_data]    |     C:\\Users\\sohan\\AppData\\Roaming\\nltk_data...\n",
      "[nltk_data]    |   Package brown_tei is already up-to-date!\n",
      "[nltk_data]    | Downloading package cess_cat to\n",
      "[nltk_data]    |     C:\\Users\\sohan\\AppData\\Roaming\\nltk_data...\n",
      "[nltk_data]    |   Package cess_cat is already up-to-date!\n",
      "[nltk_data]    | Downloading package cess_esp to\n",
      "[nltk_data]    |     C:\\Users\\sohan\\AppData\\Roaming\\nltk_data...\n",
      "[nltk_data]    |   Package cess_esp is already up-to-date!\n",
      "[nltk_data]    | Downloading package chat80 to\n",
      "[nltk_data]    |     C:\\Users\\sohan\\AppData\\Roaming\\nltk_data...\n",
      "[nltk_data]    |   Package chat80 is already up-to-date!\n",
      "[nltk_data]    | Downloading package city_database to\n",
      "[nltk_data]    |     C:\\Users\\sohan\\AppData\\Roaming\\nltk_data...\n",
      "[nltk_data]    |   Package city_database is already up-to-date!\n",
      "[nltk_data]    | Downloading package cmudict to\n",
      "[nltk_data]    |     C:\\Users\\sohan\\AppData\\Roaming\\nltk_data...\n",
      "[nltk_data]    |   Package cmudict is already up-to-date!\n",
      "[nltk_data]    | Downloading package comparative_sentences to\n",
      "[nltk_data]    |     C:\\Users\\sohan\\AppData\\Roaming\\nltk_data...\n",
      "[nltk_data]    |   Package comparative_sentences is already up-to-\n",
      "[nltk_data]    |       date!\n",
      "[nltk_data]    | Downloading package comtrans to\n",
      "[nltk_data]    |     C:\\Users\\sohan\\AppData\\Roaming\\nltk_data...\n",
      "[nltk_data]    |   Package comtrans is already up-to-date!\n",
      "[nltk_data]    | Downloading package conll2000 to\n",
      "[nltk_data]    |     C:\\Users\\sohan\\AppData\\Roaming\\nltk_data...\n",
      "[nltk_data]    |   Package conll2000 is already up-to-date!\n",
      "[nltk_data]    | Downloading package conll2002 to\n",
      "[nltk_data]    |     C:\\Users\\sohan\\AppData\\Roaming\\nltk_data...\n",
      "[nltk_data]    |   Package conll2002 is already up-to-date!\n",
      "[nltk_data]    | Downloading package conll2007 to\n",
      "[nltk_data]    |     C:\\Users\\sohan\\AppData\\Roaming\\nltk_data...\n",
      "[nltk_data]    |   Package conll2007 is already up-to-date!\n",
      "[nltk_data]    | Downloading package crubadan to\n",
      "[nltk_data]    |     C:\\Users\\sohan\\AppData\\Roaming\\nltk_data...\n",
      "[nltk_data]    |   Package crubadan is already up-to-date!\n",
      "[nltk_data]    | Downloading package dependency_treebank to\n",
      "[nltk_data]    |     C:\\Users\\sohan\\AppData\\Roaming\\nltk_data...\n",
      "[nltk_data]    |   Package dependency_treebank is already up-to-date!\n",
      "[nltk_data]    | Downloading package dolch to\n",
      "[nltk_data]    |     C:\\Users\\sohan\\AppData\\Roaming\\nltk_data...\n",
      "[nltk_data]    |   Package dolch is already up-to-date!\n",
      "[nltk_data]    | Downloading package europarl_raw to\n",
      "[nltk_data]    |     C:\\Users\\sohan\\AppData\\Roaming\\nltk_data...\n",
      "[nltk_data]    |   Package europarl_raw is already up-to-date!\n",
      "[nltk_data]    | Downloading package extended_omw to\n",
      "[nltk_data]    |     C:\\Users\\sohan\\AppData\\Roaming\\nltk_data...\n",
      "[nltk_data]    |   Package extended_omw is already up-to-date!\n",
      "[nltk_data]    | Downloading package floresta to\n",
      "[nltk_data]    |     C:\\Users\\sohan\\AppData\\Roaming\\nltk_data...\n",
      "[nltk_data]    |   Package floresta is already up-to-date!\n",
      "[nltk_data]    | Downloading package framenet_v15 to\n",
      "[nltk_data]    |     C:\\Users\\sohan\\AppData\\Roaming\\nltk_data...\n",
      "[nltk_data]    |   Package framenet_v15 is already up-to-date!\n",
      "[nltk_data]    | Downloading package framenet_v17 to\n",
      "[nltk_data]    |     C:\\Users\\sohan\\AppData\\Roaming\\nltk_data...\n",
      "[nltk_data]    |   Package framenet_v17 is already up-to-date!\n",
      "[nltk_data]    | Downloading package gazetteers to\n",
      "[nltk_data]    |     C:\\Users\\sohan\\AppData\\Roaming\\nltk_data...\n",
      "[nltk_data]    |   Package gazetteers is already up-to-date!\n",
      "[nltk_data]    | Downloading package genesis to\n",
      "[nltk_data]    |     C:\\Users\\sohan\\AppData\\Roaming\\nltk_data...\n",
      "[nltk_data]    |   Package genesis is already up-to-date!\n",
      "[nltk_data]    | Downloading package gutenberg to\n",
      "[nltk_data]    |     C:\\Users\\sohan\\AppData\\Roaming\\nltk_data...\n",
      "[nltk_data]    |   Package gutenberg is already up-to-date!\n",
      "[nltk_data]    | Downloading package ieer to\n",
      "[nltk_data]    |     C:\\Users\\sohan\\AppData\\Roaming\\nltk_data...\n",
      "[nltk_data]    |   Package ieer is already up-to-date!\n",
      "[nltk_data]    | Downloading package inaugural to\n",
      "[nltk_data]    |     C:\\Users\\sohan\\AppData\\Roaming\\nltk_data...\n",
      "[nltk_data]    |   Package inaugural is already up-to-date!\n",
      "[nltk_data]    | Downloading package indian to\n",
      "[nltk_data]    |     C:\\Users\\sohan\\AppData\\Roaming\\nltk_data...\n",
      "[nltk_data]    |   Package indian is already up-to-date!\n",
      "[nltk_data]    | Downloading package jeita to\n",
      "[nltk_data]    |     C:\\Users\\sohan\\AppData\\Roaming\\nltk_data...\n",
      "[nltk_data]    |   Package jeita is already up-to-date!\n",
      "[nltk_data]    | Downloading package kimmo to\n",
      "[nltk_data]    |     C:\\Users\\sohan\\AppData\\Roaming\\nltk_data...\n",
      "[nltk_data]    |   Package kimmo is already up-to-date!\n",
      "[nltk_data]    | Downloading package knbc to\n",
      "[nltk_data]    |     C:\\Users\\sohan\\AppData\\Roaming\\nltk_data...\n",
      "[nltk_data]    |   Package knbc is already up-to-date!\n",
      "[nltk_data]    | Downloading package large_grammars to\n",
      "[nltk_data]    |     C:\\Users\\sohan\\AppData\\Roaming\\nltk_data...\n",
      "[nltk_data]    |   Package large_grammars is already up-to-date!\n",
      "[nltk_data]    | Downloading package lin_thesaurus to\n",
      "[nltk_data]    |     C:\\Users\\sohan\\AppData\\Roaming\\nltk_data...\n",
      "[nltk_data]    |   Package lin_thesaurus is already up-to-date!\n",
      "[nltk_data]    | Downloading package mac_morpho to\n",
      "[nltk_data]    |     C:\\Users\\sohan\\AppData\\Roaming\\nltk_data...\n",
      "[nltk_data]    |   Package mac_morpho is already up-to-date!\n",
      "[nltk_data]    | Downloading package machado to\n",
      "[nltk_data]    |     C:\\Users\\sohan\\AppData\\Roaming\\nltk_data...\n",
      "[nltk_data]    |   Package machado is already up-to-date!\n",
      "[nltk_data]    | Downloading package masc_tagged to\n",
      "[nltk_data]    |     C:\\Users\\sohan\\AppData\\Roaming\\nltk_data...\n",
      "[nltk_data]    |   Package masc_tagged is already up-to-date!\n",
      "[nltk_data]    | Downloading package maxent_ne_chunker to\n",
      "[nltk_data]    |     C:\\Users\\sohan\\AppData\\Roaming\\nltk_data...\n",
      "[nltk_data]    |   Package maxent_ne_chunker is already up-to-date!\n",
      "[nltk_data]    | Downloading package maxent_treebank_pos_tagger to\n",
      "[nltk_data]    |     C:\\Users\\sohan\\AppData\\Roaming\\nltk_data...\n",
      "[nltk_data]    |   Package maxent_treebank_pos_tagger is already up-\n",
      "[nltk_data]    |       to-date!\n",
      "[nltk_data]    | Downloading package moses_sample to\n",
      "[nltk_data]    |     C:\\Users\\sohan\\AppData\\Roaming\\nltk_data...\n",
      "[nltk_data]    |   Package moses_sample is already up-to-date!\n",
      "[nltk_data]    | Downloading package movie_reviews to\n",
      "[nltk_data]    |     C:\\Users\\sohan\\AppData\\Roaming\\nltk_data...\n",
      "[nltk_data]    |   Package movie_reviews is already up-to-date!\n",
      "[nltk_data]    | Downloading package mte_teip5 to\n",
      "[nltk_data]    |     C:\\Users\\sohan\\AppData\\Roaming\\nltk_data...\n",
      "[nltk_data]    |   Package mte_teip5 is already up-to-date!\n",
      "[nltk_data]    | Downloading package mwa_ppdb to\n",
      "[nltk_data]    |     C:\\Users\\sohan\\AppData\\Roaming\\nltk_data...\n",
      "[nltk_data]    |   Package mwa_ppdb is already up-to-date!\n",
      "[nltk_data]    | Downloading package names to\n",
      "[nltk_data]    |     C:\\Users\\sohan\\AppData\\Roaming\\nltk_data...\n",
      "[nltk_data]    |   Package names is already up-to-date!\n",
      "[nltk_data]    | Downloading package nombank.1.0 to\n",
      "[nltk_data]    |     C:\\Users\\sohan\\AppData\\Roaming\\nltk_data...\n",
      "[nltk_data]    |   Package nombank.1.0 is already up-to-date!\n",
      "[nltk_data]    | Downloading package nonbreaking_prefixes to\n",
      "[nltk_data]    |     C:\\Users\\sohan\\AppData\\Roaming\\nltk_data...\n",
      "[nltk_data]    |   Package nonbreaking_prefixes is already up-to-date!\n",
      "[nltk_data]    | Downloading package nps_chat to\n",
      "[nltk_data]    |     C:\\Users\\sohan\\AppData\\Roaming\\nltk_data...\n",
      "[nltk_data]    |   Package nps_chat is already up-to-date!\n",
      "[nltk_data]    | Downloading package omw to\n",
      "[nltk_data]    |     C:\\Users\\sohan\\AppData\\Roaming\\nltk_data...\n",
      "[nltk_data]    |   Package omw is already up-to-date!\n",
      "[nltk_data]    | Downloading package omw-1.4 to\n",
      "[nltk_data]    |     C:\\Users\\sohan\\AppData\\Roaming\\nltk_data...\n",
      "[nltk_data]    |   Package omw-1.4 is already up-to-date!\n",
      "[nltk_data]    | Downloading package opinion_lexicon to\n",
      "[nltk_data]    |     C:\\Users\\sohan\\AppData\\Roaming\\nltk_data...\n",
      "[nltk_data]    |   Package opinion_lexicon is already up-to-date!\n",
      "[nltk_data]    | Downloading package panlex_swadesh to\n",
      "[nltk_data]    |     C:\\Users\\sohan\\AppData\\Roaming\\nltk_data...\n",
      "[nltk_data]    |   Package panlex_swadesh is already up-to-date!\n",
      "[nltk_data]    | Downloading package paradigms to\n",
      "[nltk_data]    |     C:\\Users\\sohan\\AppData\\Roaming\\nltk_data...\n",
      "[nltk_data]    |   Package paradigms is already up-to-date!\n",
      "[nltk_data]    | Downloading package pe08 to\n",
      "[nltk_data]    |     C:\\Users\\sohan\\AppData\\Roaming\\nltk_data...\n",
      "[nltk_data]    |   Package pe08 is already up-to-date!\n",
      "[nltk_data]    | Downloading package perluniprops to\n",
      "[nltk_data]    |     C:\\Users\\sohan\\AppData\\Roaming\\nltk_data...\n",
      "[nltk_data]    |   Package perluniprops is already up-to-date!\n",
      "[nltk_data]    | Downloading package pil to\n",
      "[nltk_data]    |     C:\\Users\\sohan\\AppData\\Roaming\\nltk_data...\n",
      "[nltk_data]    |   Package pil is already up-to-date!\n",
      "[nltk_data]    | Downloading package pl196x to\n",
      "[nltk_data]    |     C:\\Users\\sohan\\AppData\\Roaming\\nltk_data...\n",
      "[nltk_data]    |   Package pl196x is already up-to-date!\n",
      "[nltk_data]    | Downloading package porter_test to\n",
      "[nltk_data]    |     C:\\Users\\sohan\\AppData\\Roaming\\nltk_data...\n",
      "[nltk_data]    |   Package porter_test is already up-to-date!\n",
      "[nltk_data]    | Downloading package ppattach to\n",
      "[nltk_data]    |     C:\\Users\\sohan\\AppData\\Roaming\\nltk_data...\n",
      "[nltk_data]    |   Package ppattach is already up-to-date!\n",
      "[nltk_data]    | Downloading package problem_reports to\n",
      "[nltk_data]    |     C:\\Users\\sohan\\AppData\\Roaming\\nltk_data...\n",
      "[nltk_data]    |   Package problem_reports is already up-to-date!\n",
      "[nltk_data]    | Downloading package product_reviews_1 to\n",
      "[nltk_data]    |     C:\\Users\\sohan\\AppData\\Roaming\\nltk_data...\n",
      "[nltk_data]    |   Package product_reviews_1 is already up-to-date!\n",
      "[nltk_data]    | Downloading package product_reviews_2 to\n",
      "[nltk_data]    |     C:\\Users\\sohan\\AppData\\Roaming\\nltk_data...\n",
      "[nltk_data]    |   Package product_reviews_2 is already up-to-date!\n",
      "[nltk_data]    | Downloading package propbank to\n",
      "[nltk_data]    |     C:\\Users\\sohan\\AppData\\Roaming\\nltk_data...\n",
      "[nltk_data]    |   Package propbank is already up-to-date!\n",
      "[nltk_data]    | Downloading package pros_cons to\n",
      "[nltk_data]    |     C:\\Users\\sohan\\AppData\\Roaming\\nltk_data...\n",
      "[nltk_data]    |   Package pros_cons is already up-to-date!\n",
      "[nltk_data]    | Downloading package ptb to\n",
      "[nltk_data]    |     C:\\Users\\sohan\\AppData\\Roaming\\nltk_data...\n",
      "[nltk_data]    |   Package ptb is already up-to-date!\n",
      "[nltk_data]    | Downloading package punkt to\n",
      "[nltk_data]    |     C:\\Users\\sohan\\AppData\\Roaming\\nltk_data...\n",
      "[nltk_data]    |   Package punkt is already up-to-date!\n",
      "[nltk_data]    | Downloading package qc to\n",
      "[nltk_data]    |     C:\\Users\\sohan\\AppData\\Roaming\\nltk_data...\n",
      "[nltk_data]    |   Package qc is already up-to-date!\n",
      "[nltk_data]    | Downloading package reuters to\n",
      "[nltk_data]    |     C:\\Users\\sohan\\AppData\\Roaming\\nltk_data...\n",
      "[nltk_data]    |   Package reuters is already up-to-date!\n",
      "[nltk_data]    | Downloading package rslp to\n",
      "[nltk_data]    |     C:\\Users\\sohan\\AppData\\Roaming\\nltk_data...\n",
      "[nltk_data]    |   Package rslp is already up-to-date!\n",
      "[nltk_data]    | Downloading package rte to\n",
      "[nltk_data]    |     C:\\Users\\sohan\\AppData\\Roaming\\nltk_data...\n",
      "[nltk_data]    |   Package rte is already up-to-date!\n",
      "[nltk_data]    | Downloading package sample_grammars to\n",
      "[nltk_data]    |     C:\\Users\\sohan\\AppData\\Roaming\\nltk_data...\n",
      "[nltk_data]    |   Package sample_grammars is already up-to-date!\n",
      "[nltk_data]    | Downloading package semcor to\n",
      "[nltk_data]    |     C:\\Users\\sohan\\AppData\\Roaming\\nltk_data...\n",
      "[nltk_data]    |   Package semcor is already up-to-date!\n",
      "[nltk_data]    | Downloading package senseval to\n",
      "[nltk_data]    |     C:\\Users\\sohan\\AppData\\Roaming\\nltk_data...\n",
      "[nltk_data]    |   Package senseval is already up-to-date!\n",
      "[nltk_data]    | Downloading package sentence_polarity to\n",
      "[nltk_data]    |     C:\\Users\\sohan\\AppData\\Roaming\\nltk_data...\n",
      "[nltk_data]    |   Package sentence_polarity is already up-to-date!\n",
      "[nltk_data]    | Downloading package sentiwordnet to\n",
      "[nltk_data]    |     C:\\Users\\sohan\\AppData\\Roaming\\nltk_data...\n",
      "[nltk_data]    |   Package sentiwordnet is already up-to-date!\n",
      "[nltk_data]    | Downloading package shakespeare to\n",
      "[nltk_data]    |     C:\\Users\\sohan\\AppData\\Roaming\\nltk_data...\n",
      "[nltk_data]    |   Package shakespeare is already up-to-date!\n",
      "[nltk_data]    | Downloading package sinica_treebank to\n",
      "[nltk_data]    |     C:\\Users\\sohan\\AppData\\Roaming\\nltk_data...\n",
      "[nltk_data]    |   Package sinica_treebank is already up-to-date!\n",
      "[nltk_data]    | Downloading package smultron to\n",
      "[nltk_data]    |     C:\\Users\\sohan\\AppData\\Roaming\\nltk_data...\n",
      "[nltk_data]    |   Package smultron is already up-to-date!\n",
      "[nltk_data]    | Downloading package snowball_data to\n",
      "[nltk_data]    |     C:\\Users\\sohan\\AppData\\Roaming\\nltk_data...\n",
      "[nltk_data]    |   Package snowball_data is already up-to-date!\n",
      "[nltk_data]    | Downloading package spanish_grammars to\n",
      "[nltk_data]    |     C:\\Users\\sohan\\AppData\\Roaming\\nltk_data...\n",
      "[nltk_data]    |   Package spanish_grammars is already up-to-date!\n",
      "[nltk_data]    | Downloading package state_union to\n",
      "[nltk_data]    |     C:\\Users\\sohan\\AppData\\Roaming\\nltk_data...\n",
      "[nltk_data]    |   Package state_union is already up-to-date!\n",
      "[nltk_data]    | Downloading package stopwords to\n",
      "[nltk_data]    |     C:\\Users\\sohan\\AppData\\Roaming\\nltk_data...\n",
      "[nltk_data]    |   Package stopwords is already up-to-date!\n",
      "[nltk_data]    | Downloading package subjectivity to\n",
      "[nltk_data]    |     C:\\Users\\sohan\\AppData\\Roaming\\nltk_data...\n",
      "[nltk_data]    |   Package subjectivity is already up-to-date!\n",
      "[nltk_data]    | Downloading package swadesh to\n",
      "[nltk_data]    |     C:\\Users\\sohan\\AppData\\Roaming\\nltk_data...\n",
      "[nltk_data]    |   Package swadesh is already up-to-date!\n",
      "[nltk_data]    | Downloading package switchboard to\n",
      "[nltk_data]    |     C:\\Users\\sohan\\AppData\\Roaming\\nltk_data...\n",
      "[nltk_data]    |   Package switchboard is already up-to-date!\n",
      "[nltk_data]    | Downloading package tagsets to\n",
      "[nltk_data]    |     C:\\Users\\sohan\\AppData\\Roaming\\nltk_data...\n",
      "[nltk_data]    |   Package tagsets is already up-to-date!\n",
      "[nltk_data]    | Downloading package timit to\n",
      "[nltk_data]    |     C:\\Users\\sohan\\AppData\\Roaming\\nltk_data...\n",
      "[nltk_data]    |   Package timit is already up-to-date!\n",
      "[nltk_data]    | Downloading package toolbox to\n",
      "[nltk_data]    |     C:\\Users\\sohan\\AppData\\Roaming\\nltk_data...\n",
      "[nltk_data]    |   Package toolbox is already up-to-date!\n",
      "[nltk_data]    | Downloading package treebank to\n",
      "[nltk_data]    |     C:\\Users\\sohan\\AppData\\Roaming\\nltk_data...\n",
      "[nltk_data]    |   Package treebank is already up-to-date!\n",
      "[nltk_data]    | Downloading package twitter_samples to\n",
      "[nltk_data]    |     C:\\Users\\sohan\\AppData\\Roaming\\nltk_data...\n",
      "[nltk_data]    |   Package twitter_samples is already up-to-date!\n",
      "[nltk_data]    | Downloading package udhr to\n",
      "[nltk_data]    |     C:\\Users\\sohan\\AppData\\Roaming\\nltk_data...\n",
      "[nltk_data]    |   Package udhr is already up-to-date!\n",
      "[nltk_data]    | Downloading package udhr2 to\n",
      "[nltk_data]    |     C:\\Users\\sohan\\AppData\\Roaming\\nltk_data...\n",
      "[nltk_data]    |   Package udhr2 is already up-to-date!\n",
      "[nltk_data]    | Downloading package unicode_samples to\n",
      "[nltk_data]    |     C:\\Users\\sohan\\AppData\\Roaming\\nltk_data...\n",
      "[nltk_data]    |   Package unicode_samples is already up-to-date!\n",
      "[nltk_data]    | Downloading package universal_tagset to\n",
      "[nltk_data]    |     C:\\Users\\sohan\\AppData\\Roaming\\nltk_data...\n",
      "[nltk_data]    |   Package universal_tagset is already up-to-date!\n",
      "[nltk_data]    | Downloading package universal_treebanks_v20 to\n",
      "[nltk_data]    |     C:\\Users\\sohan\\AppData\\Roaming\\nltk_data...\n",
      "[nltk_data]    |   Package universal_treebanks_v20 is already up-to-\n",
      "[nltk_data]    |       date!\n",
      "[nltk_data]    | Downloading package vader_lexicon to\n",
      "[nltk_data]    |     C:\\Users\\sohan\\AppData\\Roaming\\nltk_data...\n",
      "[nltk_data]    |   Package vader_lexicon is already up-to-date!\n",
      "[nltk_data]    | Downloading package verbnet to\n",
      "[nltk_data]    |     C:\\Users\\sohan\\AppData\\Roaming\\nltk_data...\n",
      "[nltk_data]    |   Package verbnet is already up-to-date!\n",
      "[nltk_data]    | Downloading package verbnet3 to\n",
      "[nltk_data]    |     C:\\Users\\sohan\\AppData\\Roaming\\nltk_data...\n",
      "[nltk_data]    |   Package verbnet3 is already up-to-date!\n",
      "[nltk_data]    | Downloading package webtext to\n",
      "[nltk_data]    |     C:\\Users\\sohan\\AppData\\Roaming\\nltk_data...\n",
      "[nltk_data]    |   Package webtext is already up-to-date!\n",
      "[nltk_data]    | Downloading package wmt15_eval to\n",
      "[nltk_data]    |     C:\\Users\\sohan\\AppData\\Roaming\\nltk_data...\n",
      "[nltk_data]    |   Package wmt15_eval is already up-to-date!\n",
      "[nltk_data]    | Downloading package word2vec_sample to\n",
      "[nltk_data]    |     C:\\Users\\sohan\\AppData\\Roaming\\nltk_data...\n",
      "[nltk_data]    |   Package word2vec_sample is already up-to-date!\n",
      "[nltk_data]    | Downloading package wordnet to\n",
      "[nltk_data]    |     C:\\Users\\sohan\\AppData\\Roaming\\nltk_data...\n",
      "[nltk_data]    |   Package wordnet is already up-to-date!\n",
      "[nltk_data]    | Downloading package wordnet2021 to\n",
      "[nltk_data]    |     C:\\Users\\sohan\\AppData\\Roaming\\nltk_data...\n",
      "[nltk_data]    |   Package wordnet2021 is already up-to-date!\n",
      "[nltk_data]    | Downloading package wordnet31 to\n",
      "[nltk_data]    |     C:\\Users\\sohan\\AppData\\Roaming\\nltk_data...\n",
      "[nltk_data]    |   Package wordnet31 is already up-to-date!\n",
      "[nltk_data]    | Downloading package wordnet_ic to\n",
      "[nltk_data]    |     C:\\Users\\sohan\\AppData\\Roaming\\nltk_data...\n",
      "[nltk_data]    |   Package wordnet_ic is already up-to-date!\n",
      "[nltk_data]    | Downloading package words to\n",
      "[nltk_data]    |     C:\\Users\\sohan\\AppData\\Roaming\\nltk_data...\n",
      "[nltk_data]    |   Package words is already up-to-date!\n",
      "[nltk_data]    | Downloading package ycoe to\n",
      "[nltk_data]    |     C:\\Users\\sohan\\AppData\\Roaming\\nltk_data...\n",
      "[nltk_data]    |   Package ycoe is already up-to-date!\n",
      "[nltk_data]    | \n",
      "[nltk_data]  Done downloading collection all\n"
     ]
    },
    {
     "data": {
      "text/plain": [
       "True"
      ]
     },
     "execution_count": 94,
     "metadata": {},
     "output_type": "execute_result"
    }
   ],
   "source": [
    "nltk.download('all')"
   ]
  },
  {
   "cell_type": "code",
   "execution_count": 95,
   "id": "283c2fcc",
   "metadata": {},
   "outputs": [],
   "source": [
    "text=\"\"\"Latha is very multi talented girl.She is good at many skills like dancing, running, singing, playing.She also likes eating Pav Bhagi. she has a \n",
    "habit of fishing and swimming too.Besides all this, she is a wonderful at cooking too.\"\"\"\n"
   ]
  },
  {
   "cell_type": "code",
   "execution_count": 96,
   "id": "dc57c6c2",
   "metadata": {},
   "outputs": [
    {
     "name": "stdout",
     "output_type": "stream",
     "text": [
      "latha is veri multi talent girl.sh is good at mani skill like danc , run , sing , playing.sh also like eat pav bhagi . she ha a habit of fish and swim too.besid all thi , she is a wonder at cook too .\n"
     ]
    }
   ],
   "source": [
    "#using stemming in nltk\n",
    "\n",
    "#step1:word tokenizing\n",
    "all_word_tokens=nltk.word_tokenize(text)\n",
    "\n",
    "#step2:getting the base word using each token using stemmer\n",
    "all_base_words=[]\n",
    "for token in all_word_tokens:\n",
    "    base_form=stemmer.stem(token)\n",
    "    all_base_words.append(base_form)\n",
    "\n",
    "#step3:joining all words in base form\n",
    "final_base_words=' '.join(all_base_words)\n",
    "print(final_base_words)\n",
    "    \n",
    "\n"
   ]
  },
  {
   "cell_type": "code",
   "execution_count": 97,
   "id": "35961513",
   "metadata": {},
   "outputs": [
    {
     "name": "stdout",
     "output_type": "stream",
     "text": [
      "Latha be very multi talented girl . she be good at many skill like dancing , running , singing , play . she also like eat Pav Bhagi . she have a \n",
      " habit of fishing and swim too . besides all this , she be a wonderful at cook too .\n"
     ]
    }
   ],
   "source": [
    "doc=nlp(text)\n",
    "all_base_words=[]\n",
    "for token in doc:\n",
    "    base_words=token.lemma_\n",
    "    all_base_words.append(base_words)\n",
    "\n",
    "final_base_text=' '.join(all_base_words)\n",
    "print(final_base_text)"
   ]
  },
  {
   "cell_type": "code",
   "execution_count": 98,
   "id": "7e62818d",
   "metadata": {},
   "outputs": [],
   "source": [
    "#POS"
   ]
  },
  {
   "cell_type": "code",
   "execution_count": 99,
   "id": "3ddb304b",
   "metadata": {},
   "outputs": [],
   "source": [
    "import spacy"
   ]
  },
  {
   "cell_type": "code",
   "execution_count": 100,
   "id": "77a90189",
   "metadata": {},
   "outputs": [
    {
     "name": "stdout",
     "output_type": "stream",
     "text": [
      "Elon  |  PROPN  |  proper noun\n",
      "flew  |  VERB  |  verb\n",
      "to  |  ADP  |  adposition\n",
      "mars  |  NOUN  |  noun\n",
      "yesterday  |  NOUN  |  noun\n",
      ".  |  PUNCT  |  punctuation\n",
      "He  |  PRON  |  pronoun\n",
      "carried  |  VERB  |  verb\n",
      "biryani  |  NOUN  |  noun\n",
      "masala  |  NOUN  |  noun\n",
      "with  |  ADP  |  adposition\n",
      "him  |  PRON  |  pronoun\n"
     ]
    }
   ],
   "source": [
    "nlp=spacy.load('en_core_web_sm')\n",
    "doc=nlp(\"Elon flew to mars yesterday. He carried biryani masala with him\")\n",
    "for token in doc:\n",
    "    print(token,\" | \",token.pos_,\" | \",spacy.explain(token.pos_))"
   ]
  },
  {
   "cell_type": "code",
   "execution_count": 101,
   "id": "0dde586e",
   "metadata": {},
   "outputs": [
    {
     "name": "stdout",
     "output_type": "stream",
     "text": [
      "Wow  |  INTJ  |  interjection\n",
      "!  |  PUNCT  |  punctuation\n",
      "Dr.  |  PROPN  |  proper noun\n",
      "Strange  |  PROPN  |  proper noun\n",
      "made  |  VERB  |  verb\n",
      "265  |  NUM  |  numeral\n",
      "million  |  NUM  |  numeral\n",
      "$  |  PUNCT  |  punctuation\n",
      "on  |  ADP  |  adposition\n",
      "the  |  DET  |  determiner\n",
      "very  |  ADV  |  adverb\n",
      "first  |  ADJ  |  adjective\n",
      "day  |  NOUN  |  noun\n"
     ]
    }
   ],
   "source": [
    "doc=nlp(\"Wow! Dr. Strange made 265 million $ on the very first day\")\n",
    "for token in doc:\n",
    "    print(token,\" | \",token.pos_,\" | \",spacy.explain(token.pos_))"
   ]
  },
  {
   "cell_type": "code",
   "execution_count": 102,
   "id": "0e3827e6",
   "metadata": {},
   "outputs": [],
   "source": [
    "#Tags"
   ]
  },
  {
   "cell_type": "code",
   "execution_count": 103,
   "id": "4b97fdf4",
   "metadata": {},
   "outputs": [
    {
     "name": "stdout",
     "output_type": "stream",
     "text": [
      "Wow  |  INTJ  |  interjection  |  UH  |  interjection\n",
      "!  |  PUNCT  |  punctuation  |  .  |  punctuation mark, sentence closer\n",
      "Dr.  |  PROPN  |  proper noun  |  NNP  |  noun, proper singular\n",
      "Strange  |  PROPN  |  proper noun  |  NNP  |  noun, proper singular\n",
      "made  |  VERB  |  verb  |  VBD  |  verb, past tense\n",
      "265  |  NUM  |  numeral  |  CD  |  cardinal number\n",
      "million  |  NUM  |  numeral  |  CD  |  cardinal number\n",
      "$  |  PUNCT  |  punctuation  |  -RRB-  |  right round bracket\n",
      "on  |  ADP  |  adposition  |  IN  |  conjunction, subordinating or preposition\n",
      "the  |  DET  |  determiner  |  DT  |  determiner\n",
      "very  |  ADV  |  adverb  |  RB  |  adverb\n",
      "first  |  ADJ  |  adjective  |  JJ  |  adjective (English), other noun-modifier (Chinese)\n",
      "day  |  NOUN  |  noun  |  NN  |  noun, singular or mass\n"
     ]
    }
   ],
   "source": [
    "doc=nlp(\"Wow! Dr. Strange made 265 million $ on the very first day\")\n",
    "for token in doc:\n",
    "    print(token,\" | \",token.pos_,\" | \",spacy.explain(token.pos_),\" | \",token.tag_,\" | \",spacy.explain(token.tag_))"
   ]
  },
  {
   "cell_type": "code",
   "execution_count": 104,
   "id": "814ac231",
   "metadata": {},
   "outputs": [],
   "source": [
    "#In below sentences Spacy figures out the past vs present tense for quit"
   ]
  },
  {
   "cell_type": "code",
   "execution_count": 105,
   "id": "9820782b",
   "metadata": {},
   "outputs": [
    {
     "name": "stdout",
     "output_type": "stream",
     "text": [
      "quits  |  VBZ | verb, 3rd person singular present\n"
     ]
    }
   ],
   "source": [
    "doc=nlp(\"he quits the job\")\n",
    "print(doc[1].text,\" | \",doc[1].tag_,\"|\",spacy.explain(doc[1].tag_))"
   ]
  },
  {
   "cell_type": "code",
   "execution_count": 106,
   "id": "7fa47b71",
   "metadata": {},
   "outputs": [
    {
     "name": "stdout",
     "output_type": "stream",
     "text": [
      "quit  |  VBD | verb, past tense\n"
     ]
    }
   ],
   "source": [
    "doc=nlp(\"he quit the job\")\n",
    "print(doc[1].text,\" | \",doc[1].tag_,\"|\",spacy.explain(doc[1].tag_))\n"
   ]
  },
  {
   "cell_type": "code",
   "execution_count": 107,
   "id": "a1eae338",
   "metadata": {},
   "outputs": [],
   "source": [
    "#Removing all SPACE, PUNCT and X token from text"
   ]
  },
  {
   "cell_type": "code",
   "execution_count": 108,
   "id": "51d19a11",
   "metadata": {},
   "outputs": [],
   "source": [
    "earnings_text=\"\"\"Microsoft Corp. today announced the following results for the quarter ended December 31, 2021, as compared to the corresponding period of last fiscal year:\n",
    "\n",
    "·         Revenue was $51.7 billion and increased 20%\n",
    "·         Operating income was $22.2 billion and increased 24%\n",
    "·         Net income was $18.8 billion and increased 21%\n",
    "·         Diluted earnings per share was $2.48 and increased 22%\n",
    "“Digital technology is the most malleable resource at the world’s disposal to overcome constraints and reimagine everyday work and life,” said Satya Nadella, chairman and chief executive officer of Microsoft. “As tech as a percentage of global GDP continues to increase, we are innovating and investing across diverse and growing markets, with a common underlying technology stack and an operating model that reinforces a common strategy, culture, and sense of purpose.”\n",
    "“Solid commercial execution, represented by strong bookings growth driven by long-term Azure commitments, increased Microsoft Cloud revenue to $22.1 billion, up 32% year over year” said Amy Hood, executive vice president and chief financial officer of Microsoft.\"\"\"\n"
   ]
  },
  {
   "cell_type": "code",
   "execution_count": 109,
   "id": "e738d47b",
   "metadata": {},
   "outputs": [],
   "source": [
    "doc=nlp(earnings_text)\n",
    "filtered_tokens=[]\n",
    "for token in doc:\n",
    "    if token.pos_ not in [\"SPACE\",\"PUNCT\",\"X\"]:\n",
    "        filtered_tokens.append(token)"
   ]
  },
  {
   "cell_type": "code",
   "execution_count": 110,
   "id": "074842da",
   "metadata": {},
   "outputs": [
    {
     "data": {
      "text/plain": [
       "[Microsoft,\n",
       " Corp.,\n",
       " today,\n",
       " announced,\n",
       " the,\n",
       " following,\n",
       " results,\n",
       " for,\n",
       " the,\n",
       " quarter,\n",
       " ended,\n",
       " December,\n",
       " 31,\n",
       " 2021,\n",
       " as,\n",
       " compared,\n",
       " to,\n",
       " the,\n",
       " corresponding,\n",
       " period,\n",
       " of,\n",
       " last,\n",
       " fiscal,\n",
       " year,\n",
       " Revenue,\n",
       " was,\n",
       " $,\n",
       " 51.7,\n",
       " billion,\n",
       " and,\n",
       " increased,\n",
       " 20,\n",
       " %,\n",
       " Operating,\n",
       " income,\n",
       " was,\n",
       " $,\n",
       " 22.2,\n",
       " billion,\n",
       " and,\n",
       " increased,\n",
       " 24,\n",
       " %,\n",
       " Net,\n",
       " income,\n",
       " was,\n",
       " $,\n",
       " 18.8,\n",
       " billion,\n",
       " and,\n",
       " increased,\n",
       " 21,\n",
       " %,\n",
       " Diluted,\n",
       " earnings,\n",
       " per,\n",
       " share,\n",
       " was,\n",
       " $,\n",
       " 2.48,\n",
       " and,\n",
       " increased,\n",
       " 22,\n",
       " %,\n",
       " Digital,\n",
       " technology,\n",
       " is,\n",
       " the,\n",
       " most,\n",
       " malleable,\n",
       " resource,\n",
       " at,\n",
       " the,\n",
       " world,\n",
       " ’s,\n",
       " disposal,\n",
       " to,\n",
       " overcome,\n",
       " constraints,\n",
       " and,\n",
       " reimagine,\n",
       " everyday,\n",
       " work,\n",
       " and,\n",
       " life,\n",
       " said,\n",
       " Satya,\n",
       " Nadella,\n",
       " chairman,\n",
       " and,\n",
       " chief,\n",
       " executive,\n",
       " officer,\n",
       " of,\n",
       " Microsoft,\n",
       " As,\n",
       " tech,\n",
       " as,\n",
       " a,\n",
       " percentage,\n",
       " of,\n",
       " global,\n",
       " GDP,\n",
       " continues,\n",
       " to,\n",
       " increase,\n",
       " we,\n",
       " are,\n",
       " innovating,\n",
       " and,\n",
       " investing,\n",
       " across,\n",
       " diverse,\n",
       " and,\n",
       " growing,\n",
       " markets,\n",
       " with,\n",
       " a,\n",
       " common,\n",
       " underlying,\n",
       " technology,\n",
       " stack,\n",
       " and,\n",
       " an,\n",
       " operating,\n",
       " model,\n",
       " that,\n",
       " reinforces,\n",
       " a,\n",
       " common,\n",
       " strategy,\n",
       " culture,\n",
       " and,\n",
       " sense,\n",
       " of,\n",
       " purpose,\n",
       " Solid,\n",
       " commercial,\n",
       " execution,\n",
       " represented,\n",
       " by,\n",
       " strong,\n",
       " bookings,\n",
       " growth,\n",
       " driven,\n",
       " by,\n",
       " long,\n",
       " term,\n",
       " Azure,\n",
       " commitments,\n",
       " increased,\n",
       " Microsoft,\n",
       " Cloud,\n",
       " revenue,\n",
       " to,\n",
       " $,\n",
       " 22.1,\n",
       " billion,\n",
       " up,\n",
       " 32,\n",
       " %,\n",
       " year,\n",
       " over,\n",
       " year,\n",
       " said,\n",
       " Amy,\n",
       " Hood,\n",
       " executive,\n",
       " vice,\n",
       " president,\n",
       " and,\n",
       " chief,\n",
       " financial,\n",
       " officer,\n",
       " of,\n",
       " Microsoft]"
      ]
     },
     "execution_count": 110,
     "metadata": {},
     "output_type": "execute_result"
    }
   ],
   "source": [
    "filtered_tokens"
   ]
  },
  {
   "cell_type": "code",
   "execution_count": 111,
   "id": "bea2b222",
   "metadata": {},
   "outputs": [
    {
     "data": {
      "text/plain": [
       "{96: 15,\n",
       " 92: 45,\n",
       " 100: 22,\n",
       " 90: 9,\n",
       " 85: 16,\n",
       " 93: 16,\n",
       " 97: 27,\n",
       " 98: 1,\n",
       " 84: 21,\n",
       " 103: 10,\n",
       " 87: 6,\n",
       " 99: 5,\n",
       " 89: 12,\n",
       " 86: 3,\n",
       " 94: 3,\n",
       " 95: 2}"
      ]
     },
     "execution_count": 111,
     "metadata": {},
     "output_type": "execute_result"
    }
   ],
   "source": [
    "count=doc.count_by(spacy.attrs.POS)\n",
    "count"
   ]
  },
  {
   "cell_type": "code",
   "execution_count": 112,
   "id": "cdfb5370",
   "metadata": {},
   "outputs": [
    {
     "data": {
      "text/plain": [
       "'PROPN'"
      ]
     },
     "execution_count": 112,
     "metadata": {},
     "output_type": "execute_result"
    }
   ],
   "source": [
    "doc.vocab[96].text"
   ]
  },
  {
   "cell_type": "code",
   "execution_count": 113,
   "id": "3408d1e8",
   "metadata": {},
   "outputs": [
    {
     "name": "stdout",
     "output_type": "stream",
     "text": [
      "PROPN | 15\n",
      "NOUN | 45\n",
      "VERB | 22\n",
      "DET | 9\n",
      "ADP | 16\n",
      "NUM | 16\n",
      "PUNCT | 27\n",
      "SCONJ | 1\n",
      "ADJ | 21\n",
      "SPACE | 10\n",
      "AUX | 6\n",
      "SYM | 5\n",
      "CCONJ | 12\n",
      "ADV | 3\n",
      "PART | 3\n",
      "PRON | 2\n"
     ]
    }
   ],
   "source": [
    "for i,j in count.items():\n",
    "    print(doc.vocab[i].text,\"|\",j)"
   ]
  },
  {
   "cell_type": "code",
   "execution_count": 114,
   "id": "2de9d695",
   "metadata": {},
   "outputs": [],
   "source": [
    "#read a new story"
   ]
  },
  {
   "cell_type": "code",
   "execution_count": 115,
   "id": "4bf05493",
   "metadata": {},
   "outputs": [
    {
     "data": {
      "text/plain": [
       "'Inflation rose again in April, continuing a climb that has pushed consumers to the brink and is threatening the economic expansion, the Bureau of Labor Statistics reported Wednesday.\\n\\nThe consumer price index, a broad-based measure of prices for goods and services, increased 8.3% from a year ago, higher than the Dow Jones estimate for an 8.1% gain. That represented a slight ease from Marchâ€™s peak but was still close to the highest level since the summer of 1982.\\n\\nRemoving volatile food and energy prices, so-called core CPI still rose 6.2%, against expectations for a 6% gain, clouding hopes that inflation had peaked in March.\\n\\nThe month-over-month gains also were higher than expectations â€” 0.3% on headline CPI versus the 0.2% estimate and a 0.6% increase for core, against the outlook for a 0.4% gain.\\n\\nThe price gains also meant that workers continued to lose ground. Real wages adjusted for inflation decreased 0.1% on the month despite a nominal increase of 0.3% in average hourly earnings. Over the past year, real earnings have dropped 2.6% even though average hourly earnings are up 5.5%.\\n\\nInflation has been the single biggest threat to a recovery that began early in the Covid pandemic and saw the economy in 2021 stage its biggest single-year growth level since 1984. Rising prices at the pump and in grocery stores have been one problem, but inflation has spread beyond those two areas into housing, auto sales and a host of other areas.\\n\\nFederal Reserve officials have responded to the problem with two interest rate hikes so far this year and pledges of more until inflation comes down to the central bankâ€™s 2% goal. However, Wednesdayâ€™s data shows that the Fed has a big job ahead.\\n\\nCredits: cnbc.com'"
      ]
     },
     "execution_count": 115,
     "metadata": {},
     "output_type": "execute_result"
    }
   ],
   "source": [
    "with open (r\"C:\\Users\\sohan\\Downloads\\news_story.txt\")as f:\n",
    "    news_text=f.read()\n",
    "news_text    "
   ]
  },
  {
   "cell_type": "code",
   "execution_count": 116,
   "id": "1e902a04",
   "metadata": {},
   "outputs": [],
   "source": [
    "import spacy\n",
    "nlp=spacy.load('en_core_web_sm')"
   ]
  },
  {
   "cell_type": "code",
   "execution_count": 117,
   "id": "cbb74bd5",
   "metadata": {},
   "outputs": [],
   "source": [
    "#Extract NOUN and NUM tokens"
   ]
  },
  {
   "cell_type": "code",
   "execution_count": 118,
   "id": "42e50d93",
   "metadata": {},
   "outputs": [],
   "source": [
    "doc=nlp(news_text)\n",
    "noun_tokens=[]\n",
    "num_tokens=[]\n",
    "for token in doc:\n",
    "    if token.pos_==\"NUM\":\n",
    "        num_tokens.append(token)\n",
    "    elif token.pos_==\"NOUN\":\n",
    "        noun_tokens.append(token)"
   ]
  },
  {
   "cell_type": "code",
   "execution_count": 119,
   "id": "97691011",
   "metadata": {},
   "outputs": [
    {
     "data": {
      "text/plain": [
       "[8.3,\n",
       " 8.1,\n",
       " 1982,\n",
       " 6.2,\n",
       " 6,\n",
       " â€,\n",
       " 0.3,\n",
       " 0.2,\n",
       " 0.6,\n",
       " 0.4,\n",
       " 0.1,\n",
       " 0.3,\n",
       " 2.6,\n",
       " 5.5,\n",
       " 2021,\n",
       " 1984,\n",
       " one,\n",
       " two,\n",
       " two,\n",
       " 2]"
      ]
     },
     "execution_count": 119,
     "metadata": {},
     "output_type": "execute_result"
    }
   ],
   "source": [
    "num_tokens"
   ]
  },
  {
   "cell_type": "code",
   "execution_count": 120,
   "id": "2e8e9137",
   "metadata": {},
   "outputs": [
    {
     "data": {
      "text/plain": [
       "[Inflation,\n",
       " climb,\n",
       " consumers,\n",
       " brink,\n",
       " expansion,\n",
       " consumer,\n",
       " price,\n",
       " index,\n",
       " measure,\n",
       " prices,\n",
       " goods,\n",
       " services,\n",
       " %,\n",
       " year,\n",
       " estimate,\n",
       " %,\n",
       " gain,\n",
       " ease,\n",
       " peak,\n",
       " level,\n",
       " summer,\n",
       " food,\n",
       " energy,\n",
       " prices,\n",
       " core,\n",
       " %,\n",
       " expectations,\n",
       " %,\n",
       " gain,\n",
       " hopes,\n",
       " inflation,\n",
       " month,\n",
       " month,\n",
       " gains,\n",
       " expectations,\n",
       " %,\n",
       " headline,\n",
       " %,\n",
       " estimate,\n",
       " %,\n",
       " increase,\n",
       " core,\n",
       " outlook,\n",
       " %,\n",
       " gain,\n",
       " price,\n",
       " gains,\n",
       " workers,\n",
       " ground,\n",
       " wages,\n",
       " inflation,\n",
       " %,\n",
       " month,\n",
       " increase,\n",
       " %,\n",
       " earnings,\n",
       " year,\n",
       " earnings,\n",
       " %,\n",
       " earnings,\n",
       " %,\n",
       " Inflation,\n",
       " threat,\n",
       " recovery,\n",
       " pandemic,\n",
       " economy,\n",
       " stage,\n",
       " year,\n",
       " growth,\n",
       " level,\n",
       " prices,\n",
       " pump,\n",
       " grocery,\n",
       " stores,\n",
       " problem,\n",
       " inflation,\n",
       " areas,\n",
       " housing,\n",
       " auto,\n",
       " sales,\n",
       " host,\n",
       " areas,\n",
       " officials,\n",
       " problem,\n",
       " interest,\n",
       " rate,\n",
       " hikes,\n",
       " year,\n",
       " pledges,\n",
       " inflation,\n",
       " bankâ€,\n",
       " %,\n",
       " goal,\n",
       " data,\n",
       " job,\n",
       " Credits]"
      ]
     },
     "execution_count": 120,
     "metadata": {},
     "output_type": "execute_result"
    }
   ],
   "source": [
    "noun_tokens"
   ]
  },
  {
   "cell_type": "code",
   "execution_count": 121,
   "id": "dc27d0b7",
   "metadata": {},
   "outputs": [],
   "source": [
    "#print a count of all POS tags"
   ]
  },
  {
   "cell_type": "code",
   "execution_count": 122,
   "id": "37e92305",
   "metadata": {},
   "outputs": [
    {
     "data": {
      "text/plain": [
       "{92: 96,\n",
       " 100: 27,\n",
       " 86: 15,\n",
       " 85: 39,\n",
       " 96: 18,\n",
       " 97: 32,\n",
       " 90: 34,\n",
       " 95: 4,\n",
       " 87: 13,\n",
       " 89: 10,\n",
       " 84: 23,\n",
       " 103: 7,\n",
       " 93: 20,\n",
       " 94: 4,\n",
       " 98: 8,\n",
       " 99: 1,\n",
       " 101: 1}"
      ]
     },
     "execution_count": 122,
     "metadata": {},
     "output_type": "execute_result"
    }
   ],
   "source": [
    "count=doc.count_by(spacy.attrs.POS)\n",
    "count"
   ]
  },
  {
   "cell_type": "code",
   "execution_count": 123,
   "id": "49940751",
   "metadata": {},
   "outputs": [
    {
     "name": "stdout",
     "output_type": "stream",
     "text": [
      "NOUN | 96\n",
      "VERB | 27\n",
      "ADV | 15\n",
      "ADP | 39\n",
      "PROPN | 18\n",
      "PUNCT | 32\n",
      "DET | 34\n",
      "PRON | 4\n",
      "AUX | 13\n",
      "CCONJ | 10\n",
      "ADJ | 23\n",
      "SPACE | 7\n",
      "NUM | 20\n",
      "PART | 4\n",
      "SCONJ | 8\n",
      "SYM | 1\n",
      "X | 1\n"
     ]
    }
   ],
   "source": [
    "for i,j in count.items():\n",
    "    print(doc.vocab[i].text,\"|\",j)"
   ]
  },
  {
   "cell_type": "code",
   "execution_count": 124,
   "id": "2ce4a82e",
   "metadata": {},
   "outputs": [],
   "source": [
    "import spacy\n",
    "nlp=spacy.load('en_core_web_sm')"
   ]
  },
  {
   "cell_type": "code",
   "execution_count": 125,
   "id": "f5ba465d",
   "metadata": {},
   "outputs": [
    {
     "data": {
      "text/plain": [
       "['tok2vec', 'tagger', 'parser', 'attribute_ruler', 'lemmatizer', 'ner']"
      ]
     },
     "execution_count": 125,
     "metadata": {},
     "output_type": "execute_result"
    }
   ],
   "source": [
    "nlp.pipe_names"
   ]
  },
  {
   "cell_type": "code",
   "execution_count": 126,
   "id": "a4fa72dd",
   "metadata": {},
   "outputs": [
    {
     "name": "stdout",
     "output_type": "stream",
     "text": [
      "Tesla Inc  |  ORG | Companies, agencies, institutions, etc.\n",
      "Twitter Inc  |  ORG | Companies, agencies, institutions, etc.\n",
      "$45 billion  |  MONEY | Monetary values, including unit\n"
     ]
    }
   ],
   "source": [
    "doc=nlp(\"Tesla Inc is going to acquire Twitter Inc for $45 billion\")\n",
    "for ent in doc.ents:\n",
    "    print(ent.text,\" | \",ent.label_,\"|\",spacy.explain(ent.label_))"
   ]
  },
  {
   "cell_type": "code",
   "execution_count": 127,
   "id": "2895d1a4",
   "metadata": {},
   "outputs": [
    {
     "data": {
      "text/html": [
       "<span class=\"tex2jax_ignore\"><div class=\"entities\" style=\"line-height: 2.5; direction: ltr\">\n",
       "<mark class=\"entity\" style=\"background: #7aecec; padding: 0.45em 0.6em; margin: 0 0.25em; line-height: 1; border-radius: 0.35em;\">\n",
       "    Tesla Inc\n",
       "    <span style=\"font-size: 0.8em; font-weight: bold; line-height: 1; border-radius: 0.35em; vertical-align: middle; margin-left: 0.5rem\">ORG</span>\n",
       "</mark>\n",
       " is going to acquire \n",
       "<mark class=\"entity\" style=\"background: #7aecec; padding: 0.45em 0.6em; margin: 0 0.25em; line-height: 1; border-radius: 0.35em;\">\n",
       "    Twitter Inc\n",
       "    <span style=\"font-size: 0.8em; font-weight: bold; line-height: 1; border-radius: 0.35em; vertical-align: middle; margin-left: 0.5rem\">ORG</span>\n",
       "</mark>\n",
       " for \n",
       "<mark class=\"entity\" style=\"background: #e4e7d2; padding: 0.45em 0.6em; margin: 0 0.25em; line-height: 1; border-radius: 0.35em;\">\n",
       "    $45 billion\n",
       "    <span style=\"font-size: 0.8em; font-weight: bold; line-height: 1; border-radius: 0.35em; vertical-align: middle; margin-left: 0.5rem\">MONEY</span>\n",
       "</mark>\n",
       "</div></span>"
      ],
      "text/plain": [
       "<IPython.core.display.HTML object>"
      ]
     },
     "metadata": {},
     "output_type": "display_data"
    }
   ],
   "source": [
    "from spacy import displacy\n",
    "displacy.render(doc,style=\"ent\")"
   ]
  },
  {
   "cell_type": "code",
   "execution_count": 143,
   "id": "9a50c6c9",
   "metadata": {},
   "outputs": [
    {
     "data": {
      "text/plain": [
       "['CARDINAL',\n",
       " 'DATE',\n",
       " 'EVENT',\n",
       " 'FAC',\n",
       " 'GPE',\n",
       " 'LANGUAGE',\n",
       " 'LAW',\n",
       " 'LOC',\n",
       " 'MONEY',\n",
       " 'NORP',\n",
       " 'ORDINAL',\n",
       " 'ORG',\n",
       " 'PERCENT',\n",
       " 'PERSON',\n",
       " 'PRODUCT',\n",
       " 'QUANTITY',\n",
       " 'TIME',\n",
       " 'WORK_OF_ART']"
      ]
     },
     "execution_count": 143,
     "metadata": {},
     "output_type": "execute_result"
    }
   ],
   "source": [
    "nlp.pipe_labels['ner']"
   ]
  },
  {
   "cell_type": "code",
   "execution_count": 131,
   "id": "cd24b9cd",
   "metadata": {},
   "outputs": [
    {
     "name": "stdout",
     "output_type": "stream",
     "text": [
      "Michael Bloomberg | PERSON | People, including fictional\n",
      "Bloomberg | GPE | Countries, cities, states\n",
      "1982 | DATE | Absolute or relative dates or periods\n"
     ]
    }
   ],
   "source": [
    "doc=nlp(\"Michael Bloomberg founded Bloomberg in 1982\")\n",
    "for ent in doc.ents:\n",
    "        print(ent.text,\"|\",ent.label_,\"|\",spacy.explain(ent.label_))"
   ]
  },
  {
   "cell_type": "code",
   "execution_count": 132,
   "id": "cf22620d",
   "metadata": {},
   "outputs": [],
   "source": [
    "#setting custom entities"
   ]
  },
  {
   "cell_type": "code",
   "execution_count": 133,
   "id": "9ce7d1dd",
   "metadata": {},
   "outputs": [
    {
     "name": "stdout",
     "output_type": "stream",
     "text": [
      "Twitter | PERSON\n",
      "$45 billion | MONEY\n"
     ]
    }
   ],
   "source": [
    "doc=nlp(\"Tesla is going to acquire Twitter for $45 billion\")\n",
    "for ent in doc.ents:\n",
    "    print(ent.text,\"|\",ent.label_)"
   ]
  },
  {
   "cell_type": "code",
   "execution_count": 135,
   "id": "1dda63e6",
   "metadata": {},
   "outputs": [
    {
     "data": {
      "text/plain": [
       "going to acquire"
      ]
     },
     "execution_count": 135,
     "metadata": {},
     "output_type": "execute_result"
    }
   ],
   "source": [
    "s=doc[2:5]\n",
    "s"
   ]
  },
  {
   "cell_type": "code",
   "execution_count": 136,
   "id": "0d271581",
   "metadata": {},
   "outputs": [
    {
     "data": {
      "text/plain": [
       "spacy.tokens.span.Span"
      ]
     },
     "execution_count": 136,
     "metadata": {},
     "output_type": "execute_result"
    }
   ],
   "source": [
    "type(s)"
   ]
  },
  {
   "cell_type": "code",
   "execution_count": 137,
   "id": "0fec9add",
   "metadata": {},
   "outputs": [],
   "source": [
    "from spacy.tokens import Span\n",
    "s1= Span(doc,0,1,label=\"ORG\")\n",
    "s2= Span(doc,5,6,label=\"ORG\")\n",
    "doc.set_ents([s1,s2],default=\"unmodified\")"
   ]
  },
  {
   "cell_type": "code",
   "execution_count": 138,
   "id": "7ba48d19",
   "metadata": {},
   "outputs": [
    {
     "name": "stdout",
     "output_type": "stream",
     "text": [
      "Tesla | ORG\n",
      "Twitter | ORG\n",
      "$45 billion | MONEY\n"
     ]
    }
   ],
   "source": [
    "for ent in doc.ents:\n",
    "    print(ent.text,\"|\",ent.label_)"
   ]
  },
  {
   "cell_type": "code",
   "execution_count": 139,
   "id": "335651fa",
   "metadata": {},
   "outputs": [],
   "source": [
    "#Extract all the Geographical (cities, Countries, states) names from a given text"
   ]
  },
  {
   "cell_type": "code",
   "execution_count": 140,
   "id": "380a282b",
   "metadata": {},
   "outputs": [],
   "source": [
    "import spacy\n",
    "nlp=spacy.load('en_core_web_sm')"
   ]
  },
  {
   "cell_type": "code",
   "execution_count": 141,
   "id": "a14cd796",
   "metadata": {},
   "outputs": [],
   "source": [
    "text=\"\"\"Kiran want to know the famous foods in each state of India. So, he opened Google and search for this question. Google showed that\n",
    "in Delhi it is Chaat, in Gujarat it is Dal Dhokli, in Tamilnadu it is Pongal, in Andhrapradesh it is Biryani, in Assam it is Papaya Khar,\n",
    "in Bihar it is Litti Chowkha and so on for all other states.\"\"\""
   ]
  },
  {
   "cell_type": "code",
   "execution_count": 144,
   "id": "687c59ef",
   "metadata": {},
   "outputs": [
    {
     "name": "stdout",
     "output_type": "stream",
     "text": [
      "India\n",
      "Delhi\n",
      "Gujarat\n",
      "Tamilnadu\n",
      "Andhrapradesh\n",
      "Bihar\n"
     ]
    }
   ],
   "source": [
    "doc=nlp(text)\n",
    "for ent in doc.ents:\n",
    "    if ent.label_==\"GPE\":\n",
    "        print(ent.text)"
   ]
  },
  {
   "cell_type": "code",
   "execution_count": 148,
   "id": "85ed7adb",
   "metadata": {},
   "outputs": [
    {
     "name": "stdout",
     "output_type": "stream",
     "text": [
      "Geographical location Names:  [India, Delhi, Gujarat, Tamilnadu, Andhrapradesh, Bihar]\n",
      "Count:  6\n"
     ]
    }
   ],
   "source": [
    "text = \"\"\"Kiran want to know the famous foods in each state of India. So, he opened Google and search for this question. Google showed that\n",
    "in Delhi it is Chaat, in Gujarat it is Dal Dhokli, in Tamilnadu it is Pongal, in Andhrapradesh it is Biryani, in Assam it is Papaya Khar,\n",
    "in Bihar it is Litti Chowkha and so on for all other states\"\"\"\n",
    "\n",
    "doc = nlp(text)\n",
    "\n",
    "\n",
    "\n",
    "#list for storing all the names\n",
    "all_gpe_names = []\n",
    "\n",
    "for ent in doc.ents:\n",
    "  if ent.label_ == 'GPE':     #checking the whether token belongs to entity \"GPE\" [Geographical location]\n",
    "    all_gpe_names.append(ent)\n",
    "\n",
    "\n",
    "\n",
    "#finally printing the results\n",
    "print(\"Geographical location Names: \", all_gpe_names)\n",
    "print(\"Count: \", len(all_gpe_names))"
   ]
  },
  {
   "cell_type": "code",
   "execution_count": 145,
   "id": "803d81ce",
   "metadata": {},
   "outputs": [],
   "source": [
    "#Extract all the birth dates of cricketers in the given Text"
   ]
  },
  {
   "cell_type": "code",
   "execution_count": 146,
   "id": "abc5dc0c",
   "metadata": {},
   "outputs": [],
   "source": [
    "text=\"\"\"Sachin Tendulkar was born on 24 April 1973, Virat Kholi was born on 5 November 1988, Dhoni was born on 7 July 1981\n",
    "and finally Ricky ponting was born on 19 December 1974.\"\"\""
   ]
  },
  {
   "cell_type": "code",
   "execution_count": 147,
   "id": "ddc174fb",
   "metadata": {},
   "outputs": [
    {
     "name": "stdout",
     "output_type": "stream",
     "text": [
      "24 April 1973\n",
      "5 November 1988\n",
      "7 July 1981\n",
      "19 December 1974\n"
     ]
    }
   ],
   "source": [
    "doc=nlp(text)\n",
    "for ent in doc.ents:\n",
    "    if ent.label_==\"DATE\":\n",
    "        print(ent.text)"
   ]
  },
  {
   "cell_type": "code",
   "execution_count": 1,
   "id": "40711c62",
   "metadata": {},
   "outputs": [],
   "source": [
    "#E-mail spam detection"
   ]
  },
  {
   "cell_type": "code",
   "execution_count": 2,
   "id": "ebd7848c",
   "metadata": {},
   "outputs": [],
   "source": [
    "import pandas as pd\n",
    "import numpy as np"
   ]
  },
  {
   "cell_type": "code",
   "execution_count": 4,
   "id": "9ecb95aa",
   "metadata": {},
   "outputs": [
    {
     "data": {
      "text/html": [
       "<div>\n",
       "<style scoped>\n",
       "    .dataframe tbody tr th:only-of-type {\n",
       "        vertical-align: middle;\n",
       "    }\n",
       "\n",
       "    .dataframe tbody tr th {\n",
       "        vertical-align: top;\n",
       "    }\n",
       "\n",
       "    .dataframe thead th {\n",
       "        text-align: right;\n",
       "    }\n",
       "</style>\n",
       "<table border=\"1\" class=\"dataframe\">\n",
       "  <thead>\n",
       "    <tr style=\"text-align: right;\">\n",
       "      <th></th>\n",
       "      <th>Category</th>\n",
       "      <th>Message</th>\n",
       "    </tr>\n",
       "  </thead>\n",
       "  <tbody>\n",
       "    <tr>\n",
       "      <th>0</th>\n",
       "      <td>ham</td>\n",
       "      <td>Go until jurong point, crazy.. Available only ...</td>\n",
       "    </tr>\n",
       "    <tr>\n",
       "      <th>1</th>\n",
       "      <td>ham</td>\n",
       "      <td>Ok lar... Joking wif u oni...</td>\n",
       "    </tr>\n",
       "    <tr>\n",
       "      <th>2</th>\n",
       "      <td>spam</td>\n",
       "      <td>Free entry in 2 a wkly comp to win FA Cup fina...</td>\n",
       "    </tr>\n",
       "    <tr>\n",
       "      <th>3</th>\n",
       "      <td>ham</td>\n",
       "      <td>U dun say so early hor... U c already then say...</td>\n",
       "    </tr>\n",
       "    <tr>\n",
       "      <th>4</th>\n",
       "      <td>ham</td>\n",
       "      <td>Nah I don't think he goes to usf, he lives aro...</td>\n",
       "    </tr>\n",
       "    <tr>\n",
       "      <th>...</th>\n",
       "      <td>...</td>\n",
       "      <td>...</td>\n",
       "    </tr>\n",
       "    <tr>\n",
       "      <th>5567</th>\n",
       "      <td>spam</td>\n",
       "      <td>This is the 2nd time we have tried 2 contact u...</td>\n",
       "    </tr>\n",
       "    <tr>\n",
       "      <th>5568</th>\n",
       "      <td>ham</td>\n",
       "      <td>Will ü b going to esplanade fr home?</td>\n",
       "    </tr>\n",
       "    <tr>\n",
       "      <th>5569</th>\n",
       "      <td>ham</td>\n",
       "      <td>Pity, * was in mood for that. So...any other s...</td>\n",
       "    </tr>\n",
       "    <tr>\n",
       "      <th>5570</th>\n",
       "      <td>ham</td>\n",
       "      <td>The guy did some bitching but I acted like i'd...</td>\n",
       "    </tr>\n",
       "    <tr>\n",
       "      <th>5571</th>\n",
       "      <td>ham</td>\n",
       "      <td>Rofl. Its true to its name</td>\n",
       "    </tr>\n",
       "  </tbody>\n",
       "</table>\n",
       "<p>5572 rows × 2 columns</p>\n",
       "</div>"
      ],
      "text/plain": [
       "     Category                                            Message\n",
       "0         ham  Go until jurong point, crazy.. Available only ...\n",
       "1         ham                      Ok lar... Joking wif u oni...\n",
       "2        spam  Free entry in 2 a wkly comp to win FA Cup fina...\n",
       "3         ham  U dun say so early hor... U c already then say...\n",
       "4         ham  Nah I don't think he goes to usf, he lives aro...\n",
       "...       ...                                                ...\n",
       "5567     spam  This is the 2nd time we have tried 2 contact u...\n",
       "5568      ham               Will ü b going to esplanade fr home?\n",
       "5569      ham  Pity, * was in mood for that. So...any other s...\n",
       "5570      ham  The guy did some bitching but I acted like i'd...\n",
       "5571      ham                         Rofl. Its true to its name\n",
       "\n",
       "[5572 rows x 2 columns]"
      ]
     },
     "execution_count": 4,
     "metadata": {},
     "output_type": "execute_result"
    }
   ],
   "source": [
    "df=pd.read_csv(r\"C:\\Users\\sohan\\Downloads\\spam.csv\")\n",
    "df"
   ]
  },
  {
   "cell_type": "code",
   "execution_count": 5,
   "id": "7e06985b",
   "metadata": {},
   "outputs": [
    {
     "data": {
      "text/plain": [
       "ham     4825\n",
       "spam     747\n",
       "Name: Category, dtype: int64"
      ]
     },
     "execution_count": 5,
     "metadata": {},
     "output_type": "execute_result"
    }
   ],
   "source": [
    "df.Category.value_counts()"
   ]
  },
  {
   "cell_type": "code",
   "execution_count": 6,
   "id": "0426b44b",
   "metadata": {},
   "outputs": [
    {
     "data": {
      "text/plain": [
       "(5572, 2)"
      ]
     },
     "execution_count": 6,
     "metadata": {},
     "output_type": "execute_result"
    }
   ],
   "source": [
    "df.shape"
   ]
  },
  {
   "cell_type": "code",
   "execution_count": 7,
   "id": "a7d8704b",
   "metadata": {},
   "outputs": [],
   "source": [
    "df['spam']=df['Category'].apply(lambda x:1 if x=='spam' else 0 )"
   ]
  },
  {
   "cell_type": "code",
   "execution_count": 8,
   "id": "1258b085",
   "metadata": {},
   "outputs": [
    {
     "data": {
      "text/html": [
       "<div>\n",
       "<style scoped>\n",
       "    .dataframe tbody tr th:only-of-type {\n",
       "        vertical-align: middle;\n",
       "    }\n",
       "\n",
       "    .dataframe tbody tr th {\n",
       "        vertical-align: top;\n",
       "    }\n",
       "\n",
       "    .dataframe thead th {\n",
       "        text-align: right;\n",
       "    }\n",
       "</style>\n",
       "<table border=\"1\" class=\"dataframe\">\n",
       "  <thead>\n",
       "    <tr style=\"text-align: right;\">\n",
       "      <th></th>\n",
       "      <th>Category</th>\n",
       "      <th>Message</th>\n",
       "      <th>spam</th>\n",
       "    </tr>\n",
       "  </thead>\n",
       "  <tbody>\n",
       "    <tr>\n",
       "      <th>0</th>\n",
       "      <td>ham</td>\n",
       "      <td>Go until jurong point, crazy.. Available only ...</td>\n",
       "      <td>0</td>\n",
       "    </tr>\n",
       "    <tr>\n",
       "      <th>1</th>\n",
       "      <td>ham</td>\n",
       "      <td>Ok lar... Joking wif u oni...</td>\n",
       "      <td>0</td>\n",
       "    </tr>\n",
       "    <tr>\n",
       "      <th>2</th>\n",
       "      <td>spam</td>\n",
       "      <td>Free entry in 2 a wkly comp to win FA Cup fina...</td>\n",
       "      <td>1</td>\n",
       "    </tr>\n",
       "    <tr>\n",
       "      <th>3</th>\n",
       "      <td>ham</td>\n",
       "      <td>U dun say so early hor... U c already then say...</td>\n",
       "      <td>0</td>\n",
       "    </tr>\n",
       "    <tr>\n",
       "      <th>4</th>\n",
       "      <td>ham</td>\n",
       "      <td>Nah I don't think he goes to usf, he lives aro...</td>\n",
       "      <td>0</td>\n",
       "    </tr>\n",
       "  </tbody>\n",
       "</table>\n",
       "</div>"
      ],
      "text/plain": [
       "  Category                                            Message  spam\n",
       "0      ham  Go until jurong point, crazy.. Available only ...     0\n",
       "1      ham                      Ok lar... Joking wif u oni...     0\n",
       "2     spam  Free entry in 2 a wkly comp to win FA Cup fina...     1\n",
       "3      ham  U dun say so early hor... U c already then say...     0\n",
       "4      ham  Nah I don't think he goes to usf, he lives aro...     0"
      ]
     },
     "execution_count": 8,
     "metadata": {},
     "output_type": "execute_result"
    }
   ],
   "source": [
    "df.head()"
   ]
  },
  {
   "cell_type": "code",
   "execution_count": 11,
   "id": "754af4af",
   "metadata": {},
   "outputs": [],
   "source": [
    "#Train-Test split\n",
    "from sklearn.model_selection import train_test_split\n",
    "X_train,X_test,y_train,y_test=train_test_split(df.Message,df.spam,test_size=0.2)"
   ]
  },
  {
   "cell_type": "code",
   "execution_count": 12,
   "id": "ef4cf17e",
   "metadata": {},
   "outputs": [
    {
     "data": {
      "text/plain": [
       "(4457,)"
      ]
     },
     "execution_count": 12,
     "metadata": {},
     "output_type": "execute_result"
    }
   ],
   "source": [
    "X_train.shape"
   ]
  },
  {
   "cell_type": "code",
   "execution_count": 13,
   "id": "4c2970a2",
   "metadata": {},
   "outputs": [
    {
     "data": {
      "text/plain": [
       "(1115,)"
      ]
     },
     "execution_count": 13,
     "metadata": {},
     "output_type": "execute_result"
    }
   ],
   "source": [
    "X_test.shape"
   ]
  },
  {
   "cell_type": "code",
   "execution_count": 14,
   "id": "88ec3d4c",
   "metadata": {},
   "outputs": [
    {
     "data": {
      "text/plain": [
       "131                                             I'm home.\n",
       "2168                     Yes.he have good crickiting mind\n",
       "765     Wishing you and your family Merry \"X\" mas and ...\n",
       "4986               Dont let studying stress you out. L8r.\n",
       "Name: Message, dtype: object"
      ]
     },
     "execution_count": 14,
     "metadata": {},
     "output_type": "execute_result"
    }
   ],
   "source": [
    "X_train[0:4]"
   ]
  },
  {
   "cell_type": "code",
   "execution_count": 15,
   "id": "41f9e376",
   "metadata": {},
   "outputs": [
    {
     "data": {
      "text/plain": [
       "131     0\n",
       "2168    0\n",
       "765     0\n",
       "4986    0\n",
       "Name: spam, dtype: int64"
      ]
     },
     "execution_count": 15,
     "metadata": {},
     "output_type": "execute_result"
    }
   ],
   "source": [
    "y_train[0:4]"
   ]
  },
  {
   "cell_type": "code",
   "execution_count": 16,
   "id": "2e69bd10",
   "metadata": {},
   "outputs": [
    {
     "data": {
      "text/plain": [
       "array([\"I'm home.\", 'Yes.he have good crickiting mind',\n",
       "       'Wishing you and your family Merry \"X\" mas and HAPPY NEW Year in advance..',\n",
       "       ...,\n",
       "       \"She said,'' do u mind if I go into the bedroom for a minute ? '' ''OK'', I sed in a sexy mood. She came out 5 minuts latr wid a cake...n My Wife,\",\n",
       "       'X2  &lt;#&gt; . Are you going to get that',\n",
       "       \"OH MR SHEFFIELD! You wanna play THAT game, okay. You're the boss and I'm the nanny. You give me a raise and I'll give YOU one!!\"],\n",
       "      dtype=object)"
      ]
     },
     "execution_count": 16,
     "metadata": {},
     "output_type": "execute_result"
    }
   ],
   "source": [
    "X_train.values"
   ]
  },
  {
   "cell_type": "code",
   "execution_count": 17,
   "id": "5559b61d",
   "metadata": {},
   "outputs": [
    {
     "data": {
      "text/plain": [
       "numpy.ndarray"
      ]
     },
     "execution_count": 17,
     "metadata": {},
     "output_type": "execute_result"
    }
   ],
   "source": [
    "type(X_train.values)"
   ]
  },
  {
   "cell_type": "code",
   "execution_count": 18,
   "id": "c5710805",
   "metadata": {},
   "outputs": [
    {
     "data": {
      "text/plain": [
       "<4457x7715 sparse matrix of type '<class 'numpy.int64'>'\n",
       "\twith 59580 stored elements in Compressed Sparse Row format>"
      ]
     },
     "execution_count": 18,
     "metadata": {},
     "output_type": "execute_result"
    }
   ],
   "source": [
    "#Create bag of words representation using CountVectorizer\n",
    "from sklearn.feature_extraction.text import CountVectorizer\n",
    "v=CountVectorizer()\n",
    "X_train_cv=v.fit_transform(X_train.values)\n",
    "X_train_cv"
   ]
  },
  {
   "cell_type": "code",
   "execution_count": 21,
   "id": "e532ff56",
   "metadata": {},
   "outputs": [
    {
     "data": {
      "text/plain": [
       "array([0, 0, 0, ..., 0, 0, 0], dtype=int64)"
      ]
     },
     "execution_count": 21,
     "metadata": {},
     "output_type": "execute_result"
    }
   ],
   "source": [
    "X_train_cv.toarray()[:2][0]"
   ]
  },
  {
   "cell_type": "code",
   "execution_count": 22,
   "id": "27f536cb",
   "metadata": {},
   "outputs": [
    {
     "data": {
      "text/plain": [
       "(4457, 7715)"
      ]
     },
     "execution_count": 22,
     "metadata": {},
     "output_type": "execute_result"
    }
   ],
   "source": [
    "X_train_cv.shape"
   ]
  },
  {
   "cell_type": "code",
   "execution_count": 23,
   "id": "c08dc117",
   "metadata": {},
   "outputs": [
    {
     "data": {
      "text/plain": [
       "['__class__',\n",
       " '__delattr__',\n",
       " '__dict__',\n",
       " '__dir__',\n",
       " '__doc__',\n",
       " '__eq__',\n",
       " '__format__',\n",
       " '__ge__',\n",
       " '__getattribute__',\n",
       " '__getstate__',\n",
       " '__gt__',\n",
       " '__hash__',\n",
       " '__init__',\n",
       " '__init_subclass__',\n",
       " '__le__',\n",
       " '__lt__',\n",
       " '__module__',\n",
       " '__ne__',\n",
       " '__new__',\n",
       " '__reduce__',\n",
       " '__reduce_ex__',\n",
       " '__repr__',\n",
       " '__setattr__',\n",
       " '__setstate__',\n",
       " '__sizeof__',\n",
       " '__str__',\n",
       " '__subclasshook__',\n",
       " '__weakref__',\n",
       " '_char_ngrams',\n",
       " '_char_wb_ngrams',\n",
       " '_check_feature_names',\n",
       " '_check_n_features',\n",
       " '_check_stop_words_consistency',\n",
       " '_check_vocabulary',\n",
       " '_count_vocab',\n",
       " '_get_param_names',\n",
       " '_get_tags',\n",
       " '_limit_features',\n",
       " '_more_tags',\n",
       " '_repr_html_',\n",
       " '_repr_html_inner',\n",
       " '_repr_mimebundle_',\n",
       " '_sort_features',\n",
       " '_stop_words_id',\n",
       " '_validate_data',\n",
       " '_validate_params',\n",
       " '_validate_vocabulary',\n",
       " '_warn_for_unused_params',\n",
       " '_white_spaces',\n",
       " '_word_ngrams',\n",
       " 'analyzer',\n",
       " 'binary',\n",
       " 'build_analyzer',\n",
       " 'build_preprocessor',\n",
       " 'build_tokenizer',\n",
       " 'decode',\n",
       " 'decode_error',\n",
       " 'dtype',\n",
       " 'encoding',\n",
       " 'fit',\n",
       " 'fit_transform',\n",
       " 'fixed_vocabulary_',\n",
       " 'get_feature_names',\n",
       " 'get_feature_names_out',\n",
       " 'get_params',\n",
       " 'get_stop_words',\n",
       " 'input',\n",
       " 'inverse_transform',\n",
       " 'lowercase',\n",
       " 'max_df',\n",
       " 'max_features',\n",
       " 'min_df',\n",
       " 'ngram_range',\n",
       " 'preprocessor',\n",
       " 'set_params',\n",
       " 'stop_words',\n",
       " 'stop_words_',\n",
       " 'strip_accents',\n",
       " 'token_pattern',\n",
       " 'tokenizer',\n",
       " 'transform',\n",
       " 'vocabulary',\n",
       " 'vocabulary_']"
      ]
     },
     "execution_count": 23,
     "metadata": {},
     "output_type": "execute_result"
    }
   ],
   "source": [
    "dir(v)"
   ]
  },
  {
   "cell_type": "code",
   "execution_count": 26,
   "id": "8099456d",
   "metadata": {},
   "outputs": [
    {
     "data": {
      "text/plain": [
       "'cheese'"
      ]
     },
     "execution_count": 26,
     "metadata": {},
     "output_type": "execute_result"
    }
   ],
   "source": [
    "v.get_feature_names_out()[1771]"
   ]
  },
  {
   "cell_type": "code",
   "execution_count": 27,
   "id": "725573bc",
   "metadata": {},
   "outputs": [
    {
     "data": {
      "text/plain": [
       "{'home': 3459,\n",
       " 'yes': 7657,\n",
       " 'he': 3352,\n",
       " 'have': 3342,\n",
       " 'good': 3170,\n",
       " 'crickiting': 2087,\n",
       " 'mind': 4454,\n",
       " 'wishing': 7514,\n",
       " 'you': 7673,\n",
       " 'and': 972,\n",
       " 'your': 7679,\n",
       " 'family': 2757,\n",
       " 'merry': 4424,\n",
       " 'mas': 4340,\n",
       " 'happy': 3318,\n",
       " 'new': 4722,\n",
       " 'year': 7646,\n",
       " 'in': 3626,\n",
       " 'advance': 845,\n",
       " 'dont': 2409,\n",
       " 'let': 4065,\n",
       " 'studying': 6508,\n",
       " 'stress': 6481,\n",
       " 'out': 4975,\n",
       " 'l8r': 3965,\n",
       " 'is': 3728,\n",
       " 'ur': 7164,\n",
       " 'paper': 5036,\n",
       " 'morn': 4556,\n",
       " 'or': 4936,\n",
       " 'aft': 864,\n",
       " 'tmr': 6889,\n",
       " 'sorry': 6290,\n",
       " 'da': 2150,\n",
       " 'gone': 3166,\n",
       " 'mad': 4274,\n",
       " 'so': 6240,\n",
       " 'many': 4320,\n",
       " 'pending': 5101,\n",
       " 'works': 7563,\n",
       " 'what': 7443,\n",
       " 'to': 6895,\n",
       " 'do': 2379,\n",
       " 'well': 7420,\n",
       " 'the': 6779,\n",
       " 'general': 3090,\n",
       " 'price': 5363,\n",
       " 'lt': 4229,\n",
       " 'gt': 3247,\n",
       " 'oz': 5008,\n",
       " 'me': 4377,\n",
       " 'know': 3945,\n",
       " 'if': 3584,\n",
       " 'when': 7450,\n",
       " 'how': 3507,\n",
       " 'much': 4605,\n",
       " 'want': 7340,\n",
       " 'admin': 831,\n",
       " 'building': 1563,\n",
       " 'there': 6796,\n",
       " 'might': 4443,\n",
       " 'slightly': 6186,\n",
       " 'earlier': 2503,\n",
       " 'll': 4142,\n",
       " 'call': 1615,\n",
       " 'reaching': 5559,\n",
       " 'yeah': 7645,\n",
       " 'work': 7558,\n",
       " 'fine': 2849,\n",
       " 'started': 6409,\n",
       " 'last': 4003,\n",
       " 'week': 7403,\n",
       " 'all': 925,\n",
       " 'same': 5857,\n",
       " 'stuff': 6510,\n",
       " 'as': 1098,\n",
       " 'before': 1307,\n",
       " 'dull': 2485,\n",
       " 'but': 1584,\n",
       " 'easy': 2513,\n",
       " 'guys': 3268,\n",
       " 'are': 1063,\n",
       " 'fun': 3033,\n",
       " 'ok': 4878,\n",
       " 'ill': 3597,\n",
       " 'send': 5971,\n",
       " 'with': 7516,\n",
       " 'decimal': 2211,\n",
       " 'interflora': 3692,\n",
       " 'it': 3739,\n",
       " 'not': 4795,\n",
       " 'too': 6937,\n",
       " 'late': 4006,\n",
       " 'order': 4944,\n",
       " 'flowers': 2896,\n",
       " 'for': 2927,\n",
       " 'christmas': 1820,\n",
       " '0800': 50,\n",
       " '505060': 553,\n",
       " 'place': 5188,\n",
       " 'midnight': 4441,\n",
       " 'tomorrow': 6923,\n",
       " 'whenevr': 7452,\n",
       " 'sad': 5838,\n",
       " 'gray': 3217,\n",
       " 'remembr': 5657,\n",
       " 'im': 3601,\n",
       " 'here': 3394,\n",
       " 'listn': 4128,\n",
       " 'watevr': 7367,\n",
       " 'wanna': 7338,\n",
       " 'say': 5890,\n",
       " 'jus': 3859,\n",
       " 'walk': 7326,\n",
       " 'wid': 7478,\n",
       " 'little': 4133,\n",
       " 'while': 7460,\n",
       " 'amp': 964,\n",
       " 'promise': 5405,\n",
       " 'bring': 1519,\n",
       " 'back': 1205,\n",
       " 'smile': 6210,\n",
       " 'mobiles': 4511,\n",
       " 'from': 3010,\n",
       " '2004': 358,\n",
       " 'must': 4625,\n",
       " 'go': 3148,\n",
       " 'txt': 7058,\n",
       " 'nokia': 4769,\n",
       " 'no': 4759,\n",
       " '89545': 717,\n",
       " 'collect': 1902,\n",
       " 'yours': 7682,\n",
       " 'today': 6902,\n",
       " 'only': 4909,\n",
       " 'www': 7605,\n",
       " 'tc': 6698,\n",
       " 'biz': 1383,\n",
       " '2optout': 420,\n",
       " '087187262701': 143,\n",
       " '50gbp': 555,\n",
       " 'mtmsg18': 4601,\n",
       " 'txtauction': 7061,\n",
       " 'come': 1917,\n",
       " 'search': 5930,\n",
       " 'tat': 6685,\n",
       " 'vid': 7245,\n",
       " 'finishd': 2853,\n",
       " 'story': 6472,\n",
       " 'of': 4853,\n",
       " 'man': 4306,\n",
       " 'was': 7352,\n",
       " 'my': 4632,\n",
       " 'day': 2189,\n",
       " 'wife': 7481,\n",
       " 'did': 2306,\n",
       " 'nt': 4814,\n",
       " 'wish': 7510,\n",
       " 'parents': 5048,\n",
       " 'forgot': 2939,\n",
       " 'kids': 3919,\n",
       " 'went': 7425,\n",
       " 'even': 2653,\n",
       " 'colleagues': 1901,\n",
       " 'dude': 2480,\n",
       " 'were': 7428,\n",
       " 'makin': 4301,\n",
       " 'those': 6824,\n",
       " 'weirdy': 7416,\n",
       " 'brownies': 1539,\n",
       " 'sister': 6143,\n",
       " 'made': 4276,\n",
       " 'awesome': 1183,\n",
       " 'cookies': 2010,\n",
       " 'took': 6938,\n",
       " 'pics': 5164,\n",
       " 'missionary': 4480,\n",
       " 'hook': 3470,\n",
       " 'up': 7147,\n",
       " 'doggy': 2396,\n",
       " 'standing': 6401,\n",
       " 'oh': 4873,\n",
       " 'will': 7488,\n",
       " 'gran': 3208,\n",
       " 'onlyfound': 4910,\n",
       " 'afew': 854,\n",
       " 'days': 2190,\n",
       " 'ago': 883,\n",
       " 'cusoon': 2133,\n",
       " 'honi': 3467,\n",
       " 'mobile': 4510,\n",
       " 'club': 1869,\n",
       " 'choose': 1814,\n",
       " 'any': 1006,\n",
       " 'top': 6946,\n",
       " 'quality': 5482,\n",
       " 'items': 3742,\n",
       " '7cfca1a': 643,\n",
       " 'cant': 1651,\n",
       " 'pick': 5161,\n",
       " 'phone': 5148,\n",
       " 'right': 5755,\n",
       " 'now': 4807,\n",
       " 'pls': 5218,\n",
       " 'message': 4427,\n",
       " 'lol': 4168,\n",
       " 'our': 4972,\n",
       " 'friendship': 2998,\n",
       " 'hanging': 3307,\n",
       " 'on': 4898,\n",
       " 'thread': 6832,\n",
       " 'cause': 1698,\n",
       " 'won': 7543,\n",
       " 'buy': 1588,\n",
       " 'later': 4009,\n",
       " 'one': 4903,\n",
       " 'slice': 6182,\n",
       " 'breadstick': 1499,\n",
       " 'subscribed': 6526,\n",
       " 'textcomp': 6756,\n",
       " '250': 379,\n",
       " 'wkly': 7527,\n",
       " 'comp': 1930,\n",
       " '1st': 344,\n",
       " 'wk': 7524,\n",
       " 'free': 2974,\n",
       " 'question': 5488,\n",
       " 'follows': 2913,\n",
       " 'subsequent': 6533,\n",
       " 'wks': 7529,\n",
       " 'charged': 1739,\n",
       " '150p': 316,\n",
       " 'msg': 4589,\n",
       " 'unsubscribe': 7142,\n",
       " 'stop': 6458,\n",
       " '84128': 684,\n",
       " 'custcare': 2135,\n",
       " '08712405020': 111,\n",
       " 'also': 941,\n",
       " 'where': 7453,\n",
       " 'piece': 5169,\n",
       " 'enjoy': 2592,\n",
       " 'urself': 7176,\n",
       " 'boo': 1434,\n",
       " 'way': 7375,\n",
       " 'moms': 4534,\n",
       " 'she': 6037,\n",
       " 'making': 4302,\n",
       " 'tortilla': 6954,\n",
       " 'soup': 6304,\n",
       " 'yummmm': 7693,\n",
       " 'nvm': 4828,\n",
       " 'take': 6660,\n",
       " 'time': 6864,\n",
       " 'we': 7380,\n",
       " 'eta': 2641,\n",
       " 'at': 1129,\n",
       " 'taunton': 6690,\n",
       " '12': 289,\n",
       " '30': 436,\n",
       " 'planned': 5197,\n",
       " 'hope': 3474,\n",
       " 'that': 6776,\n",
       " 'still': 6446,\n",
       " 'okday': 4880,\n",
       " 'see': 5944,\n",
       " 'xx': 7619,\n",
       " 'why': 7473,\n",
       " 'don': 2406,\n",
       " 'tell': 6723,\n",
       " 'friend': 2995,\n",
       " 're': 5555,\n",
       " 'sure': 6593,\n",
       " 'live': 4134,\n",
       " 'him': 3417,\n",
       " 'because': 1289,\n",
       " 'smokes': 6218,\n",
       " 'then': 6792,\n",
       " 'spend': 6339,\n",
       " 'hours': 3502,\n",
       " 'begging': 1311,\n",
       " 'smoke': 6216,\n",
       " 'velly': 7229,\n",
       " 'please': 5211,\n",
       " 'baaaaabe': 1195,\n",
       " 'misss': 4482,\n",
       " 'youuuuu': 7684,\n",
       " 'teach': 6703,\n",
       " 'class': 1839,\n",
       " 'finish': 2852,\n",
       " 'mon': 4535,\n",
       " 'thurs': 6848,\n",
       " 'yar': 7638,\n",
       " 'tot': 6959,\n",
       " 'knew': 3942,\n",
       " 'dis': 2346,\n",
       " 'would': 7577,\n",
       " 'happen': 3309,\n",
       " 'long': 4175,\n",
       " 'already': 938,\n",
       " 'got': 3186,\n",
       " 'landline': 3987,\n",
       " 'number': 4822,\n",
       " 'am': 949,\n",
       " 'asked': 1108,\n",
       " 'anna': 983,\n",
       " 'nagar': 4646,\n",
       " 'afternoon': 866,\n",
       " 'ringtone': 5763,\n",
       " 'http': 3522,\n",
       " 'tms': 6891,\n",
       " 'widelive': 7479,\n",
       " 'com': 1911,\n",
       " 'index': 3645,\n",
       " 'wml': 7532,\n",
       " 'id': 3572,\n",
       " '1b6a5ecef91ff9': 336,\n",
       " '37819': 466,\n",
       " 'first': 2861,\n",
       " 'true18': 7015,\n",
       " '0430': 16,\n",
       " 'jul': 3849,\n",
       " '05': 17,\n",
       " 'coming': 1923,\n",
       " 'urgent': 7168,\n",
       " '07808726822': 39,\n",
       " 'awarded': 1181,\n",
       " '000': 1,\n",
       " 'bonus': 1433,\n",
       " 'caller': 1623,\n",
       " 'prize': 5376,\n",
       " '02': 8,\n",
       " '09': 164,\n",
       " '03': 14,\n",
       " 'this': 6817,\n",
       " '2nd': 416,\n",
       " 'attempt': 1140,\n",
       " 'contact': 1987,\n",
       " '0871': 95,\n",
       " '872': 701,\n",
       " '9758': 738,\n",
       " 'box95qu': 1477,\n",
       " 'princess': 5366,\n",
       " 'kitty': 3937,\n",
       " 'shaved': 6034,\n",
       " 'natural': 4673,\n",
       " 'just': 3860,\n",
       " 'saw': 5889,\n",
       " 'ron': 5788,\n",
       " 'burgundy': 1572,\n",
       " 'captaining': 1658,\n",
       " 'party': 5058,\n",
       " 'boat': 1421,\n",
       " 'really': 5575,\n",
       " 'other': 4964,\n",
       " 'dudette': 2482,\n",
       " 'been': 1302,\n",
       " 'missing': 4479,\n",
       " 'bus': 1577,\n",
       " 'love': 4207,\n",
       " 'sat': 5874,\n",
       " 'leh': 4054,\n",
       " 'booked': 1437,\n",
       " 'liao': 4072,\n",
       " 'which': 7459,\n",
       " 'enough': 2597,\n",
       " 'bud': 1554,\n",
       " 'most': 4562,\n",
       " 'night': 4742,\n",
       " 'least': 4041,\n",
       " 'need': 4692,\n",
       " 'give': 3131,\n",
       " 'some': 6255,\n",
       " 'lovin': 4216,\n",
       " 'lmao': 4144,\n",
       " 'nice': 4735,\n",
       " 'smth': 6227,\n",
       " 'can': 1639,\n",
       " 'like': 4092,\n",
       " 'sections': 5942,\n",
       " 'clearer': 1849,\n",
       " 'laugh': 4013,\n",
       " 'try': 7022,\n",
       " 'chit': 1808,\n",
       " 'chat': 1750,\n",
       " 'logon': 4165,\n",
       " 'by': 1599,\n",
       " 'txting': 7063,\n",
       " 'word': 7556,\n",
       " '8883': 710,\n",
       " 'cm': 1873,\n",
       " 'po': 5227,\n",
       " 'box': 1465,\n",
       " '4217': 501,\n",
       " 'london': 4172,\n",
       " 'w1a': 7299,\n",
       " '6zf': 625,\n",
       " '16': 324,\n",
       " '118p': 286,\n",
       " 'rcvd': 5552,\n",
       " 'andros': 977,\n",
       " 'ice': 3567,\n",
       " 'etc': 2642,\n",
       " 'discount': 2353,\n",
       " 'code': 1889,\n",
       " 'rp176781': 5803,\n",
       " 'further': 3040,\n",
       " 'messages': 4429,\n",
       " 'reply': 5686,\n",
       " 'regalportfolio': 5628,\n",
       " 'co': 1879,\n",
       " 'uk': 7086,\n",
       " 'customer': 2137,\n",
       " 'services': 5993,\n",
       " '08717205546': 132,\n",
       " 'physics': 5159,\n",
       " 'get': 3103,\n",
       " 'lions': 4117,\n",
       " 'england': 2590,\n",
       " 'tone': 6925,\n",
       " 'lionm': 4115,\n",
       " 'mono': 4543,\n",
       " 'lionp': 4116,\n",
       " 'poly': 5255,\n",
       " 'more': 4554,\n",
       " 'ringtones': 5765,\n",
       " 'original': 4956,\n",
       " 'best': 1337,\n",
       " 'tones': 6926,\n",
       " '3gbp': 474,\n",
       " 'network': 4713,\n",
       " 'operator': 4923,\n",
       " 'rates': 5539,\n",
       " 'apply': 1039,\n",
       " 'piss': 5181,\n",
       " 'talking': 6670,\n",
       " 'someone': 6259,\n",
       " 'realise': 5568,\n",
       " 'point': 5247,\n",
       " 'read': 5561,\n",
       " 'backwards': 1207,\n",
       " 'yo': 7668,\n",
       " 'game': 3055,\n",
       " 'almost': 934,\n",
       " 'over': 4992,\n",
       " 'walmart': 7334,\n",
       " 'soon': 6281,\n",
       " '820554ad0a1705572711': 666,\n",
       " 'true': 7014,\n",
       " 'makes': 4299,\n",
       " 'sense': 5977,\n",
       " 'btw': 1550,\n",
       " 'carlos': 1674,\n",
       " 'being': 1318,\n",
       " 'difficult': 2319,\n",
       " 'gonna': 3168,\n",
       " 'second': 5935,\n",
       " 'batch': 1255,\n",
       " 'gas': 3070,\n",
       " 'ranjith': 5535,\n",
       " 'cal': 1609,\n",
       " 'drpd': 2464,\n",
       " 'deeraj': 2221,\n",
       " 'deepak': 2218,\n",
       " '5min': 576,\n",
       " 'hold': 3450,\n",
       " 'hey': 3404,\n",
       " 'blake': 1389,\n",
       " 'address': 827,\n",
       " 'wanted': 7341,\n",
       " 'meet': 4396,\n",
       " 'lost': 4194,\n",
       " 'answering': 999,\n",
       " 'his': 3423,\n",
       " 'sen': 5970,\n",
       " 'kind': 3925,\n",
       " 'advice': 848,\n",
       " 'perumbavoor': 5130,\n",
       " 'wont': 7550,\n",
       " 'belive': 1320,\n",
       " 'god': 3154,\n",
       " 'jesus': 3802,\n",
       " 'pretty': 5357,\n",
       " 'pussy': 5467,\n",
       " 'wnevr': 7534,\n",
       " 'wana': 7337,\n",
       " 'fal': 2748,\n",
       " 'luv': 4242,\n",
       " 'vth': 7294,\n",
       " 'books': 1441,\n",
       " 'bed': 1295,\n",
       " 'fals': 2754,\n",
       " 'yen': 7653,\n",
       " 'madodu': 4277,\n",
       " 'nav': 4677,\n",
       " 'pretsorginta': 5355,\n",
       " 'nammanna': 4657,\n",
       " 'pretsovru': 5356,\n",
       " 'important': 3615,\n",
       " 'alwa': 946,\n",
       " 'gud': 3253,\n",
       " 'eveb': 2652,\n",
       " 'apo': 1026,\n",
       " 'movie': 4578,\n",
       " 'probably': 5382,\n",
       " 'eat': 2514,\n",
       " 'think': 6809,\n",
       " 'pop': 5270,\n",
       " 'weekend': 7405,\n",
       " 'miss': 4475,\n",
       " 'sunshine': 6574,\n",
       " 'quiz': 5498,\n",
       " 'win': 7491,\n",
       " 'sony': 6278,\n",
       " 'dvd': 2496,\n",
       " 'player': 5204,\n",
       " 'country': 2043,\n",
       " 'liverpool': 4137,\n",
       " 'played': 5203,\n",
       " 'mid': 4439,\n",
       " 'ansr': 995,\n",
       " '82277': 668,\n",
       " '50': 550,\n",
       " 'sp': 6311,\n",
       " 'tyrone': 7073,\n",
       " 'jamster': 3771,\n",
       " 'wallpaper': 7332,\n",
       " 'text': 6752,\n",
       " 'heart': 3366,\n",
       " '88888': 712,\n",
       " 'help': 3381,\n",
       " '08701213186': 74,\n",
       " 'sch': 5901,\n",
       " 'going': 3160,\n",
       " 'anyway': 1018,\n",
       " 'always': 947,\n",
       " 'putting': 5471,\n",
       " 'business': 1581,\n",
       " 'put': 5468,\n",
       " 'pictures': 5167,\n",
       " 'ass': 1116,\n",
       " 'facebook': 2735,\n",
       " 'open': 4918,\n",
       " 'people': 5103,\n",
       " 've': 7223,\n",
       " 'ever': 2658,\n",
       " 'met': 4434,\n",
       " 'picture': 5166,\n",
       " 'room': 5789,\n",
       " 'hurt': 3545,\n",
       " 'make': 4298,\n",
       " 'feel': 2795,\n",
       " 'violated': 7259,\n",
       " '08712400200': 103,\n",
       " 'sent': 5981,\n",
       " 'email': 2565,\n",
       " 'ya': 7632,\n",
       " 'told': 6912,\n",
       " 'asking': 1110,\n",
       " 'wats': 7370,\n",
       " 'matter': 4358,\n",
       " 'unique': 7125,\n",
       " 'find': 2846,\n",
       " '30th': 446,\n",
       " 'august': 1153,\n",
       " 'areyouunique': 1068,\n",
       " 'light': 4089,\n",
       " 'turned': 7043,\n",
       " 'green': 3225,\n",
       " 'meant': 4385,\n",
       " 'another': 993,\n",
       " 'worth': 7572,\n",
       " 'may': 4368,\n",
       " 'be': 1279,\n",
       " 'around': 1084,\n",
       " 'receive': 5591,\n",
       " 'mu': 4603,\n",
       " 'table': 6647,\n",
       " 'lambda': 3982,\n",
       " 'whole': 7467,\n",
       " 'car': 1659,\n",
       " 'appreciated': 1043,\n",
       " 'two': 7057,\n",
       " 'dad': 2154,\n",
       " 'having': 3348,\n",
       " 'map': 4321,\n",
       " 'reading': 5564,\n",
       " 'semi': 5968,\n",
       " 'argument': 1073,\n",
       " 'apart': 1021,\n",
       " 'things': 6808,\n",
       " 'jazz': 3785,\n",
       " 'power': 5305,\n",
       " 'yoga': 7669,\n",
       " 'hip': 3420,\n",
       " 'hop': 3473,\n",
       " 'kb': 3892,\n",
       " 'yogasana': 7670,\n",
       " 'camera': 1636,\n",
       " 'quite': 5495,\n",
       " '10': 264,\n",
       " '1mega': 341,\n",
       " 'pixels': 5185,\n",
       " '3optical': 480,\n",
       " '5digital': 572,\n",
       " 'dooms': 2415,\n",
       " 'lovely': 4210,\n",
       " 'holiday': 3454,\n",
       " 'safe': 5841,\n",
       " 'hav': 3338,\n",
       " 'journey': 3837,\n",
       " 'both': 1455,\n",
       " 'couple': 2045,\n",
       " 'weeks': 7408,\n",
       " 'every': 2659,\n",
       " 'warm': 7346,\n",
       " 'bath': 1257,\n",
       " 'drink': 2449,\n",
       " 'cup': 2126,\n",
       " 'milk': 4448,\n",
       " 'magic': 4284,\n",
       " 'loose': 4185,\n",
       " 'weight': 7411,\n",
       " 'wasn': 7354,\n",
       " 'babe': 1196,\n",
       " 'swollen': 6634,\n",
       " 'glands': 3136,\n",
       " 'throat': 6837,\n",
       " 'end': 2580,\n",
       " 'doing': 2399,\n",
       " 'haha': 3281,\n",
       " 'shitload': 6060,\n",
       " 'very': 7237,\n",
       " 'hadn': 3279,\n",
       " 'clocks': 1857,\n",
       " 'til': 6861,\n",
       " 'shouted': 6082,\n",
       " 'everyone': 2664,\n",
       " 'realised': 5569,\n",
       " 'wahay': 7313,\n",
       " 'hour': 3500,\n",
       " 'finished': 2854,\n",
       " 'yet': 7660,\n",
       " 'heard': 3364,\n",
       " 'u4': 7075,\n",
       " 'rude': 5813,\n",
       " 'private': 5375,\n",
       " 'line': 4105,\n",
       " '01223585334': 7,\n",
       " 'cum': 2124,\n",
       " 'wan': 7335,\n",
       " '2c': 393,\n",
       " 'gettin': 3110,\n",
       " 'shagged': 6017,\n",
       " 'pix': 5184,\n",
       " '8552': 690,\n",
       " '2end': 397,\n",
       " 'sam': 5853,\n",
       " 'xxx': 7622,\n",
       " 'b4u': 1190,\n",
       " 'voucher': 7289,\n",
       " '27': 386,\n",
       " 'marsms': 4337,\n",
       " 'log': 4159,\n",
       " 'onto': 4911,\n",
       " 'b4utele': 1191,\n",
       " 'credit': 2078,\n",
       " 'opt': 4931,\n",
       " 'care': 1663,\n",
       " '08717168528': 131,\n",
       " 'anything': 1015,\n",
       " 'lor': 4187,\n",
       " 'who': 7465,\n",
       " 'boy': 1479,\n",
       " 'its': 3747,\n",
       " 'side': 6109,\n",
       " 'leave': 4043,\n",
       " 'an': 969,\n",
       " 'hourish': 3501,\n",
       " 'beauty': 1286,\n",
       " 'sleep': 6174,\n",
       " 'pimples': 5176,\n",
       " 'cool': 2012,\n",
       " 'few': 2812,\n",
       " 'sppok': 6373,\n",
       " 'mob': 4508,\n",
       " 'halloween': 3292,\n",
       " 'collection': 1905,\n",
       " 'logo': 4163,\n",
       " 'pic': 5160,\n",
       " 'plus': 5223,\n",
       " 'eerie': 2534,\n",
       " 'card': 1660,\n",
       " 'spook': 6366,\n",
       " '8007': 652,\n",
       " 'great': 3220,\n",
       " 'never': 4718,\n",
       " 'better': 1342,\n",
       " 'each': 2501,\n",
       " 'gives': 3133,\n",
       " 'reasons': 5582,\n",
       " 'thank': 6768,\n",
       " 'absolutely': 772,\n",
       " 'south': 6307,\n",
       " 'park': 5050,\n",
       " 'recently': 5596,\n",
       " 'watching': 7363,\n",
       " 'office': 4863,\n",
       " 'use': 7181,\n",
       " 'soc': 6241,\n",
       " 'dunno': 2489,\n",
       " 'type': 7071,\n",
       " 'ar': 1057,\n",
       " 'snow': 6235,\n",
       " 'freezing': 2982,\n",
       " 'windy': 7497,\n",
       " 'food': 2919,\n",
       " 'pain': 5020,\n",
       " 'couldn': 2039,\n",
       " 'worse': 7570,\n",
       " 'guaranteed': 3251,\n",
       " '1000': 266,\n",
       " 'cash': 1685,\n",
       " '2000': 356,\n",
       " 'claim': 1832,\n",
       " 'yr': 7689,\n",
       " 'service': 5992,\n",
       " 'representative': 5691,\n",
       " '08714712412': 122,\n",
       " 'between': 1345,\n",
       " '10am': 273,\n",
       " '7pm': 647,\n",
       " 'cost': 2029,\n",
       " '10p': 275,\n",
       " 'month': 4547,\n",
       " 'nor': 4783,\n",
       " 'tirunelvai': 6872,\n",
       " 'gimme': 3123,\n",
       " 'minutes': 4468,\n",
       " 'wot': 7574,\n",
       " 'whats': 7445,\n",
       " 'house': 3503,\n",
       " 'again': 871,\n",
       " 'beer': 1303,\n",
       " 'talk': 6667,\n",
       " 'keep': 3895,\n",
       " 'calling': 1628,\n",
       " 'cheers': 1769,\n",
       " 'lou': 4201,\n",
       " 'goodnite': 3176,\n",
       " 'shame': 6024,\n",
       " 'neva': 4716,\n",
       " 'came': 1635,\n",
       " 'gailxx': 3049,\n",
       " 'sun': 6566,\n",
       " 'anti': 1005,\n",
       " 'medicine': 4393,\n",
       " 'face': 2734,\n",
       " 'test': 6746,\n",
       " 'select': 5956,\n",
       " 'astrology': 1126,\n",
       " 'waiting': 7321,\n",
       " 'quick': 5491,\n",
       " 'alex': 918,\n",
       " 'nichols': 4736,\n",
       " 'havent': 3345,\n",
       " 'wants': 7343,\n",
       " 'fuck': 3020,\n",
       " 'life': 4081,\n",
       " 'alle': 929,\n",
       " 'mone': 4537,\n",
       " 'eppolum': 2616,\n",
       " 'oru': 4960,\n",
       " 'pole': 5251,\n",
       " 'allalo': 927,\n",
       " 'alrite': 940,\n",
       " 'nic': 4734,\n",
       " 'checkin': 1763,\n",
       " 'lar': 3998,\n",
       " 'omg': 4896,\n",
       " 'joanna': 3814,\n",
       " 'freaking': 2971,\n",
       " 'looked': 4179,\n",
       " 'thru': 6843,\n",
       " 'friends': 2996,\n",
       " 'photos': 5155,\n",
       " 'about': 767,\n",
       " 'myspace': 4639,\n",
       " 'haven': 3344,\n",
       " 'logged': 4160,\n",
       " 'neighbors': 4701,\n",
       " 'didnt': 2309,\n",
       " 'loyalty': 4224,\n",
       " 'offer': 4859,\n",
       " 'nokia6650': 4771,\n",
       " 'start': 6408,\n",
       " '81151': 662,\n",
       " '4t': 539,\n",
       " 'ctxt': 2115,\n",
       " 'mtmsg': 4600,\n",
       " 'real': 5566,\n",
       " 'eg': 2540,\n",
       " 'real1': 5567,\n",
       " 'pushbutton': 5465,\n",
       " 'dontcha': 2410,\n",
       " 'babygoodbye': 1200,\n",
       " 'golddigger': 3162,\n",
       " 'webeburnin': 7393,\n",
       " 'join': 3823,\n",
       " 'switch': 6633,\n",
       " 'fone': 2916,\n",
       " 'dammit': 2159,\n",
       " 'sir': 6140,\n",
       " 'axis': 1186,\n",
       " 'bank': 1230,\n",
       " 'account': 794,\n",
       " 'lousy': 4204,\n",
       " 'run': 5822,\n",
       " 'half': 3288,\n",
       " 'dead': 2196,\n",
       " 'hee': 3373,\n",
       " 'actually': 818,\n",
       " 'yourself': 7683,\n",
       " 'pose': 5278,\n",
       " 'comb': 1914,\n",
       " 'hair': 3285,\n",
       " 'dryer': 2473,\n",
       " 'something': 6265,\n",
       " 'guy': 3267,\n",
       " 'kinda': 3926,\n",
       " 'flaky': 2873,\n",
       " 'interested': 3690,\n",
       " 'picking': 5163,\n",
       " 'tonight': 6932,\n",
       " 'possible': 5286,\n",
       " 'person': 5122,\n",
       " 'na': 4642,\n",
       " 'castor': 1690,\n",
       " 'aren': 1065,\n",
       " 'shower': 6087,\n",
       " 'final': 2841,\n",
       " 'claims': 1834,\n",
       " 'dept': 2261,\n",
       " 'expires': 2715,\n",
       " '13': 301,\n",
       " '04': 15,\n",
       " '08717507382': 134,\n",
       " 'sports': 6371,\n",
       " 'fans': 2763,\n",
       " 'latest': 4010,\n",
       " 'news': 4727,\n",
       " 'str': 6473,\n",
       " 'sport': 6370,\n",
       " 'getzed': 3112,\n",
       " '0870141701216': 77,\n",
       " 'norm': 4786,\n",
       " '4txt': 543,\n",
       " '120p': 291,\n",
       " 'wi': 7474,\n",
       " 'nz': 4836,\n",
       " 'players': 5205,\n",
       " 'unsold': 7139,\n",
       " 'wow': 7580,\n",
       " 'healthy': 3362,\n",
       " 'old': 4890,\n",
       " 'airport': 899,\n",
       " 'rd': 5553,\n",
       " 'thk': 6818,\n",
       " 'else': 2561,\n",
       " 'bathing': 1259,\n",
       " 'dog': 2392,\n",
       " 'infront': 3660,\n",
       " 'them': 6788,\n",
       " 'thinking': 6812,\n",
       " 'chuckin': 1823,\n",
       " 'red': 5612,\n",
       " 'black': 1385,\n",
       " 'trainners': 6977,\n",
       " 'save': 5885,\n",
       " 'carryin': 1680,\n",
       " 'bac': 1204,\n",
       " 'train': 6974,\n",
       " '74355': 631,\n",
       " 'xmas': 7616,\n",
       " 'iscoming': 3729,\n",
       " 'either': 2550,\n",
       " '500': 551,\n",
       " 'cd': 1707,\n",
       " 'gift': 3118,\n",
       " 'vouchers': 7290,\n",
       " 'entry': 2609,\n",
       " '100': 265,\n",
       " 'weekly': 7407,\n",
       " 'draw': 2442,\n",
       " 'music': 4622,\n",
       " '87066': 696,\n",
       " 'tnc': 6893,\n",
       " 'someonone': 6260,\n",
       " 'trying': 7024,\n",
       " 'via': 7239,\n",
       " 'dating': 2185,\n",
       " 'could': 2037,\n",
       " '09064015307': 216,\n",
       " 'box334sk38ch': 1471,\n",
       " 'funny': 3038,\n",
       " 'fact': 2737,\n",
       " 'nobody': 4762,\n",
       " 'teaches': 6706,\n",
       " 'volcanoes': 7282,\n",
       " 'erupt': 2629,\n",
       " 'tsunamis': 7030,\n",
       " 'arise': 1076,\n",
       " 'hurricanes': 3542,\n",
       " 'sway': 6618,\n",
       " 'aroundn': 1085,\n",
       " 'hw': 3554,\n",
       " 'disasters': 2349,\n",
       " 'happens': 3314,\n",
       " 'chinese': 1804,\n",
       " 'fat': 2775,\n",
       " 'paying': 5086,\n",
       " 'lipo': 4119,\n",
       " 'has': 3327,\n",
       " '09061790121': 206,\n",
       " 'land': 3985,\n",
       " '3030': 441,\n",
       " 'valid': 7208,\n",
       " '12hrs': 299,\n",
       " '150ppm': 320,\n",
       " 'staff': 6392,\n",
       " 'placement': 5190,\n",
       " 'training': 6976,\n",
       " 'amrita': 965,\n",
       " 'college': 1906,\n",
       " 'solve': 6253,\n",
       " 'case': 1684,\n",
       " 'found': 2955,\n",
       " 'murdered': 4618,\n",
       " 'called': 1622,\n",
       " 'police': 5252,\n",
       " 'questioned': 5489,\n",
       " 'sleeping': 6176,\n",
       " 'murder': 4617,\n",
       " 'cook': 2008,\n",
       " 'cooking': 2011,\n",
       " 'gardener': 3066,\n",
       " 'vegetables': 7225,\n",
       " 'maid': 4290,\n",
       " 'post': 5288,\n",
       " 'children': 1795,\n",
       " 'play': 5202,\n",
       " 'neighbour': 4702,\n",
       " 'marriage': 4334,\n",
       " 'arrested': 1089,\n",
       " 'murderer': 4619,\n",
       " 'immediately': 3609,\n",
       " 'reason': 5580,\n",
       " 'brilliant': 1516,\n",
       " 'wen': 7423,\n",
       " 'lovable': 4206,\n",
       " 'bcums': 1277,\n",
       " 'angry': 979,\n",
       " 'dnt': 2378,\n",
       " 'seriously': 5989,\n",
       " 'coz': 2055,\n",
       " 'childish': 1793,\n",
       " 'showing': 6089,\n",
       " 'deep': 2217,\n",
       " 'affection': 857,\n",
       " 'kettoda': 3905,\n",
       " 'manda': 4312,\n",
       " 'thanks': 6769,\n",
       " 'loving': 4217,\n",
       " 'rock': 5778,\n",
       " 'available': 1165,\n",
       " 'appointment': 1041,\n",
       " 'ask': 1106,\n",
       " 'connect': 1974,\n",
       " 'waheed': 7314,\n",
       " 'fathima': 2778,\n",
       " 'telling': 6724,\n",
       " 'coulda': 2038,\n",
       " 'valentine': 7206,\n",
       " 'nothing': 4800,\n",
       " '5p': 578,\n",
       " 'alfie': 919,\n",
       " 'moon': 4552,\n",
       " 'song': 6276,\n",
       " 'm8s': 4260,\n",
       " 'charity': 1741,\n",
       " 'nokias': 4772,\n",
       " 'polys': 5260,\n",
       " 'zed': 7703,\n",
       " '08701417012': 76,\n",
       " 'profit': 5396,\n",
       " 'okay': 4879,\n",
       " 'check': 1760,\n",
       " 'yahoo': 7634,\n",
       " 'yesterday': 7659,\n",
       " 'happening': 3313,\n",
       " ...}"
      ]
     },
     "execution_count": 27,
     "metadata": {},
     "output_type": "execute_result"
    }
   ],
   "source": [
    "v.vocabulary_"
   ]
  },
  {
   "cell_type": "code",
   "execution_count": 33,
   "id": "734d290e",
   "metadata": {},
   "outputs": [
    {
     "data": {
      "text/plain": [
       "array([0, 0, 0, ..., 0, 0, 0], dtype=int64)"
      ]
     },
     "execution_count": 33,
     "metadata": {},
     "output_type": "execute_result"
    }
   ],
   "source": [
    "X_train_np=X_train_cv.toarray()\n",
    "X_train_np[0]"
   ]
  },
  {
   "cell_type": "code",
   "execution_count": 34,
   "id": "6361ce21",
   "metadata": {},
   "outputs": [
    {
     "name": "stdout",
     "output_type": "stream",
     "text": [
      "(array([3459], dtype=int64),)\n"
     ]
    }
   ],
   "source": [
    "np.where(X_train_np[0]!=0)"
   ]
  },
  {
   "cell_type": "code",
   "execution_count": 36,
   "id": "e6a6dd0a",
   "metadata": {},
   "outputs": [],
   "source": [
    "X_test_cv=v.transform(X_test)\n",
    "                     "
   ]
  },
  {
   "cell_type": "code",
   "execution_count": 37,
   "id": "65d3aff2",
   "metadata": {},
   "outputs": [
    {
     "data": {
      "text/plain": [
       "MultinomialNB()"
      ]
     },
     "execution_count": 37,
     "metadata": {},
     "output_type": "execute_result"
    }
   ],
   "source": [
    "#Train the Naive Baye's model\n",
    "from sklearn.naive_bayes import MultinomialNB\n",
    "model=MultinomialNB()\n",
    "model.fit(X_train_cv,y_train)"
   ]
  },
  {
   "cell_type": "code",
   "execution_count": 38,
   "id": "ac35b06f",
   "metadata": {},
   "outputs": [
    {
     "name": "stdout",
     "output_type": "stream",
     "text": [
      "              precision    recall  f1-score   support\n",
      "\n",
      "           0       0.99      1.00      0.99       978\n",
      "           1       0.98      0.90      0.94       137\n",
      "\n",
      "    accuracy                           0.98      1115\n",
      "   macro avg       0.98      0.95      0.96      1115\n",
      "weighted avg       0.98      0.98      0.98      1115\n",
      "\n"
     ]
    }
   ],
   "source": [
    "#Evaluate performance of model\n",
    "from sklearn.metrics import classification_report\n",
    "y_pred=model.predict(X_test_cv)\n",
    "print(classification_report(y_test,y_pred))"
   ]
  },
  {
   "cell_type": "code",
   "execution_count": 39,
   "id": "bd245735",
   "metadata": {},
   "outputs": [
    {
     "data": {
      "text/plain": [
       "array([0, 1], dtype=int64)"
      ]
     },
     "execution_count": 39,
     "metadata": {},
     "output_type": "execute_result"
    }
   ],
   "source": [
    "emails=['Hey mohan, can we get together to watch footbal game tomorrow?',\n",
    "    'Upto 20% discount on parking, exclusive offer just for you. Dont miss this reward!']\n",
    "emails_count=v.transform(emails)\n",
    "model.predict(emails_count)"
   ]
  },
  {
   "cell_type": "code",
   "execution_count": 40,
   "id": "82145fb1",
   "metadata": {},
   "outputs": [],
   "source": [
    "#train the model using sklearn pipeline and save lines of code\n",
    "from sklearn.pipeline import Pipeline\n",
    "clf=Pipeline([('vectorizer',CountVectorizer()),('nb',MultinomialNB())])"
   ]
  },
  {
   "cell_type": "code",
   "execution_count": 41,
   "id": "b1dc21bf",
   "metadata": {},
   "outputs": [
    {
     "data": {
      "text/plain": [
       "Pipeline(steps=[('vectorizer', CountVectorizer()), ('nb', MultinomialNB())])"
      ]
     },
     "execution_count": 41,
     "metadata": {},
     "output_type": "execute_result"
    }
   ],
   "source": [
    "clf.fit(X_train,y_train)"
   ]
  },
  {
   "cell_type": "code",
   "execution_count": 42,
   "id": "157b3783",
   "metadata": {},
   "outputs": [
    {
     "name": "stdout",
     "output_type": "stream",
     "text": [
      "              precision    recall  f1-score   support\n",
      "\n",
      "           0       0.99      1.00      0.99       978\n",
      "           1       0.98      0.90      0.94       137\n",
      "\n",
      "    accuracy                           0.98      1115\n",
      "   macro avg       0.98      0.95      0.96      1115\n",
      "weighted avg       0.98      0.98      0.98      1115\n",
      "\n"
     ]
    }
   ],
   "source": [
    "y_pred=clf.predict(X_test)\n",
    "print(classification_report(y_test,y_pred))"
   ]
  },
  {
   "cell_type": "code",
   "execution_count": 43,
   "id": "ff2b0c54",
   "metadata": {},
   "outputs": [],
   "source": [
    "#Movie review classification"
   ]
  },
  {
   "cell_type": "code",
   "execution_count": 44,
   "id": "c868e238",
   "metadata": {},
   "outputs": [],
   "source": [
    "import pandas as pd\n",
    "import numpy as np"
   ]
  },
  {
   "cell_type": "code",
   "execution_count": 47,
   "id": "22f507ae",
   "metadata": {},
   "outputs": [
    {
     "data": {
      "text/html": [
       "<div>\n",
       "<style scoped>\n",
       "    .dataframe tbody tr th:only-of-type {\n",
       "        vertical-align: middle;\n",
       "    }\n",
       "\n",
       "    .dataframe tbody tr th {\n",
       "        vertical-align: top;\n",
       "    }\n",
       "\n",
       "    .dataframe thead th {\n",
       "        text-align: right;\n",
       "    }\n",
       "</style>\n",
       "<table border=\"1\" class=\"dataframe\">\n",
       "  <thead>\n",
       "    <tr style=\"text-align: right;\">\n",
       "      <th></th>\n",
       "      <th>review</th>\n",
       "      <th>sentiment</th>\n",
       "    </tr>\n",
       "  </thead>\n",
       "  <tbody>\n",
       "    <tr>\n",
       "      <th>0</th>\n",
       "      <td>I first saw Jake Gyllenhaal in Jarhead (2005) ...</td>\n",
       "      <td>positive</td>\n",
       "    </tr>\n",
       "    <tr>\n",
       "      <th>1</th>\n",
       "      <td>I enjoyed the movie and the story immensely! I...</td>\n",
       "      <td>positive</td>\n",
       "    </tr>\n",
       "    <tr>\n",
       "      <th>2</th>\n",
       "      <td>I had a hard time sitting through this. Every ...</td>\n",
       "      <td>negative</td>\n",
       "    </tr>\n",
       "    <tr>\n",
       "      <th>3</th>\n",
       "      <td>It's hard to imagine that anyone could find th...</td>\n",
       "      <td>negative</td>\n",
       "    </tr>\n",
       "    <tr>\n",
       "      <th>4</th>\n",
       "      <td>This is one military drama I like a lot! Tom B...</td>\n",
       "      <td>positive</td>\n",
       "    </tr>\n",
       "    <tr>\n",
       "      <th>...</th>\n",
       "      <td>...</td>\n",
       "      <td>...</td>\n",
       "    </tr>\n",
       "    <tr>\n",
       "      <th>18995</th>\n",
       "      <td>- Bad Stuff: This movie is real crap. Bad stun...</td>\n",
       "      <td>negative</td>\n",
       "    </tr>\n",
       "    <tr>\n",
       "      <th>18996</th>\n",
       "      <td>If you've seen the trailer for this movie, you...</td>\n",
       "      <td>positive</td>\n",
       "    </tr>\n",
       "    <tr>\n",
       "      <th>18997</th>\n",
       "      <td>This has to be the all time best computer anim...</td>\n",
       "      <td>positive</td>\n",
       "    </tr>\n",
       "    <tr>\n",
       "      <th>18998</th>\n",
       "      <td>I've seen 'NSNA' just after I've seen all Roge...</td>\n",
       "      <td>positive</td>\n",
       "    </tr>\n",
       "    <tr>\n",
       "      <th>18999</th>\n",
       "      <td>Norris plays a Chicago cop who stumbles upon a...</td>\n",
       "      <td>negative</td>\n",
       "    </tr>\n",
       "  </tbody>\n",
       "</table>\n",
       "<p>19000 rows × 2 columns</p>\n",
       "</div>"
      ],
      "text/plain": [
       "                                                  review sentiment\n",
       "0      I first saw Jake Gyllenhaal in Jarhead (2005) ...  positive\n",
       "1      I enjoyed the movie and the story immensely! I...  positive\n",
       "2      I had a hard time sitting through this. Every ...  negative\n",
       "3      It's hard to imagine that anyone could find th...  negative\n",
       "4      This is one military drama I like a lot! Tom B...  positive\n",
       "...                                                  ...       ...\n",
       "18995  - Bad Stuff: This movie is real crap. Bad stun...  negative\n",
       "18996  If you've seen the trailer for this movie, you...  positive\n",
       "18997  This has to be the all time best computer anim...  positive\n",
       "18998  I've seen 'NSNA' just after I've seen all Roge...  positive\n",
       "18999  Norris plays a Chicago cop who stumbles upon a...  negative\n",
       "\n",
       "[19000 rows x 2 columns]"
      ]
     },
     "execution_count": 47,
     "metadata": {},
     "output_type": "execute_result"
    }
   ],
   "source": [
    "df=pd.read_csv(r\"C:\\Users\\sohan\\Downloads\\movies_sentiment_data.csv\")\n",
    "df"
   ]
  },
  {
   "cell_type": "code",
   "execution_count": 48,
   "id": "bcb037e1",
   "metadata": {},
   "outputs": [
    {
     "data": {
      "text/plain": [
       "(19000, 2)"
      ]
     },
     "execution_count": 48,
     "metadata": {},
     "output_type": "execute_result"
    }
   ],
   "source": [
    "df.shape"
   ]
  },
  {
   "cell_type": "code",
   "execution_count": 49,
   "id": "e8c1e837",
   "metadata": {},
   "outputs": [
    {
     "data": {
      "text/html": [
       "<div>\n",
       "<style scoped>\n",
       "    .dataframe tbody tr th:only-of-type {\n",
       "        vertical-align: middle;\n",
       "    }\n",
       "\n",
       "    .dataframe tbody tr th {\n",
       "        vertical-align: top;\n",
       "    }\n",
       "\n",
       "    .dataframe thead th {\n",
       "        text-align: right;\n",
       "    }\n",
       "</style>\n",
       "<table border=\"1\" class=\"dataframe\">\n",
       "  <thead>\n",
       "    <tr style=\"text-align: right;\">\n",
       "      <th></th>\n",
       "      <th>review</th>\n",
       "      <th>sentiment</th>\n",
       "      <th>category</th>\n",
       "    </tr>\n",
       "  </thead>\n",
       "  <tbody>\n",
       "    <tr>\n",
       "      <th>0</th>\n",
       "      <td>I first saw Jake Gyllenhaal in Jarhead (2005) ...</td>\n",
       "      <td>positive</td>\n",
       "      <td>1</td>\n",
       "    </tr>\n",
       "    <tr>\n",
       "      <th>1</th>\n",
       "      <td>I enjoyed the movie and the story immensely! I...</td>\n",
       "      <td>positive</td>\n",
       "      <td>1</td>\n",
       "    </tr>\n",
       "    <tr>\n",
       "      <th>2</th>\n",
       "      <td>I had a hard time sitting through this. Every ...</td>\n",
       "      <td>negative</td>\n",
       "      <td>0</td>\n",
       "    </tr>\n",
       "    <tr>\n",
       "      <th>3</th>\n",
       "      <td>It's hard to imagine that anyone could find th...</td>\n",
       "      <td>negative</td>\n",
       "      <td>0</td>\n",
       "    </tr>\n",
       "    <tr>\n",
       "      <th>4</th>\n",
       "      <td>This is one military drama I like a lot! Tom B...</td>\n",
       "      <td>positive</td>\n",
       "      <td>1</td>\n",
       "    </tr>\n",
       "    <tr>\n",
       "      <th>...</th>\n",
       "      <td>...</td>\n",
       "      <td>...</td>\n",
       "      <td>...</td>\n",
       "    </tr>\n",
       "    <tr>\n",
       "      <th>18995</th>\n",
       "      <td>- Bad Stuff: This movie is real crap. Bad stun...</td>\n",
       "      <td>negative</td>\n",
       "      <td>0</td>\n",
       "    </tr>\n",
       "    <tr>\n",
       "      <th>18996</th>\n",
       "      <td>If you've seen the trailer for this movie, you...</td>\n",
       "      <td>positive</td>\n",
       "      <td>1</td>\n",
       "    </tr>\n",
       "    <tr>\n",
       "      <th>18997</th>\n",
       "      <td>This has to be the all time best computer anim...</td>\n",
       "      <td>positive</td>\n",
       "      <td>1</td>\n",
       "    </tr>\n",
       "    <tr>\n",
       "      <th>18998</th>\n",
       "      <td>I've seen 'NSNA' just after I've seen all Roge...</td>\n",
       "      <td>positive</td>\n",
       "      <td>1</td>\n",
       "    </tr>\n",
       "    <tr>\n",
       "      <th>18999</th>\n",
       "      <td>Norris plays a Chicago cop who stumbles upon a...</td>\n",
       "      <td>negative</td>\n",
       "      <td>0</td>\n",
       "    </tr>\n",
       "  </tbody>\n",
       "</table>\n",
       "<p>19000 rows × 3 columns</p>\n",
       "</div>"
      ],
      "text/plain": [
       "                                                  review sentiment  category\n",
       "0      I first saw Jake Gyllenhaal in Jarhead (2005) ...  positive         1\n",
       "1      I enjoyed the movie and the story immensely! I...  positive         1\n",
       "2      I had a hard time sitting through this. Every ...  negative         0\n",
       "3      It's hard to imagine that anyone could find th...  negative         0\n",
       "4      This is one military drama I like a lot! Tom B...  positive         1\n",
       "...                                                  ...       ...       ...\n",
       "18995  - Bad Stuff: This movie is real crap. Bad stun...  negative         0\n",
       "18996  If you've seen the trailer for this movie, you...  positive         1\n",
       "18997  This has to be the all time best computer anim...  positive         1\n",
       "18998  I've seen 'NSNA' just after I've seen all Roge...  positive         1\n",
       "18999  Norris plays a Chicago cop who stumbles upon a...  negative         0\n",
       "\n",
       "[19000 rows x 3 columns]"
      ]
     },
     "execution_count": 49,
     "metadata": {},
     "output_type": "execute_result"
    }
   ],
   "source": [
    "df['category']=df['sentiment'].apply(lambda x:1 if x=='positive' else 0)\n",
    "df"
   ]
  },
  {
   "cell_type": "code",
   "execution_count": 50,
   "id": "a7f4c658",
   "metadata": {},
   "outputs": [
    {
     "data": {
      "text/plain": [
       "1    9500\n",
       "0    9500\n",
       "Name: category, dtype: int64"
      ]
     },
     "execution_count": 50,
     "metadata": {},
     "output_type": "execute_result"
    }
   ],
   "source": [
    "df.category.value_counts()"
   ]
  },
  {
   "cell_type": "code",
   "execution_count": 51,
   "id": "30f619ba",
   "metadata": {},
   "outputs": [],
   "source": [
    "from sklearn.model_selection import train_test_split\n",
    "X_train,X_test,y_train,y_test=train_test_split(df.review,df.category,test_size=0.2)"
   ]
  },
  {
   "cell_type": "code",
   "execution_count": 52,
   "id": "f882d2bb",
   "metadata": {},
   "outputs": [
    {
     "data": {
      "text/plain": [
       "(15200,)"
      ]
     },
     "execution_count": 52,
     "metadata": {},
     "output_type": "execute_result"
    }
   ],
   "source": [
    "X_train.shape"
   ]
  },
  {
   "cell_type": "code",
   "execution_count": 53,
   "id": "216dc90e",
   "metadata": {},
   "outputs": [
    {
     "data": {
      "text/plain": [
       "(3800,)"
      ]
     },
     "execution_count": 53,
     "metadata": {},
     "output_type": "execute_result"
    }
   ],
   "source": [
    "X_test.shape"
   ]
  },
  {
   "cell_type": "code",
   "execution_count": 54,
   "id": "3be78483",
   "metadata": {},
   "outputs": [],
   "source": [
    "from sklearn.feature_extraction.text import CountVectorizer\n",
    "from sklearn.ensemble import RandomForestClassifier\n",
    "from sklearn.neighbors import KNeighborsClassifier\n",
    "from sklearn.naive_bayes import MultinomialNB\n",
    "from sklearn.pipeline import Pipeline\n",
    "from sklearn.metrics import classification_report"
   ]
  },
  {
   "cell_type": "code",
   "execution_count": 55,
   "id": "6cc5dc46",
   "metadata": {},
   "outputs": [
    {
     "name": "stdout",
     "output_type": "stream",
     "text": [
      "              precision    recall  f1-score   support\n",
      "\n",
      "           0       0.82      0.85      0.84      1879\n",
      "           1       0.85      0.82      0.83      1921\n",
      "\n",
      "    accuracy                           0.84      3800\n",
      "   macro avg       0.84      0.84      0.84      3800\n",
      "weighted avg       0.84      0.84      0.84      3800\n",
      "\n"
     ]
    }
   ],
   "source": [
    "#use countvectorizer for preprocessing and random forest for classification using pipeline\n",
    "clf=Pipeline([('vectorizer',CountVectorizer()),('random_forest',RandomForestClassifier(n_estimators=50,criterion='entropy'))])\n",
    "clf.fit(X_train,y_train)\n",
    "y_pred=clf.predict(X_test)\n",
    "print(classification_report(y_test,y_pred))"
   ]
  },
  {
   "cell_type": "code",
   "execution_count": 57,
   "id": "776c453d",
   "metadata": {},
   "outputs": [
    {
     "name": "stdout",
     "output_type": "stream",
     "text": [
      "              precision    recall  f1-score   support\n",
      "\n",
      "           0       0.63      0.65      0.64      1879\n",
      "           1       0.64      0.62      0.63      1921\n",
      "\n",
      "    accuracy                           0.63      3800\n",
      "   macro avg       0.63      0.63      0.63      3800\n",
      "weighted avg       0.63      0.63      0.63      3800\n",
      "\n"
     ]
    }
   ],
   "source": [
    "#classification using KNN\n",
    "clf=Pipeline([('vectorizer',CountVectorizer()),('KNN',KNeighborsClassifier(n_neighbors=10,metric='euclidean'))])\n",
    "clf.fit(X_train,y_train)\n",
    "y_pred=clf.predict(X_test)\n",
    "print(classification_report(y_test,y_pred))"
   ]
  },
  {
   "cell_type": "code",
   "execution_count": 58,
   "id": "f676a1c9",
   "metadata": {},
   "outputs": [
    {
     "name": "stdout",
     "output_type": "stream",
     "text": [
      "              precision    recall  f1-score   support\n",
      "\n",
      "           0       0.82      0.89      0.86      1879\n",
      "           1       0.89      0.81      0.85      1921\n",
      "\n",
      "    accuracy                           0.85      3800\n",
      "   macro avg       0.86      0.85      0.85      3800\n",
      "weighted avg       0.86      0.85      0.85      3800\n",
      "\n"
     ]
    }
   ],
   "source": [
    "#use multinomial naive baye's for classification\n",
    "clf=Pipeline([('vectorizer',CountVectorizer()),('Multi NB',MultinomialNB())])\n",
    "clf.fit(X_train,y_train)\n",
    "y_pred=clf.predict(X_test)\n",
    "print(classification_report(y_test,y_pred))"
   ]
  },
  {
   "cell_type": "code",
   "execution_count": 59,
   "id": "b10485be",
   "metadata": {},
   "outputs": [],
   "source": [
    "#Stop Words tutorial"
   ]
  },
  {
   "cell_type": "code",
   "execution_count": 60,
   "id": "e558df42",
   "metadata": {},
   "outputs": [],
   "source": [
    "import spacy\n",
    "from spacy.lang.en.stop_words import STOP_WORDS"
   ]
  },
  {
   "cell_type": "code",
   "execution_count": 61,
   "id": "28d22331",
   "metadata": {},
   "outputs": [
    {
     "data": {
      "text/plain": [
       "{\"'d\",\n",
       " \"'ll\",\n",
       " \"'m\",\n",
       " \"'re\",\n",
       " \"'s\",\n",
       " \"'ve\",\n",
       " 'a',\n",
       " 'about',\n",
       " 'above',\n",
       " 'across',\n",
       " 'after',\n",
       " 'afterwards',\n",
       " 'again',\n",
       " 'against',\n",
       " 'all',\n",
       " 'almost',\n",
       " 'alone',\n",
       " 'along',\n",
       " 'already',\n",
       " 'also',\n",
       " 'although',\n",
       " 'always',\n",
       " 'am',\n",
       " 'among',\n",
       " 'amongst',\n",
       " 'amount',\n",
       " 'an',\n",
       " 'and',\n",
       " 'another',\n",
       " 'any',\n",
       " 'anyhow',\n",
       " 'anyone',\n",
       " 'anything',\n",
       " 'anyway',\n",
       " 'anywhere',\n",
       " 'are',\n",
       " 'around',\n",
       " 'as',\n",
       " 'at',\n",
       " 'back',\n",
       " 'be',\n",
       " 'became',\n",
       " 'because',\n",
       " 'become',\n",
       " 'becomes',\n",
       " 'becoming',\n",
       " 'been',\n",
       " 'before',\n",
       " 'beforehand',\n",
       " 'behind',\n",
       " 'being',\n",
       " 'below',\n",
       " 'beside',\n",
       " 'besides',\n",
       " 'between',\n",
       " 'beyond',\n",
       " 'both',\n",
       " 'bottom',\n",
       " 'but',\n",
       " 'by',\n",
       " 'ca',\n",
       " 'call',\n",
       " 'can',\n",
       " 'cannot',\n",
       " 'could',\n",
       " 'did',\n",
       " 'do',\n",
       " 'does',\n",
       " 'doing',\n",
       " 'done',\n",
       " 'down',\n",
       " 'due',\n",
       " 'during',\n",
       " 'each',\n",
       " 'eight',\n",
       " 'either',\n",
       " 'eleven',\n",
       " 'else',\n",
       " 'elsewhere',\n",
       " 'empty',\n",
       " 'enough',\n",
       " 'even',\n",
       " 'ever',\n",
       " 'every',\n",
       " 'everyone',\n",
       " 'everything',\n",
       " 'everywhere',\n",
       " 'except',\n",
       " 'few',\n",
       " 'fifteen',\n",
       " 'fifty',\n",
       " 'first',\n",
       " 'five',\n",
       " 'for',\n",
       " 'former',\n",
       " 'formerly',\n",
       " 'forty',\n",
       " 'four',\n",
       " 'from',\n",
       " 'front',\n",
       " 'full',\n",
       " 'further',\n",
       " 'get',\n",
       " 'give',\n",
       " 'go',\n",
       " 'had',\n",
       " 'has',\n",
       " 'have',\n",
       " 'he',\n",
       " 'hence',\n",
       " 'her',\n",
       " 'here',\n",
       " 'hereafter',\n",
       " 'hereby',\n",
       " 'herein',\n",
       " 'hereupon',\n",
       " 'hers',\n",
       " 'herself',\n",
       " 'him',\n",
       " 'himself',\n",
       " 'his',\n",
       " 'how',\n",
       " 'however',\n",
       " 'hundred',\n",
       " 'i',\n",
       " 'if',\n",
       " 'in',\n",
       " 'indeed',\n",
       " 'into',\n",
       " 'is',\n",
       " 'it',\n",
       " 'its',\n",
       " 'itself',\n",
       " 'just',\n",
       " 'keep',\n",
       " 'last',\n",
       " 'latter',\n",
       " 'latterly',\n",
       " 'least',\n",
       " 'less',\n",
       " 'made',\n",
       " 'make',\n",
       " 'many',\n",
       " 'may',\n",
       " 'me',\n",
       " 'meanwhile',\n",
       " 'might',\n",
       " 'mine',\n",
       " 'more',\n",
       " 'moreover',\n",
       " 'most',\n",
       " 'mostly',\n",
       " 'move',\n",
       " 'much',\n",
       " 'must',\n",
       " 'my',\n",
       " 'myself',\n",
       " \"n't\",\n",
       " 'name',\n",
       " 'namely',\n",
       " 'neither',\n",
       " 'never',\n",
       " 'nevertheless',\n",
       " 'next',\n",
       " 'nine',\n",
       " 'no',\n",
       " 'nobody',\n",
       " 'none',\n",
       " 'noone',\n",
       " 'nor',\n",
       " 'not',\n",
       " 'nothing',\n",
       " 'now',\n",
       " 'nowhere',\n",
       " 'n‘t',\n",
       " 'n’t',\n",
       " 'of',\n",
       " 'off',\n",
       " 'often',\n",
       " 'on',\n",
       " 'once',\n",
       " 'one',\n",
       " 'only',\n",
       " 'onto',\n",
       " 'or',\n",
       " 'other',\n",
       " 'others',\n",
       " 'otherwise',\n",
       " 'our',\n",
       " 'ours',\n",
       " 'ourselves',\n",
       " 'out',\n",
       " 'over',\n",
       " 'own',\n",
       " 'part',\n",
       " 'per',\n",
       " 'perhaps',\n",
       " 'please',\n",
       " 'put',\n",
       " 'quite',\n",
       " 'rather',\n",
       " 're',\n",
       " 'really',\n",
       " 'regarding',\n",
       " 'same',\n",
       " 'say',\n",
       " 'see',\n",
       " 'seem',\n",
       " 'seemed',\n",
       " 'seeming',\n",
       " 'seems',\n",
       " 'serious',\n",
       " 'several',\n",
       " 'she',\n",
       " 'should',\n",
       " 'show',\n",
       " 'side',\n",
       " 'since',\n",
       " 'six',\n",
       " 'sixty',\n",
       " 'so',\n",
       " 'some',\n",
       " 'somehow',\n",
       " 'someone',\n",
       " 'something',\n",
       " 'sometime',\n",
       " 'sometimes',\n",
       " 'somewhere',\n",
       " 'still',\n",
       " 'such',\n",
       " 'take',\n",
       " 'ten',\n",
       " 'than',\n",
       " 'that',\n",
       " 'the',\n",
       " 'their',\n",
       " 'them',\n",
       " 'themselves',\n",
       " 'then',\n",
       " 'thence',\n",
       " 'there',\n",
       " 'thereafter',\n",
       " 'thereby',\n",
       " 'therefore',\n",
       " 'therein',\n",
       " 'thereupon',\n",
       " 'these',\n",
       " 'they',\n",
       " 'third',\n",
       " 'this',\n",
       " 'those',\n",
       " 'though',\n",
       " 'three',\n",
       " 'through',\n",
       " 'throughout',\n",
       " 'thru',\n",
       " 'thus',\n",
       " 'to',\n",
       " 'together',\n",
       " 'too',\n",
       " 'top',\n",
       " 'toward',\n",
       " 'towards',\n",
       " 'twelve',\n",
       " 'twenty',\n",
       " 'two',\n",
       " 'under',\n",
       " 'unless',\n",
       " 'until',\n",
       " 'up',\n",
       " 'upon',\n",
       " 'us',\n",
       " 'used',\n",
       " 'using',\n",
       " 'various',\n",
       " 'very',\n",
       " 'via',\n",
       " 'was',\n",
       " 'we',\n",
       " 'well',\n",
       " 'were',\n",
       " 'what',\n",
       " 'whatever',\n",
       " 'when',\n",
       " 'whence',\n",
       " 'whenever',\n",
       " 'where',\n",
       " 'whereafter',\n",
       " 'whereas',\n",
       " 'whereby',\n",
       " 'wherein',\n",
       " 'whereupon',\n",
       " 'wherever',\n",
       " 'whether',\n",
       " 'which',\n",
       " 'while',\n",
       " 'whither',\n",
       " 'who',\n",
       " 'whoever',\n",
       " 'whole',\n",
       " 'whom',\n",
       " 'whose',\n",
       " 'why',\n",
       " 'will',\n",
       " 'with',\n",
       " 'within',\n",
       " 'without',\n",
       " 'would',\n",
       " 'yet',\n",
       " 'you',\n",
       " 'your',\n",
       " 'yours',\n",
       " 'yourself',\n",
       " 'yourselves',\n",
       " '‘d',\n",
       " '‘ll',\n",
       " '‘m',\n",
       " '‘re',\n",
       " '‘s',\n",
       " '‘ve',\n",
       " '’d',\n",
       " '’ll',\n",
       " '’m',\n",
       " '’re',\n",
       " '’s',\n",
       " '’ve'}"
      ]
     },
     "execution_count": 61,
     "metadata": {},
     "output_type": "execute_result"
    }
   ],
   "source": [
    "STOP_WORDS"
   ]
  },
  {
   "cell_type": "code",
   "execution_count": 62,
   "id": "22af2ea7",
   "metadata": {},
   "outputs": [
    {
     "data": {
      "text/plain": [
       "326"
      ]
     },
     "execution_count": 62,
     "metadata": {},
     "output_type": "execute_result"
    }
   ],
   "source": [
    "len(STOP_WORDS)"
   ]
  },
  {
   "cell_type": "code",
   "execution_count": 64,
   "id": "d957fe83",
   "metadata": {},
   "outputs": [
    {
     "name": "stdout",
     "output_type": "stream",
     "text": [
      "We\n",
      "just\n",
      "our\n",
      "the\n",
      "part\n",
      "is\n"
     ]
    }
   ],
   "source": [
    "nlp=spacy.load('en_core_web_sm')\n",
    "doc=nlp(\"We just opened our wings, the flying part is coming soon\")\n",
    "for token in doc:\n",
    "    if token.is_stop:\n",
    "        print(token)\n",
    "        \n",
    "    "
   ]
  },
  {
   "cell_type": "code",
   "execution_count": 65,
   "id": "d7345cbc",
   "metadata": {},
   "outputs": [],
   "source": [
    "def preprocess(text):\n",
    "    doc=nlp(text)\n",
    "    \n",
    "    no_stop_words=[token.text for token in doc if not token.is_stop]\n",
    "    return \" \".join(no_stop_words)\n",
    "\n"
   ]
  },
  {
   "cell_type": "code",
   "execution_count": 66,
   "id": "f4dddee1",
   "metadata": {},
   "outputs": [
    {
     "data": {
      "text/plain": [
       "'Musk wants time prepare trial'"
      ]
     },
     "execution_count": 66,
     "metadata": {},
     "output_type": "execute_result"
    }
   ],
   "source": [
    "preprocess(\"Musk wants time to prepare for a trial over his\")"
   ]
  },
  {
   "cell_type": "code",
   "execution_count": 67,
   "id": "43d6aa17",
   "metadata": {},
   "outputs": [
    {
     "data": {
      "text/plain": [
       "'divine brother'"
      ]
     },
     "execution_count": 67,
     "metadata": {},
     "output_type": "execute_result"
    }
   ],
   "source": [
    "preprocess(\"The other is not other but your divine brother\")"
   ]
  },
  {
   "cell_type": "code",
   "execution_count": 69,
   "id": "390df6c5",
   "metadata": {},
   "outputs": [],
   "source": [
    "#Remove stop words from pandas dataframe text column\n",
    "import pandas as pd\n",
    "df=pd.read_json(r\"C:\\Users\\sohan\\Downloads\\doj_press.json\",lines=True)"
   ]
  },
  {
   "cell_type": "code",
   "execution_count": 70,
   "id": "f85dcaba",
   "metadata": {},
   "outputs": [
    {
     "data": {
      "text/html": [
       "<div>\n",
       "<style scoped>\n",
       "    .dataframe tbody tr th:only-of-type {\n",
       "        vertical-align: middle;\n",
       "    }\n",
       "\n",
       "    .dataframe tbody tr th {\n",
       "        vertical-align: top;\n",
       "    }\n",
       "\n",
       "    .dataframe thead th {\n",
       "        text-align: right;\n",
       "    }\n",
       "</style>\n",
       "<table border=\"1\" class=\"dataframe\">\n",
       "  <thead>\n",
       "    <tr style=\"text-align: right;\">\n",
       "      <th></th>\n",
       "      <th>id</th>\n",
       "      <th>title</th>\n",
       "      <th>contents</th>\n",
       "      <th>date</th>\n",
       "      <th>topics</th>\n",
       "      <th>components</th>\n",
       "    </tr>\n",
       "  </thead>\n",
       "  <tbody>\n",
       "    <tr>\n",
       "      <th>0</th>\n",
       "      <td>None</td>\n",
       "      <td>Convicted Bomb Plotter Sentenced to 30 Years</td>\n",
       "      <td>PORTLAND, Oregon. – Mohamed Osman Mohamud, 23,...</td>\n",
       "      <td>2014-10-01T00:00:00-04:00</td>\n",
       "      <td>[]</td>\n",
       "      <td>[National Security Division (NSD)]</td>\n",
       "    </tr>\n",
       "    <tr>\n",
       "      <th>1</th>\n",
       "      <td>12-919</td>\n",
       "      <td>$1 Million in Restitution Payments Announced t...</td>\n",
       "      <td>WASHINGTON – North Carolina’s Waccamaw River...</td>\n",
       "      <td>2012-07-25T00:00:00-04:00</td>\n",
       "      <td>[]</td>\n",
       "      <td>[Environment and Natural Resources Division]</td>\n",
       "    </tr>\n",
       "    <tr>\n",
       "      <th>2</th>\n",
       "      <td>11-1002</td>\n",
       "      <td>$1 Million Settlement Reached for Natural Reso...</td>\n",
       "      <td>BOSTON– A $1-million settlement has been...</td>\n",
       "      <td>2011-08-03T00:00:00-04:00</td>\n",
       "      <td>[]</td>\n",
       "      <td>[Environment and Natural Resources Division]</td>\n",
       "    </tr>\n",
       "    <tr>\n",
       "      <th>3</th>\n",
       "      <td>10-015</td>\n",
       "      <td>10 Las Vegas Men Indicted \\r\\nfor Falsifying V...</td>\n",
       "      <td>WASHINGTON—A federal grand jury in Las Vegas...</td>\n",
       "      <td>2010-01-08T00:00:00-05:00</td>\n",
       "      <td>[]</td>\n",
       "      <td>[Environment and Natural Resources Division]</td>\n",
       "    </tr>\n",
       "    <tr>\n",
       "      <th>4</th>\n",
       "      <td>18-898</td>\n",
       "      <td>$100 Million Settlement Will Speed Cleanup Wor...</td>\n",
       "      <td>The U.S. Department of Justice, the U.S. Envir...</td>\n",
       "      <td>2018-07-09T00:00:00-04:00</td>\n",
       "      <td>[Environment]</td>\n",
       "      <td>[Environment and Natural Resources Division]</td>\n",
       "    </tr>\n",
       "    <tr>\n",
       "      <th>...</th>\n",
       "      <td>...</td>\n",
       "      <td>...</td>\n",
       "      <td>...</td>\n",
       "      <td>...</td>\n",
       "      <td>...</td>\n",
       "      <td>...</td>\n",
       "    </tr>\n",
       "    <tr>\n",
       "      <th>13082</th>\n",
       "      <td>16-735</td>\n",
       "      <td>Yuengling to Upgrade Environmental Measures to...</td>\n",
       "      <td>The Department of Justice and the U.S. Environ...</td>\n",
       "      <td>2016-06-23T00:00:00-04:00</td>\n",
       "      <td>[Environment]</td>\n",
       "      <td>[Environment and Natural Resources Division]</td>\n",
       "    </tr>\n",
       "    <tr>\n",
       "      <th>13083</th>\n",
       "      <td>10-473</td>\n",
       "      <td>Zarein Ahmedzay Pleads Guilty to Terror Violat...</td>\n",
       "      <td>The Justice Department announced that Zarein...</td>\n",
       "      <td>2010-04-23T00:00:00-04:00</td>\n",
       "      <td>[]</td>\n",
       "      <td>[Office of the Attorney General]</td>\n",
       "    </tr>\n",
       "    <tr>\n",
       "      <th>13084</th>\n",
       "      <td>17-045</td>\n",
       "      <td>Zimmer Biomet Holdings Inc. Agrees to Pay $17....</td>\n",
       "      <td>Subsidiary Agrees to Plead Guilty to Violating...</td>\n",
       "      <td>2017-01-12T00:00:00-05:00</td>\n",
       "      <td>[Foreign Corruption]</td>\n",
       "      <td>[Criminal Division, Criminal - Criminal Fraud ...</td>\n",
       "    </tr>\n",
       "    <tr>\n",
       "      <th>13085</th>\n",
       "      <td>17-252</td>\n",
       "      <td>ZTE Corporation Agrees to Plead Guilty and Pay...</td>\n",
       "      <td>ZTE Corporation has agreed to enter a guilty p...</td>\n",
       "      <td>2017-03-07T00:00:00-05:00</td>\n",
       "      <td>[Asset Forfeiture, Counterintelligence and Exp...</td>\n",
       "      <td>[National Security Division (NSD), USAO - Texa...</td>\n",
       "    </tr>\n",
       "    <tr>\n",
       "      <th>13086</th>\n",
       "      <td>17-304</td>\n",
       "      <td>ZTE Corporation Pleads Guilty for  Violating U...</td>\n",
       "      <td>ZTE Corporation pleaded guilty today to conspi...</td>\n",
       "      <td>2017-03-22T00:00:00-04:00</td>\n",
       "      <td>[Counterintelligence and Export Control]</td>\n",
       "      <td>[National Security Division (NSD), USAO - Texa...</td>\n",
       "    </tr>\n",
       "  </tbody>\n",
       "</table>\n",
       "<p>13087 rows × 6 columns</p>\n",
       "</div>"
      ],
      "text/plain": [
       "            id                                              title  \\\n",
       "0         None       Convicted Bomb Plotter Sentenced to 30 Years   \n",
       "1      12-919   $1 Million in Restitution Payments Announced t...   \n",
       "2      11-1002  $1 Million Settlement Reached for Natural Reso...   \n",
       "3       10-015  10 Las Vegas Men Indicted \\r\\nfor Falsifying V...   \n",
       "4       18-898  $100 Million Settlement Will Speed Cleanup Wor...   \n",
       "...        ...                                                ...   \n",
       "13082   16-735  Yuengling to Upgrade Environmental Measures to...   \n",
       "13083   10-473  Zarein Ahmedzay Pleads Guilty to Terror Violat...   \n",
       "13084   17-045  Zimmer Biomet Holdings Inc. Agrees to Pay $17....   \n",
       "13085   17-252  ZTE Corporation Agrees to Plead Guilty and Pay...   \n",
       "13086   17-304  ZTE Corporation Pleads Guilty for  Violating U...   \n",
       "\n",
       "                                                contents  \\\n",
       "0      PORTLAND, Oregon. – Mohamed Osman Mohamud, 23,...   \n",
       "1        WASHINGTON – North Carolina’s Waccamaw River...   \n",
       "2            BOSTON– A $1-million settlement has been...   \n",
       "3        WASHINGTON—A federal grand jury in Las Vegas...   \n",
       "4      The U.S. Department of Justice, the U.S. Envir...   \n",
       "...                                                  ...   \n",
       "13082  The Department of Justice and the U.S. Environ...   \n",
       "13083    The Justice Department announced that Zarein...   \n",
       "13084  Subsidiary Agrees to Plead Guilty to Violating...   \n",
       "13085  ZTE Corporation has agreed to enter a guilty p...   \n",
       "13086  ZTE Corporation pleaded guilty today to conspi...   \n",
       "\n",
       "                            date  \\\n",
       "0      2014-10-01T00:00:00-04:00   \n",
       "1      2012-07-25T00:00:00-04:00   \n",
       "2      2011-08-03T00:00:00-04:00   \n",
       "3      2010-01-08T00:00:00-05:00   \n",
       "4      2018-07-09T00:00:00-04:00   \n",
       "...                          ...   \n",
       "13082  2016-06-23T00:00:00-04:00   \n",
       "13083  2010-04-23T00:00:00-04:00   \n",
       "13084  2017-01-12T00:00:00-05:00   \n",
       "13085  2017-03-07T00:00:00-05:00   \n",
       "13086  2017-03-22T00:00:00-04:00   \n",
       "\n",
       "                                                  topics  \\\n",
       "0                                                     []   \n",
       "1                                                     []   \n",
       "2                                                     []   \n",
       "3                                                     []   \n",
       "4                                          [Environment]   \n",
       "...                                                  ...   \n",
       "13082                                      [Environment]   \n",
       "13083                                                 []   \n",
       "13084                               [Foreign Corruption]   \n",
       "13085  [Asset Forfeiture, Counterintelligence and Exp...   \n",
       "13086           [Counterintelligence and Export Control]   \n",
       "\n",
       "                                              components  \n",
       "0                     [National Security Division (NSD)]  \n",
       "1           [Environment and Natural Resources Division]  \n",
       "2           [Environment and Natural Resources Division]  \n",
       "3           [Environment and Natural Resources Division]  \n",
       "4           [Environment and Natural Resources Division]  \n",
       "...                                                  ...  \n",
       "13082       [Environment and Natural Resources Division]  \n",
       "13083                   [Office of the Attorney General]  \n",
       "13084  [Criminal Division, Criminal - Criminal Fraud ...  \n",
       "13085  [National Security Division (NSD), USAO - Texa...  \n",
       "13086  [National Security Division (NSD), USAO - Texa...  \n",
       "\n",
       "[13087 rows x 6 columns]"
      ]
     },
     "execution_count": 70,
     "metadata": {},
     "output_type": "execute_result"
    }
   ],
   "source": [
    "df"
   ]
  },
  {
   "cell_type": "code",
   "execution_count": 71,
   "id": "b623310c",
   "metadata": {},
   "outputs": [
    {
     "data": {
      "text/plain": [
       "(13087, 6)"
      ]
     },
     "execution_count": 71,
     "metadata": {},
     "output_type": "execute_result"
    }
   ],
   "source": [
    "df.shape"
   ]
  },
  {
   "cell_type": "code",
   "execution_count": 72,
   "id": "aa4858ab",
   "metadata": {},
   "outputs": [
    {
     "name": "stdout",
     "output_type": "stream",
     "text": [
      "<class 'pandas.core.frame.DataFrame'>\n",
      "RangeIndex: 13087 entries, 0 to 13086\n",
      "Data columns (total 6 columns):\n",
      " #   Column      Non-Null Count  Dtype \n",
      "---  ------      --------------  ----- \n",
      " 0   id          12810 non-null  object\n",
      " 1   title       13087 non-null  object\n",
      " 2   contents    13087 non-null  object\n",
      " 3   date        13087 non-null  object\n",
      " 4   topics      13087 non-null  object\n",
      " 5   components  13087 non-null  object\n",
      "dtypes: object(6)\n",
      "memory usage: 613.6+ KB\n"
     ]
    }
   ],
   "source": [
    "df.info()"
   ]
  },
  {
   "cell_type": "code",
   "execution_count": 73,
   "id": "a417fd7e",
   "metadata": {},
   "outputs": [
    {
     "data": {
      "text/html": [
       "<div>\n",
       "<style scoped>\n",
       "    .dataframe tbody tr th:only-of-type {\n",
       "        vertical-align: middle;\n",
       "    }\n",
       "\n",
       "    .dataframe tbody tr th {\n",
       "        vertical-align: top;\n",
       "    }\n",
       "\n",
       "    .dataframe thead th {\n",
       "        text-align: right;\n",
       "    }\n",
       "</style>\n",
       "<table border=\"1\" class=\"dataframe\">\n",
       "  <thead>\n",
       "    <tr style=\"text-align: right;\">\n",
       "      <th></th>\n",
       "      <th>id</th>\n",
       "      <th>title</th>\n",
       "      <th>contents</th>\n",
       "      <th>date</th>\n",
       "      <th>topics</th>\n",
       "      <th>components</th>\n",
       "    </tr>\n",
       "  </thead>\n",
       "  <tbody>\n",
       "    <tr>\n",
       "      <th>4</th>\n",
       "      <td>18-898</td>\n",
       "      <td>$100 Million Settlement Will Speed Cleanup Wor...</td>\n",
       "      <td>The U.S. Department of Justice, the U.S. Envir...</td>\n",
       "      <td>2018-07-09T00:00:00-04:00</td>\n",
       "      <td>[Environment]</td>\n",
       "      <td>[Environment and Natural Resources Division]</td>\n",
       "    </tr>\n",
       "    <tr>\n",
       "      <th>7</th>\n",
       "      <td>14-1412</td>\n",
       "      <td>14 Indicted in Connection with New England Com...</td>\n",
       "      <td>A 131-count criminal indictment was unsealed t...</td>\n",
       "      <td>2014-12-17T00:00:00-05:00</td>\n",
       "      <td>[Consumer Protection]</td>\n",
       "      <td>[Civil Division]</td>\n",
       "    </tr>\n",
       "    <tr>\n",
       "      <th>19</th>\n",
       "      <td>17-1419</td>\n",
       "      <td>2017 Southeast Regional Animal Cruelty Prosecu...</td>\n",
       "      <td>The United States Attorney’s Office for the Mi...</td>\n",
       "      <td>2017-12-14T00:00:00-05:00</td>\n",
       "      <td>[Environment]</td>\n",
       "      <td>[Environment and Natural Resources Division, U...</td>\n",
       "    </tr>\n",
       "    <tr>\n",
       "      <th>22</th>\n",
       "      <td>15-1562</td>\n",
       "      <td>21st Century Oncology to Pay $19.75 Million to...</td>\n",
       "      <td>21st Century Oncology LLC, has agreed to pay $...</td>\n",
       "      <td>2015-12-18T00:00:00-05:00</td>\n",
       "      <td>[False Claims Act, Health Care Fraud]</td>\n",
       "      <td>[Civil Division]</td>\n",
       "    </tr>\n",
       "    <tr>\n",
       "      <th>23</th>\n",
       "      <td>17-1404</td>\n",
       "      <td>21st Century Oncology to Pay $26 Million to Se...</td>\n",
       "      <td>21st Century Oncology Inc. and certain of its ...</td>\n",
       "      <td>2017-12-12T00:00:00-05:00</td>\n",
       "      <td>[Health Care Fraud, False Claims Act]</td>\n",
       "      <td>[Civil Division, USAO - Florida, Middle]</td>\n",
       "    </tr>\n",
       "    <tr>\n",
       "      <th>...</th>\n",
       "      <td>...</td>\n",
       "      <td>...</td>\n",
       "      <td>...</td>\n",
       "      <td>...</td>\n",
       "      <td>...</td>\n",
       "      <td>...</td>\n",
       "    </tr>\n",
       "    <tr>\n",
       "      <th>13081</th>\n",
       "      <td>14-1377</td>\n",
       "      <td>Yuba City, California, Man Sentenced to 46 Mon...</td>\n",
       "      <td>Anthony Merrell Tyler, 34, of Yuba City, Calif...</td>\n",
       "      <td>2014-12-09T00:00:00-05:00</td>\n",
       "      <td>[Hate Crimes]</td>\n",
       "      <td>[Civil Rights Division, Civil Rights - Crimina...</td>\n",
       "    </tr>\n",
       "    <tr>\n",
       "      <th>13082</th>\n",
       "      <td>16-735</td>\n",
       "      <td>Yuengling to Upgrade Environmental Measures to...</td>\n",
       "      <td>The Department of Justice and the U.S. Environ...</td>\n",
       "      <td>2016-06-23T00:00:00-04:00</td>\n",
       "      <td>[Environment]</td>\n",
       "      <td>[Environment and Natural Resources Division]</td>\n",
       "    </tr>\n",
       "    <tr>\n",
       "      <th>13084</th>\n",
       "      <td>17-045</td>\n",
       "      <td>Zimmer Biomet Holdings Inc. Agrees to Pay $17....</td>\n",
       "      <td>Subsidiary Agrees to Plead Guilty to Violating...</td>\n",
       "      <td>2017-01-12T00:00:00-05:00</td>\n",
       "      <td>[Foreign Corruption]</td>\n",
       "      <td>[Criminal Division, Criminal - Criminal Fraud ...</td>\n",
       "    </tr>\n",
       "    <tr>\n",
       "      <th>13085</th>\n",
       "      <td>17-252</td>\n",
       "      <td>ZTE Corporation Agrees to Plead Guilty and Pay...</td>\n",
       "      <td>ZTE Corporation has agreed to enter a guilty p...</td>\n",
       "      <td>2017-03-07T00:00:00-05:00</td>\n",
       "      <td>[Asset Forfeiture, Counterintelligence and Exp...</td>\n",
       "      <td>[National Security Division (NSD), USAO - Texa...</td>\n",
       "    </tr>\n",
       "    <tr>\n",
       "      <th>13086</th>\n",
       "      <td>17-304</td>\n",
       "      <td>ZTE Corporation Pleads Guilty for  Violating U...</td>\n",
       "      <td>ZTE Corporation pleaded guilty today to conspi...</td>\n",
       "      <td>2017-03-22T00:00:00-04:00</td>\n",
       "      <td>[Counterintelligence and Export Control]</td>\n",
       "      <td>[National Security Division (NSD), USAO - Texa...</td>\n",
       "    </tr>\n",
       "  </tbody>\n",
       "</table>\n",
       "<p>4688 rows × 6 columns</p>\n",
       "</div>"
      ],
      "text/plain": [
       "            id                                              title  \\\n",
       "4       18-898  $100 Million Settlement Will Speed Cleanup Wor...   \n",
       "7      14-1412  14 Indicted in Connection with New England Com...   \n",
       "19     17-1419  2017 Southeast Regional Animal Cruelty Prosecu...   \n",
       "22     15-1562  21st Century Oncology to Pay $19.75 Million to...   \n",
       "23     17-1404  21st Century Oncology to Pay $26 Million to Se...   \n",
       "...        ...                                                ...   \n",
       "13081  14-1377  Yuba City, California, Man Sentenced to 46 Mon...   \n",
       "13082   16-735  Yuengling to Upgrade Environmental Measures to...   \n",
       "13084   17-045  Zimmer Biomet Holdings Inc. Agrees to Pay $17....   \n",
       "13085   17-252  ZTE Corporation Agrees to Plead Guilty and Pay...   \n",
       "13086   17-304  ZTE Corporation Pleads Guilty for  Violating U...   \n",
       "\n",
       "                                                contents  \\\n",
       "4      The U.S. Department of Justice, the U.S. Envir...   \n",
       "7      A 131-count criminal indictment was unsealed t...   \n",
       "19     The United States Attorney’s Office for the Mi...   \n",
       "22     21st Century Oncology LLC, has agreed to pay $...   \n",
       "23     21st Century Oncology Inc. and certain of its ...   \n",
       "...                                                  ...   \n",
       "13081  Anthony Merrell Tyler, 34, of Yuba City, Calif...   \n",
       "13082  The Department of Justice and the U.S. Environ...   \n",
       "13084  Subsidiary Agrees to Plead Guilty to Violating...   \n",
       "13085  ZTE Corporation has agreed to enter a guilty p...   \n",
       "13086  ZTE Corporation pleaded guilty today to conspi...   \n",
       "\n",
       "                            date  \\\n",
       "4      2018-07-09T00:00:00-04:00   \n",
       "7      2014-12-17T00:00:00-05:00   \n",
       "19     2017-12-14T00:00:00-05:00   \n",
       "22     2015-12-18T00:00:00-05:00   \n",
       "23     2017-12-12T00:00:00-05:00   \n",
       "...                          ...   \n",
       "13081  2014-12-09T00:00:00-05:00   \n",
       "13082  2016-06-23T00:00:00-04:00   \n",
       "13084  2017-01-12T00:00:00-05:00   \n",
       "13085  2017-03-07T00:00:00-05:00   \n",
       "13086  2017-03-22T00:00:00-04:00   \n",
       "\n",
       "                                                  topics  \\\n",
       "4                                          [Environment]   \n",
       "7                                  [Consumer Protection]   \n",
       "19                                         [Environment]   \n",
       "22                 [False Claims Act, Health Care Fraud]   \n",
       "23                 [Health Care Fraud, False Claims Act]   \n",
       "...                                                  ...   \n",
       "13081                                      [Hate Crimes]   \n",
       "13082                                      [Environment]   \n",
       "13084                               [Foreign Corruption]   \n",
       "13085  [Asset Forfeiture, Counterintelligence and Exp...   \n",
       "13086           [Counterintelligence and Export Control]   \n",
       "\n",
       "                                              components  \n",
       "4           [Environment and Natural Resources Division]  \n",
       "7                                       [Civil Division]  \n",
       "19     [Environment and Natural Resources Division, U...  \n",
       "22                                      [Civil Division]  \n",
       "23              [Civil Division, USAO - Florida, Middle]  \n",
       "...                                                  ...  \n",
       "13081  [Civil Rights Division, Civil Rights - Crimina...  \n",
       "13082       [Environment and Natural Resources Division]  \n",
       "13084  [Criminal Division, Criminal - Criminal Fraud ...  \n",
       "13085  [National Security Division (NSD), USAO - Texa...  \n",
       "13086  [National Security Division (NSD), USAO - Texa...  \n",
       "\n",
       "[4688 rows x 6 columns]"
      ]
     },
     "execution_count": 73,
     "metadata": {},
     "output_type": "execute_result"
    }
   ],
   "source": [
    "#Filter out those rows that do not have any topics associated with the case\n",
    "df=df[df['topics'].str.len() !=0]\n",
    "df"
   ]
  },
  {
   "cell_type": "code",
   "execution_count": 74,
   "id": "7ea9bb61",
   "metadata": {},
   "outputs": [
    {
     "data": {
      "text/plain": [
       "(4688, 6)"
      ]
     },
     "execution_count": 74,
     "metadata": {},
     "output_type": "execute_result"
    }
   ],
   "source": [
    "df.shape"
   ]
  },
  {
   "cell_type": "code",
   "execution_count": 75,
   "id": "8c5f00f9",
   "metadata": {},
   "outputs": [
    {
     "name": "stderr",
     "output_type": "stream",
     "text": [
      "C:\\Users\\sohan\\AppData\\Local\\Temp\\ipykernel_25444\\1285366360.py:1: SettingWithCopyWarning: \n",
      "A value is trying to be set on a copy of a slice from a DataFrame.\n",
      "Try using .loc[row_indexer,col_indexer] = value instead\n",
      "\n",
      "See the caveats in the documentation: https://pandas.pydata.org/pandas-docs/stable/user_guide/indexing.html#returning-a-view-versus-a-copy\n",
      "  df['contents_new']=df['contents'].apply(preprocess)\n"
     ]
    }
   ],
   "source": [
    "df['contents_new']=df['contents'].apply(preprocess)"
   ]
  },
  {
   "cell_type": "code",
   "execution_count": 76,
   "id": "c7efb0af",
   "metadata": {},
   "outputs": [
    {
     "data": {
      "text/html": [
       "<div>\n",
       "<style scoped>\n",
       "    .dataframe tbody tr th:only-of-type {\n",
       "        vertical-align: middle;\n",
       "    }\n",
       "\n",
       "    .dataframe tbody tr th {\n",
       "        vertical-align: top;\n",
       "    }\n",
       "\n",
       "    .dataframe thead th {\n",
       "        text-align: right;\n",
       "    }\n",
       "</style>\n",
       "<table border=\"1\" class=\"dataframe\">\n",
       "  <thead>\n",
       "    <tr style=\"text-align: right;\">\n",
       "      <th></th>\n",
       "      <th>id</th>\n",
       "      <th>title</th>\n",
       "      <th>contents</th>\n",
       "      <th>date</th>\n",
       "      <th>topics</th>\n",
       "      <th>components</th>\n",
       "      <th>contents_new</th>\n",
       "    </tr>\n",
       "  </thead>\n",
       "  <tbody>\n",
       "    <tr>\n",
       "      <th>4</th>\n",
       "      <td>18-898</td>\n",
       "      <td>$100 Million Settlement Will Speed Cleanup Wor...</td>\n",
       "      <td>The U.S. Department of Justice, the U.S. Envir...</td>\n",
       "      <td>2018-07-09T00:00:00-04:00</td>\n",
       "      <td>[Environment]</td>\n",
       "      <td>[Environment and Natural Resources Division]</td>\n",
       "      <td>U.S. Department Justice , U.S. Environmental P...</td>\n",
       "    </tr>\n",
       "    <tr>\n",
       "      <th>7</th>\n",
       "      <td>14-1412</td>\n",
       "      <td>14 Indicted in Connection with New England Com...</td>\n",
       "      <td>A 131-count criminal indictment was unsealed t...</td>\n",
       "      <td>2014-12-17T00:00:00-05:00</td>\n",
       "      <td>[Consumer Protection]</td>\n",
       "      <td>[Civil Division]</td>\n",
       "      <td>131 - count criminal indictment unsealed today...</td>\n",
       "    </tr>\n",
       "    <tr>\n",
       "      <th>19</th>\n",
       "      <td>17-1419</td>\n",
       "      <td>2017 Southeast Regional Animal Cruelty Prosecu...</td>\n",
       "      <td>The United States Attorney’s Office for the Mi...</td>\n",
       "      <td>2017-12-14T00:00:00-05:00</td>\n",
       "      <td>[Environment]</td>\n",
       "      <td>[Environment and Natural Resources Division, U...</td>\n",
       "      <td>United States Attorney Office Middle District ...</td>\n",
       "    </tr>\n",
       "    <tr>\n",
       "      <th>22</th>\n",
       "      <td>15-1562</td>\n",
       "      <td>21st Century Oncology to Pay $19.75 Million to...</td>\n",
       "      <td>21st Century Oncology LLC, has agreed to pay $...</td>\n",
       "      <td>2015-12-18T00:00:00-05:00</td>\n",
       "      <td>[False Claims Act, Health Care Fraud]</td>\n",
       "      <td>[Civil Division]</td>\n",
       "      <td>21st Century Oncology LLC , agreed pay $ 19.75...</td>\n",
       "    </tr>\n",
       "    <tr>\n",
       "      <th>23</th>\n",
       "      <td>17-1404</td>\n",
       "      <td>21st Century Oncology to Pay $26 Million to Se...</td>\n",
       "      <td>21st Century Oncology Inc. and certain of its ...</td>\n",
       "      <td>2017-12-12T00:00:00-05:00</td>\n",
       "      <td>[Health Care Fraud, False Claims Act]</td>\n",
       "      <td>[Civil Division, USAO - Florida, Middle]</td>\n",
       "      <td>21st Century Oncology Inc. certain subsidiarie...</td>\n",
       "    </tr>\n",
       "    <tr>\n",
       "      <th>...</th>\n",
       "      <td>...</td>\n",
       "      <td>...</td>\n",
       "      <td>...</td>\n",
       "      <td>...</td>\n",
       "      <td>...</td>\n",
       "      <td>...</td>\n",
       "      <td>...</td>\n",
       "    </tr>\n",
       "    <tr>\n",
       "      <th>13081</th>\n",
       "      <td>14-1377</td>\n",
       "      <td>Yuba City, California, Man Sentenced to 46 Mon...</td>\n",
       "      <td>Anthony Merrell Tyler, 34, of Yuba City, Calif...</td>\n",
       "      <td>2014-12-09T00:00:00-05:00</td>\n",
       "      <td>[Hate Crimes]</td>\n",
       "      <td>[Civil Rights Division, Civil Rights - Crimina...</td>\n",
       "      <td>Anthony Merrell Tyler , 34 , Yuba City , Calif...</td>\n",
       "    </tr>\n",
       "    <tr>\n",
       "      <th>13082</th>\n",
       "      <td>16-735</td>\n",
       "      <td>Yuengling to Upgrade Environmental Measures to...</td>\n",
       "      <td>The Department of Justice and the U.S. Environ...</td>\n",
       "      <td>2016-06-23T00:00:00-04:00</td>\n",
       "      <td>[Environment]</td>\n",
       "      <td>[Environment and Natural Resources Division]</td>\n",
       "      <td>Department Justice U.S. Environmental Protecti...</td>\n",
       "    </tr>\n",
       "    <tr>\n",
       "      <th>13084</th>\n",
       "      <td>17-045</td>\n",
       "      <td>Zimmer Biomet Holdings Inc. Agrees to Pay $17....</td>\n",
       "      <td>Subsidiary Agrees to Plead Guilty to Violating...</td>\n",
       "      <td>2017-01-12T00:00:00-05:00</td>\n",
       "      <td>[Foreign Corruption]</td>\n",
       "      <td>[Criminal Division, Criminal - Criminal Fraud ...</td>\n",
       "      <td>Subsidiary Agrees Plead Guilty Violating Forei...</td>\n",
       "    </tr>\n",
       "    <tr>\n",
       "      <th>13085</th>\n",
       "      <td>17-252</td>\n",
       "      <td>ZTE Corporation Agrees to Plead Guilty and Pay...</td>\n",
       "      <td>ZTE Corporation has agreed to enter a guilty p...</td>\n",
       "      <td>2017-03-07T00:00:00-05:00</td>\n",
       "      <td>[Asset Forfeiture, Counterintelligence and Exp...</td>\n",
       "      <td>[National Security Division (NSD), USAO - Texa...</td>\n",
       "      <td>ZTE Corporation agreed enter guilty plea pay $...</td>\n",
       "    </tr>\n",
       "    <tr>\n",
       "      <th>13086</th>\n",
       "      <td>17-304</td>\n",
       "      <td>ZTE Corporation Pleads Guilty for  Violating U...</td>\n",
       "      <td>ZTE Corporation pleaded guilty today to conspi...</td>\n",
       "      <td>2017-03-22T00:00:00-04:00</td>\n",
       "      <td>[Counterintelligence and Export Control]</td>\n",
       "      <td>[National Security Division (NSD), USAO - Texa...</td>\n",
       "      <td>ZTE Corporation pleaded guilty today conspirin...</td>\n",
       "    </tr>\n",
       "  </tbody>\n",
       "</table>\n",
       "<p>4688 rows × 7 columns</p>\n",
       "</div>"
      ],
      "text/plain": [
       "            id                                              title  \\\n",
       "4       18-898  $100 Million Settlement Will Speed Cleanup Wor...   \n",
       "7      14-1412  14 Indicted in Connection with New England Com...   \n",
       "19     17-1419  2017 Southeast Regional Animal Cruelty Prosecu...   \n",
       "22     15-1562  21st Century Oncology to Pay $19.75 Million to...   \n",
       "23     17-1404  21st Century Oncology to Pay $26 Million to Se...   \n",
       "...        ...                                                ...   \n",
       "13081  14-1377  Yuba City, California, Man Sentenced to 46 Mon...   \n",
       "13082   16-735  Yuengling to Upgrade Environmental Measures to...   \n",
       "13084   17-045  Zimmer Biomet Holdings Inc. Agrees to Pay $17....   \n",
       "13085   17-252  ZTE Corporation Agrees to Plead Guilty and Pay...   \n",
       "13086   17-304  ZTE Corporation Pleads Guilty for  Violating U...   \n",
       "\n",
       "                                                contents  \\\n",
       "4      The U.S. Department of Justice, the U.S. Envir...   \n",
       "7      A 131-count criminal indictment was unsealed t...   \n",
       "19     The United States Attorney’s Office for the Mi...   \n",
       "22     21st Century Oncology LLC, has agreed to pay $...   \n",
       "23     21st Century Oncology Inc. and certain of its ...   \n",
       "...                                                  ...   \n",
       "13081  Anthony Merrell Tyler, 34, of Yuba City, Calif...   \n",
       "13082  The Department of Justice and the U.S. Environ...   \n",
       "13084  Subsidiary Agrees to Plead Guilty to Violating...   \n",
       "13085  ZTE Corporation has agreed to enter a guilty p...   \n",
       "13086  ZTE Corporation pleaded guilty today to conspi...   \n",
       "\n",
       "                            date  \\\n",
       "4      2018-07-09T00:00:00-04:00   \n",
       "7      2014-12-17T00:00:00-05:00   \n",
       "19     2017-12-14T00:00:00-05:00   \n",
       "22     2015-12-18T00:00:00-05:00   \n",
       "23     2017-12-12T00:00:00-05:00   \n",
       "...                          ...   \n",
       "13081  2014-12-09T00:00:00-05:00   \n",
       "13082  2016-06-23T00:00:00-04:00   \n",
       "13084  2017-01-12T00:00:00-05:00   \n",
       "13085  2017-03-07T00:00:00-05:00   \n",
       "13086  2017-03-22T00:00:00-04:00   \n",
       "\n",
       "                                                  topics  \\\n",
       "4                                          [Environment]   \n",
       "7                                  [Consumer Protection]   \n",
       "19                                         [Environment]   \n",
       "22                 [False Claims Act, Health Care Fraud]   \n",
       "23                 [Health Care Fraud, False Claims Act]   \n",
       "...                                                  ...   \n",
       "13081                                      [Hate Crimes]   \n",
       "13082                                      [Environment]   \n",
       "13084                               [Foreign Corruption]   \n",
       "13085  [Asset Forfeiture, Counterintelligence and Exp...   \n",
       "13086           [Counterintelligence and Export Control]   \n",
       "\n",
       "                                              components  \\\n",
       "4           [Environment and Natural Resources Division]   \n",
       "7                                       [Civil Division]   \n",
       "19     [Environment and Natural Resources Division, U...   \n",
       "22                                      [Civil Division]   \n",
       "23              [Civil Division, USAO - Florida, Middle]   \n",
       "...                                                  ...   \n",
       "13081  [Civil Rights Division, Civil Rights - Crimina...   \n",
       "13082       [Environment and Natural Resources Division]   \n",
       "13084  [Criminal Division, Criminal - Criminal Fraud ...   \n",
       "13085  [National Security Division (NSD), USAO - Texa...   \n",
       "13086  [National Security Division (NSD), USAO - Texa...   \n",
       "\n",
       "                                            contents_new  \n",
       "4      U.S. Department Justice , U.S. Environmental P...  \n",
       "7      131 - count criminal indictment unsealed today...  \n",
       "19     United States Attorney Office Middle District ...  \n",
       "22     21st Century Oncology LLC , agreed pay $ 19.75...  \n",
       "23     21st Century Oncology Inc. certain subsidiarie...  \n",
       "...                                                  ...  \n",
       "13081  Anthony Merrell Tyler , 34 , Yuba City , Calif...  \n",
       "13082  Department Justice U.S. Environmental Protecti...  \n",
       "13084  Subsidiary Agrees Plead Guilty Violating Forei...  \n",
       "13085  ZTE Corporation agreed enter guilty plea pay $...  \n",
       "13086  ZTE Corporation pleaded guilty today conspirin...  \n",
       "\n",
       "[4688 rows x 7 columns]"
      ]
     },
     "execution_count": 76,
     "metadata": {},
     "output_type": "execute_result"
    }
   ],
   "source": [
    "df"
   ]
  },
  {
   "cell_type": "code",
   "execution_count": 77,
   "id": "c34cbdc2",
   "metadata": {},
   "outputs": [
    {
     "data": {
      "text/plain": [
       "6286"
      ]
     },
     "execution_count": 77,
     "metadata": {},
     "output_type": "execute_result"
    }
   ],
   "source": [
    "len(df['contents'][4])"
   ]
  },
  {
   "cell_type": "code",
   "execution_count": 78,
   "id": "fa52668d",
   "metadata": {},
   "outputs": [
    {
     "data": {
      "text/plain": [
       "4810"
      ]
     },
     "execution_count": 78,
     "metadata": {},
     "output_type": "execute_result"
    }
   ],
   "source": [
    "len(df['contents_new'][4])"
   ]
  },
  {
   "cell_type": "code",
   "execution_count": 79,
   "id": "918aa109",
   "metadata": {},
   "outputs": [
    {
     "data": {
      "text/plain": [
       "'The U.S. Department of Justice, the U.S. Environmental Protection Agency (EPA), and the Rhode Island Department of Environmental Management (RIDEM) announced today that two subsidiaries of Stanley Black & Decker Inc.—Emhart Industries Inc. and Black & Decker Inc.—have agreed to clean up dioxin conta'"
      ]
     },
     "execution_count": 79,
     "metadata": {},
     "output_type": "execute_result"
    }
   ],
   "source": [
    "df.contents[4][:300]"
   ]
  },
  {
   "cell_type": "code",
   "execution_count": 80,
   "id": "31dea517",
   "metadata": {},
   "outputs": [
    {
     "data": {
      "text/plain": [
       "'U.S. Department Justice , U.S. Environmental Protection Agency ( EPA ) , Rhode Island Department Environmental Management ( RIDEM ) announced today subsidiaries Stanley Black & Decker Inc.—Emhart Industries Inc. Black & Decker Inc.—have agreed clean dioxin contaminated sediment soil Centredale Manor'"
      ]
     },
     "execution_count": 80,
     "metadata": {},
     "output_type": "execute_result"
    }
   ],
   "source": [
    "df.contents_new[4][:300]"
   ]
  },
  {
   "cell_type": "code",
   "execution_count": 81,
   "id": "148db5f0",
   "metadata": {},
   "outputs": [],
   "source": [
    "\n",
    "#Exercise1:\n",
    "\n",
    "#From a Given Text, Count the number of stop words in it.\n",
    "#Print the percentage of stop word tokens compared to all tokens in a given text."
   ]
  },
  {
   "cell_type": "code",
   "execution_count": 82,
   "id": "93ff677d",
   "metadata": {},
   "outputs": [],
   "source": [
    "import spacy\n",
    "nlp=spacy.load('en_core_web_sm')\n"
   ]
  },
  {
   "cell_type": "code",
   "execution_count": 83,
   "id": "872fbcb4",
   "metadata": {},
   "outputs": [],
   "source": [
    "text='''\n",
    "Thor: Love and Thunder is a 2022 American superhero film based on Marvel Comics featuring the character Thor, produced by Marvel Studios and \n",
    "distributed by Walt Disney Studios Motion Pictures. It is the sequel to Thor: Ragnarok (2017) and the 29th film in the Marvel Cinematic Universe (MCU).\n",
    "The film is directed by Taika Waititi, who co-wrote the script with Jennifer Kaytin Robinson, and stars Chris Hemsworth as Thor alongside Christian Bale, Tessa Thompson,\n",
    "Jaimie Alexander, Waititi, Russell Crowe, and Natalie Portman. In the film, Thor attempts to find inner peace, but must return to action and recruit Valkyrie (Thompson),\n",
    "Korg (Waititi), and Jane Foster (Portman)—who is now the Mighty Thor—to stop Gorr the God Butcher (Bale) from eliminating all gods.\n",
    "'''"
   ]
  },
  {
   "cell_type": "code",
   "execution_count": 87,
   "id": "7733116f",
   "metadata": {},
   "outputs": [
    {
     "name": "stdout",
     "output_type": "stream",
     "text": [
      "Total no. of stop words in the text:40\n",
      "Percentage of stop words in the given text:25.0 %\n"
     ]
    }
   ],
   "source": [
    "doc=nlp(text)\n",
    "stop_words_count=0\n",
    "total_words_count=0\n",
    "for token in doc:\n",
    "    if token.is_stop:\n",
    "        stop_words_count +=1\n",
    "    total_words_count +=1\n",
    "        \n",
    "        \n",
    "        \n",
    "print(f\"Total no. of stop words in the text:{stop_words_count}\")\n",
    "percentage_of_stop_words=(stop_words_count/total_words_count) *100\n",
    "print(f\"Percentage of stop words in the given text:{percentage_of_stop_words} %\")"
   ]
  },
  {
   "cell_type": "code",
   "execution_count": 89,
   "id": "6b0ee2ae",
   "metadata": {},
   "outputs": [],
   "source": [
    "\n",
    "# Exercise2:\n",
    "\n",
    "# Spacy default implementation considers \"not\" as a stop word. But in some scenarios removing 'not' will completely change the meaning of the statement/text. For Example, consider these two statements:\n",
    "\n",
    "# - this is a good movie       ----> Positive Statement\n",
    "# - this is not a good movie   ----> Negative Statement\n",
    "\n",
    "# So, after applying stopwords to those 2 texts, both will return \"good movie\" and does not respect the polarity/sentiments of text.\n",
    "\n",
    "# Now, your task is to remove this stop word \"not\" in spaCy and help in distinguishing the texts.\n"
   ]
  },
  {
   "cell_type": "code",
   "execution_count": 90,
   "id": "d8d376b7",
   "metadata": {},
   "outputs": [
    {
     "name": "stdout",
     "output_type": "stream",
     "text": [
      "Text1:good movie\n",
      "Text2:not good movie\n"
     ]
    }
   ],
   "source": [
    "def preprocess(text):\n",
    "    doc=nlp(text)\n",
    "    no_stop_words=[token.text for token in doc if not token.is_stop]\n",
    "    return \" \".join(no_stop_words)\n",
    "\n",
    "nlp.vocab['not'].is_stop= False\n",
    "positive_text=preprocess(\"This is a good movie\")\n",
    "negative_text=preprocess(\"This is not a good movie\")\n",
    "print(f\"Text1:{positive_text}\")\n",
    "print(f\"Text2:{negative_text}\")"
   ]
  },
  {
   "cell_type": "code",
   "execution_count": 1,
   "id": "8e362d70",
   "metadata": {},
   "outputs": [],
   "source": [
    "#Bag of n-grams"
   ]
  },
  {
   "cell_type": "code",
   "execution_count": 2,
   "id": "c24f906e",
   "metadata": {},
   "outputs": [
    {
     "data": {
      "text/plain": [
       "{'thor': 5, 'hathodawala': 1, 'is': 2, 'looking': 4, 'for': 0, 'job': 3}"
      ]
     },
     "execution_count": 2,
     "metadata": {},
     "output_type": "execute_result"
    }
   ],
   "source": [
    "from sklearn.feature_extraction.text import CountVectorizer\n",
    "v=CountVectorizer()\n",
    "v.fit([\"Thor Hathodawala is looking for a job\"])\n",
    "v.vocabulary_\n"
   ]
  },
  {
   "cell_type": "code",
   "execution_count": 3,
   "id": "3ebbb810",
   "metadata": {},
   "outputs": [
    {
     "data": {
      "text/plain": [
       "{'thor': 9,\n",
       " 'hathodawala': 2,\n",
       " 'is': 4,\n",
       " 'looking': 7,\n",
       " 'for': 0,\n",
       " 'job': 6,\n",
       " 'thor hathodawala': 10,\n",
       " 'hathodawala is': 3,\n",
       " 'is looking': 5,\n",
       " 'looking for': 8,\n",
       " 'for job': 1}"
      ]
     },
     "execution_count": 3,
     "metadata": {},
     "output_type": "execute_result"
    }
   ],
   "source": [
    "v=CountVectorizer(ngram_range=(1,2))\n",
    "v.fit([\"Thor Hathodawala is looking for a job\"])\n",
    "v.vocabulary_"
   ]
  },
  {
   "cell_type": "code",
   "execution_count": 4,
   "id": "f9f9dabb",
   "metadata": {},
   "outputs": [
    {
     "data": {
      "text/plain": [
       "{'thor': 12,\n",
       " 'hathodawala': 2,\n",
       " 'is': 5,\n",
       " 'looking': 9,\n",
       " 'for': 0,\n",
       " 'job': 8,\n",
       " 'thor hathodawala': 13,\n",
       " 'hathodawala is': 3,\n",
       " 'is looking': 6,\n",
       " 'looking for': 10,\n",
       " 'for job': 1,\n",
       " 'thor hathodawala is': 14,\n",
       " 'hathodawala is looking': 4,\n",
       " 'is looking for': 7,\n",
       " 'looking for job': 11}"
      ]
     },
     "execution_count": 4,
     "metadata": {},
     "output_type": "execute_result"
    }
   ],
   "source": [
    "v=CountVectorizer(ngram_range=(1,3))\n",
    "v.fit([\"Thor Hathodawala is looking for a job\"])\n",
    "v.vocabulary_"
   ]
  },
  {
   "cell_type": "code",
   "execution_count": 5,
   "id": "37c3b28d",
   "metadata": {},
   "outputs": [],
   "source": [
    "#We will now take a simple collection of text documents, preprocess them to remove stop words, lemmatize etc and then generate bag of 1 grams and 2 grams from it"
   ]
  },
  {
   "cell_type": "code",
   "execution_count": 6,
   "id": "679c8dc7",
   "metadata": {},
   "outputs": [],
   "source": [
    "corpus=[\"Thor ate pizza\",\n",
    "    \"Loki is tall\",\n",
    "    \"Loki is eating pizza\"]"
   ]
  },
  {
   "cell_type": "code",
   "execution_count": 7,
   "id": "993e59d8",
   "metadata": {},
   "outputs": [],
   "source": [
    "import spacy"
   ]
  },
  {
   "cell_type": "code",
   "execution_count": 8,
   "id": "b006349c",
   "metadata": {},
   "outputs": [],
   "source": [
    "nlp=spacy.load('en_core_web_sm')\n",
    "\n",
    "def preprocess(text):\n",
    "    doc=nlp(text)\n",
    "    filtered_tokens=[]\n",
    "    for token in doc:\n",
    "        if token.is_stop or token.is_punct:\n",
    "            continue\n",
    "        filtered_tokens.append(token.lemma_)\n",
    "        \n",
    "    return \" \".join(filtered_tokens)\n"
   ]
  },
  {
   "cell_type": "code",
   "execution_count": 9,
   "id": "90b85fee",
   "metadata": {},
   "outputs": [
    {
     "data": {
      "text/plain": [
       "'Thor eat pizza'"
      ]
     },
     "execution_count": 9,
     "metadata": {},
     "output_type": "execute_result"
    }
   ],
   "source": [
    "preprocess(\"Thor ate pizza\")"
   ]
  },
  {
   "cell_type": "code",
   "execution_count": 10,
   "id": "58c52afc",
   "metadata": {},
   "outputs": [
    {
     "data": {
      "text/plain": [
       "['Thor eat pizza', 'Loki tall', 'Loki eat pizza']"
      ]
     },
     "execution_count": 10,
     "metadata": {},
     "output_type": "execute_result"
    }
   ],
   "source": [
    "corpus_processed=[preprocess(text) for text in corpus]\n",
    "corpus_processed"
   ]
  },
  {
   "cell_type": "code",
   "execution_count": 11,
   "id": "7a266438",
   "metadata": {},
   "outputs": [
    {
     "data": {
      "text/plain": [
       "{'thor': 7,\n",
       " 'eat': 0,\n",
       " 'pizza': 5,\n",
       " 'thor eat': 8,\n",
       " 'eat pizza': 1,\n",
       " 'loki': 2,\n",
       " 'tall': 6,\n",
       " 'loki tall': 4,\n",
       " 'loki eat': 3}"
      ]
     },
     "execution_count": 11,
     "metadata": {},
     "output_type": "execute_result"
    }
   ],
   "source": [
    "v=CountVectorizer(ngram_range=(1,2))\n",
    "v.fit(corpus_processed)\n",
    "v.vocabulary_"
   ]
  },
  {
   "cell_type": "code",
   "execution_count": 12,
   "id": "c7d67306",
   "metadata": {},
   "outputs": [],
   "source": [
    "#Now generate bag of n gram vector for few sample documents"
   ]
  },
  {
   "cell_type": "code",
   "execution_count": 13,
   "id": "f8bc5a03",
   "metadata": {},
   "outputs": [
    {
     "data": {
      "text/plain": [
       "array([[1, 1, 0, 0, 0, 1, 0, 1, 1]], dtype=int64)"
      ]
     },
     "execution_count": 13,
     "metadata": {},
     "output_type": "execute_result"
    }
   ],
   "source": [
    "v.transform([\"Thor eat pizza\"]).toarray()"
   ]
  },
  {
   "cell_type": "code",
   "execution_count": 14,
   "id": "356922a6",
   "metadata": {},
   "outputs": [
    {
     "data": {
      "text/plain": [
       "array([[1, 1, 0, 0, 0, 1, 0, 0, 0]], dtype=int64)"
      ]
     },
     "execution_count": 14,
     "metadata": {},
     "output_type": "execute_result"
    }
   ],
   "source": [
    "v.transform([\"Hulk eat pizza\"]).toarray()   #Out of Vocabulary prediction"
   ]
  },
  {
   "cell_type": "code",
   "execution_count": 19,
   "id": "4dfd8818",
   "metadata": {},
   "outputs": [],
   "source": [
    "#News Category Classification Problem"
   ]
  },
  {
   "cell_type": "code",
   "execution_count": 16,
   "id": "bde87cf9",
   "metadata": {},
   "outputs": [
    {
     "data": {
      "text/html": [
       "<div>\n",
       "<style scoped>\n",
       "    .dataframe tbody tr th:only-of-type {\n",
       "        vertical-align: middle;\n",
       "    }\n",
       "\n",
       "    .dataframe tbody tr th {\n",
       "        vertical-align: top;\n",
       "    }\n",
       "\n",
       "    .dataframe thead th {\n",
       "        text-align: right;\n",
       "    }\n",
       "</style>\n",
       "<table border=\"1\" class=\"dataframe\">\n",
       "  <thead>\n",
       "    <tr style=\"text-align: right;\">\n",
       "      <th></th>\n",
       "      <th>text</th>\n",
       "      <th>category</th>\n",
       "    </tr>\n",
       "  </thead>\n",
       "  <tbody>\n",
       "    <tr>\n",
       "      <th>0</th>\n",
       "      <td>Watching Schrödinger's Cat Die University of C...</td>\n",
       "      <td>SCIENCE</td>\n",
       "    </tr>\n",
       "    <tr>\n",
       "      <th>1</th>\n",
       "      <td>WATCH: Freaky Vortex Opens Up In Flooded Lake</td>\n",
       "      <td>SCIENCE</td>\n",
       "    </tr>\n",
       "    <tr>\n",
       "      <th>2</th>\n",
       "      <td>Entrepreneurs Today Don't Need a Big Budget to...</td>\n",
       "      <td>BUSINESS</td>\n",
       "    </tr>\n",
       "    <tr>\n",
       "      <th>3</th>\n",
       "      <td>These Roads Could Recharge Your Electric Car A...</td>\n",
       "      <td>BUSINESS</td>\n",
       "    </tr>\n",
       "    <tr>\n",
       "      <th>4</th>\n",
       "      <td>Civilian 'Guard' Fires Gun While 'Protecting' ...</td>\n",
       "      <td>CRIME</td>\n",
       "    </tr>\n",
       "    <tr>\n",
       "      <th>...</th>\n",
       "      <td>...</td>\n",
       "      <td>...</td>\n",
       "    </tr>\n",
       "    <tr>\n",
       "      <th>12690</th>\n",
       "      <td>Coach Shakes Hands Of Imaginary Players After ...</td>\n",
       "      <td>SPORTS</td>\n",
       "    </tr>\n",
       "    <tr>\n",
       "      <th>12691</th>\n",
       "      <td>This Minivan-Sized Sea Sponge Is Thought To Be...</td>\n",
       "      <td>SCIENCE</td>\n",
       "    </tr>\n",
       "    <tr>\n",
       "      <th>12692</th>\n",
       "      <td>RECAP: Dramatic Eclipse Photos Don't miss the ...</td>\n",
       "      <td>SCIENCE</td>\n",
       "    </tr>\n",
       "    <tr>\n",
       "      <th>12693</th>\n",
       "      <td>Richard Sherman Wants To Talk About Police Sho...</td>\n",
       "      <td>SPORTS</td>\n",
       "    </tr>\n",
       "    <tr>\n",
       "      <th>12694</th>\n",
       "      <td>Your Customers Ignore Your Emails -- How Will ...</td>\n",
       "      <td>BUSINESS</td>\n",
       "    </tr>\n",
       "  </tbody>\n",
       "</table>\n",
       "<p>12695 rows × 2 columns</p>\n",
       "</div>"
      ],
      "text/plain": [
       "                                                    text  category\n",
       "0      Watching Schrödinger's Cat Die University of C...   SCIENCE\n",
       "1         WATCH: Freaky Vortex Opens Up In Flooded Lake    SCIENCE\n",
       "2      Entrepreneurs Today Don't Need a Big Budget to...  BUSINESS\n",
       "3      These Roads Could Recharge Your Electric Car A...  BUSINESS\n",
       "4      Civilian 'Guard' Fires Gun While 'Protecting' ...     CRIME\n",
       "...                                                  ...       ...\n",
       "12690  Coach Shakes Hands Of Imaginary Players After ...    SPORTS\n",
       "12691  This Minivan-Sized Sea Sponge Is Thought To Be...   SCIENCE\n",
       "12692  RECAP: Dramatic Eclipse Photos Don't miss the ...   SCIENCE\n",
       "12693  Richard Sherman Wants To Talk About Police Sho...    SPORTS\n",
       "12694  Your Customers Ignore Your Emails -- How Will ...  BUSINESS\n",
       "\n",
       "[12695 rows x 2 columns]"
      ]
     },
     "execution_count": 16,
     "metadata": {},
     "output_type": "execute_result"
    }
   ],
   "source": [
    "import pandas as pd\n",
    "df=pd.read_json(r\"C:\\Users\\sohan\\Downloads\\news_dataset.json\")\n",
    "df"
   ]
  },
  {
   "cell_type": "code",
   "execution_count": 17,
   "id": "7adec177",
   "metadata": {},
   "outputs": [
    {
     "data": {
      "text/plain": [
       "(12695, 2)"
      ]
     },
     "execution_count": 17,
     "metadata": {},
     "output_type": "execute_result"
    }
   ],
   "source": [
    "df.shape"
   ]
  },
  {
   "cell_type": "code",
   "execution_count": 21,
   "id": "18bd598e",
   "metadata": {},
   "outputs": [
    {
     "data": {
      "text/plain": [
       "BUSINESS    4254\n",
       "SPORTS      4167\n",
       "CRIME       2893\n",
       "SCIENCE     1381\n",
       "Name: category, dtype: int64"
      ]
     },
     "execution_count": 21,
     "metadata": {},
     "output_type": "execute_result"
    }
   ],
   "source": [
    "df.category.value_counts()"
   ]
  },
  {
   "cell_type": "code",
   "execution_count": 22,
   "id": "3a312b9b",
   "metadata": {},
   "outputs": [],
   "source": [
    "#handling class imbalance using under sampling"
   ]
  },
  {
   "cell_type": "code",
   "execution_count": 23,
   "id": "e535667e",
   "metadata": {},
   "outputs": [],
   "source": [
    "min_samples=1381 #We have this many science articles and science is our minority class\n",
    "\n",
    "df_business=df[df.category=='BUSINESS'].sample(min_samples,random_state=2022)\n",
    "df_sports=df[df.category=='SPORTS'].sample(min_samples,random_state=2022)\n",
    "df_crime=df[df.category=='CRIME'].sample(min_samples,random_state=2022)\n",
    "df_science=df[df.category=='SCIENCE'].sample(min_samples,random_state=2022)"
   ]
  },
  {
   "cell_type": "code",
   "execution_count": 24,
   "id": "65cf79c6",
   "metadata": {},
   "outputs": [
    {
     "data": {
      "text/html": [
       "<div>\n",
       "<style scoped>\n",
       "    .dataframe tbody tr th:only-of-type {\n",
       "        vertical-align: middle;\n",
       "    }\n",
       "\n",
       "    .dataframe tbody tr th {\n",
       "        vertical-align: top;\n",
       "    }\n",
       "\n",
       "    .dataframe thead th {\n",
       "        text-align: right;\n",
       "    }\n",
       "</style>\n",
       "<table border=\"1\" class=\"dataframe\">\n",
       "  <thead>\n",
       "    <tr style=\"text-align: right;\">\n",
       "      <th></th>\n",
       "      <th>text</th>\n",
       "      <th>category</th>\n",
       "    </tr>\n",
       "  </thead>\n",
       "  <tbody>\n",
       "    <tr>\n",
       "      <th>11967</th>\n",
       "      <td>GCC Business Leaders Remain Confident in the F...</td>\n",
       "      <td>BUSINESS</td>\n",
       "    </tr>\n",
       "    <tr>\n",
       "      <th>2912</th>\n",
       "      <td>From the Other Side; an Honest Review from Emp...</td>\n",
       "      <td>BUSINESS</td>\n",
       "    </tr>\n",
       "    <tr>\n",
       "      <th>3408</th>\n",
       "      <td>Mike McDerment, CEO of FreshBooks, Talks About...</td>\n",
       "      <td>BUSINESS</td>\n",
       "    </tr>\n",
       "    <tr>\n",
       "      <th>502</th>\n",
       "      <td>How to Market Your Business While Traveling th...</td>\n",
       "      <td>BUSINESS</td>\n",
       "    </tr>\n",
       "    <tr>\n",
       "      <th>5279</th>\n",
       "      <td>How to Leverage Intuition in Decision-making I...</td>\n",
       "      <td>BUSINESS</td>\n",
       "    </tr>\n",
       "    <tr>\n",
       "      <th>...</th>\n",
       "      <td>...</td>\n",
       "      <td>...</td>\n",
       "    </tr>\n",
       "    <tr>\n",
       "      <th>2178</th>\n",
       "      <td>Aquarium To Monitor Animals' Behavior Changes ...</td>\n",
       "      <td>SCIENCE</td>\n",
       "    </tr>\n",
       "    <tr>\n",
       "      <th>5682</th>\n",
       "      <td>How Google Glass Could Save Lives In The Hospi...</td>\n",
       "      <td>SCIENCE</td>\n",
       "    </tr>\n",
       "    <tr>\n",
       "      <th>1643</th>\n",
       "      <td>Honda's Gravity Modification Research For us A...</td>\n",
       "      <td>SCIENCE</td>\n",
       "    </tr>\n",
       "    <tr>\n",
       "      <th>11428</th>\n",
       "      <td>EVERYONE Loves Alternative Facts THE POWER OF ...</td>\n",
       "      <td>SCIENCE</td>\n",
       "    </tr>\n",
       "    <tr>\n",
       "      <th>8101</th>\n",
       "      <td>From Cooking to Conservation: Women Take Actio...</td>\n",
       "      <td>SCIENCE</td>\n",
       "    </tr>\n",
       "  </tbody>\n",
       "</table>\n",
       "<p>5524 rows × 2 columns</p>\n",
       "</div>"
      ],
      "text/plain": [
       "                                                    text  category\n",
       "11967  GCC Business Leaders Remain Confident in the F...  BUSINESS\n",
       "2912   From the Other Side; an Honest Review from Emp...  BUSINESS\n",
       "3408   Mike McDerment, CEO of FreshBooks, Talks About...  BUSINESS\n",
       "502    How to Market Your Business While Traveling th...  BUSINESS\n",
       "5279   How to Leverage Intuition in Decision-making I...  BUSINESS\n",
       "...                                                  ...       ...\n",
       "2178   Aquarium To Monitor Animals' Behavior Changes ...   SCIENCE\n",
       "5682   How Google Glass Could Save Lives In The Hospi...   SCIENCE\n",
       "1643   Honda's Gravity Modification Research For us A...   SCIENCE\n",
       "11428  EVERYONE Loves Alternative Facts THE POWER OF ...   SCIENCE\n",
       "8101   From Cooking to Conservation: Women Take Actio...   SCIENCE\n",
       "\n",
       "[5524 rows x 2 columns]"
      ]
     },
     "execution_count": 24,
     "metadata": {},
     "output_type": "execute_result"
    }
   ],
   "source": [
    "df_balanced=pd.concat([df_business,df_sports,df_crime,df_science],axis=0)\n",
    "df_balanced"
   ]
  },
  {
   "cell_type": "code",
   "execution_count": 25,
   "id": "9efa1ad9",
   "metadata": {},
   "outputs": [
    {
     "data": {
      "text/plain": [
       "BUSINESS    1381\n",
       "SPORTS      1381\n",
       "CRIME       1381\n",
       "SCIENCE     1381\n",
       "Name: category, dtype: int64"
      ]
     },
     "execution_count": 25,
     "metadata": {},
     "output_type": "execute_result"
    }
   ],
   "source": [
    "df_balanced.category.value_counts()"
   ]
  },
  {
   "cell_type": "code",
   "execution_count": 27,
   "id": "b78440db",
   "metadata": {},
   "outputs": [
    {
     "data": {
      "text/html": [
       "<div>\n",
       "<style scoped>\n",
       "    .dataframe tbody tr th:only-of-type {\n",
       "        vertical-align: middle;\n",
       "    }\n",
       "\n",
       "    .dataframe tbody tr th {\n",
       "        vertical-align: top;\n",
       "    }\n",
       "\n",
       "    .dataframe thead th {\n",
       "        text-align: right;\n",
       "    }\n",
       "</style>\n",
       "<table border=\"1\" class=\"dataframe\">\n",
       "  <thead>\n",
       "    <tr style=\"text-align: right;\">\n",
       "      <th></th>\n",
       "      <th>text</th>\n",
       "      <th>category</th>\n",
       "      <th>category_num</th>\n",
       "    </tr>\n",
       "  </thead>\n",
       "  <tbody>\n",
       "    <tr>\n",
       "      <th>11967</th>\n",
       "      <td>GCC Business Leaders Remain Confident in the F...</td>\n",
       "      <td>BUSINESS</td>\n",
       "      <td>0</td>\n",
       "    </tr>\n",
       "    <tr>\n",
       "      <th>2912</th>\n",
       "      <td>From the Other Side; an Honest Review from Emp...</td>\n",
       "      <td>BUSINESS</td>\n",
       "      <td>0</td>\n",
       "    </tr>\n",
       "    <tr>\n",
       "      <th>3408</th>\n",
       "      <td>Mike McDerment, CEO of FreshBooks, Talks About...</td>\n",
       "      <td>BUSINESS</td>\n",
       "      <td>0</td>\n",
       "    </tr>\n",
       "    <tr>\n",
       "      <th>502</th>\n",
       "      <td>How to Market Your Business While Traveling th...</td>\n",
       "      <td>BUSINESS</td>\n",
       "      <td>0</td>\n",
       "    </tr>\n",
       "    <tr>\n",
       "      <th>5279</th>\n",
       "      <td>How to Leverage Intuition in Decision-making I...</td>\n",
       "      <td>BUSINESS</td>\n",
       "      <td>0</td>\n",
       "    </tr>\n",
       "    <tr>\n",
       "      <th>...</th>\n",
       "      <td>...</td>\n",
       "      <td>...</td>\n",
       "      <td>...</td>\n",
       "    </tr>\n",
       "    <tr>\n",
       "      <th>2178</th>\n",
       "      <td>Aquarium To Monitor Animals' Behavior Changes ...</td>\n",
       "      <td>SCIENCE</td>\n",
       "      <td>3</td>\n",
       "    </tr>\n",
       "    <tr>\n",
       "      <th>5682</th>\n",
       "      <td>How Google Glass Could Save Lives In The Hospi...</td>\n",
       "      <td>SCIENCE</td>\n",
       "      <td>3</td>\n",
       "    </tr>\n",
       "    <tr>\n",
       "      <th>1643</th>\n",
       "      <td>Honda's Gravity Modification Research For us A...</td>\n",
       "      <td>SCIENCE</td>\n",
       "      <td>3</td>\n",
       "    </tr>\n",
       "    <tr>\n",
       "      <th>11428</th>\n",
       "      <td>EVERYONE Loves Alternative Facts THE POWER OF ...</td>\n",
       "      <td>SCIENCE</td>\n",
       "      <td>3</td>\n",
       "    </tr>\n",
       "    <tr>\n",
       "      <th>8101</th>\n",
       "      <td>From Cooking to Conservation: Women Take Actio...</td>\n",
       "      <td>SCIENCE</td>\n",
       "      <td>3</td>\n",
       "    </tr>\n",
       "  </tbody>\n",
       "</table>\n",
       "<p>5524 rows × 3 columns</p>\n",
       "</div>"
      ],
      "text/plain": [
       "                                                    text  category  \\\n",
       "11967  GCC Business Leaders Remain Confident in the F...  BUSINESS   \n",
       "2912   From the Other Side; an Honest Review from Emp...  BUSINESS   \n",
       "3408   Mike McDerment, CEO of FreshBooks, Talks About...  BUSINESS   \n",
       "502    How to Market Your Business While Traveling th...  BUSINESS   \n",
       "5279   How to Leverage Intuition in Decision-making I...  BUSINESS   \n",
       "...                                                  ...       ...   \n",
       "2178   Aquarium To Monitor Animals' Behavior Changes ...   SCIENCE   \n",
       "5682   How Google Glass Could Save Lives In The Hospi...   SCIENCE   \n",
       "1643   Honda's Gravity Modification Research For us A...   SCIENCE   \n",
       "11428  EVERYONE Loves Alternative Facts THE POWER OF ...   SCIENCE   \n",
       "8101   From Cooking to Conservation: Women Take Actio...   SCIENCE   \n",
       "\n",
       "       category_num  \n",
       "11967             0  \n",
       "2912              0  \n",
       "3408              0  \n",
       "502               0  \n",
       "5279              0  \n",
       "...             ...  \n",
       "2178              3  \n",
       "5682              3  \n",
       "1643              3  \n",
       "11428             3  \n",
       "8101              3  \n",
       "\n",
       "[5524 rows x 3 columns]"
      ]
     },
     "execution_count": 27,
     "metadata": {},
     "output_type": "execute_result"
    }
   ],
   "source": [
    "df_balanced['category_num']=df_balanced['category'].map({'BUSINESS':0,'SPORTS':1,'CRIME':2,'SCIENCE':3})\n",
    "df_balanced"
   ]
  },
  {
   "cell_type": "code",
   "execution_count": 28,
   "id": "f38650a7",
   "metadata": {},
   "outputs": [],
   "source": [
    "#Build a model with original text (no pre processing)"
   ]
  },
  {
   "cell_type": "code",
   "execution_count": 35,
   "id": "05df30e7",
   "metadata": {},
   "outputs": [],
   "source": [
    "from sklearn.model_selection import train_test_split\n",
    "X_train,X_test,y_train,y_test=train_test_split(df_balanced.text,df_balanced.category_num,test_size=0.2,stratify=df_balanced.category_num)"
   ]
  },
  {
   "cell_type": "code",
   "execution_count": 30,
   "id": "484963db",
   "metadata": {},
   "outputs": [
    {
     "data": {
      "text/plain": [
       "(4419,)"
      ]
     },
     "execution_count": 30,
     "metadata": {},
     "output_type": "execute_result"
    }
   ],
   "source": [
    "X_train.shape"
   ]
  },
  {
   "cell_type": "code",
   "execution_count": 32,
   "id": "93d7f69a",
   "metadata": {},
   "outputs": [
    {
     "data": {
      "text/plain": [
       "7679     DJ Fined For Playing 'F**k Tha Police' While C...\n",
       "9056     PBA President Patrick Lynch Faces Leadership C...\n",
       "8504     Behind The Black Curtain With Tom Brady: Tears...\n",
       "8141     Puerto Rico Loses It As Monica Puig Wins Islan...\n",
       "12169             9-Year-Old Fatally Shot In Chicago Yard \n",
       "Name: text, dtype: object"
      ]
     },
     "execution_count": 32,
     "metadata": {},
     "output_type": "execute_result"
    }
   ],
   "source": [
    "X_train.head()"
   ]
  },
  {
   "cell_type": "code",
   "execution_count": 33,
   "id": "9d51d4ac",
   "metadata": {},
   "outputs": [
    {
     "data": {
      "text/plain": [
       "2    1105\n",
       "1    1105\n",
       "3    1105\n",
       "0    1104\n",
       "Name: category_num, dtype: int64"
      ]
     },
     "execution_count": 33,
     "metadata": {},
     "output_type": "execute_result"
    }
   ],
   "source": [
    "y_train.value_counts()"
   ]
  },
  {
   "cell_type": "code",
   "execution_count": 34,
   "id": "cb0ff10c",
   "metadata": {},
   "outputs": [
    {
     "data": {
      "text/plain": [
       "0    277\n",
       "1    276\n",
       "3    276\n",
       "2    276\n",
       "Name: category_num, dtype: int64"
      ]
     },
     "execution_count": 34,
     "metadata": {},
     "output_type": "execute_result"
    }
   ],
   "source": [
    "y_test.value_counts()"
   ]
  },
  {
   "cell_type": "code",
   "execution_count": 36,
   "id": "186fdfa5",
   "metadata": {},
   "outputs": [
    {
     "name": "stdout",
     "output_type": "stream",
     "text": [
      "              precision    recall  f1-score   support\n",
      "\n",
      "           0       0.76      0.90      0.82       277\n",
      "           1       0.91      0.80      0.85       276\n",
      "           2       0.85      0.92      0.88       276\n",
      "           3       0.91      0.78      0.84       276\n",
      "\n",
      "    accuracy                           0.85      1105\n",
      "   macro avg       0.86      0.85      0.85      1105\n",
      "weighted avg       0.86      0.85      0.85      1105\n",
      "\n"
     ]
    }
   ],
   "source": [
    "#Attempt 1 : Use 1-gram which is nothing but a Bag Of Words (BOW) model\n",
    "\n",
    "from sklearn.naive_bayes import MultinomialNB\n",
    "from sklearn.pipeline import Pipeline\n",
    "from sklearn.metrics import classification_report\n",
    "\n",
    "clf=Pipeline([('vectorizer_bow',CountVectorizer(ngram_range=(1,1))),('Multi NB',MultinomialNB())])\n",
    "\n",
    "clf.fit(X_train,y_train)\n",
    "y_pred=clf.predict(X_test)\n",
    "\n",
    "print(classification_report(y_test,y_pred))"
   ]
  },
  {
   "cell_type": "code",
   "execution_count": 37,
   "id": "e0c024fc",
   "metadata": {},
   "outputs": [
    {
     "name": "stdout",
     "output_type": "stream",
     "text": [
      "              precision    recall  f1-score   support\n",
      "\n",
      "           0       0.67      0.91      0.77       277\n",
      "           1       0.92      0.75      0.83       276\n",
      "           2       0.86      0.88      0.87       276\n",
      "           3       0.90      0.73      0.81       276\n",
      "\n",
      "    accuracy                           0.82      1105\n",
      "   macro avg       0.84      0.82      0.82      1105\n",
      "weighted avg       0.84      0.82      0.82      1105\n",
      "\n"
     ]
    }
   ],
   "source": [
    "#Attempt 2 : Use 1-gram and bigrams\n",
    "clf=Pipeline([('vectorizer_1_2_gram',CountVectorizer(ngram_range=(1,2))),('Multi NB', MultinomialNB())])\n",
    "\n",
    "clf.fit(X_train,y_train)\n",
    "y_pred=clf.predict(X_test)\n",
    "\n",
    "print(classification_report(y_test,y_pred))"
   ]
  },
  {
   "cell_type": "code",
   "execution_count": 43,
   "id": "a3d9db85",
   "metadata": {},
   "outputs": [
    {
     "name": "stdout",
     "output_type": "stream",
     "text": [
      "              precision    recall  f1-score   support\n",
      "\n",
      "           0       0.65      0.91      0.76       277\n",
      "           1       0.92      0.74      0.82       276\n",
      "           2       0.88      0.87      0.87       276\n",
      "           3       0.89      0.72      0.80       276\n",
      "\n",
      "    accuracy                           0.81      1105\n",
      "   macro avg       0.83      0.81      0.81      1105\n",
      "weighted avg       0.83      0.81      0.81      1105\n",
      "\n"
     ]
    }
   ],
   "source": [
    "#Attempt 3 : Use 1-gram to trigrams\n",
    "\n",
    "clf=Pipeline([('vectorizer_1_3_gram',CountVectorizer(ngram_range=(1,3))),('Multi NB', MultinomialNB())])\n",
    "\n",
    "clf.fit(X_train,y_train)\n",
    "y_pred=clf.predict(X_test)\n",
    "\n",
    "\n",
    "print(classification_report(y_test,y_pred))"
   ]
  },
  {
   "cell_type": "code",
   "execution_count": 44,
   "id": "1b5ddad5",
   "metadata": {},
   "outputs": [],
   "source": [
    "#Use text pre-processing to remove stop words, punctuations and apply lemmatization"
   ]
  },
  {
   "cell_type": "code",
   "execution_count": 45,
   "id": "5e33d7a5",
   "metadata": {},
   "outputs": [],
   "source": [
    "nlp=spacy.load('en_core_web_sm')\n",
    "\n",
    "def preprocess(text):\n",
    "    doc=nlp(text)\n",
    "    filtered_tokens=[]\n",
    "    for token in doc:\n",
    "        if token.is_stop or token.is_punct:\n",
    "            continue\n",
    "        filtered_tokens.append(token.lemma_)\n",
    "        \n",
    "    return \" \".join(filtered_tokens)"
   ]
  },
  {
   "cell_type": "code",
   "execution_count": 47,
   "id": "2b20880e",
   "metadata": {},
   "outputs": [
    {
     "data": {
      "text/html": [
       "<div>\n",
       "<style scoped>\n",
       "    .dataframe tbody tr th:only-of-type {\n",
       "        vertical-align: middle;\n",
       "    }\n",
       "\n",
       "    .dataframe tbody tr th {\n",
       "        vertical-align: top;\n",
       "    }\n",
       "\n",
       "    .dataframe thead th {\n",
       "        text-align: right;\n",
       "    }\n",
       "</style>\n",
       "<table border=\"1\" class=\"dataframe\">\n",
       "  <thead>\n",
       "    <tr style=\"text-align: right;\">\n",
       "      <th></th>\n",
       "      <th>text</th>\n",
       "      <th>category</th>\n",
       "      <th>category_num</th>\n",
       "      <th>processed_text</th>\n",
       "    </tr>\n",
       "  </thead>\n",
       "  <tbody>\n",
       "    <tr>\n",
       "      <th>11967</th>\n",
       "      <td>GCC Business Leaders Remain Confident in the F...</td>\n",
       "      <td>BUSINESS</td>\n",
       "      <td>0</td>\n",
       "      <td>gcc Business leader remain Confident face Regi...</td>\n",
       "    </tr>\n",
       "    <tr>\n",
       "      <th>2912</th>\n",
       "      <td>From the Other Side; an Honest Review from Emp...</td>\n",
       "      <td>BUSINESS</td>\n",
       "      <td>0</td>\n",
       "      <td>Honest Review employee wake morning love impor...</td>\n",
       "    </tr>\n",
       "    <tr>\n",
       "      <th>3408</th>\n",
       "      <td>Mike McDerment, CEO of FreshBooks, Talks About...</td>\n",
       "      <td>BUSINESS</td>\n",
       "      <td>0</td>\n",
       "      <td>Mike McDerment ceo FreshBooks talk give build ...</td>\n",
       "    </tr>\n",
       "    <tr>\n",
       "      <th>502</th>\n",
       "      <td>How to Market Your Business While Traveling th...</td>\n",
       "      <td>BUSINESS</td>\n",
       "      <td>0</td>\n",
       "      <td>market business travel World recently amazing ...</td>\n",
       "    </tr>\n",
       "    <tr>\n",
       "      <th>5279</th>\n",
       "      <td>How to Leverage Intuition in Decision-making I...</td>\n",
       "      <td>BUSINESS</td>\n",
       "      <td>0</td>\n",
       "      <td>Leverage intuition decision making feel safe r...</td>\n",
       "    </tr>\n",
       "    <tr>\n",
       "      <th>...</th>\n",
       "      <td>...</td>\n",
       "      <td>...</td>\n",
       "      <td>...</td>\n",
       "      <td>...</td>\n",
       "    </tr>\n",
       "    <tr>\n",
       "      <th>2178</th>\n",
       "      <td>Aquarium To Monitor Animals' Behavior Changes ...</td>\n",
       "      <td>SCIENCE</td>\n",
       "      <td>3</td>\n",
       "      <td>aquarium Monitor Animals Behavior change Eclip...</td>\n",
       "    </tr>\n",
       "    <tr>\n",
       "      <th>5682</th>\n",
       "      <td>How Google Glass Could Save Lives In The Hospi...</td>\n",
       "      <td>SCIENCE</td>\n",
       "      <td>3</td>\n",
       "      <td>Google Glass save life Hospital ER new study h...</td>\n",
       "    </tr>\n",
       "    <tr>\n",
       "      <th>1643</th>\n",
       "      <td>Honda's Gravity Modification Research For us A...</td>\n",
       "      <td>SCIENCE</td>\n",
       "      <td>3</td>\n",
       "      <td>Honda Gravity Modification Research Americans ...</td>\n",
       "    </tr>\n",
       "    <tr>\n",
       "      <th>11428</th>\n",
       "      <td>EVERYONE Loves Alternative Facts THE POWER OF ...</td>\n",
       "      <td>SCIENCE</td>\n",
       "      <td>3</td>\n",
       "      <td>love alternative fact power story 21st century...</td>\n",
       "    </tr>\n",
       "    <tr>\n",
       "      <th>8101</th>\n",
       "      <td>From Cooking to Conservation: Women Take Actio...</td>\n",
       "      <td>SCIENCE</td>\n",
       "      <td>3</td>\n",
       "      <td>Cooking conservation Women Action protect plan...</td>\n",
       "    </tr>\n",
       "  </tbody>\n",
       "</table>\n",
       "<p>5524 rows × 4 columns</p>\n",
       "</div>"
      ],
      "text/plain": [
       "                                                    text  category  \\\n",
       "11967  GCC Business Leaders Remain Confident in the F...  BUSINESS   \n",
       "2912   From the Other Side; an Honest Review from Emp...  BUSINESS   \n",
       "3408   Mike McDerment, CEO of FreshBooks, Talks About...  BUSINESS   \n",
       "502    How to Market Your Business While Traveling th...  BUSINESS   \n",
       "5279   How to Leverage Intuition in Decision-making I...  BUSINESS   \n",
       "...                                                  ...       ...   \n",
       "2178   Aquarium To Monitor Animals' Behavior Changes ...   SCIENCE   \n",
       "5682   How Google Glass Could Save Lives In The Hospi...   SCIENCE   \n",
       "1643   Honda's Gravity Modification Research For us A...   SCIENCE   \n",
       "11428  EVERYONE Loves Alternative Facts THE POWER OF ...   SCIENCE   \n",
       "8101   From Cooking to Conservation: Women Take Actio...   SCIENCE   \n",
       "\n",
       "       category_num                                     processed_text  \n",
       "11967             0  gcc Business leader remain Confident face Regi...  \n",
       "2912              0  Honest Review employee wake morning love impor...  \n",
       "3408              0  Mike McDerment ceo FreshBooks talk give build ...  \n",
       "502               0  market business travel World recently amazing ...  \n",
       "5279              0  Leverage intuition decision making feel safe r...  \n",
       "...             ...                                                ...  \n",
       "2178              3  aquarium Monitor Animals Behavior change Eclip...  \n",
       "5682              3  Google Glass save life Hospital ER new study h...  \n",
       "1643              3  Honda Gravity Modification Research Americans ...  \n",
       "11428             3  love alternative fact power story 21st century...  \n",
       "8101              3  Cooking conservation Women Action protect plan...  \n",
       "\n",
       "[5524 rows x 4 columns]"
      ]
     },
     "execution_count": 47,
     "metadata": {},
     "output_type": "execute_result"
    }
   ],
   "source": [
    "df_balanced['processed_text']=df_balanced['text'].apply(preprocess)\n",
    "df_balanced"
   ]
  },
  {
   "cell_type": "code",
   "execution_count": 48,
   "id": "f4e1afb3",
   "metadata": {},
   "outputs": [],
   "source": [
    "X_train,X_test,y_train,y_test=train_test_split(df_balanced.processed_text,df_balanced.category_num,test_size=0.2,stratify=df_balanced.category_num)"
   ]
  },
  {
   "cell_type": "code",
   "execution_count": 49,
   "id": "b1f24a01",
   "metadata": {},
   "outputs": [
    {
     "name": "stdout",
     "output_type": "stream",
     "text": [
      "              precision    recall  f1-score   support\n",
      "\n",
      "           0       0.83      0.90      0.86       277\n",
      "           1       0.94      0.89      0.91       276\n",
      "           2       0.86      0.93      0.89       276\n",
      "           3       0.93      0.82      0.87       276\n",
      "\n",
      "    accuracy                           0.89      1105\n",
      "   macro avg       0.89      0.89      0.89      1105\n",
      "weighted avg       0.89      0.89      0.89      1105\n",
      "\n"
     ]
    }
   ],
   "source": [
    "clf = Pipeline([\n",
    "    ('vectorizer_bow', CountVectorizer(ngram_range = (1, 2))),        #using the ngram_range parameter \n",
    "    ('Multi NB', MultinomialNB())\n",
    "])\n",
    "\n",
    "#2. fit with X_train and y_train\n",
    "clf.fit(X_train, y_train)\n",
    "\n",
    "\n",
    "#3. get the predictions for X_test and store it in y_pred\n",
    "y_pred = clf.predict(X_test)\n",
    "\n",
    "\n",
    "#4. print the classfication report\n",
    "print(classification_report(y_test, y_pred))"
   ]
  },
  {
   "cell_type": "code",
   "execution_count": 50,
   "id": "d6bc6e9e",
   "metadata": {},
   "outputs": [
    {
     "data": {
      "text/plain": [
       "array([[248,   7,  12,  10],\n",
       "       [ 10, 246,  17,   3],\n",
       "       [ 11,   4, 258,   3],\n",
       "       [ 30,   5,  14, 227]], dtype=int64)"
      ]
     },
     "execution_count": 50,
     "metadata": {},
     "output_type": "execute_result"
    }
   ],
   "source": [
    "from sklearn.metrics import confusion_matrix\n",
    "cm=confusion_matrix(y_test,y_pred)\n",
    "cm"
   ]
  },
  {
   "cell_type": "code",
   "execution_count": 53,
   "id": "3e72d108",
   "metadata": {},
   "outputs": [
    {
     "data": {
      "text/plain": [
       "Text(69.0, 0.5, 'Truth')"
      ]
     },
     "execution_count": 53,
     "metadata": {},
     "output_type": "execute_result"
    },
    {
     "data": {
      "image/png": "[encoded data removed]",
      "text/plain": [
       "<Figure size 720x504 with 2 Axes>"
      ]
     },
     "metadata": {
      "needs_background": "light"
     },
     "output_type": "display_data"
    }
   ],
   "source": [
    "import matplotlib.pyplot as plt\n",
    "import seaborn as sns\n",
    "plt.figure(figsize=(10,7))\n",
    "sns.heatmap(cm,annot=True ,fmt='d')\n",
    "plt.xlabel('Prediction')\n",
    "plt.ylabel('Truth')"
   ]
  },
  {
   "cell_type": "code",
   "execution_count": 1,
   "id": "3a727495",
   "metadata": {},
   "outputs": [],
   "source": [
    "#Fake news classification"
   ]
  },
  {
   "cell_type": "code",
   "execution_count": 2,
   "id": "b1841fd5",
   "metadata": {},
   "outputs": [
    {
     "data": {
      "text/html": [
       "<div>\n",
       "<style scoped>\n",
       "    .dataframe tbody tr th:only-of-type {\n",
       "        vertical-align: middle;\n",
       "    }\n",
       "\n",
       "    .dataframe tbody tr th {\n",
       "        vertical-align: top;\n",
       "    }\n",
       "\n",
       "    .dataframe thead th {\n",
       "        text-align: right;\n",
       "    }\n",
       "</style>\n",
       "<table border=\"1\" class=\"dataframe\">\n",
       "  <thead>\n",
       "    <tr style=\"text-align: right;\">\n",
       "      <th></th>\n",
       "      <th>Text</th>\n",
       "      <th>label</th>\n",
       "    </tr>\n",
       "  </thead>\n",
       "  <tbody>\n",
       "    <tr>\n",
       "      <th>0</th>\n",
       "      <td>Top Trump Surrogate BRUTALLY Stabs Him In The...</td>\n",
       "      <td>Fake</td>\n",
       "    </tr>\n",
       "    <tr>\n",
       "      <th>1</th>\n",
       "      <td>U.S. conservative leader optimistic of common ...</td>\n",
       "      <td>Real</td>\n",
       "    </tr>\n",
       "    <tr>\n",
       "      <th>2</th>\n",
       "      <td>Trump proposes U.S. tax overhaul, stirs concer...</td>\n",
       "      <td>Real</td>\n",
       "    </tr>\n",
       "    <tr>\n",
       "      <th>3</th>\n",
       "      <td>Court Forces Ohio To Allow Millions Of Illega...</td>\n",
       "      <td>Fake</td>\n",
       "    </tr>\n",
       "    <tr>\n",
       "      <th>4</th>\n",
       "      <td>Democrats say Trump agrees to work on immigrat...</td>\n",
       "      <td>Real</td>\n",
       "    </tr>\n",
       "    <tr>\n",
       "      <th>...</th>\n",
       "      <td>...</td>\n",
       "      <td>...</td>\n",
       "    </tr>\n",
       "    <tr>\n",
       "      <th>9895</th>\n",
       "      <td>Wikileaks Admits To Screwing Up IMMENSELY Wit...</td>\n",
       "      <td>Fake</td>\n",
       "    </tr>\n",
       "    <tr>\n",
       "      <th>9896</th>\n",
       "      <td>Trump consults Republican senators on Fed chie...</td>\n",
       "      <td>Real</td>\n",
       "    </tr>\n",
       "    <tr>\n",
       "      <th>9897</th>\n",
       "      <td>Trump lawyers say judge lacks jurisdiction for...</td>\n",
       "      <td>Real</td>\n",
       "    </tr>\n",
       "    <tr>\n",
       "      <th>9898</th>\n",
       "      <td>WATCH: Right-Wing Pastor Falsely Credits Trum...</td>\n",
       "      <td>Fake</td>\n",
       "    </tr>\n",
       "    <tr>\n",
       "      <th>9899</th>\n",
       "      <td>Sean Spicer HILARIOUSLY Branded As Chickensh*...</td>\n",
       "      <td>Fake</td>\n",
       "    </tr>\n",
       "  </tbody>\n",
       "</table>\n",
       "<p>9900 rows × 2 columns</p>\n",
       "</div>"
      ],
      "text/plain": [
       "                                                   Text label\n",
       "0      Top Trump Surrogate BRUTALLY Stabs Him In The...  Fake\n",
       "1     U.S. conservative leader optimistic of common ...  Real\n",
       "2     Trump proposes U.S. tax overhaul, stirs concer...  Real\n",
       "3      Court Forces Ohio To Allow Millions Of Illega...  Fake\n",
       "4     Democrats say Trump agrees to work on immigrat...  Real\n",
       "...                                                 ...   ...\n",
       "9895   Wikileaks Admits To Screwing Up IMMENSELY Wit...  Fake\n",
       "9896  Trump consults Republican senators on Fed chie...  Real\n",
       "9897  Trump lawyers say judge lacks jurisdiction for...  Real\n",
       "9898   WATCH: Right-Wing Pastor Falsely Credits Trum...  Fake\n",
       "9899   Sean Spicer HILARIOUSLY Branded As Chickensh*...  Fake\n",
       "\n",
       "[9900 rows x 2 columns]"
      ]
     },
     "execution_count": 2,
     "metadata": {},
     "output_type": "execute_result"
    }
   ],
   "source": [
    "import pandas as pd\n",
    "df=pd.read_csv(r\"C:\\Users\\sohan\\Downloads\\Fake_Real_data.csv\")\n",
    "df"
   ]
  },
  {
   "cell_type": "code",
   "execution_count": 3,
   "id": "cabccd17",
   "metadata": {},
   "outputs": [
    {
     "data": {
      "text/plain": [
       "(9900, 2)"
      ]
     },
     "execution_count": 3,
     "metadata": {},
     "output_type": "execute_result"
    }
   ],
   "source": [
    "df.shape"
   ]
  },
  {
   "cell_type": "code",
   "execution_count": 4,
   "id": "fccb5840",
   "metadata": {},
   "outputs": [
    {
     "name": "stdout",
     "output_type": "stream",
     "text": [
      "<class 'pandas.core.frame.DataFrame'>\n",
      "RangeIndex: 9900 entries, 0 to 9899\n",
      "Data columns (total 2 columns):\n",
      " #   Column  Non-Null Count  Dtype \n",
      "---  ------  --------------  ----- \n",
      " 0   Text    9900 non-null   object\n",
      " 1   label   9900 non-null   object\n",
      "dtypes: object(2)\n",
      "memory usage: 154.8+ KB\n"
     ]
    }
   ],
   "source": [
    "df.info()"
   ]
  },
  {
   "cell_type": "code",
   "execution_count": 5,
   "id": "d9888f40",
   "metadata": {},
   "outputs": [
    {
     "data": {
      "text/plain": [
       "Fake    5000\n",
       "Real    4900\n",
       "Name: label, dtype: int64"
      ]
     },
     "execution_count": 5,
     "metadata": {},
     "output_type": "execute_result"
    }
   ],
   "source": [
    "df.label.value_counts()"
   ]
  },
  {
   "cell_type": "code",
   "execution_count": 7,
   "id": "8a831fa0",
   "metadata": {},
   "outputs": [
    {
     "data": {
      "text/html": [
       "<div>\n",
       "<style scoped>\n",
       "    .dataframe tbody tr th:only-of-type {\n",
       "        vertical-align: middle;\n",
       "    }\n",
       "\n",
       "    .dataframe tbody tr th {\n",
       "        vertical-align: top;\n",
       "    }\n",
       "\n",
       "    .dataframe thead th {\n",
       "        text-align: right;\n",
       "    }\n",
       "</style>\n",
       "<table border=\"1\" class=\"dataframe\">\n",
       "  <thead>\n",
       "    <tr style=\"text-align: right;\">\n",
       "      <th></th>\n",
       "      <th>Text</th>\n",
       "      <th>label</th>\n",
       "      <th>label_num</th>\n",
       "    </tr>\n",
       "  </thead>\n",
       "  <tbody>\n",
       "    <tr>\n",
       "      <th>0</th>\n",
       "      <td>Top Trump Surrogate BRUTALLY Stabs Him In The...</td>\n",
       "      <td>Fake</td>\n",
       "      <td>0</td>\n",
       "    </tr>\n",
       "    <tr>\n",
       "      <th>1</th>\n",
       "      <td>U.S. conservative leader optimistic of common ...</td>\n",
       "      <td>Real</td>\n",
       "      <td>1</td>\n",
       "    </tr>\n",
       "    <tr>\n",
       "      <th>2</th>\n",
       "      <td>Trump proposes U.S. tax overhaul, stirs concer...</td>\n",
       "      <td>Real</td>\n",
       "      <td>1</td>\n",
       "    </tr>\n",
       "    <tr>\n",
       "      <th>3</th>\n",
       "      <td>Court Forces Ohio To Allow Millions Of Illega...</td>\n",
       "      <td>Fake</td>\n",
       "      <td>0</td>\n",
       "    </tr>\n",
       "    <tr>\n",
       "      <th>4</th>\n",
       "      <td>Democrats say Trump agrees to work on immigrat...</td>\n",
       "      <td>Real</td>\n",
       "      <td>1</td>\n",
       "    </tr>\n",
       "    <tr>\n",
       "      <th>...</th>\n",
       "      <td>...</td>\n",
       "      <td>...</td>\n",
       "      <td>...</td>\n",
       "    </tr>\n",
       "    <tr>\n",
       "      <th>9895</th>\n",
       "      <td>Wikileaks Admits To Screwing Up IMMENSELY Wit...</td>\n",
       "      <td>Fake</td>\n",
       "      <td>0</td>\n",
       "    </tr>\n",
       "    <tr>\n",
       "      <th>9896</th>\n",
       "      <td>Trump consults Republican senators on Fed chie...</td>\n",
       "      <td>Real</td>\n",
       "      <td>1</td>\n",
       "    </tr>\n",
       "    <tr>\n",
       "      <th>9897</th>\n",
       "      <td>Trump lawyers say judge lacks jurisdiction for...</td>\n",
       "      <td>Real</td>\n",
       "      <td>1</td>\n",
       "    </tr>\n",
       "    <tr>\n",
       "      <th>9898</th>\n",
       "      <td>WATCH: Right-Wing Pastor Falsely Credits Trum...</td>\n",
       "      <td>Fake</td>\n",
       "      <td>0</td>\n",
       "    </tr>\n",
       "    <tr>\n",
       "      <th>9899</th>\n",
       "      <td>Sean Spicer HILARIOUSLY Branded As Chickensh*...</td>\n",
       "      <td>Fake</td>\n",
       "      <td>0</td>\n",
       "    </tr>\n",
       "  </tbody>\n",
       "</table>\n",
       "<p>9900 rows × 3 columns</p>\n",
       "</div>"
      ],
      "text/plain": [
       "                                                   Text label  label_num\n",
       "0      Top Trump Surrogate BRUTALLY Stabs Him In The...  Fake          0\n",
       "1     U.S. conservative leader optimistic of common ...  Real          1\n",
       "2     Trump proposes U.S. tax overhaul, stirs concer...  Real          1\n",
       "3      Court Forces Ohio To Allow Millions Of Illega...  Fake          0\n",
       "4     Democrats say Trump agrees to work on immigrat...  Real          1\n",
       "...                                                 ...   ...        ...\n",
       "9895   Wikileaks Admits To Screwing Up IMMENSELY Wit...  Fake          0\n",
       "9896  Trump consults Republican senators on Fed chie...  Real          1\n",
       "9897  Trump lawyers say judge lacks jurisdiction for...  Real          1\n",
       "9898   WATCH: Right-Wing Pastor Falsely Credits Trum...  Fake          0\n",
       "9899   Sean Spicer HILARIOUSLY Branded As Chickensh*...  Fake          0\n",
       "\n",
       "[9900 rows x 3 columns]"
      ]
     },
     "execution_count": 7,
     "metadata": {},
     "output_type": "execute_result"
    }
   ],
   "source": [
    "df['label_num']=df['label'].map({'Fake':0,'Real':1})\n",
    "df"
   ]
  },
  {
   "cell_type": "code",
   "execution_count": 12,
   "id": "03e062c6",
   "metadata": {},
   "outputs": [],
   "source": [
    "#Modelling without Pre-processing Text data"
   ]
  },
  {
   "cell_type": "code",
   "execution_count": 8,
   "id": "814c0133",
   "metadata": {},
   "outputs": [],
   "source": [
    "from sklearn.model_selection import train_test_split\n",
    "X_train,X_test,y_train,y_test=train_test_split(df.Text,df.label_num,test_size=0.2,stratify=df.label_num)"
   ]
  },
  {
   "cell_type": "code",
   "execution_count": 9,
   "id": "6ee2bf64",
   "metadata": {},
   "outputs": [
    {
     "data": {
      "text/plain": [
       "(7920,)"
      ]
     },
     "execution_count": 9,
     "metadata": {},
     "output_type": "execute_result"
    }
   ],
   "source": [
    "X_train.shape"
   ]
  },
  {
   "cell_type": "code",
   "execution_count": 10,
   "id": "11c45b49",
   "metadata": {},
   "outputs": [
    {
     "data": {
      "text/plain": [
       "(1980,)"
      ]
     },
     "execution_count": 10,
     "metadata": {},
     "output_type": "execute_result"
    }
   ],
   "source": [
    "X_test.shape"
   ]
  },
  {
   "cell_type": "code",
   "execution_count": 11,
   "id": "c9ff55bf",
   "metadata": {},
   "outputs": [
    {
     "data": {
      "text/plain": [
       "(7920,)"
      ]
     },
     "execution_count": 11,
     "metadata": {},
     "output_type": "execute_result"
    }
   ],
   "source": [
    "y_train.shape"
   ]
  },
  {
   "cell_type": "code",
   "execution_count": 13,
   "id": "b0292ce5",
   "metadata": {},
   "outputs": [],
   "source": [
    "# Attempt 1 :\n",
    "\n",
    "# using sklearn pipeline module create a classification pipeline to classify the Data.\n",
    "# Note:\n",
    "\n",
    "# using CountVectorizer with unigram, bigram, and trigrams.\n",
    "# use KNN as the classifier with n_neighbors of 10 and metric as 'euclidean' distance.\n",
    "# print the classification report."
   ]
  },
  {
   "cell_type": "code",
   "execution_count": 15,
   "id": "b8360ed0",
   "metadata": {},
   "outputs": [],
   "source": [
    "from sklearn.feature_extraction.text import CountVectorizer\n",
    "from sklearn.pipeline import Pipeline\n",
    "from sklearn.neighbors import KNeighborsClassifier\n",
    "from sklearn.metrics import classification_report\n"
   ]
  },
  {
   "cell_type": "code",
   "execution_count": 20,
   "id": "2aee2f7a",
   "metadata": {},
   "outputs": [
    {
     "name": "stdout",
     "output_type": "stream",
     "text": [
      "              precision    recall  f1-score   support\n",
      "\n",
      "           0       0.96      0.47      0.63      1000\n",
      "           1       0.64      0.98      0.78       980\n",
      "\n",
      "    accuracy                           0.72      1980\n",
      "   macro avg       0.80      0.72      0.70      1980\n",
      "weighted avg       0.80      0.72      0.70      1980\n",
      "\n"
     ]
    }
   ],
   "source": [
    "clf=Pipeline([\n",
    "    ('vectorizer_trigrams',CountVectorizer(ngram_range=(1,3))),\n",
    "    ('KNN',KNeighborsClassifier(n_neighbors=10,metric='euclidean'))\n",
    "])\n",
    "\n",
    "clf.fit(X_train,y_train)\n",
    "                                                                         \n",
    "y_pred=clf.predict(X_test)\n",
    "                                                                         \n",
    "print(classification_report(y_test,y_pred))                                                                        \n",
    "                                                                                                     "
   ]
  },
  {
   "cell_type": "code",
   "execution_count": 23,
   "id": "0f3dcfc1",
   "metadata": {},
   "outputs": [
    {
     "name": "stdout",
     "output_type": "stream",
     "text": [
      "              precision    recall  f1-score   support\n",
      "\n",
      "           0       1.00      0.44      0.61      1000\n",
      "           1       0.64      1.00      0.78       980\n",
      "\n",
      "    accuracy                           0.72      1980\n",
      "   macro avg       0.82      0.72      0.69      1980\n",
      "weighted avg       0.82      0.72      0.69      1980\n",
      "\n"
     ]
    }
   ],
   "source": [
    "clf=Pipeline([('vectorizer_trigrams',CountVectorizer(ngram_range=(1,3))),('KNN',KNeighborsClassifier(n_neighbors=10,metric='cosine'))])\n",
    "clf.fit(X_train,y_train)\n",
    "y_pred=clf.predict(X_test)\n",
    "print(classification_report(y_test,y_pred))"
   ]
  },
  {
   "cell_type": "code",
   "execution_count": 21,
   "id": "d6a12be1",
   "metadata": {},
   "outputs": [
    {
     "name": "stdout",
     "output_type": "stream",
     "text": [
      "              precision    recall  f1-score   support\n",
      "\n",
      "           0       0.99      1.00      0.99      1000\n",
      "           1       1.00      0.99      0.99       980\n",
      "\n",
      "    accuracy                           0.99      1980\n",
      "   macro avg       0.99      0.99      0.99      1980\n",
      "weighted avg       0.99      0.99      0.99      1980\n",
      "\n"
     ]
    }
   ],
   "source": [
    "#Random Forest Classifier\n",
    "\n",
    "from sklearn.ensemble import RandomForestClassifier\n",
    "\n",
    "clf=Pipeline([('vectorizer_trigrams',CountVectorizer(ngram_range=(1,3))),('random_forest',RandomForestClassifier())])\n",
    "\n",
    "clf.fit(X_train,y_train)\n",
    "y_pred=clf.predict(X_test)\n",
    "print(classification_report(y_test,y_pred))"
   ]
  },
  {
   "cell_type": "code",
   "execution_count": 24,
   "id": "de84a80e",
   "metadata": {},
   "outputs": [
    {
     "name": "stdout",
     "output_type": "stream",
     "text": [
      "              precision    recall  f1-score   support\n",
      "\n",
      "           0       0.99      0.99      0.99      1000\n",
      "           1       0.99      0.99      0.99       980\n",
      "\n",
      "    accuracy                           0.99      1980\n",
      "   macro avg       0.99      0.99      0.99      1980\n",
      "weighted avg       0.99      0.99      0.99      1980\n",
      "\n"
     ]
    }
   ],
   "source": [
    "#naive baye's classifier\n",
    "\n",
    "from sklearn.naive_bayes import MultinomialNB\n",
    "\n",
    "clf=Pipeline([('vectorizer_trigram',CountVectorizer(ngram_range=(1,3:))),('Multi NB',MultinomialNB())])\n",
    "clf.fit(X_train,y_train)\n",
    "y_pred=clf.predict(X_test)\n",
    "print(classification_report(y_test,y_pred))"
   ]
  },
  {
   "cell_type": "code",
   "execution_count": 25,
   "id": "443ae706",
   "metadata": {},
   "outputs": [],
   "source": [
    "#Use text pre-processing to remove stop words, punctuations and apply lemmatization"
   ]
  },
  {
   "cell_type": "code",
   "execution_count": 27,
   "id": "ef9bfca3",
   "metadata": {},
   "outputs": [],
   "source": [
    "import spacy\n",
    "nlp=spacy.load('en_core_web_sm')\n",
    "\n",
    "\n",
    "def preprocess(text):\n",
    "    doc=nlp(text)\n",
    "    filtered_tokens=[]\n",
    "    for token in doc:\n",
    "        if token.is_stop or token.is_punct:\n",
    "            continue\n",
    "        filtered_tokens.append(token.lemma_)\n",
    "    return \" \".join(filtered_tokens)    \n"
   ]
  },
  {
   "cell_type": "code",
   "execution_count": 28,
   "id": "264b7b56",
   "metadata": {},
   "outputs": [
    {
     "data": {
      "text/html": [
       "<div>\n",
       "<style scoped>\n",
       "    .dataframe tbody tr th:only-of-type {\n",
       "        vertical-align: middle;\n",
       "    }\n",
       "\n",
       "    .dataframe tbody tr th {\n",
       "        vertical-align: top;\n",
       "    }\n",
       "\n",
       "    .dataframe thead th {\n",
       "        text-align: right;\n",
       "    }\n",
       "</style>\n",
       "<table border=\"1\" class=\"dataframe\">\n",
       "  <thead>\n",
       "    <tr style=\"text-align: right;\">\n",
       "      <th></th>\n",
       "      <th>Text</th>\n",
       "      <th>label</th>\n",
       "      <th>label_num</th>\n",
       "      <th>preprocessed_text</th>\n",
       "    </tr>\n",
       "  </thead>\n",
       "  <tbody>\n",
       "    <tr>\n",
       "      <th>0</th>\n",
       "      <td>Top Trump Surrogate BRUTALLY Stabs Him In The...</td>\n",
       "      <td>Fake</td>\n",
       "      <td>0</td>\n",
       "      <td>Trump Surrogate BRUTALLY stab pathetic video...</td>\n",
       "    </tr>\n",
       "    <tr>\n",
       "      <th>1</th>\n",
       "      <td>U.S. conservative leader optimistic of common ...</td>\n",
       "      <td>Real</td>\n",
       "      <td>1</td>\n",
       "      <td>U.S. conservative leader optimistic common gro...</td>\n",
       "    </tr>\n",
       "    <tr>\n",
       "      <th>2</th>\n",
       "      <td>Trump proposes U.S. tax overhaul, stirs concer...</td>\n",
       "      <td>Real</td>\n",
       "      <td>1</td>\n",
       "      <td>trump propose U.S. tax overhaul stir concern d...</td>\n",
       "    </tr>\n",
       "    <tr>\n",
       "      <th>3</th>\n",
       "      <td>Court Forces Ohio To Allow Millions Of Illega...</td>\n",
       "      <td>Fake</td>\n",
       "      <td>0</td>\n",
       "      <td>Court Forces Ohio allow Millions illegally p...</td>\n",
       "    </tr>\n",
       "    <tr>\n",
       "      <th>4</th>\n",
       "      <td>Democrats say Trump agrees to work on immigrat...</td>\n",
       "      <td>Real</td>\n",
       "      <td>1</td>\n",
       "      <td>democrat trump agree work immigration bill wal...</td>\n",
       "    </tr>\n",
       "    <tr>\n",
       "      <th>...</th>\n",
       "      <td>...</td>\n",
       "      <td>...</td>\n",
       "      <td>...</td>\n",
       "      <td>...</td>\n",
       "    </tr>\n",
       "    <tr>\n",
       "      <th>9895</th>\n",
       "      <td>Wikileaks Admits To Screwing Up IMMENSELY Wit...</td>\n",
       "      <td>Fake</td>\n",
       "      <td>0</td>\n",
       "      <td>Wikileaks admit screwing IMMENSELY Twitter P...</td>\n",
       "    </tr>\n",
       "    <tr>\n",
       "      <th>9896</th>\n",
       "      <td>Trump consults Republican senators on Fed chie...</td>\n",
       "      <td>Real</td>\n",
       "      <td>1</td>\n",
       "      <td>trump consult republican senator Fed chief can...</td>\n",
       "    </tr>\n",
       "    <tr>\n",
       "      <th>9897</th>\n",
       "      <td>Trump lawyers say judge lacks jurisdiction for...</td>\n",
       "      <td>Real</td>\n",
       "      <td>1</td>\n",
       "      <td>trump lawyer judge lack jurisdiction defamatio...</td>\n",
       "    </tr>\n",
       "    <tr>\n",
       "      <th>9898</th>\n",
       "      <td>WATCH: Right-Wing Pastor Falsely Credits Trum...</td>\n",
       "      <td>Fake</td>\n",
       "      <td>0</td>\n",
       "      <td>WATCH right wing pastor Falsely Credits Trum...</td>\n",
       "    </tr>\n",
       "    <tr>\n",
       "      <th>9899</th>\n",
       "      <td>Sean Spicer HILARIOUSLY Branded As Chickensh*...</td>\n",
       "      <td>Fake</td>\n",
       "      <td>0</td>\n",
       "      <td>Sean Spicer hilariously brand Chickensh*t bo...</td>\n",
       "    </tr>\n",
       "  </tbody>\n",
       "</table>\n",
       "<p>9900 rows × 4 columns</p>\n",
       "</div>"
      ],
      "text/plain": [
       "                                                   Text label  label_num  \\\n",
       "0      Top Trump Surrogate BRUTALLY Stabs Him In The...  Fake          0   \n",
       "1     U.S. conservative leader optimistic of common ...  Real          1   \n",
       "2     Trump proposes U.S. tax overhaul, stirs concer...  Real          1   \n",
       "3      Court Forces Ohio To Allow Millions Of Illega...  Fake          0   \n",
       "4     Democrats say Trump agrees to work on immigrat...  Real          1   \n",
       "...                                                 ...   ...        ...   \n",
       "9895   Wikileaks Admits To Screwing Up IMMENSELY Wit...  Fake          0   \n",
       "9896  Trump consults Republican senators on Fed chie...  Real          1   \n",
       "9897  Trump lawyers say judge lacks jurisdiction for...  Real          1   \n",
       "9898   WATCH: Right-Wing Pastor Falsely Credits Trum...  Fake          0   \n",
       "9899   Sean Spicer HILARIOUSLY Branded As Chickensh*...  Fake          0   \n",
       "\n",
       "                                      preprocessed_text  \n",
       "0       Trump Surrogate BRUTALLY stab pathetic video...  \n",
       "1     U.S. conservative leader optimistic common gro...  \n",
       "2     trump propose U.S. tax overhaul stir concern d...  \n",
       "3       Court Forces Ohio allow Millions illegally p...  \n",
       "4     democrat trump agree work immigration bill wal...  \n",
       "...                                                 ...  \n",
       "9895    Wikileaks admit screwing IMMENSELY Twitter P...  \n",
       "9896  trump consult republican senator Fed chief can...  \n",
       "9897  trump lawyer judge lack jurisdiction defamatio...  \n",
       "9898    WATCH right wing pastor Falsely Credits Trum...  \n",
       "9899    Sean Spicer hilariously brand Chickensh*t bo...  \n",
       "\n",
       "[9900 rows x 4 columns]"
      ]
     },
     "execution_count": 28,
     "metadata": {},
     "output_type": "execute_result"
    }
   ],
   "source": [
    "df['preprocessed_text']=df['Text'].apply(preprocess)\n",
    "df"
   ]
  },
  {
   "cell_type": "code",
   "execution_count": 29,
   "id": "8612e92e",
   "metadata": {},
   "outputs": [],
   "source": [
    "#Build a model with pre-processed text using Random Forest\n",
    "X_train,X_test,y_train,y_test=train_test_split(df.preprocessed_text,df.label_num,test_size=0.2,random_state=2022,stratify=df.label_num)"
   ]
  },
  {
   "cell_type": "code",
   "execution_count": 30,
   "id": "debaefb2",
   "metadata": {},
   "outputs": [
    {
     "name": "stdout",
     "output_type": "stream",
     "text": [
      "              precision    recall  f1-score   support\n",
      "\n",
      "           0       1.00      1.00      1.00      1000\n",
      "           1       1.00      1.00      1.00       980\n",
      "\n",
      "    accuracy                           1.00      1980\n",
      "   macro avg       1.00      1.00      1.00      1980\n",
      "weighted avg       1.00      1.00      1.00      1980\n",
      "\n"
     ]
    }
   ],
   "source": [
    "clf=Pipeline([('vectorizer_trigrams',CountVectorizer(ngram_range=(1,3))),('random_forest',RandomForestClassifier())])\n",
    "clf.fit(X_train,y_train)\n",
    "y_pred=clf.predict(X_test)\n",
    "print(classification_report(y_test,y_pred))"
   ]
  },
  {
   "cell_type": "code",
   "execution_count": 31,
   "id": "67af8065",
   "metadata": {},
   "outputs": [
    {
     "data": {
      "text/plain": [
       "array([[999,   1],\n",
       "       [  4, 976]], dtype=int64)"
      ]
     },
     "execution_count": 31,
     "metadata": {},
     "output_type": "execute_result"
    }
   ],
   "source": [
    "from sklearn.metrics import confusion_matrix\n",
    "cm=confusion_matrix(y_test,y_pred)\n",
    "cm"
   ]
  },
  {
   "cell_type": "code",
   "execution_count": 32,
   "id": "4417d823",
   "metadata": {},
   "outputs": [
    {
     "data": {
      "text/plain": [
       "Text(69.0, 0.5, 'Truth')"
      ]
     },
     "execution_count": 32,
     "metadata": {},
     "output_type": "execute_result"
    },
    {
     "data": {
      "image/png": "[encoded data removed]",
      "text/plain": [
       "<Figure size 720x504 with 2 Axes>"
      ]
     },
     "metadata": {
      "needs_background": "light"
     },
     "output_type": "display_data"
    }
   ],
   "source": [
    "import seaborn as sn\n",
    "import matplotlib.pyplot as plt\n",
    "plt.figure(figsize=(10,7))\n",
    "sn.heatmap(cm,annot=True,fmt='d')\n",
    "plt.xlabel(\"Prediction\")\n",
    "plt.ylabel(\"Truth\")"
   ]
  },
  {
   "cell_type": "code",
   "execution_count": 6,
   "id": "526ed373",
   "metadata": {},
   "outputs": [],
   "source": [
    "#TF-IDF Vectorize"
   ]
  },
  {
   "cell_type": "code",
   "execution_count": 7,
   "id": "15c7a3c9",
   "metadata": {},
   "outputs": [],
   "source": [
    "from sklearn.feature_extraction.text import TfidfVectorizer"
   ]
  },
  {
   "cell_type": "code",
   "execution_count": 8,
   "id": "e5df3abf",
   "metadata": {},
   "outputs": [],
   "source": [
    "corpus=[\n",
    "    \"Thor eating pizza, Loki is eating pizza, Ironman ate pizza already\",\n",
    "    \"Apple is announcing new iphone tomorrow\",\n",
    "    \"Tesla is announcing new model-3 tomorrow\",\n",
    "    \"Google is announcing new pixel-6 tomorrow\",\n",
    "    \"Microsoft is announcing new surface tomorrow\",\n",
    "    \"Amazon is announcing new eco-dot tomorrow\",\n",
    "    \"I am eating biryani and you are eating grapes\"\n",
    "]"
   ]
  },
  {
   "cell_type": "code",
   "execution_count": 9,
   "id": "2182dbad",
   "metadata": {},
   "outputs": [],
   "source": [
    "v=TfidfVectorizer()\n",
    "transformed_output=v.fit_transform(corpus)"
   ]
  },
  {
   "cell_type": "code",
   "execution_count": 10,
   "id": "84616aff",
   "metadata": {},
   "outputs": [
    {
     "data": {
      "text/plain": [
       "{'thor': 25,\n",
       " 'eating': 10,\n",
       " 'pizza': 22,\n",
       " 'loki': 17,\n",
       " 'is': 16,\n",
       " 'ironman': 15,\n",
       " 'ate': 7,\n",
       " 'already': 0,\n",
       " 'apple': 5,\n",
       " 'announcing': 4,\n",
       " 'new': 20,\n",
       " 'iphone': 14,\n",
       " 'tomorrow': 26,\n",
       " 'tesla': 24,\n",
       " 'model': 19,\n",
       " 'google': 12,\n",
       " 'pixel': 21,\n",
       " 'microsoft': 18,\n",
       " 'surface': 23,\n",
       " 'amazon': 2,\n",
       " 'eco': 11,\n",
       " 'dot': 9,\n",
       " 'am': 1,\n",
       " 'biryani': 8,\n",
       " 'and': 3,\n",
       " 'you': 27,\n",
       " 'are': 6,\n",
       " 'grapes': 13}"
      ]
     },
     "execution_count": 10,
     "metadata": {},
     "output_type": "execute_result"
    }
   ],
   "source": [
    "v.vocabulary_"
   ]
  },
  {
   "cell_type": "code",
   "execution_count": 11,
   "id": "01a753af",
   "metadata": {},
   "outputs": [
    {
     "name": "stdout",
     "output_type": "stream",
     "text": [
      "{'thor': 25, 'eating': 10, 'pizza': 22, 'loki': 17, 'is': 16, 'ironman': 15, 'ate': 7, 'already': 0, 'apple': 5, 'announcing': 4, 'new': 20, 'iphone': 14, 'tomorrow': 26, 'tesla': 24, 'model': 19, 'google': 12, 'pixel': 21, 'microsoft': 18, 'surface': 23, 'amazon': 2, 'eco': 11, 'dot': 9, 'am': 1, 'biryani': 8, 'and': 3, 'you': 27, 'are': 6, 'grapes': 13}\n"
     ]
    }
   ],
   "source": [
    "print(v.vocabulary_)"
   ]
  },
  {
   "cell_type": "code",
   "execution_count": 12,
   "id": "b39d1f2b",
   "metadata": {},
   "outputs": [
    {
     "name": "stdout",
     "output_type": "stream",
     "text": [
      "already:2.386294361119891\n",
      "am:2.386294361119891\n",
      "amazon:2.386294361119891\n",
      "and:2.386294361119891\n",
      "announcing:1.2876820724517808\n",
      "apple:2.386294361119891\n",
      "are:2.386294361119891\n",
      "ate:2.386294361119891\n",
      "biryani:2.386294361119891\n",
      "dot:2.386294361119891\n",
      "eating:1.9808292530117262\n",
      "eco:2.386294361119891\n",
      "google:2.386294361119891\n",
      "grapes:2.386294361119891\n",
      "iphone:2.386294361119891\n",
      "ironman:2.386294361119891\n",
      "is:1.1335313926245225\n",
      "loki:2.386294361119891\n",
      "microsoft:2.386294361119891\n",
      "model:2.386294361119891\n",
      "new:1.2876820724517808\n",
      "pixel:2.386294361119891\n",
      "pizza:2.386294361119891\n",
      "surface:2.386294361119891\n",
      "tesla:2.386294361119891\n",
      "thor:2.386294361119891\n",
      "tomorrow:1.2876820724517808\n",
      "you:2.386294361119891\n"
     ]
    }
   ],
   "source": [
    "#Let's print the idf of each word\n",
    "all_feature_names=v.get_feature_names_out()\n",
    "for word in all_feature_names:\n",
    "    indx=v.vocabulary_.get(word)\n",
    "    idf_score=v.idf_[indx]\n",
    "    print(f\"{word}:{idf_score}\")\n"
   ]
  },
  {
   "cell_type": "code",
   "execution_count": 13,
   "id": "7edb14af",
   "metadata": {},
   "outputs": [
    {
     "name": "stdout",
     "output_type": "stream",
     "text": [
      "[[0.24266547 0.         0.         0.         0.         0.\n",
      "  0.         0.24266547 0.         0.         0.40286636 0.\n",
      "  0.         0.         0.         0.24266547 0.11527033 0.24266547\n",
      "  0.         0.         0.         0.         0.72799642 0.\n",
      "  0.         0.24266547 0.         0.        ]\n",
      " [0.         0.         0.         0.         0.30652086 0.5680354\n",
      "  0.         0.         0.         0.         0.         0.\n",
      "  0.         0.         0.5680354  0.         0.26982671 0.\n",
      "  0.         0.         0.30652086 0.         0.         0.\n",
      "  0.         0.         0.30652086 0.        ]\n",
      " [0.         0.         0.         0.         0.30652086 0.\n",
      "  0.         0.         0.         0.         0.         0.\n",
      "  0.         0.         0.         0.         0.26982671 0.\n",
      "  0.         0.5680354  0.30652086 0.         0.         0.\n",
      "  0.5680354  0.         0.30652086 0.        ]\n",
      " [0.         0.         0.         0.         0.30652086 0.\n",
      "  0.         0.         0.         0.         0.         0.\n",
      "  0.5680354  0.         0.         0.         0.26982671 0.\n",
      "  0.         0.         0.30652086 0.5680354  0.         0.\n",
      "  0.         0.         0.30652086 0.        ]\n",
      " [0.         0.         0.         0.         0.30652086 0.\n",
      "  0.         0.         0.         0.         0.         0.\n",
      "  0.         0.         0.         0.         0.26982671 0.\n",
      "  0.5680354  0.         0.30652086 0.         0.         0.5680354\n",
      "  0.         0.         0.30652086 0.        ]\n",
      " [0.         0.         0.49391316 0.         0.26652333 0.\n",
      "  0.         0.         0.         0.49391316 0.         0.49391316\n",
      "  0.         0.         0.         0.         0.23461736 0.\n",
      "  0.         0.         0.26652333 0.         0.         0.\n",
      "  0.         0.         0.26652333 0.        ]\n",
      " [0.         0.33794257 0.         0.33794257 0.         0.\n",
      "  0.33794257 0.         0.33794257 0.         0.56104271 0.\n",
      "  0.         0.33794257 0.         0.         0.         0.\n",
      "  0.         0.         0.         0.         0.         0.\n",
      "  0.         0.         0.         0.33794257]]\n"
     ]
    }
   ],
   "source": [
    "print(transformed_output.toarray())"
   ]
  },
  {
   "cell_type": "code",
   "execution_count": 61,
   "id": "c6dd27e8",
   "metadata": {},
   "outputs": [],
   "source": [
    "#Emotion Classification"
   ]
  },
  {
   "cell_type": "code",
   "execution_count": 62,
   "id": "19827edb",
   "metadata": {},
   "outputs": [],
   "source": [
    "import pandas as pd"
   ]
  },
  {
   "cell_type": "code",
   "execution_count": 63,
   "id": "15e52323",
   "metadata": {},
   "outputs": [],
   "source": [
    "df=pd.read_csv(r\"C:\\Users\\sohan\\Downloads\\Emotion_classify_Data.csv\")"
   ]
  },
  {
   "cell_type": "code",
   "execution_count": 64,
   "id": "1d258f05",
   "metadata": {},
   "outputs": [
    {
     "data": {
      "text/html": [
       "<div>\n",
       "<style scoped>\n",
       "    .dataframe tbody tr th:only-of-type {\n",
       "        vertical-align: middle;\n",
       "    }\n",
       "\n",
       "    .dataframe tbody tr th {\n",
       "        vertical-align: top;\n",
       "    }\n",
       "\n",
       "    .dataframe thead th {\n",
       "        text-align: right;\n",
       "    }\n",
       "</style>\n",
       "<table border=\"1\" class=\"dataframe\">\n",
       "  <thead>\n",
       "    <tr style=\"text-align: right;\">\n",
       "      <th></th>\n",
       "      <th>Comment</th>\n",
       "      <th>Emotion</th>\n",
       "    </tr>\n",
       "  </thead>\n",
       "  <tbody>\n",
       "    <tr>\n",
       "      <th>0</th>\n",
       "      <td>i seriously hate one subject to death but now ...</td>\n",
       "      <td>fear</td>\n",
       "    </tr>\n",
       "    <tr>\n",
       "      <th>1</th>\n",
       "      <td>im so full of life i feel appalled</td>\n",
       "      <td>anger</td>\n",
       "    </tr>\n",
       "    <tr>\n",
       "      <th>2</th>\n",
       "      <td>i sit here to write i start to dig out my feel...</td>\n",
       "      <td>fear</td>\n",
       "    </tr>\n",
       "    <tr>\n",
       "      <th>3</th>\n",
       "      <td>ive been really angry with r and i feel like a...</td>\n",
       "      <td>joy</td>\n",
       "    </tr>\n",
       "    <tr>\n",
       "      <th>4</th>\n",
       "      <td>i feel suspicious if there is no one outside l...</td>\n",
       "      <td>fear</td>\n",
       "    </tr>\n",
       "    <tr>\n",
       "      <th>...</th>\n",
       "      <td>...</td>\n",
       "      <td>...</td>\n",
       "    </tr>\n",
       "    <tr>\n",
       "      <th>5932</th>\n",
       "      <td>i begun to feel distressed for you</td>\n",
       "      <td>fear</td>\n",
       "    </tr>\n",
       "    <tr>\n",
       "      <th>5933</th>\n",
       "      <td>i left feeling annoyed and angry thinking that...</td>\n",
       "      <td>anger</td>\n",
       "    </tr>\n",
       "    <tr>\n",
       "      <th>5934</th>\n",
       "      <td>i were to ever get married i d have everything...</td>\n",
       "      <td>joy</td>\n",
       "    </tr>\n",
       "    <tr>\n",
       "      <th>5935</th>\n",
       "      <td>i feel reluctant in applying there because i w...</td>\n",
       "      <td>fear</td>\n",
       "    </tr>\n",
       "    <tr>\n",
       "      <th>5936</th>\n",
       "      <td>i just wanted to apologize to you because i fe...</td>\n",
       "      <td>anger</td>\n",
       "    </tr>\n",
       "  </tbody>\n",
       "</table>\n",
       "<p>5937 rows × 2 columns</p>\n",
       "</div>"
      ],
      "text/plain": [
       "                                                Comment Emotion\n",
       "0     i seriously hate one subject to death but now ...    fear\n",
       "1                    im so full of life i feel appalled   anger\n",
       "2     i sit here to write i start to dig out my feel...    fear\n",
       "3     ive been really angry with r and i feel like a...     joy\n",
       "4     i feel suspicious if there is no one outside l...    fear\n",
       "...                                                 ...     ...\n",
       "5932                 i begun to feel distressed for you    fear\n",
       "5933  i left feeling annoyed and angry thinking that...   anger\n",
       "5934  i were to ever get married i d have everything...     joy\n",
       "5935  i feel reluctant in applying there because i w...    fear\n",
       "5936  i just wanted to apologize to you because i fe...   anger\n",
       "\n",
       "[5937 rows x 2 columns]"
      ]
     },
     "execution_count": 64,
     "metadata": {},
     "output_type": "execute_result"
    }
   ],
   "source": [
    "df"
   ]
  },
  {
   "cell_type": "code",
   "execution_count": 65,
   "id": "f18c02b0",
   "metadata": {},
   "outputs": [
    {
     "data": {
      "text/plain": [
       "(5937, 2)"
      ]
     },
     "execution_count": 65,
     "metadata": {},
     "output_type": "execute_result"
    }
   ],
   "source": [
    "df.shape"
   ]
  },
  {
   "cell_type": "code",
   "execution_count": 66,
   "id": "569e5db3",
   "metadata": {},
   "outputs": [
    {
     "name": "stdout",
     "output_type": "stream",
     "text": [
      "<class 'pandas.core.frame.DataFrame'>\n",
      "RangeIndex: 5937 entries, 0 to 5936\n",
      "Data columns (total 2 columns):\n",
      " #   Column   Non-Null Count  Dtype \n",
      "---  ------   --------------  ----- \n",
      " 0   Comment  5937 non-null   object\n",
      " 1   Emotion  5937 non-null   object\n",
      "dtypes: object(2)\n",
      "memory usage: 92.9+ KB\n"
     ]
    }
   ],
   "source": [
    "df.info()"
   ]
  },
  {
   "cell_type": "code",
   "execution_count": 67,
   "id": "62c42ff5",
   "metadata": {},
   "outputs": [
    {
     "data": {
      "text/html": [
       "<div>\n",
       "<style scoped>\n",
       "    .dataframe tbody tr th:only-of-type {\n",
       "        vertical-align: middle;\n",
       "    }\n",
       "\n",
       "    .dataframe tbody tr th {\n",
       "        vertical-align: top;\n",
       "    }\n",
       "\n",
       "    .dataframe thead th {\n",
       "        text-align: right;\n",
       "    }\n",
       "</style>\n",
       "<table border=\"1\" class=\"dataframe\">\n",
       "  <thead>\n",
       "    <tr style=\"text-align: right;\">\n",
       "      <th></th>\n",
       "      <th>Comment</th>\n",
       "      <th>Emotion</th>\n",
       "    </tr>\n",
       "  </thead>\n",
       "  <tbody>\n",
       "    <tr>\n",
       "      <th>0</th>\n",
       "      <td>i seriously hate one subject to death but now ...</td>\n",
       "      <td>fear</td>\n",
       "    </tr>\n",
       "    <tr>\n",
       "      <th>1</th>\n",
       "      <td>im so full of life i feel appalled</td>\n",
       "      <td>anger</td>\n",
       "    </tr>\n",
       "    <tr>\n",
       "      <th>2</th>\n",
       "      <td>i sit here to write i start to dig out my feel...</td>\n",
       "      <td>fear</td>\n",
       "    </tr>\n",
       "    <tr>\n",
       "      <th>3</th>\n",
       "      <td>ive been really angry with r and i feel like a...</td>\n",
       "      <td>joy</td>\n",
       "    </tr>\n",
       "    <tr>\n",
       "      <th>4</th>\n",
       "      <td>i feel suspicious if there is no one outside l...</td>\n",
       "      <td>fear</td>\n",
       "    </tr>\n",
       "  </tbody>\n",
       "</table>\n",
       "</div>"
      ],
      "text/plain": [
       "                                             Comment Emotion\n",
       "0  i seriously hate one subject to death but now ...    fear\n",
       "1                 im so full of life i feel appalled   anger\n",
       "2  i sit here to write i start to dig out my feel...    fear\n",
       "3  ive been really angry with r and i feel like a...     joy\n",
       "4  i feel suspicious if there is no one outside l...    fear"
      ]
     },
     "execution_count": 67,
     "metadata": {},
     "output_type": "execute_result"
    }
   ],
   "source": [
    "df.head()"
   ]
  },
  {
   "cell_type": "code",
   "execution_count": 68,
   "id": "3f552a86",
   "metadata": {},
   "outputs": [
    {
     "data": {
      "text/plain": [
       "Index(['Comment', 'Emotion'], dtype='object')"
      ]
     },
     "execution_count": 68,
     "metadata": {},
     "output_type": "execute_result"
    }
   ],
   "source": [
    "df.columns\n"
   ]
  },
  {
   "cell_type": "code",
   "execution_count": 69,
   "id": "62e20253",
   "metadata": {},
   "outputs": [
    {
     "data": {
      "text/plain": [
       "anger    2000\n",
       "joy      2000\n",
       "fear     1937\n",
       "Name: Emotion, dtype: int64"
      ]
     },
     "execution_count": 69,
     "metadata": {},
     "output_type": "execute_result"
    }
   ],
   "source": [
    "df['Emotion'].value_counts()"
   ]
  },
  {
   "cell_type": "code",
   "execution_count": 70,
   "id": "6fd9e3f1",
   "metadata": {},
   "outputs": [],
   "source": [
    "df['emotion_num']=df['Emotion'].map({'anger':0,'joy':1,'fear':2})"
   ]
  },
  {
   "cell_type": "code",
   "execution_count": 71,
   "id": "7363c29a",
   "metadata": {},
   "outputs": [
    {
     "data": {
      "text/html": [
       "<div>\n",
       "<style scoped>\n",
       "    .dataframe tbody tr th:only-of-type {\n",
       "        vertical-align: middle;\n",
       "    }\n",
       "\n",
       "    .dataframe tbody tr th {\n",
       "        vertical-align: top;\n",
       "    }\n",
       "\n",
       "    .dataframe thead th {\n",
       "        text-align: right;\n",
       "    }\n",
       "</style>\n",
       "<table border=\"1\" class=\"dataframe\">\n",
       "  <thead>\n",
       "    <tr style=\"text-align: right;\">\n",
       "      <th></th>\n",
       "      <th>Comment</th>\n",
       "      <th>Emotion</th>\n",
       "      <th>emotion_num</th>\n",
       "    </tr>\n",
       "  </thead>\n",
       "  <tbody>\n",
       "    <tr>\n",
       "      <th>0</th>\n",
       "      <td>i seriously hate one subject to death but now ...</td>\n",
       "      <td>fear</td>\n",
       "      <td>2</td>\n",
       "    </tr>\n",
       "    <tr>\n",
       "      <th>1</th>\n",
       "      <td>im so full of life i feel appalled</td>\n",
       "      <td>anger</td>\n",
       "      <td>0</td>\n",
       "    </tr>\n",
       "    <tr>\n",
       "      <th>2</th>\n",
       "      <td>i sit here to write i start to dig out my feel...</td>\n",
       "      <td>fear</td>\n",
       "      <td>2</td>\n",
       "    </tr>\n",
       "    <tr>\n",
       "      <th>3</th>\n",
       "      <td>ive been really angry with r and i feel like a...</td>\n",
       "      <td>joy</td>\n",
       "      <td>1</td>\n",
       "    </tr>\n",
       "    <tr>\n",
       "      <th>4</th>\n",
       "      <td>i feel suspicious if there is no one outside l...</td>\n",
       "      <td>fear</td>\n",
       "      <td>2</td>\n",
       "    </tr>\n",
       "    <tr>\n",
       "      <th>...</th>\n",
       "      <td>...</td>\n",
       "      <td>...</td>\n",
       "      <td>...</td>\n",
       "    </tr>\n",
       "    <tr>\n",
       "      <th>5932</th>\n",
       "      <td>i begun to feel distressed for you</td>\n",
       "      <td>fear</td>\n",
       "      <td>2</td>\n",
       "    </tr>\n",
       "    <tr>\n",
       "      <th>5933</th>\n",
       "      <td>i left feeling annoyed and angry thinking that...</td>\n",
       "      <td>anger</td>\n",
       "      <td>0</td>\n",
       "    </tr>\n",
       "    <tr>\n",
       "      <th>5934</th>\n",
       "      <td>i were to ever get married i d have everything...</td>\n",
       "      <td>joy</td>\n",
       "      <td>1</td>\n",
       "    </tr>\n",
       "    <tr>\n",
       "      <th>5935</th>\n",
       "      <td>i feel reluctant in applying there because i w...</td>\n",
       "      <td>fear</td>\n",
       "      <td>2</td>\n",
       "    </tr>\n",
       "    <tr>\n",
       "      <th>5936</th>\n",
       "      <td>i just wanted to apologize to you because i fe...</td>\n",
       "      <td>anger</td>\n",
       "      <td>0</td>\n",
       "    </tr>\n",
       "  </tbody>\n",
       "</table>\n",
       "<p>5937 rows × 3 columns</p>\n",
       "</div>"
      ],
      "text/plain": [
       "                                                Comment Emotion  emotion_num\n",
       "0     i seriously hate one subject to death but now ...    fear            2\n",
       "1                    im so full of life i feel appalled   anger            0\n",
       "2     i sit here to write i start to dig out my feel...    fear            2\n",
       "3     ive been really angry with r and i feel like a...     joy            1\n",
       "4     i feel suspicious if there is no one outside l...    fear            2\n",
       "...                                                 ...     ...          ...\n",
       "5932                 i begun to feel distressed for you    fear            2\n",
       "5933  i left feeling annoyed and angry thinking that...   anger            0\n",
       "5934  i were to ever get married i d have everything...     joy            1\n",
       "5935  i feel reluctant in applying there because i w...    fear            2\n",
       "5936  i just wanted to apologize to you because i fe...   anger            0\n",
       "\n",
       "[5937 rows x 3 columns]"
      ]
     },
     "execution_count": 71,
     "metadata": {},
     "output_type": "execute_result"
    }
   ],
   "source": [
    "df"
   ]
  },
  {
   "cell_type": "code",
   "execution_count": 72,
   "id": "ea716640",
   "metadata": {},
   "outputs": [],
   "source": [
    "#Modelling without Pre-processing Text data"
   ]
  },
  {
   "cell_type": "code",
   "execution_count": 73,
   "id": "1a5aec4a",
   "metadata": {},
   "outputs": [],
   "source": [
    "from sklearn.model_selection import train_test_split\n",
    "X_train,X_test,y_train,y_test=train_test_split(df.Comment,df.emotion_num,test_size=0.2,stratify=df.emotion_num)\n"
   ]
  },
  {
   "cell_type": "code",
   "execution_count": 75,
   "id": "a083a5d9",
   "metadata": {},
   "outputs": [
    {
     "name": "stdout",
     "output_type": "stream",
     "text": [
      "Shape of X_train: (4749,)\n",
      "Shape of X_test: (1188,)\n"
     ]
    }
   ],
   "source": [
    "print(\"Shape of X_train:\", X_train.shape)\n",
    "print(\"Shape of X_test:\",X_test.shape)"
   ]
  },
  {
   "cell_type": "code",
   "execution_count": 76,
   "id": "f8ed9f79",
   "metadata": {},
   "outputs": [],
   "source": [
    "# Attempt 1 :\n",
    "\n",
    "# using the sklearn pipeline module create a classification pipeline to classify the data.\n",
    "# Note:\n",
    "\n",
    "# using CountVectorizer with only trigrams.\n",
    "# use RandomForest as the classifier.\n",
    "# print the classification report."
   ]
  },
  {
   "cell_type": "code",
   "execution_count": 77,
   "id": "499733f6",
   "metadata": {},
   "outputs": [],
   "source": [
    "from sklearn.feature_extraction.text import CountVectorizer\n",
    "from sklearn.ensemble import RandomForestClassifier\n",
    "from sklearn.pipeline import Pipeline\n",
    "from sklearn.metrics import classification_report"
   ]
  },
  {
   "cell_type": "code",
   "execution_count": 78,
   "id": "8c172529",
   "metadata": {},
   "outputs": [
    {
     "name": "stdout",
     "output_type": "stream",
     "text": [
      "              precision    recall  f1-score   support\n",
      "\n",
      "           0       0.52      0.39      0.44       400\n",
      "           1       0.52      0.21      0.30       400\n",
      "           2       0.39      0.74      0.51       388\n",
      "\n",
      "    accuracy                           0.44      1188\n",
      "   macro avg       0.48      0.44      0.42      1188\n",
      "weighted avg       0.48      0.44      0.42      1188\n",
      "\n"
     ]
    }
   ],
   "source": [
    "clf=Pipeline([('vectorizer_tri_grams',CountVectorizer(ngram_range=(3,3))),('random_forest',RandomForestClassifier())])\n",
    "clf.fit(X_train,y_train)\n",
    "y_pred=clf.predict(X_test)\n",
    "print(classification_report(y_test,y_pred))\n"
   ]
  },
  {
   "cell_type": "code",
   "execution_count": 79,
   "id": "bbf6d8ae",
   "metadata": {},
   "outputs": [],
   "source": [
    "# Attempt 2 :\n",
    "\n",
    "# using the sklearn pipeline module create a classification pipeline to classify the data.\n",
    "# Note:\n",
    "\n",
    "# using CountVectorizer with both unigram and bigrams.\n",
    "# use Multinomial Naive Bayes as the classifier.\n",
    "# print the classification report."
   ]
  },
  {
   "cell_type": "code",
   "execution_count": 80,
   "id": "67ff5c2f",
   "metadata": {},
   "outputs": [
    {
     "name": "stdout",
     "output_type": "stream",
     "text": [
      "              precision    recall  f1-score   support\n",
      "\n",
      "           0       0.84      0.89      0.86       400\n",
      "           1       0.87      0.85      0.86       400\n",
      "           2       0.89      0.86      0.87       388\n",
      "\n",
      "    accuracy                           0.87      1188\n",
      "   macro avg       0.87      0.87      0.87      1188\n",
      "weighted avg       0.87      0.87      0.87      1188\n",
      "\n"
     ]
    }
   ],
   "source": [
    "from sklearn.naive_bayes import MultinomialNB\n",
    "clf=Pipeline([('vectorizer_bi_grams',CountVectorizer(ngram_range=(1,2))),('multi_nb',MultinomialNB())])\n",
    "clf.fit(X_train,y_train)\n",
    "y_pred=clf.predict(X_test)\n",
    "print(classification_report(y_test,y_pred))"
   ]
  },
  {
   "cell_type": "code",
   "execution_count": 81,
   "id": "adc5dd6b",
   "metadata": {},
   "outputs": [],
   "source": [
    "# Attempt 3 :\n",
    "\n",
    "# using the sklearn pipeline module create a classification pipeline to classify the data.\n",
    "# Note:\n",
    "\n",
    "# using CountVectorizer with both unigram and bigrams.\n",
    "# use RandomForest as the classifier.\n",
    "# print the classification report."
   ]
  },
  {
   "cell_type": "code",
   "execution_count": 84,
   "id": "4fde6e7e",
   "metadata": {},
   "outputs": [
    {
     "name": "stdout",
     "output_type": "stream",
     "text": [
      "              precision    recall  f1-score   support\n",
      "\n",
      "           0       0.92      0.89      0.90       400\n",
      "           1       0.86      0.97      0.91       400\n",
      "           2       0.97      0.87      0.92       388\n",
      "\n",
      "    accuracy                           0.91      1188\n",
      "   macro avg       0.92      0.91      0.91      1188\n",
      "weighted avg       0.91      0.91      0.91      1188\n",
      "\n"
     ]
    }
   ],
   "source": [
    "clf=Pipeline([('vectorizer_bi_grams',CountVectorizer(ngram_range=(1,2))),('random_forest',RandomForestClassifier())])\n",
    "clf.fit(X_train,y_train)\n",
    "y_pred=clf.predict(X_test)\n",
    "print(classification_report(y_test,y_pred))"
   ]
  },
  {
   "cell_type": "code",
   "execution_count": 85,
   "id": "5d389e3a",
   "metadata": {},
   "outputs": [],
   "source": [
    "# Attempt 4 :\n",
    "\n",
    "# using the sklearn pipeline module create a classification pipeline to classify the Data.\n",
    "# Note:\n",
    "\n",
    "# using TF-IDF vectorizer for pre-processing the text.\n",
    "# use RandomForest as the classifier.\n",
    "# print the classification report."
   ]
  },
  {
   "cell_type": "code",
   "execution_count": 86,
   "id": "0ec5b4bb",
   "metadata": {},
   "outputs": [
    {
     "name": "stdout",
     "output_type": "stream",
     "text": [
      "              precision    recall  f1-score   support\n",
      "\n",
      "           0       0.93      0.90      0.91       400\n",
      "           1       0.89      0.94      0.91       400\n",
      "           2       0.94      0.91      0.93       388\n",
      "\n",
      "    accuracy                           0.92      1188\n",
      "   macro avg       0.92      0.92      0.92      1188\n",
      "weighted avg       0.92      0.92      0.92      1188\n",
      "\n"
     ]
    }
   ],
   "source": [
    "from sklearn.feature_extraction.text import TfidfVectorizer\n",
    "clf=Pipeline([('vectorizer',TfidfVectorizer()),('random_forest',RandomForestClassifier())])\n",
    "clf.fit(X_train,y_train)\n",
    "y_pred=clf.predict(X_test)\n",
    "print(classification_report(y_test,y_pred))"
   ]
  },
  {
   "cell_type": "code",
   "execution_count": 87,
   "id": "7a777457",
   "metadata": {},
   "outputs": [],
   "source": [
    "#Use text pre-processing to remove stop words, punctuations and apply lemmatization"
   ]
  },
  {
   "cell_type": "code",
   "execution_count": 88,
   "id": "41989622",
   "metadata": {},
   "outputs": [],
   "source": [
    "import spacy\n",
    "\n",
    "nlp=spacy.load('en_core_web_sm')\n",
    "\n",
    "def preprocess(text):\n",
    "    doc=nlp(text)\n",
    "    filtered_tokens=[]\n",
    "    for token in doc:\n",
    "        if token.is_stop or token.is_punct:\n",
    "            continue\n",
    "        filtered_tokens.append(token.lemma_)   \n",
    "    return \" \".join(filtered_tokens)    "
   ]
  },
  {
   "cell_type": "code",
   "execution_count": 89,
   "id": "c5724973",
   "metadata": {},
   "outputs": [
    {
     "data": {
      "text/html": [
       "<div>\n",
       "<style scoped>\n",
       "    .dataframe tbody tr th:only-of-type {\n",
       "        vertical-align: middle;\n",
       "    }\n",
       "\n",
       "    .dataframe tbody tr th {\n",
       "        vertical-align: top;\n",
       "    }\n",
       "\n",
       "    .dataframe thead th {\n",
       "        text-align: right;\n",
       "    }\n",
       "</style>\n",
       "<table border=\"1\" class=\"dataframe\">\n",
       "  <thead>\n",
       "    <tr style=\"text-align: right;\">\n",
       "      <th></th>\n",
       "      <th>Comment</th>\n",
       "      <th>Emotion</th>\n",
       "      <th>emotion_num</th>\n",
       "      <th>preprocessed_comment</th>\n",
       "    </tr>\n",
       "  </thead>\n",
       "  <tbody>\n",
       "    <tr>\n",
       "      <th>0</th>\n",
       "      <td>i seriously hate one subject to death but now ...</td>\n",
       "      <td>fear</td>\n",
       "      <td>2</td>\n",
       "      <td>seriously hate subject death feel reluctant drop</td>\n",
       "    </tr>\n",
       "    <tr>\n",
       "      <th>1</th>\n",
       "      <td>im so full of life i feel appalled</td>\n",
       "      <td>anger</td>\n",
       "      <td>0</td>\n",
       "      <td>m life feel appal</td>\n",
       "    </tr>\n",
       "    <tr>\n",
       "      <th>2</th>\n",
       "      <td>i sit here to write i start to dig out my feel...</td>\n",
       "      <td>fear</td>\n",
       "      <td>2</td>\n",
       "      <td>sit write start dig feeling think afraid accep...</td>\n",
       "    </tr>\n",
       "    <tr>\n",
       "      <th>3</th>\n",
       "      <td>ive been really angry with r and i feel like a...</td>\n",
       "      <td>joy</td>\n",
       "      <td>1</td>\n",
       "      <td>ve angry r feel like idiot trust place</td>\n",
       "    </tr>\n",
       "    <tr>\n",
       "      <th>4</th>\n",
       "      <td>i feel suspicious if there is no one outside l...</td>\n",
       "      <td>fear</td>\n",
       "      <td>2</td>\n",
       "      <td>feel suspicious outside like rapture happen</td>\n",
       "    </tr>\n",
       "  </tbody>\n",
       "</table>\n",
       "</div>"
      ],
      "text/plain": [
       "                                             Comment Emotion  emotion_num  \\\n",
       "0  i seriously hate one subject to death but now ...    fear            2   \n",
       "1                 im so full of life i feel appalled   anger            0   \n",
       "2  i sit here to write i start to dig out my feel...    fear            2   \n",
       "3  ive been really angry with r and i feel like a...     joy            1   \n",
       "4  i feel suspicious if there is no one outside l...    fear            2   \n",
       "\n",
       "                                preprocessed_comment  \n",
       "0   seriously hate subject death feel reluctant drop  \n",
       "1                                  m life feel appal  \n",
       "2  sit write start dig feeling think afraid accep...  \n",
       "3             ve angry r feel like idiot trust place  \n",
       "4        feel suspicious outside like rapture happen  "
      ]
     },
     "execution_count": 89,
     "metadata": {},
     "output_type": "execute_result"
    }
   ],
   "source": [
    "df['preprocessed_comment']=df['Comment'].apply(preprocess)\n",
    "df.head()"
   ]
  },
  {
   "cell_type": "code",
   "execution_count": 90,
   "id": "a76f1abc",
   "metadata": {},
   "outputs": [],
   "source": [
    "#Build a model with preprocessed text\n",
    "X_train,X_test,y_train,y_test=train_test_split(df.preprocessed_comment,df.emotion_num,random_state=2022,stratify=df.emotion_num)"
   ]
  },
  {
   "cell_type": "code",
   "execution_count": 91,
   "id": "a28b6202",
   "metadata": {},
   "outputs": [],
   "source": [
    "# Attempt1 :\n",
    "\n",
    "# using the sklearn pipeline module create a classification pipeline to classify the data.\n",
    "# Note:\n",
    "\n",
    "# using CountVectorizer with both unigrams and bigrams.\n",
    "# use RandomForest as the classifier.\n",
    "# print the classification report."
   ]
  },
  {
   "cell_type": "code",
   "execution_count": 92,
   "id": "42908ec6",
   "metadata": {},
   "outputs": [
    {
     "name": "stdout",
     "output_type": "stream",
     "text": [
      "              precision    recall  f1-score   support\n",
      "\n",
      "           0       0.91      0.94      0.92       500\n",
      "           1       0.93      0.96      0.94       500\n",
      "           2       0.96      0.89      0.92       485\n",
      "\n",
      "    accuracy                           0.93      1485\n",
      "   macro avg       0.93      0.93      0.93      1485\n",
      "weighted avg       0.93      0.93      0.93      1485\n",
      "\n"
     ]
    }
   ],
   "source": [
    "clf=Pipeline([('vectorizer_bi_grams',CountVectorizer(ngram_range=(1,2))),('random_forest',RandomForestClassifier())])\n",
    "clf.fit(X_train,y_train)\n",
    "y_pred=clf.predict(X_test)\n",
    "print(classification_report(y_test,y_pred))"
   ]
  },
  {
   "cell_type": "code",
   "execution_count": 93,
   "id": "f5b99b15",
   "metadata": {},
   "outputs": [],
   "source": [
    "# Attempt 2 :\n",
    "\n",
    "# using the sklearn pipeline module create a classification pipeline to classify the data.\n",
    "# Note:\n",
    "\n",
    "# using TF-IDF vectorizer for pre-processing the text.\n",
    "# use RandomForest as the classifier.\n",
    "# print the classification report."
   ]
  },
  {
   "cell_type": "code",
   "execution_count": 94,
   "id": "72a2071e",
   "metadata": {},
   "outputs": [
    {
     "name": "stdout",
     "output_type": "stream",
     "text": [
      "              precision    recall  f1-score   support\n",
      "\n",
      "           0       0.91      0.92      0.92       500\n",
      "           1       0.93      0.95      0.94       500\n",
      "           2       0.93      0.90      0.91       485\n",
      "\n",
      "    accuracy                           0.92      1485\n",
      "   macro avg       0.92      0.92      0.92      1485\n",
      "weighted avg       0.92      0.92      0.92      1485\n",
      "\n"
     ]
    }
   ],
   "source": [
    "clf=Pipeline([('vectorizer',TfidfVectorizer()),('random_forest',RandomForestClassifier())])\n",
    "clf.fit(X_train,y_train)\n",
    "y_pred=clf.predict(X_test)\n",
    "print(classification_report(y_test,y_pred))"
   ]
  },
  {
   "cell_type": "code",
   "execution_count": 5,
   "id": "3eedb286",
   "metadata": {},
   "outputs": [],
   "source": [
    "import spacy"
   ]
  },
  {
   "cell_type": "code",
   "execution_count": 2,
   "id": "e6128f45",
   "metadata": {},
   "outputs": [],
   "source": [
    "# word vectors occupy lot of space. hence en_core_web_sm model do not have them included. \n",
    "# In order to download\n",
    "# word vectors you need to install large or medium english model. We will install the large one!\n",
    "# make sure you have run \"python -m spacy download en_core_web_lg\" to install large english model"
   ]
  },
  {
   "cell_type": "code",
   "execution_count": 6,
   "id": "20cddd43",
   "metadata": {},
   "outputs": [],
   "source": [
    "nlp=spacy.load(\"en_core_web_lg\")"
   ]
  },
  {
   "cell_type": "code",
   "execution_count": 7,
   "id": "d9017f33",
   "metadata": {},
   "outputs": [
    {
     "name": "stdout",
     "output_type": "stream",
     "text": [
      "dog Vector: True OOV: False\n",
      "cat Vector: True OOV: False\n",
      "banana Vector: True OOV: False\n",
      "kem Vector: False OOV: True\n"
     ]
    }
   ],
   "source": [
    "doc=nlp(\"dog cat banana kem\")\n",
    "for token in doc:\n",
    "    print(token.text,\"Vector:\",token.has_vector,\"OOV:\",token.is_oov)"
   ]
  },
  {
   "cell_type": "code",
   "execution_count": 8,
   "id": "fd5beef4",
   "metadata": {},
   "outputs": [
    {
     "data": {
      "text/plain": [
       "dog"
      ]
     },
     "execution_count": 8,
     "metadata": {},
     "output_type": "execute_result"
    }
   ],
   "source": [
    "doc[0]"
   ]
  },
  {
   "cell_type": "code",
   "execution_count": 9,
   "id": "98a77b01",
   "metadata": {},
   "outputs": [
    {
     "data": {
      "text/plain": [
       "array([ 1.2330e+00,  4.2963e+00, -7.9738e+00, -1.0121e+01,  1.8207e+00,\n",
       "        1.4098e+00, -4.5180e+00, -5.2261e+00, -2.9157e-01,  9.5234e-01,\n",
       "        6.9880e+00,  5.0637e+00, -5.5726e-03,  3.3395e+00,  6.4596e+00,\n",
       "       -6.3742e+00,  3.9045e-02, -3.9855e+00,  1.2085e+00, -1.3186e+00,\n",
       "       -4.8886e+00,  3.7066e+00, -2.8281e+00, -3.5447e+00,  7.6888e-01,\n",
       "        1.5016e+00, -4.3632e+00,  8.6480e+00, -5.9286e+00, -1.3055e+00,\n",
       "        8.3870e-01,  9.0137e-01, -1.7843e+00, -1.0148e+00,  2.7300e+00,\n",
       "       -6.9039e+00,  8.0413e-01,  7.4880e+00,  6.1078e+00, -4.2130e+00,\n",
       "       -1.5384e-01, -5.4995e+00,  1.0896e+01,  3.9278e+00, -1.3601e-01,\n",
       "        7.7732e-02,  3.2218e+00, -5.8777e+00,  6.1359e-01, -2.4287e+00,\n",
       "        6.2820e+00,  1.3461e+01,  4.3236e+00,  2.4266e+00, -2.6512e+00,\n",
       "        1.1577e+00,  5.0848e+00, -1.7058e+00,  3.3824e+00,  3.2850e+00,\n",
       "        1.0969e+00, -8.3711e+00, -1.5554e+00,  2.0296e+00, -2.6796e+00,\n",
       "       -6.9195e+00, -2.3386e+00, -1.9916e+00, -3.0450e+00,  2.4890e+00,\n",
       "        7.3247e+00,  1.3364e+00,  2.3828e-01,  8.4388e-02,  3.1480e+00,\n",
       "       -1.1128e+00, -3.5598e+00, -1.2115e-01, -2.0357e+00, -3.2731e+00,\n",
       "       -7.7205e+00,  4.0948e+00, -2.0732e+00,  2.0833e+00, -2.2803e+00,\n",
       "       -4.9850e+00,  9.7667e+00,  6.1779e+00, -1.0352e+01, -2.2268e+00,\n",
       "        2.5765e+00, -5.7440e+00,  5.5564e+00, -5.2735e+00,  3.0004e+00,\n",
       "       -4.2512e+00, -1.5682e+00,  2.2698e+00,  1.0491e+00, -9.0486e+00,\n",
       "        4.2936e+00,  1.8709e+00,  5.1985e+00, -1.3153e+00,  6.5224e+00,\n",
       "        4.0113e-01, -1.2583e+01,  3.6534e+00, -2.0961e+00,  1.0022e+00,\n",
       "       -1.7873e+00, -4.2555e+00,  7.7471e+00,  1.0173e+00,  3.1626e+00,\n",
       "        2.3558e+00,  3.3589e-01, -4.4178e+00,  5.0584e+00, -2.4118e+00,\n",
       "       -2.7445e+00,  3.4170e+00, -1.1574e+01, -2.6568e+00, -3.6933e+00,\n",
       "       -2.0398e+00,  5.0976e+00,  6.5249e+00,  3.3573e+00,  9.5334e-01,\n",
       "       -9.4430e-01, -9.4395e+00,  2.7867e+00, -1.7549e+00,  1.7287e+00,\n",
       "        3.4942e+00, -1.6883e+00, -3.5771e+00, -1.9013e+00,  2.2239e+00,\n",
       "       -5.4335e+00, -6.5724e+00, -6.7228e-01, -1.9748e+00, -3.1080e+00,\n",
       "       -1.8570e+00,  9.9496e-01,  8.9135e-01, -4.4254e+00,  3.3125e-01,\n",
       "        5.8815e+00,  1.9384e+00,  5.7294e-01, -2.8830e+00,  3.8087e+00,\n",
       "       -1.3095e+00,  5.9208e+00,  3.3620e+00,  3.3571e+00, -3.8807e-01,\n",
       "        9.0022e-01, -5.5742e+00, -4.2939e+00,  1.4992e+00, -4.7080e+00,\n",
       "       -2.9402e+00, -1.2259e+00,  3.0980e-01,  1.8858e+00, -1.9867e+00,\n",
       "       -2.3554e-01, -5.4535e-01, -2.1387e-01,  2.4797e+00,  5.9710e+00,\n",
       "       -7.1249e+00,  1.6257e+00, -1.5241e+00,  7.5974e-01,  1.4312e+00,\n",
       "        2.3641e+00, -3.5566e+00,  9.2066e-01,  4.4934e-01, -1.3233e+00,\n",
       "        3.1733e+00, -4.7059e+00, -1.2090e+01, -3.9241e-01, -6.8457e-01,\n",
       "       -3.6789e+00,  6.6279e+00, -2.9937e+00, -3.8361e+00,  1.3868e+00,\n",
       "       -4.9002e+00, -2.4299e+00,  6.4312e+00,  2.5056e+00, -4.5080e+00,\n",
       "       -5.1278e+00, -1.5585e+00, -3.0226e+00, -8.6811e-01, -1.1538e+00,\n",
       "       -1.0022e+00, -9.1651e-01, -4.7810e-01, -1.6084e+00, -2.7307e+00,\n",
       "        3.7080e+00,  7.7423e-01, -1.1085e+00, -6.8755e-01, -8.2901e+00,\n",
       "        3.2405e+00, -1.6108e-01, -6.2837e-01, -5.5960e+00, -4.4865e+00,\n",
       "        4.0115e-01, -3.7063e+00, -2.1704e+00,  4.0789e+00, -1.7973e+00,\n",
       "        8.9538e+00,  8.9421e-01, -4.8128e+00,  4.5367e+00, -3.2579e-01,\n",
       "       -5.2344e+00, -3.9766e+00, -2.1979e+00,  3.5699e+00,  1.4982e+00,\n",
       "        6.0972e+00, -1.9704e+00,  4.6522e+00, -3.7734e-01,  3.9101e-02,\n",
       "        2.5361e+00, -1.8096e+00,  8.7035e+00, -8.6372e+00, -3.5257e+00,\n",
       "        3.1034e+00,  3.2635e+00,  4.5437e+00, -5.7290e+00, -2.9141e-01,\n",
       "       -2.0011e+00,  8.5328e+00, -4.5064e+00, -4.8276e+00, -1.1786e+01,\n",
       "        3.5607e-01, -5.7115e+00,  6.3122e+00, -3.6650e+00,  3.3597e-01,\n",
       "        2.5017e+00, -3.5025e+00, -3.7891e+00, -3.1343e+00, -1.4429e+00,\n",
       "       -6.9119e+00, -2.6114e+00, -5.9757e-01,  3.7847e-01,  6.3187e+00,\n",
       "        2.8965e+00, -2.5397e+00,  1.8022e+00,  3.5486e+00,  4.4721e+00,\n",
       "       -4.8481e+00, -3.6252e+00,  4.0969e+00, -2.0081e+00, -2.0122e-01,\n",
       "        2.5244e+00, -6.8817e-01,  6.7184e-01, -7.0466e+00,  1.6641e+00,\n",
       "       -2.2308e+00, -3.8960e+00,  6.1320e+00, -8.0335e+00, -1.7130e+00,\n",
       "        2.5688e+00, -5.2547e+00,  6.9845e+00,  2.7835e-01, -6.4554e+00,\n",
       "       -2.1327e+00, -5.6515e+00,  1.1174e+01, -8.0568e+00,  5.7985e+00],\n",
       "      dtype=float32)"
      ]
     },
     "execution_count": 9,
     "metadata": {},
     "output_type": "execute_result"
    }
   ],
   "source": [
    "doc[0].vector"
   ]
  },
  {
   "cell_type": "code",
   "execution_count": 10,
   "id": "39f53617",
   "metadata": {},
   "outputs": [
    {
     "data": {
      "text/plain": [
       "(300,)"
      ]
     },
     "execution_count": 10,
     "metadata": {},
     "output_type": "execute_result"
    }
   ],
   "source": [
    "doc[0].vector.shape"
   ]
  },
  {
   "cell_type": "code",
   "execution_count": 11,
   "id": "65eaec56",
   "metadata": {},
   "outputs": [],
   "source": [
    "base_token=nlp(\"bread\")"
   ]
  },
  {
   "cell_type": "code",
   "execution_count": 13,
   "id": "a5e1738d",
   "metadata": {},
   "outputs": [
    {
     "data": {
      "text/plain": [
       "(300,)"
      ]
     },
     "execution_count": 13,
     "metadata": {},
     "output_type": "execute_result"
    }
   ],
   "source": [
    "base_token.vector.shape"
   ]
  },
  {
   "cell_type": "code",
   "execution_count": 14,
   "id": "633b5355",
   "metadata": {},
   "outputs": [
    {
     "name": "stdout",
     "output_type": "stream",
     "text": [
      "bread<->bread: 1.0\n",
      "sandwich<->bread: 0.6341067417450952\n",
      "burger<->bread: 0.4752069113758708\n",
      "car<->bread: 0.06451533308853552\n",
      "tiger<->bread: 0.04764611272488976\n",
      "human<->bread: 0.2151154210812192\n",
      "wheat<->bread: 0.615036141030184\n"
     ]
    }
   ],
   "source": [
    "doc=nlp(\"bread sandwich burger car tiger human wheat\")\n",
    "for token in doc:\n",
    "    print(f\"{token.text}<->{base_token.text}:\",token.similarity(base_token))"
   ]
  },
  {
   "cell_type": "code",
   "execution_count": 15,
   "id": "8d3cf300",
   "metadata": {},
   "outputs": [],
   "source": [
    "def print_similarity(base_word,words_to_compare):\n",
    "    base_token=nlp(base_word)\n",
    "    doc=nlp(words_to_compare)\n",
    "    for token in doc:\n",
    "        print(f\"{token.text}<->{base_token.text}:\",token.similarity(base_token))"
   ]
  },
  {
   "cell_type": "code",
   "execution_count": 16,
   "id": "763f4dcf",
   "metadata": {},
   "outputs": [
    {
     "name": "stdout",
     "output_type": "stream",
     "text": [
      "apple<->iphone: 0.4387907748060368\n",
      "samsung<->iphone: 0.6708590303423401\n",
      "iphone<->iphone: 1.0\n",
      "dog<->iphone: 0.08211864228011527\n",
      "kitten<->iphone: 0.10222317834969896\n"
     ]
    }
   ],
   "source": [
    "print_similarity(\"iphone\", \"apple samsung iphone dog kitten\")"
   ]
  },
  {
   "cell_type": "code",
   "execution_count": 17,
   "id": "6b76c629",
   "metadata": {},
   "outputs": [
    {
     "name": "stdout",
     "output_type": "stream",
     "text": [
      "i<->burger: 0.1377457566133989\n",
      "love<->burger: 0.10883656724204169\n",
      "eating<->burger: 0.34215075137045486\n",
      "at<->burger: -0.006149800452169677\n",
      "McDonalds<->burger: 0.521578767148614\n"
     ]
    }
   ],
   "source": [
    "print_similarity(\"burger\",\"i love eating at McDonalds\")"
   ]
  },
  {
   "cell_type": "code",
   "execution_count": 18,
   "id": "5db59970",
   "metadata": {},
   "outputs": [],
   "source": [
    "king=nlp.vocab[\"king\"].vector\n",
    "man=nlp.vocab[\"man\"].vector\n",
    "queen=nlp.vocab[\"queen\"].vector\n",
    "woman=nlp.vocab[\"woman\"].vector\n",
    "\n",
    "result=king-man+woman"
   ]
  },
  {
   "cell_type": "code",
   "execution_count": 19,
   "id": "5efc72ce",
   "metadata": {},
   "outputs": [
    {
     "data": {
      "text/plain": [
       "array([[0.6178014]], dtype=float32)"
      ]
     },
     "execution_count": 19,
     "metadata": {},
     "output_type": "execute_result"
    }
   ],
   "source": [
    "from sklearn.metrics.pairwise import cosine_similarity\n",
    "cosine_similarity([result],[queen])"
   ]
  },
  {
   "cell_type": "code",
   "execution_count": 20,
   "id": "5047d615",
   "metadata": {},
   "outputs": [],
   "source": [
    "#Fake news classification using word vectors"
   ]
  },
  {
   "cell_type": "code",
   "execution_count": 21,
   "id": "20508431",
   "metadata": {},
   "outputs": [],
   "source": [
    "import pandas as pd"
   ]
  },
  {
   "cell_type": "code",
   "execution_count": 23,
   "id": "45bea1dd",
   "metadata": {},
   "outputs": [
    {
     "data": {
      "text/html": [
       "<div>\n",
       "<style scoped>\n",
       "    .dataframe tbody tr th:only-of-type {\n",
       "        vertical-align: middle;\n",
       "    }\n",
       "\n",
       "    .dataframe tbody tr th {\n",
       "        vertical-align: top;\n",
       "    }\n",
       "\n",
       "    .dataframe thead th {\n",
       "        text-align: right;\n",
       "    }\n",
       "</style>\n",
       "<table border=\"1\" class=\"dataframe\">\n",
       "  <thead>\n",
       "    <tr style=\"text-align: right;\">\n",
       "      <th></th>\n",
       "      <th>Text</th>\n",
       "      <th>label</th>\n",
       "    </tr>\n",
       "  </thead>\n",
       "  <tbody>\n",
       "    <tr>\n",
       "      <th>0</th>\n",
       "      <td>Top Trump Surrogate BRUTALLY Stabs Him In The...</td>\n",
       "      <td>Fake</td>\n",
       "    </tr>\n",
       "    <tr>\n",
       "      <th>1</th>\n",
       "      <td>U.S. conservative leader optimistic of common ...</td>\n",
       "      <td>Real</td>\n",
       "    </tr>\n",
       "    <tr>\n",
       "      <th>2</th>\n",
       "      <td>Trump proposes U.S. tax overhaul, stirs concer...</td>\n",
       "      <td>Real</td>\n",
       "    </tr>\n",
       "    <tr>\n",
       "      <th>3</th>\n",
       "      <td>Court Forces Ohio To Allow Millions Of Illega...</td>\n",
       "      <td>Fake</td>\n",
       "    </tr>\n",
       "    <tr>\n",
       "      <th>4</th>\n",
       "      <td>Democrats say Trump agrees to work on immigrat...</td>\n",
       "      <td>Real</td>\n",
       "    </tr>\n",
       "    <tr>\n",
       "      <th>...</th>\n",
       "      <td>...</td>\n",
       "      <td>...</td>\n",
       "    </tr>\n",
       "    <tr>\n",
       "      <th>9895</th>\n",
       "      <td>Wikileaks Admits To Screwing Up IMMENSELY Wit...</td>\n",
       "      <td>Fake</td>\n",
       "    </tr>\n",
       "    <tr>\n",
       "      <th>9896</th>\n",
       "      <td>Trump consults Republican senators on Fed chie...</td>\n",
       "      <td>Real</td>\n",
       "    </tr>\n",
       "    <tr>\n",
       "      <th>9897</th>\n",
       "      <td>Trump lawyers say judge lacks jurisdiction for...</td>\n",
       "      <td>Real</td>\n",
       "    </tr>\n",
       "    <tr>\n",
       "      <th>9898</th>\n",
       "      <td>WATCH: Right-Wing Pastor Falsely Credits Trum...</td>\n",
       "      <td>Fake</td>\n",
       "    </tr>\n",
       "    <tr>\n",
       "      <th>9899</th>\n",
       "      <td>Sean Spicer HILARIOUSLY Branded As Chickensh*...</td>\n",
       "      <td>Fake</td>\n",
       "    </tr>\n",
       "  </tbody>\n",
       "</table>\n",
       "<p>9900 rows × 2 columns</p>\n",
       "</div>"
      ],
      "text/plain": [
       "                                                   Text label\n",
       "0      Top Trump Surrogate BRUTALLY Stabs Him In The...  Fake\n",
       "1     U.S. conservative leader optimistic of common ...  Real\n",
       "2     Trump proposes U.S. tax overhaul, stirs concer...  Real\n",
       "3      Court Forces Ohio To Allow Millions Of Illega...  Fake\n",
       "4     Democrats say Trump agrees to work on immigrat...  Real\n",
       "...                                                 ...   ...\n",
       "9895   Wikileaks Admits To Screwing Up IMMENSELY Wit...  Fake\n",
       "9896  Trump consults Republican senators on Fed chie...  Real\n",
       "9897  Trump lawyers say judge lacks jurisdiction for...  Real\n",
       "9898   WATCH: Right-Wing Pastor Falsely Credits Trum...  Fake\n",
       "9899   Sean Spicer HILARIOUSLY Branded As Chickensh*...  Fake\n",
       "\n",
       "[9900 rows x 2 columns]"
      ]
     },
     "execution_count": 23,
     "metadata": {},
     "output_type": "execute_result"
    }
   ],
   "source": [
    "df=pd.read_csv(r\"C:\\Users\\sohan\\Downloads\\Fake_Real_Data (1).csv\")\n",
    "df"
   ]
  },
  {
   "cell_type": "code",
   "execution_count": 25,
   "id": "7fcb44b7",
   "metadata": {},
   "outputs": [
    {
     "data": {
      "text/plain": [
       "(9900, 2)"
      ]
     },
     "execution_count": 25,
     "metadata": {},
     "output_type": "execute_result"
    }
   ],
   "source": [
    "df.shape"
   ]
  },
  {
   "cell_type": "code",
   "execution_count": 26,
   "id": "a8ac0587",
   "metadata": {},
   "outputs": [
    {
     "name": "stdout",
     "output_type": "stream",
     "text": [
      "<class 'pandas.core.frame.DataFrame'>\n",
      "RangeIndex: 9900 entries, 0 to 9899\n",
      "Data columns (total 2 columns):\n",
      " #   Column  Non-Null Count  Dtype \n",
      "---  ------  --------------  ----- \n",
      " 0   Text    9900 non-null   object\n",
      " 1   label   9900 non-null   object\n",
      "dtypes: object(2)\n",
      "memory usage: 154.8+ KB\n"
     ]
    }
   ],
   "source": [
    "df.info()"
   ]
  },
  {
   "cell_type": "code",
   "execution_count": 27,
   "id": "29e65f8b",
   "metadata": {},
   "outputs": [
    {
     "data": {
      "text/plain": [
       "Fake    5000\n",
       "Real    4900\n",
       "Name: label, dtype: int64"
      ]
     },
     "execution_count": 27,
     "metadata": {},
     "output_type": "execute_result"
    }
   ],
   "source": [
    "df.label.value_counts()"
   ]
  },
  {
   "cell_type": "code",
   "execution_count": 29,
   "id": "37e7b329",
   "metadata": {},
   "outputs": [
    {
     "data": {
      "text/html": [
       "<div>\n",
       "<style scoped>\n",
       "    .dataframe tbody tr th:only-of-type {\n",
       "        vertical-align: middle;\n",
       "    }\n",
       "\n",
       "    .dataframe tbody tr th {\n",
       "        vertical-align: top;\n",
       "    }\n",
       "\n",
       "    .dataframe thead th {\n",
       "        text-align: right;\n",
       "    }\n",
       "</style>\n",
       "<table border=\"1\" class=\"dataframe\">\n",
       "  <thead>\n",
       "    <tr style=\"text-align: right;\">\n",
       "      <th></th>\n",
       "      <th>Text</th>\n",
       "      <th>label</th>\n",
       "      <th>label_num</th>\n",
       "    </tr>\n",
       "  </thead>\n",
       "  <tbody>\n",
       "    <tr>\n",
       "      <th>0</th>\n",
       "      <td>Top Trump Surrogate BRUTALLY Stabs Him In The...</td>\n",
       "      <td>Fake</td>\n",
       "      <td>0</td>\n",
       "    </tr>\n",
       "    <tr>\n",
       "      <th>1</th>\n",
       "      <td>U.S. conservative leader optimistic of common ...</td>\n",
       "      <td>Real</td>\n",
       "      <td>1</td>\n",
       "    </tr>\n",
       "    <tr>\n",
       "      <th>2</th>\n",
       "      <td>Trump proposes U.S. tax overhaul, stirs concer...</td>\n",
       "      <td>Real</td>\n",
       "      <td>1</td>\n",
       "    </tr>\n",
       "    <tr>\n",
       "      <th>3</th>\n",
       "      <td>Court Forces Ohio To Allow Millions Of Illega...</td>\n",
       "      <td>Fake</td>\n",
       "      <td>0</td>\n",
       "    </tr>\n",
       "    <tr>\n",
       "      <th>4</th>\n",
       "      <td>Democrats say Trump agrees to work on immigrat...</td>\n",
       "      <td>Real</td>\n",
       "      <td>1</td>\n",
       "    </tr>\n",
       "  </tbody>\n",
       "</table>\n",
       "</div>"
      ],
      "text/plain": [
       "                                                Text label  label_num\n",
       "0   Top Trump Surrogate BRUTALLY Stabs Him In The...  Fake          0\n",
       "1  U.S. conservative leader optimistic of common ...  Real          1\n",
       "2  Trump proposes U.S. tax overhaul, stirs concer...  Real          1\n",
       "3   Court Forces Ohio To Allow Millions Of Illega...  Fake          0\n",
       "4  Democrats say Trump agrees to work on immigrat...  Real          1"
      ]
     },
     "execution_count": 29,
     "metadata": {},
     "output_type": "execute_result"
    }
   ],
   "source": [
    "df['label_num']=df['label'].map({'Fake':0,'Real':1})\n",
    "df.head()"
   ]
  },
  {
   "cell_type": "code",
   "execution_count": 30,
   "id": "72f96d0b",
   "metadata": {},
   "outputs": [],
   "source": [
    "#Get spacy word vectors and store them in a pandas dataframe"
   ]
  },
  {
   "cell_type": "code",
   "execution_count": 31,
   "id": "1a2a0788",
   "metadata": {},
   "outputs": [
    {
     "data": {
      "text/html": [
       "<div>\n",
       "<style scoped>\n",
       "    .dataframe tbody tr th:only-of-type {\n",
       "        vertical-align: middle;\n",
       "    }\n",
       "\n",
       "    .dataframe tbody tr th {\n",
       "        vertical-align: top;\n",
       "    }\n",
       "\n",
       "    .dataframe thead th {\n",
       "        text-align: right;\n",
       "    }\n",
       "</style>\n",
       "<table border=\"1\" class=\"dataframe\">\n",
       "  <thead>\n",
       "    <tr style=\"text-align: right;\">\n",
       "      <th></th>\n",
       "      <th>Text</th>\n",
       "      <th>label</th>\n",
       "      <th>label_num</th>\n",
       "      <th>vector</th>\n",
       "    </tr>\n",
       "  </thead>\n",
       "  <tbody>\n",
       "    <tr>\n",
       "      <th>0</th>\n",
       "      <td>Top Trump Surrogate BRUTALLY Stabs Him In The...</td>\n",
       "      <td>Fake</td>\n",
       "      <td>0</td>\n",
       "      <td>[-0.6759837, 1.4263071, -2.318466, -0.451093, ...</td>\n",
       "    </tr>\n",
       "    <tr>\n",
       "      <th>1</th>\n",
       "      <td>U.S. conservative leader optimistic of common ...</td>\n",
       "      <td>Real</td>\n",
       "      <td>1</td>\n",
       "      <td>[-1.8355803, 1.3101058, -2.4919677, 1.0268308,...</td>\n",
       "    </tr>\n",
       "    <tr>\n",
       "      <th>2</th>\n",
       "      <td>Trump proposes U.S. tax overhaul, stirs concer...</td>\n",
       "      <td>Real</td>\n",
       "      <td>1</td>\n",
       "      <td>[-1.9851209, 0.14389805, -2.4221718, 0.9133005...</td>\n",
       "    </tr>\n",
       "    <tr>\n",
       "      <th>3</th>\n",
       "      <td>Court Forces Ohio To Allow Millions Of Illega...</td>\n",
       "      <td>Fake</td>\n",
       "      <td>0</td>\n",
       "      <td>[-2.7812982, -0.16120885, -1.609772, 1.3624227...</td>\n",
       "    </tr>\n",
       "    <tr>\n",
       "      <th>4</th>\n",
       "      <td>Democrats say Trump agrees to work on immigrat...</td>\n",
       "      <td>Real</td>\n",
       "      <td>1</td>\n",
       "      <td>[-2.2010763, 0.9961637, -2.4088492, 1.128273, ...</td>\n",
       "    </tr>\n",
       "    <tr>\n",
       "      <th>5</th>\n",
       "      <td>France says pressure needed to stop North Kore...</td>\n",
       "      <td>Real</td>\n",
       "      <td>1</td>\n",
       "      <td>[-1.1593829, 0.9498154, -1.4095088, 1.0819538,...</td>\n",
       "    </tr>\n",
       "    <tr>\n",
       "      <th>6</th>\n",
       "      <td>Trump on Twitter (August 8): Opioid crisis, No...</td>\n",
       "      <td>Real</td>\n",
       "      <td>1</td>\n",
       "      <td>[-0.8941548, -0.4232287, -0.48013163, 0.698892...</td>\n",
       "    </tr>\n",
       "    <tr>\n",
       "      <th>7</th>\n",
       "      <td>BUSTED: Trump Supporter Used Poll Watcher Cre...</td>\n",
       "      <td>Fake</td>\n",
       "      <td>0</td>\n",
       "      <td>[-1.7985709, 0.905185, -2.2996533, 0.7320623, ...</td>\n",
       "    </tr>\n",
       "    <tr>\n",
       "      <th>8</th>\n",
       "      <td>Fatal Niger operation sparks calls for public ...</td>\n",
       "      <td>Real</td>\n",
       "      <td>1</td>\n",
       "      <td>[-1.7241689, 0.6141305, -1.5910997, 0.18393151...</td>\n",
       "    </tr>\n",
       "    <tr>\n",
       "      <th>9</th>\n",
       "      <td>Trump says he has 'great heart' for immigrant ...</td>\n",
       "      <td>Real</td>\n",
       "      <td>1</td>\n",
       "      <td>[-1.0225172, 2.008407, -2.3127406, 0.1754124, ...</td>\n",
       "    </tr>\n",
       "  </tbody>\n",
       "</table>\n",
       "</div>"
      ],
      "text/plain": [
       "                                                Text label  label_num  \\\n",
       "0   Top Trump Surrogate BRUTALLY Stabs Him In The...  Fake          0   \n",
       "1  U.S. conservative leader optimistic of common ...  Real          1   \n",
       "2  Trump proposes U.S. tax overhaul, stirs concer...  Real          1   \n",
       "3   Court Forces Ohio To Allow Millions Of Illega...  Fake          0   \n",
       "4  Democrats say Trump agrees to work on immigrat...  Real          1   \n",
       "5  France says pressure needed to stop North Kore...  Real          1   \n",
       "6  Trump on Twitter (August 8): Opioid crisis, No...  Real          1   \n",
       "7   BUSTED: Trump Supporter Used Poll Watcher Cre...  Fake          0   \n",
       "8  Fatal Niger operation sparks calls for public ...  Real          1   \n",
       "9  Trump says he has 'great heart' for immigrant ...  Real          1   \n",
       "\n",
       "                                              vector  \n",
       "0  [-0.6759837, 1.4263071, -2.318466, -0.451093, ...  \n",
       "1  [-1.8355803, 1.3101058, -2.4919677, 1.0268308,...  \n",
       "2  [-1.9851209, 0.14389805, -2.4221718, 0.9133005...  \n",
       "3  [-2.7812982, -0.16120885, -1.609772, 1.3624227...  \n",
       "4  [-2.2010763, 0.9961637, -2.4088492, 1.128273, ...  \n",
       "5  [-1.1593829, 0.9498154, -1.4095088, 1.0819538,...  \n",
       "6  [-0.8941548, -0.4232287, -0.48013163, 0.698892...  \n",
       "7  [-1.7985709, 0.905185, -2.2996533, 0.7320623, ...  \n",
       "8  [-1.7241689, 0.6141305, -1.5910997, 0.18393151...  \n",
       "9  [-1.0225172, 2.008407, -2.3127406, 0.1754124, ...  "
      ]
     },
     "execution_count": 31,
     "metadata": {},
     "output_type": "execute_result"
    }
   ],
   "source": [
    "df['vector']=df['Text'].apply(lambda text:nlp(text).vector)\n",
    "df.head(10)"
   ]
  },
  {
   "cell_type": "code",
   "execution_count": 32,
   "id": "94db5b97",
   "metadata": {},
   "outputs": [],
   "source": [
    "from sklearn.model_selection import train_test_split\n",
    "X_train,X_test,y_train,y_test=train_test_split(df.vector.values,df.label_num,test_size=0.2,random_state=2022)"
   ]
  },
  {
   "cell_type": "code",
   "execution_count": 33,
   "id": "816bc796",
   "metadata": {},
   "outputs": [
    {
     "data": {
      "text/plain": [
       "array([array([-2.26311374e+00,  3.07298154e-01, -1.33053243e+00,  8.23658347e-01,\n",
       "               4.81299686e+00, -6.86131325e-03,  3.35425436e-01,  3.76113081e+00,\n",
       "               5.39720833e-01, -1.42519677e+00,  4.56928253e+00,  1.55305433e+00,\n",
       "              -3.53332734e+00,  6.87306941e-01, -5.81286728e-01,  2.71541500e+00,\n",
       "               1.39683473e+00,  9.30782378e-01, -8.92450333e-01, -1.38076222e+00,\n",
       "               1.36910903e+00, -1.13511407e+00, -9.53715205e-01,  8.05722892e-01,\n",
       "               6.48910582e-01, -1.65908492e+00, -2.64194083e+00, -5.77975094e-01,\n",
       "              -1.42578706e-02,  2.33008236e-01,  2.95631811e-02,  2.99089730e-01,\n",
       "              -4.90643919e-01, -1.33279932e+00, -2.74737763e+00, -9.77295876e-01,\n",
       "              -5.31269848e-01,  1.10031247e+00,  4.24643457e-01, -3.41824055e-01,\n",
       "               2.72467971e-01,  8.62076208e-02, -2.81822890e-01, -2.08477139e-01,\n",
       "              -1.27764702e+00,  8.22918952e-01,  7.95027316e-01, -1.89551938e+00,\n",
       "              -6.20176196e-01,  1.51363051e+00, -1.33685195e+00,  1.80549657e+00,\n",
       "              -1.55145064e-01, -4.25103426e+00, -1.72080070e-01,  2.76794046e-01,\n",
       "              -2.93823272e-01,  5.75387180e-01,  2.72118568e-01, -7.81170666e-01,\n",
       "               2.57706136e-01, -1.44590294e+00,  5.61581790e-01, -6.31546795e-01,\n",
       "               2.36971927e+00,  8.79741907e-01, -1.80134404e+00, -2.44721794e+00,\n",
       "               1.17731678e+00,  2.04687285e+00, -4.63260919e-01, -9.85097945e-01,\n",
       "              -2.13653445e+00, -4.20325786e-01, -4.15811896e-01,  1.38170862e+00,\n",
       "              -2.23509979e+00,  2.67092490e+00, -3.08158374e+00,  1.32114384e-02,\n",
       "              -3.64326239e+00, -2.78242767e-01,  2.12515980e-01,  1.39564109e+00,\n",
       "               1.84134221e+00,  4.19404940e-04, -1.90610337e+00, -3.21755934e+00,\n",
       "               5.78030467e-01, -1.37127638e+00, -9.16825414e-01, -4.30807114e-01,\n",
       "               1.02762902e+00, -2.57746458e+00,  1.04263091e+00, -1.12548256e+00,\n",
       "               6.21927619e-01, -9.83537734e-01,  1.23338580e+00,  2.07981038e+00,\n",
       "               2.36033797e+00,  7.15517461e-01,  2.22527552e+00,  3.60499907e+00,\n",
       "               1.20382316e-01,  3.92113376e+00,  9.63767946e-01, -2.53829098e+00,\n",
       "               3.00950825e-01, -4.52468729e+00,  1.59159541e+00,  1.21748137e+00,\n",
       "              -1.90869951e+00,  1.00009763e+00,  1.44891250e+00, -3.17873001e-01,\n",
       "              -5.02101600e-01, -2.65708119e-01, -3.39694589e-01, -1.00412381e+00,\n",
       "               1.51577502e-01, -3.03199244e+00,  2.24985099e+00,  1.19677663e+00,\n",
       "              -4.23126429e-01, -3.06676793e+00,  1.30235136e+00, -1.88255596e+00,\n",
       "               3.37628317e+00, -1.85128713e+00, -3.08287215e+00,  6.48353025e-02,\n",
       "               3.75439548e+00, -1.49472281e-01, -3.06196421e-01,  7.27420330e-01,\n",
       "              -8.95801008e-01, -7.79662192e-01,  2.35724521e+00, -1.45995963e+00,\n",
       "              -2.00371861e+00, -8.49648178e-01,  1.07519835e-01,  1.53392565e+00,\n",
       "               1.49193668e+00,  1.42659640e+00, -3.54911995e+00,  3.51880521e-01,\n",
       "               1.27555442e+00,  1.16480613e+00, -8.07691645e-03,  2.16857648e+00,\n",
       "              -2.56425422e-02,  1.63489234e+00, -1.40280485e+00,  6.46876574e-01,\n",
       "               1.76468945e+00, -7.36640036e-01, -2.06530571e+00, -9.85589862e-01,\n",
       "              -1.35755882e-01, -3.13278055e+00,  2.68242657e-02,  1.82145166e+00,\n",
       "              -2.25936532e+00, -1.26409280e+00, -3.48691082e+00,  1.85970926e+00,\n",
       "               2.97071874e-01,  2.94329643e-01,  1.03144574e+00, -5.67054391e-01,\n",
       "               1.85512865e+00,  2.39100888e-01,  1.47538829e+00,  8.73782992e-01,\n",
       "              -5.25004938e-02, -8.78552318e-01, -2.72485161e+00, -8.81732404e-01,\n",
       "              -1.13946068e+00,  7.08953440e-01,  7.95635700e-01,  5.14129281e-01,\n",
       "              -1.03006005e+00,  7.75777757e-01, -1.25998092e+00,  8.22691694e-02,\n",
       "               7.41170824e-01,  1.52176166e+00,  4.33136404e-01, -2.05703211e+00,\n",
       "               2.02138573e-01, -1.41964877e+00,  9.28420544e-01,  7.04009652e-01,\n",
       "              -2.47428703e+00, -1.01133990e+00,  2.38386020e-01,  3.18967640e-01,\n",
       "              -5.57003379e-01, -1.49710274e+00,  5.31775534e-01, -2.39062619e+00,\n",
       "               3.37298107e+00,  9.17682290e-01, -3.53569889e+00,  2.00738311e+00,\n",
       "              -4.64910954e-01, -4.56315458e-01,  9.51057255e-01,  8.13055754e-01,\n",
       "              -1.39294529e+00,  1.75337267e+00,  1.32065070e+00,  2.40677691e+00,\n",
       "               4.87816215e-01, -2.38904095e+00, -1.12529054e-01,  8.78772885e-02,\n",
       "              -2.24740601e+00,  9.80590284e-01, -8.83206308e-01, -6.65276200e-02,\n",
       "              -2.20207381e+00, -1.20768201e+00,  6.28308296e-01,  2.76509976e+00,\n",
       "               7.41780400e-01, -5.58444917e-01,  3.57576990e+00, -2.48456573e+00,\n",
       "              -1.05816627e+00,  1.91638339e+00,  2.38587189e+00,  1.18527865e+00,\n",
       "              -1.52456057e+00,  3.50972190e-02, -8.76907766e-01, -2.27639794e-01,\n",
       "              -3.07203621e-01,  4.24565911e-01,  1.65454364e+00,  1.81306601e-01,\n",
       "              -1.27858841e+00,  1.74546754e+00, -1.84177315e+00, -5.67001700e-01,\n",
       "              -8.56599271e-01,  2.39663506e+00,  1.14206469e+00, -2.86204576e+00,\n",
       "              -4.47777557e+00, -9.90029693e-01,  6.06053293e-01, -2.16947055e+00,\n",
       "               1.99162614e+00, -8.64299119e-01,  7.79713452e-01,  1.21487594e+00,\n",
       "              -8.05407941e-01,  4.39452171e+00,  2.68476892e+00,  2.13120961e+00,\n",
       "               1.71220958e+00, -8.28663707e-01, -1.71696931e-01,  1.87081826e+00,\n",
       "              -2.23322511e+00, -2.27922529e-01, -1.60283044e-01,  1.67284608e-01,\n",
       "               6.02330506e-01, -2.08706951e+00,  1.51086938e+00, -6.29686177e-01,\n",
       "               1.35946810e+00, -1.58571982e+00, -9.66885269e-01,  1.41203403e+00,\n",
       "               2.16268635e+00,  4.52725172e-01,  3.28813702e-01,  1.02396142e+00,\n",
       "               2.73773408e+00, -3.94958317e-01, -5.75537235e-02,  1.55633783e+00,\n",
       "              -1.08414221e+00,  5.20705640e-01, -1.99937433e-01, -3.71608853e-01,\n",
       "              -1.40327919e+00,  4.60041016e-01, -1.64744091e+00,  1.53002334e+00,\n",
       "               1.08096302e+00, -1.43050802e+00, -1.39951956e+00,  6.76119924e-01],\n",
       "             dtype=float32)                                                       ,\n",
       "       array([-2.0770946 ,  0.3782537 , -2.353002  , -0.25041178,  3.831026  ,\n",
       "               0.37065905,  0.13688953,  4.0360985 ,  0.15272038, -0.37345144,\n",
       "               5.2697544 ,  1.4974061 , -3.1644015 ,  1.1845782 ,  0.51914334,\n",
       "               1.6422217 ,  0.6839807 , -1.1396838 , -1.5063726 , -1.0819314 ,\n",
       "               0.87458694, -0.3351453 , -1.013609  , -0.563926  ,  0.43981278,\n",
       "              -1.4372823 , -2.0848258 , -0.1891657 , -0.21832876,  0.63036233,\n",
       "               0.74987966, -0.56132185, -0.7195308 , -1.0958347 , -2.417525  ,\n",
       "              -0.31847703, -0.6164459 ,  0.39244696,  0.71915185, -0.08634086,\n",
       "               0.06153949,  0.10706553, -0.11195474,  0.4397768 , -0.8926793 ,\n",
       "               0.9362544 , -0.18879704, -1.8683707 , -0.6879464 ,  2.0958633 ,\n",
       "              -0.80642635,  1.5174116 ,  0.23156968, -4.351739  , -0.3151942 ,\n",
       "               0.28238922,  0.04603448,  0.5826424 ,  0.6577699 , -0.82801586,\n",
       "               0.27275303, -1.2059555 , -0.07079892, -1.0700843 ,  2.0330415 ,\n",
       "               0.93351644, -2.2830784 , -3.2618372 ,  1.0446464 ,  2.3033876 ,\n",
       "              -0.14840354, -0.9530064 , -1.360009  , -0.4595415 ,  0.2249502 ,\n",
       "               0.83663315, -2.8586824 ,  2.7179601 , -2.62569   , -0.6988294 ,\n",
       "              -4.156935  , -0.02355859,  1.0045938 ,  0.55045825,  1.9794452 ,\n",
       "               0.22147526, -2.1452525 , -2.2539    ,  0.5194238 , -0.85637945,\n",
       "              -0.8039664 ,  0.03187269,  2.0027406 , -3.4729543 ,  1.1352549 ,\n",
       "              -1.1705734 ,  0.7044598 , -0.5560677 ,  1.5295618 ,  1.2456125 ,\n",
       "               2.1855748 ,  1.6836663 ,  2.2625499 ,  2.7022157 , -0.88193953,\n",
       "               3.2691276 ,  0.44952783, -1.9108769 , -0.6319019 , -2.9646478 ,\n",
       "               0.48546392,  0.8247637 , -0.9695272 ,  1.0631139 ,  1.1678027 ,\n",
       "               0.5695422 , -0.41255477, -0.00959057,  0.31417137, -0.9112223 ,\n",
       "              -0.69657195, -2.9338927 ,  0.10152429,  1.5571419 , -0.59451276,\n",
       "              -2.8520985 ,  1.6449697 , -1.9872493 ,  2.379183  , -1.1010584 ,\n",
       "              -2.711257  , -0.5220582 ,  3.2542453 , -0.75604445,  0.34104693,\n",
       "               0.787868  , -1.7418898 , -0.8709802 ,  2.8231757 , -1.9676856 ,\n",
       "              -2.5926147 , -0.53452945,  0.42501208,  1.6495078 ,  0.48744538,\n",
       "               0.79191965, -3.0121624 , -0.33583865,  1.4404982 ,  0.7513933 ,\n",
       "               0.11704077,  1.7142018 , -0.1172183 ,  1.760878  , -1.2848083 ,\n",
       "               0.49427563,  2.1478617 , -0.7545134 , -2.486987  , -1.2850696 ,\n",
       "              -0.93531233, -3.3412964 , -0.24374872,  2.1619067 , -1.7650203 ,\n",
       "              -1.1592742 , -2.9167614 ,  0.9241744 , -0.49135527,  0.25028917,\n",
       "               1.9187628 , -0.39826983,  1.647312  ,  1.0523171 ,  2.0875244 ,\n",
       "              -0.10781151, -0.2286762 , -0.22623713, -2.0937934 , -1.4229391 ,\n",
       "              -0.7894851 , -0.17948349,  1.8201054 , -0.44067454, -1.2154094 ,\n",
       "               0.80629146, -1.5601699 , -0.3354659 ,  0.56873   ,  1.6691239 ,\n",
       "              -0.12594332, -1.0030955 , -0.64717966, -1.2321846 ,  0.41793296,\n",
       "               0.17400603, -2.343806  , -0.18783869, -0.2284629 ,  0.75393367,\n",
       "              -0.794421  , -1.664495  , -0.84229994, -2.1459582 ,  2.3054736 ,\n",
       "               0.31673852, -2.4718122 ,  1.4932926 , -0.51673   , -0.8386786 ,\n",
       "               1.1203333 ,  1.2321657 , -0.9452734 ,  2.0672085 ,  0.2885975 ,\n",
       "               2.5164604 ,  0.220038  , -1.2111027 , -0.14697592,  0.09582858,\n",
       "              -2.282174  ,  0.94343835,  0.2621975 ,  1.0763388 , -1.7199354 ,\n",
       "              -1.1941549 ,  0.501446  ,  1.803626  ,  1.3114113 ,  0.7319414 ,\n",
       "               1.6418499 , -2.4196086 , -0.7222053 ,  1.4869848 ,  1.5929433 ,\n",
       "               1.9536874 , -2.124094  ,  0.83453745, -1.2485901 , -0.36480114,\n",
       "              -0.7189761 ,  0.8845576 ,  1.8462783 ,  0.44495368, -0.5362494 ,\n",
       "               1.4780346 , -2.188935  ,  0.10392255,  0.49482942,  1.8357419 ,\n",
       "               0.6666815 , -2.0958762 , -4.6836033 , -0.21628267,  0.35575405,\n",
       "              -1.5504475 ,  2.326703  , -0.4390885 , -0.27724147,  0.9249712 ,\n",
       "               0.5873957 ,  3.7610512 ,  2.4497316 ,  2.114187  ,  1.6921124 ,\n",
       "              -0.5237412 ,  0.05820531,  1.4299923 , -2.9604344 ,  0.36961564,\n",
       "               0.06239835, -0.1723952 , -0.15209292, -1.8388824 ,  0.6113979 ,\n",
       "              -0.3484303 ,  1.5358585 , -1.2625471 , -1.0933394 ,  1.710948  ,\n",
       "               0.4263621 ,  0.10975341,  0.9393364 ,  1.2683065 ,  2.7042305 ,\n",
       "              -0.81127965, -0.1341179 ,  1.5325851 , -1.9398546 , -0.12582102,\n",
       "               0.38626972, -0.554995  , -0.48195988, -0.25161153, -1.2001023 ,\n",
       "               1.1537808 ,  0.52289504, -0.513723  , -2.7441313 ,  0.7244029 ],\n",
       "             dtype=float32)                                                    ,\n",
       "       array([-2.49003768e+00,  4.89226133e-01, -2.26536274e+00,  8.20288718e-01,\n",
       "               4.78635073e+00,  5.13073146e-01,  2.68797308e-01,  4.47106552e+00,\n",
       "              -4.39344853e-01, -1.79427910e+00,  5.56110620e+00,  1.81585777e+00,\n",
       "              -3.95173407e+00,  1.22118354e+00,  4.17342596e-02,  2.20976734e+00,\n",
       "               8.89794528e-01,  2.55641967e-01, -1.85327303e+00, -1.75326264e+00,\n",
       "               6.34672165e-01, -9.62936640e-01, -1.46171236e+00,  3.55490685e-01,\n",
       "               4.88601357e-01, -1.51720858e+00, -1.67179298e+00, -4.90512609e-01,\n",
       "              -5.02233684e-01,  4.81042832e-01,  7.20495403e-01, -2.58735359e-01,\n",
       "              -1.00468218e+00, -2.16788745e+00, -2.34274960e+00, -1.05269659e+00,\n",
       "              -3.18917006e-01,  6.53276622e-01,  8.90145004e-01,  1.32612690e-01,\n",
       "               6.52285099e-01,  6.96168318e-02, -5.86513162e-01,  6.04003727e-01,\n",
       "              -1.68054473e+00,  1.59987962e+00,  1.10329831e+00, -1.77375829e+00,\n",
       "              -8.55521441e-01,  1.69500375e+00, -1.52825606e+00,  2.52452683e+00,\n",
       "               3.65877561e-02, -5.32643461e+00, -6.21890366e-01,  8.32880020e-01,\n",
       "              -3.84575695e-01,  1.26725709e+00,  8.88998032e-01, -1.23854160e+00,\n",
       "               6.07436955e-01, -7.38723338e-01,  4.86207306e-01, -1.58593547e+00,\n",
       "               3.07651830e+00,  1.69502163e+00, -2.63660598e+00, -3.03274059e+00,\n",
       "               8.69103193e-01,  2.07034636e+00,  1.43644679e-02, -9.03861761e-01,\n",
       "              -2.06969905e+00,  1.99736461e-01, -5.44121921e-01,  1.31888497e+00,\n",
       "              -2.94770980e+00,  2.43783474e+00, -3.30371428e+00,  1.55217469e-01,\n",
       "              -4.67698145e+00,  3.59960437e-01,  7.09404290e-01,  1.34955394e+00,\n",
       "               1.98812783e+00,  7.06782937e-02, -2.55414891e+00, -3.31225228e+00,\n",
       "               1.25573361e+00, -3.35232675e-01, -1.10757744e+00,  1.42774597e-01,\n",
       "               1.29849076e+00, -3.03149199e+00,  1.01556647e+00, -8.18044960e-01,\n",
       "               5.65251410e-01, -1.26869190e+00,  7.48402715e-01,  2.49826241e+00,\n",
       "               2.90006709e+00,  1.34785688e+00,  2.13725400e+00,  3.31002879e+00,\n",
       "              -2.97110766e-01,  4.45659304e+00,  8.20182443e-01, -2.85100889e+00,\n",
       "              -3.34535658e-01, -3.67661738e+00,  1.63662124e+00,  7.71560848e-01,\n",
       "              -1.45449638e+00,  5.23560286e-01,  6.79600239e-01,  1.21326649e+00,\n",
       "              -8.59942317e-01, -6.23114169e-01, -1.11465506e-01, -1.30688202e+00,\n",
       "              -9.67602491e-01, -2.47014594e+00,  7.73241818e-01,  6.16378486e-01,\n",
       "              -1.27720356e+00, -3.69270444e+00,  6.38074160e-01, -2.33861232e+00,\n",
       "               2.81310678e+00, -1.42227006e+00, -3.03797865e+00, -5.24386287e-01,\n",
       "               4.14441681e+00,  1.75196901e-01,  6.43141568e-01,  7.94606507e-01,\n",
       "              -2.16785812e+00, -5.89636803e-01,  2.21240759e+00, -1.86238408e+00,\n",
       "              -1.67282939e+00, -8.26192796e-01,  2.87124276e-01,  1.29131031e+00,\n",
       "               1.15514374e+00,  3.38209331e-01, -3.57209086e+00, -4.98505592e-01,\n",
       "               1.11942339e+00,  1.30928338e+00,  3.46493125e-01,  2.37464738e+00,\n",
       "              -5.38769245e-01,  2.06353474e+00, -1.73277211e+00,  6.45366371e-01,\n",
       "               2.41554952e+00, -6.21034682e-01, -2.49617791e+00, -1.41136706e+00,\n",
       "              -9.01536405e-01, -2.32194161e+00,  3.10849637e-01,  2.08718061e+00,\n",
       "              -1.82414913e+00, -1.69867849e+00, -4.04322958e+00,  1.11857033e+00,\n",
       "               5.32846510e-01, -8.43637958e-02,  1.23939204e+00, -5.73127806e-01,\n",
       "               2.12314963e+00,  5.54492831e-01,  1.43075323e+00,  7.05413043e-01,\n",
       "               4.18393731e-01, -1.86138153e-01, -2.62860727e+00, -1.56266344e+00,\n",
       "              -1.54728281e+00,  8.21072683e-02,  1.34749639e+00, -1.84454769e-01,\n",
       "              -1.31935620e+00,  7.55668223e-01, -1.64724278e+00,  2.85747081e-01,\n",
       "               1.21272659e+00,  2.21518970e+00, -1.85706094e-01, -1.90991318e+00,\n",
       "              -3.23903888e-01, -1.44660139e+00,  1.73391029e-01,  8.97767484e-01,\n",
       "              -3.00755882e+00, -8.50355148e-01,  1.04011983e-01,  5.77365994e-01,\n",
       "              -9.75285947e-01, -1.82926261e+00,  1.01209037e-01, -1.62054646e+00,\n",
       "               4.03383207e+00,  7.14168847e-01, -3.73596668e+00,  1.95915949e+00,\n",
       "               3.27421397e-01, -2.48173788e-01,  1.41491365e+00,  8.37689459e-01,\n",
       "              -1.25130963e+00,  1.54147959e+00,  7.54711866e-01,  2.50664043e+00,\n",
       "               9.74267542e-01, -2.81170321e+00, -4.42772210e-01,  6.21717751e-01,\n",
       "              -1.88119078e+00,  1.76531470e+00, -5.21004617e-01, -4.59501194e-03,\n",
       "              -1.67639554e+00, -1.34487963e+00,  1.10246852e-01,  2.37760258e+00,\n",
       "               1.16124487e+00,  4.22396325e-02,  2.98703814e+00, -2.47565937e+00,\n",
       "              -6.59977376e-01,  1.49687970e+00,  2.64385200e+00,  1.29006660e+00,\n",
       "              -1.18607092e+00,  7.82627225e-01, -2.57949889e-01, -5.77510297e-01,\n",
       "              -5.84237456e-01,  3.61374110e-01,  1.20391035e+00,  5.70345283e-01,\n",
       "              -1.04643726e+00,  1.78914261e+00, -2.96488714e+00,  1.96048051e-01,\n",
       "               3.00578386e-01,  2.58941603e+00,  8.54559898e-01, -2.51899886e+00,\n",
       "              -4.44725990e+00, -4.06496912e-01,  7.06621766e-01, -2.58831549e+00,\n",
       "               2.06543112e+00, -6.81148171e-01,  4.45014507e-01,  1.31477427e+00,\n",
       "              -4.95935738e-01,  4.49267101e+00,  2.76484537e+00,  2.26546812e+00,\n",
       "               2.11471701e+00, -4.13648874e-01,  1.55690879e-01,  2.00197005e+00,\n",
       "              -2.58557439e+00,  8.49279910e-02,  1.21029548e-01, -6.93489388e-02,\n",
       "               1.17216647e+00, -1.98522651e+00,  1.00177133e+00, -7.48474479e-01,\n",
       "               1.45801508e+00, -1.96206033e+00, -1.23972440e+00,  1.64343834e+00,\n",
       "               2.22777700e+00,  3.28888059e-01,  1.05736482e+00,  5.96235275e-01,\n",
       "               1.61636484e+00, -1.00583899e+00,  4.34781462e-01,  2.01282310e+00,\n",
       "              -8.40434730e-01, -2.49010265e-01, -1.88900847e-02, -5.44875324e-01,\n",
       "              -1.28414798e+00,  1.25311658e-01, -1.16213548e+00,  1.43864775e+00,\n",
       "               7.59582072e-02, -1.84989595e+00, -2.17385435e+00,  9.71914113e-01],\n",
       "             dtype=float32)                                                       ,\n",
       "       ...,\n",
       "       array([-2.3045952 ,  0.29060102, -1.654057  ,  0.602605  ,  4.3845773 ,\n",
       "               0.11550036,  0.6477486 ,  3.8853257 ,  0.92426   , -1.0457661 ,\n",
       "               4.885461  ,  1.1571336 , -3.4208272 ,  1.1081285 , -0.24068971,\n",
       "               2.2677896 ,  0.6524838 ,  1.794511  , -1.372926  , -2.398978  ,\n",
       "               1.0584024 ,  0.6358869 , -1.4270256 ,  1.5743213 , -0.05913936,\n",
       "              -1.7644322 , -2.3088734 , -1.0461872 , -0.2519764 ,  0.54478693,\n",
       "               0.14489597, -0.31308112, -0.68087184, -1.637124  , -3.0751543 ,\n",
       "              -1.5720179 , -0.43816394,  1.196761  ,  0.12353221, -0.26043677,\n",
       "               0.38835812, -0.23464546,  0.33877963,  0.58405066, -1.6304358 ,\n",
       "               1.8618001 ,  1.0206132 , -1.056928  , -0.08390067,  0.52855945,\n",
       "              -1.2991143 ,  1.531943  , -0.31834587, -3.8115754 , -0.07333679,\n",
       "               0.95963085, -0.11020662,  0.20901711,  0.6198577 , -1.1780154 ,\n",
       "              -1.2078822 , -1.3050857 ,  0.34984812, -0.5679584 ,  2.548994  ,\n",
       "               1.6753742 , -1.9863832 , -1.4798986 ,  0.947052  ,  1.8325593 ,\n",
       "              -0.51512325, -0.96044225, -2.530558  ,  0.2161926 , -0.25901854,\n",
       "               1.9268167 , -2.710509  ,  2.8085403 , -2.8012297 ,  1.1551012 ,\n",
       "              -3.4686186 ,  0.39742038,  0.4052424 ,  0.750718  ,  1.6663501 ,\n",
       "              -0.06856028, -2.1688845 , -2.3164089 ,  0.68684363, -1.0544242 ,\n",
       "              -1.2017735 , -0.07754297,  1.9371954 , -2.3935287 ,  0.90009934,\n",
       "              -0.9071115 ,  0.97723913, -0.47612306,  0.6333953 ,  2.0432203 ,\n",
       "               2.5021117 ,  0.6386417 ,  2.3448339 ,  3.2941449 ,  0.46306807,\n",
       "               3.875523  ,  1.0553472 , -2.3648558 ,  0.12360631, -3.6881802 ,\n",
       "               1.1476891 ,  1.2565535 , -1.7501842 ,  0.8612164 ,  0.7699339 ,\n",
       "               0.22391796, -0.2853289 , -0.08437714, -0.19887291, -1.4673545 ,\n",
       "               0.06507497, -3.0333953 ,  1.1516222 ,  1.1827503 , -1.3311334 ,\n",
       "              -3.609843  , -0.15204702, -2.3620007 ,  3.192329  , -1.3341843 ,\n",
       "              -2.9277015 , -0.13874613,  4.2455835 , -0.01094855,  0.7721143 ,\n",
       "               0.6281101 , -1.1276598 , -0.35992903,  1.630368  , -1.4715884 ,\n",
       "              -1.5443672 , -0.5204492 ,  0.38778755,  1.0041003 ,  1.8144931 ,\n",
       "               0.91730887, -3.2432473 , -0.091739  ,  1.4293828 ,  1.1624001 ,\n",
       "               0.24178122,  2.4511049 ,  0.20523123,  1.1116906 , -0.9296249 ,\n",
       "               0.96608084,  1.9256699 , -0.4018893 , -1.1673763 , -1.5745828 ,\n",
       "              -0.60481334, -2.147612  ,  0.8730415 ,  2.1713004 , -1.3986744 ,\n",
       "              -1.2216017 , -3.2630508 ,  1.0792844 ,  0.9180361 ,  0.56099504,\n",
       "               0.46141633,  0.1242147 ,  1.290227  ,  0.37455648,  0.76460314,\n",
       "               0.61420983,  0.20753612, -0.3601164 , -3.1897957 , -0.82815003,\n",
       "              -1.7331216 ,  0.1546369 ,  0.1382692 , -0.76124156, -1.1076291 ,\n",
       "               0.37368897, -1.2357944 ,  1.3137891 , -0.15198143,  1.4181485 ,\n",
       "               0.10361698, -2.3500125 ,  0.00988275, -1.8996081 ,  0.63237983,\n",
       "               1.947035  , -3.122576  , -0.8039109 , -0.03988353,  0.39802304,\n",
       "              -0.41654077, -1.5211216 ,  0.5976203 , -2.433923  ,  4.5977864 ,\n",
       "               0.43271276, -3.7577477 ,  1.5196204 ,  0.30603057, -0.32939363,\n",
       "               1.3694233 ,  1.1530218 , -1.3741338 ,  1.672939  ,  1.4882565 ,\n",
       "               1.9011316 ,  1.0764891 , -2.8190773 , -0.47548026,  0.12233484,\n",
       "              -1.2085347 ,  1.1359425 , -0.9044025 , -0.22298673, -2.5565994 ,\n",
       "              -1.75358   ,  0.52194136,  2.7365975 ,  1.6571461 , -0.17849936,\n",
       "               3.7052453 , -2.02607   , -0.47777337,  2.4633486 ,  1.8867304 ,\n",
       "               2.3046155 , -0.8558663 ,  0.06324058, -0.47560647, -0.2291041 ,\n",
       "              -0.5379954 , -0.3945169 ,  0.9718238 ,  1.0920091 , -1.6734827 ,\n",
       "               1.2279803 , -2.1647458 ,  0.71200657, -0.21399836,  2.4625225 ,\n",
       "               1.5530531 , -2.4007602 , -4.352359  , -0.55145067,  0.7487293 ,\n",
       "              -2.0501983 ,  1.8991556 , -0.39868596,  0.9176151 ,  0.01368679,\n",
       "              -0.47589424,  4.97646   ,  2.985662  ,  2.5040846 ,  1.3507291 ,\n",
       "              -0.41228133, -0.179076  ,  2.012264  , -2.4916513 , -0.6826052 ,\n",
       "               0.44090796,  0.06303187,  1.4963    , -1.747454  ,  0.77235377,\n",
       "               0.13022737,  2.0469744 , -1.8252755 , -0.5702594 ,  1.0794953 ,\n",
       "               2.6230218 ,  0.66875   ,  1.2123842 ,  0.09487155,  1.9867864 ,\n",
       "              -1.0065737 , -0.11053792,  1.3029634 , -1.1323718 ,  0.75928   ,\n",
       "              -0.15099192, -0.20335501, -0.6387581 ,  0.82239157, -1.4183576 ,\n",
       "               1.9288291 ,  0.6680588 , -1.8792329 , -1.3021306 ,  0.48727357],\n",
       "             dtype=float32)                                                    ,\n",
       "       array([-2.7914732 ,  0.26514372, -1.7136743 ,  1.0800198 ,  4.726523  ,\n",
       "               0.8037565 ,  0.6986047 ,  3.2049983 ,  0.3510575 , -1.7691153 ,\n",
       "               5.110928  ,  1.7101398 , -3.3978884 ,  0.90876436, -0.470963  ,\n",
       "               2.6718168 ,  1.0271875 ,  0.67104673, -0.97412246, -1.7229466 ,\n",
       "               0.6914116 , -0.89352316, -1.6460595 ,  0.7524728 ,  0.6870984 ,\n",
       "              -1.5774455 , -1.7612455 , -0.5019485 , -0.3176848 ,  0.34512642,\n",
       "               1.6476921 ,  0.32596922, -0.7693384 , -1.6017883 , -3.0509953 ,\n",
       "              -0.7894042 , -0.54902124,  0.23129798,  0.36498848, -0.3787012 ,\n",
       "               0.10625885, -0.30573693, -0.28833526,  0.8535686 , -1.5327868 ,\n",
       "               0.96711874,  0.76045895, -1.4686795 , -0.82363075,  0.99074686,\n",
       "              -1.5181229 ,  1.9786062 , -0.07533661, -4.7981043 , -0.53673494,\n",
       "               0.96020275,  0.2311455 ,  0.6931236 ,  0.6871505 ,  0.07005905,\n",
       "               0.16063334, -1.3918588 ,  0.04263759, -0.661595  ,  2.8679993 ,\n",
       "               1.2549045 , -2.6511862 , -3.1083155 ,  0.99892545,  2.1156447 ,\n",
       "              -0.2800062 , -0.53691727, -1.9127517 ,  0.2322551 , -0.7916228 ,\n",
       "               0.79141   , -2.470348  ,  3.3476152 , -2.8549821 ,  0.1271532 ,\n",
       "              -3.61583   ,  0.29077753,  0.03870485,  1.5406578 ,  2.197752  ,\n",
       "               0.05104275, -2.5513175 , -3.0183864 ,  1.2050442 , -0.47917408,\n",
       "              -0.42221686, -0.06807679,  1.5732641 , -2.7399542 ,  1.0705231 ,\n",
       "              -0.27633837,  0.7730529 , -0.17883046,  0.51950043,  2.291175  ,\n",
       "               2.2977107 ,  1.040884  ,  2.305789  ,  3.4865866 , -0.09424423,\n",
       "               3.9334488 ,  1.641828  , -2.4631793 , -0.26445296, -4.0266366 ,\n",
       "               1.057708  ,  1.1195959 , -2.0056775 ,  1.1027616 ,  1.2286227 ,\n",
       "               0.24534862, -0.8784117 ,  0.05102156,  0.4696788 , -0.7336619 ,\n",
       "               0.02039918, -3.3470795 ,  1.3881127 ,  0.795195  , -0.8365769 ,\n",
       "              -3.255418  ,  1.4591925 , -2.4342015 ,  3.5662894 , -1.417873  ,\n",
       "              -3.6472614 , -0.6297542 ,  3.4253032 , -0.00906325, -0.3187193 ,\n",
       "               0.6944678 , -1.3721794 , -0.15897876,  1.5122923 , -2.4867487 ,\n",
       "              -2.3757696 , -1.2417916 , -0.18871222,  1.5097504 ,  1.4485475 ,\n",
       "               1.6596203 , -3.380998  ,  0.04474604,  1.1391495 ,  0.74493504,\n",
       "               0.2676683 ,  3.0107074 , -0.13559762,  1.7924978 , -0.961696  ,\n",
       "               0.68831956,  2.3716285 , -1.2059625 , -2.595405  , -1.448894  ,\n",
       "              -0.80133533, -2.3074157 ,  0.2918888 ,  1.8461136 , -1.9555235 ,\n",
       "              -1.6686718 , -3.7732868 ,  1.7193856 ,  0.8161075 ,  0.30994606,\n",
       "               1.0609035 , -0.11485338,  1.8498183 , -0.14917219,  1.4838799 ,\n",
       "               0.7961318 ,  0.1524747 , -1.0260717 , -2.7734482 , -1.5833995 ,\n",
       "              -0.842636  ,  0.10479185,  0.77467823,  0.31100792, -0.84620816,\n",
       "               0.6887703 , -1.345298  ,  1.1605948 ,  1.1810212 ,  0.9716303 ,\n",
       "               0.08895201, -1.8933513 ,  0.06690938, -1.9128262 ,  0.70536065,\n",
       "               1.6249088 , -3.1956816 , -0.70381635,  0.42697877,  0.23597014,\n",
       "              -0.9243779 , -1.2949716 ,  0.5143012 , -2.7101364 ,  3.5200822 ,\n",
       "               0.48559752, -3.4430685 ,  1.754527  , -0.01591086, -0.47210264,\n",
       "               1.1595852 ,  0.5408326 , -1.9950323 ,  1.31911   ,  1.196433  ,\n",
       "               2.4589813 ,  0.85004014, -1.7105962 ,  0.42527813,  0.05233259,\n",
       "              -2.3179858 ,  1.0552726 , -0.39231673, -0.17838109, -2.6079998 ,\n",
       "              -1.209567  , -0.0747411 ,  2.898203  ,  0.89635754, -0.08952111,\n",
       "               3.1725476 , -2.4846246 , -0.5154931 ,  1.8545907 ,  2.4449058 ,\n",
       "               1.6289555 , -1.3332399 ,  0.81195515, -0.54007   , -0.65345293,\n",
       "              -0.56601113,  0.66121966,  1.7685802 ,  0.43919444, -1.6903018 ,\n",
       "               2.0524652 , -2.2691317 , -0.07362087, -0.21588337,  2.103322  ,\n",
       "               1.4939873 , -3.9933367 , -4.6303945 ,  0.05474927,  0.9891244 ,\n",
       "              -2.7668746 ,  1.9534663 , -1.3032109 ,  0.24923925,  0.86901975,\n",
       "              -0.65187013,  4.3144107 ,  2.2829835 ,  1.6911829 ,  1.863259  ,\n",
       "              -1.0516738 ,  0.18103217,  2.0824966 , -2.5880406 ,  0.12740457,\n",
       "              -0.68230367,  0.26942658,  0.9766126 , -1.8889697 ,  1.3122135 ,\n",
       "              -0.68043953,  0.99761105, -1.6626229 , -0.7004266 ,  2.0052729 ,\n",
       "               1.6866453 ,  0.8302006 ,  0.5184675 ,  1.3054616 ,  2.0356941 ,\n",
       "              -0.7982673 ,  0.56236184,  1.1265802 , -0.21351476, -0.06957107,\n",
       "               0.5942018 , -0.27793074, -0.75205356,  0.50733566, -1.5536783 ,\n",
       "               1.9011205 ,  0.556832  , -1.993619  , -1.2461776 ,  0.9651071 ],\n",
       "             dtype=float32)                                                    ,\n",
       "       array([-1.0611380e+00,  8.1994104e-01, -2.5229065e+00, -3.0163419e-01,\n",
       "               2.4888327e+00,  7.1452445e-01, -2.6208414e-02,  3.5900941e+00,\n",
       "              -8.4702933e-01, -1.7267142e-01,  4.6830592e+00,  1.2154490e+00,\n",
       "              -2.7119567e+00,  1.1926525e+00,  1.4244982e+00,  9.0300757e-01,\n",
       "               7.7900106e-01, -1.3397423e+00, -1.0392778e+00, -1.4950153e+00,\n",
       "               1.3724523e+00, -2.2468134e-03, -5.9449214e-01, -1.4596232e+00,\n",
       "              -4.5890048e-01, -1.4661611e+00, -2.2496390e+00, -9.1931379e-01,\n",
       "              -7.8630187e-02,  1.0632584e+00,  8.7426025e-01, -1.1223882e+00,\n",
       "              -3.8811156e-01, -1.3348030e+00, -2.1773853e+00, -5.0689042e-01,\n",
       "              -4.3754080e-01,  5.8899927e-01,  1.7768582e+00,  8.5368550e-01,\n",
       "              -7.6510504e-02, -1.3029426e-01,  2.0301816e-01, -3.3150867e-01,\n",
       "              -1.1620612e+00,  1.3905101e+00, -4.3152499e-01, -2.5236318e+00,\n",
       "              -1.2961761e+00,  2.1602924e+00, -9.7434837e-01,  8.7080055e-01,\n",
       "               8.3739609e-01, -3.6245649e+00, -8.6141366e-01,  1.3186449e-01,\n",
       "               2.3087943e-01,  1.0594101e+00,  8.3383214e-01,  4.1112557e-01,\n",
       "               1.3048353e+00, -9.8127788e-01,  1.2699272e-01, -1.6557349e+00,\n",
       "               1.2584635e+00,  7.8251624e-01, -3.0657654e+00, -2.9999287e+00,\n",
       "               6.4337796e-01,  1.8158200e+00, -4.3569925e-01, -8.1811583e-01,\n",
       "              -1.5785713e+00, -1.9192216e-01,  4.1879678e-01,  1.0145497e+00,\n",
       "              -2.4847102e+00,  1.5258477e+00, -1.8663456e+00, -8.3261776e-01,\n",
       "              -3.3056667e+00, -5.7361370e-01,  1.5839605e+00,  2.1338424e-01,\n",
       "               2.4884307e+00, -3.0333865e-01, -1.1212718e+00, -2.0515542e+00,\n",
       "               8.2310069e-01, -6.9288772e-01, -8.9356470e-01, -1.1874785e-01,\n",
       "               1.9420954e+00, -3.8547113e+00,  6.8298978e-01, -1.1693059e+00,\n",
       "               8.8430655e-01, -1.1368011e+00,  1.4309812e+00,  5.3555393e-01,\n",
       "               1.3330605e+00,  1.8242875e+00,  2.0769491e+00,  2.2121286e+00,\n",
       "              -1.1197511e+00,  2.4801507e+00, -6.1625439e-01, -1.0042365e+00,\n",
       "              -1.0818552e+00, -2.0358441e+00, -1.2504402e-02,  8.8343315e-02,\n",
       "              -4.4190338e-01,  6.3740814e-01,  3.9441499e-01,  8.1942499e-01,\n",
       "              -5.3851306e-01, -3.7572154e-01,  4.9018085e-01, -9.1796708e-01,\n",
       "              -1.0603800e+00, -2.3414495e+00, -6.7313421e-01,  1.5616925e+00,\n",
       "              -6.0801166e-01, -2.2909896e+00,  1.3731769e+00, -1.6379689e+00,\n",
       "               1.7946531e+00, -6.5579230e-01, -2.1278162e+00, -2.8590184e-01,\n",
       "               2.9685307e+00, -9.4900882e-01, -9.8247319e-02,  8.2936555e-01,\n",
       "              -1.3398015e+00, -1.5993912e+00,  3.0278091e+00, -2.0306628e+00,\n",
       "              -1.8679515e+00, -4.0530935e-01,  5.4145569e-01,  1.6353968e+00,\n",
       "              -5.3536361e-01,  1.9320479e-01, -2.6226037e+00,  2.1704155e-01,\n",
       "               7.6397049e-01,  3.3575869e-01, -5.1293653e-01,  2.1280677e+00,\n",
       "               2.4609454e-02,  1.5044348e+00, -1.5591890e+00,  1.0572025e+00,\n",
       "               2.9006097e+00, -3.8134572e-01, -1.8286616e+00, -9.2745584e-01,\n",
       "              -6.5148169e-01, -2.6369967e+00, -7.8254861e-01,  1.4660726e+00,\n",
       "              -1.9378409e+00, -1.0008743e+00, -2.6166286e+00,  1.0518488e+00,\n",
       "              -7.6154095e-01,  5.1082331e-01,  1.7954676e+00, -1.4462948e-01,\n",
       "               1.8890088e+00,  1.0970973e+00,  1.3244331e+00, -6.4051670e-01,\n",
       "              -5.4311901e-01,  2.5938657e-01, -1.3238766e+00, -1.2712513e+00,\n",
       "              -6.4902198e-01, -2.6712573e-01,  1.9039211e+00, -8.0773729e-01,\n",
       "              -1.6227630e+00,  7.5095540e-01, -9.6847057e-01, -1.5181149e+00,\n",
       "               1.2030394e+00,  1.7139854e+00, -4.8965418e-01, -2.6865166e-01,\n",
       "              -7.7182364e-01, -8.0535161e-01, -1.7360890e-01, -5.2336651e-01,\n",
       "              -2.1994452e+00,  3.8132939e-01, -5.6346691e-01,  1.6394212e+00,\n",
       "              -1.0033846e+00, -7.7794957e-01, -8.4460169e-01, -2.0702543e+00,\n",
       "               7.1490121e-01,  5.6000036e-01, -1.9940892e+00,  4.0579835e-01,\n",
       "              -5.2177632e-01, -7.6864058e-01,  1.7827915e+00,  4.6834975e-01,\n",
       "              -5.7465631e-01,  1.3988994e+00, -1.6599810e-01,  2.1342537e+00,\n",
       "              -1.0945889e-01, -1.3738680e+00, -6.0532135e-01,  3.6909124e-01,\n",
       "              -1.8907162e+00,  4.2074096e-01,  1.3398083e-01,  1.5135894e+00,\n",
       "              -1.2204752e+00, -1.4070417e+00,  3.3773458e-01,  2.1100996e+00,\n",
       "               2.0590589e+00,  7.6951712e-01,  8.3666965e-02, -2.3350952e+00,\n",
       "               5.4616343e-02,  8.7251604e-01,  1.0157999e+00,  1.3515730e+00,\n",
       "              -1.5566655e+00,  1.4618775e+00, -1.2679268e-01, -5.8846399e-02,\n",
       "              -8.8396198e-01,  7.5943053e-01,  1.8172728e+00,  1.2083093e-01,\n",
       "              -6.7495465e-01,  7.4581814e-01, -1.9405378e+00, -4.6921570e-02,\n",
       "               7.4440384e-01,  1.8624859e+00, -1.0698319e-01, -1.1554044e+00,\n",
       "              -4.6044302e+00, -2.6860207e-02,  1.9159031e-01, -2.1747537e+00,\n",
       "               1.7839347e+00,  3.6353804e-02, -5.4611975e-01,  1.0755368e+00,\n",
       "               7.2796255e-01,  3.0129585e+00,  2.0501871e+00,  2.0285702e+00,\n",
       "               1.2591702e+00, -1.9161822e-01,  2.2517456e-01,  1.5330557e+00,\n",
       "              -3.5289001e+00,  1.9529973e-01,  1.0277257e+00, -7.3888981e-01,\n",
       "              -4.2843878e-01, -1.2197347e+00, -2.8692622e-02, -8.5050374e-01,\n",
       "               1.3404850e+00, -1.3520768e+00, -7.8150260e-01,  2.0669274e+00,\n",
       "              -5.6511974e-01, -7.6186813e-02,  4.1871583e-01,  8.7115657e-01,\n",
       "               2.7416606e+00, -7.2322011e-01, -9.3350887e-02,  1.1056395e+00,\n",
       "              -2.0399492e+00,  2.8815341e-01,  6.9917154e-01, -9.6546859e-01,\n",
       "               9.2317677e-01, -9.6542138e-01, -1.3733715e+00,  8.9030480e-01,\n",
       "               7.5289816e-01,  5.7455444e-01, -2.9443104e+00,  1.1685170e+00],\n",
       "             dtype=float32)                                                   ],\n",
       "      dtype=object)"
      ]
     },
     "execution_count": 33,
     "metadata": {},
     "output_type": "execute_result"
    }
   ],
   "source": [
    "X_train"
   ]
  },
  {
   "cell_type": "code",
   "execution_count": 38,
   "id": "894be65a",
   "metadata": {},
   "outputs": [],
   "source": [
    "import numpy as np\n",
    "X_train_2d=np.stack(X_train)\n",
    "X_test_2d=np.stack(X_test)"
   ]
  },
  {
   "cell_type": "code",
   "execution_count": 39,
   "id": "a6704455",
   "metadata": {},
   "outputs": [
    {
     "data": {
      "text/plain": [
       "array([[-1.8207177 , -0.16788642, -1.5892434 , ..., -0.698218  ,\n",
       "        -2.150327  ,  0.09244755],\n",
       "       [-1.3005835 ,  1.0895588 , -1.7663599 , ..., -0.0306152 ,\n",
       "        -2.7392828 ,  0.9823534 ],\n",
       "       [-1.9874974 ,  0.46089822, -2.3723187 , ..., -1.056357  ,\n",
       "        -2.4446638 ,  0.9853038 ],\n",
       "       ...,\n",
       "       [-1.2131704 ,  0.8177702 , -1.2526349 , ..., -0.79210097,\n",
       "        -2.405837  ,  0.24370928],\n",
       "       [-1.7706163 ,  0.6760605 , -2.0224748 , ..., -0.41595307,\n",
       "        -2.5875947 ,  0.92568064],\n",
       "       [-1.9276961 ,  0.98125803, -1.76483   , ..., -0.57787424,\n",
       "        -2.4113197 ,  1.1183107 ]], dtype=float32)"
      ]
     },
     "execution_count": 39,
     "metadata": {},
     "output_type": "execute_result"
    }
   ],
   "source": [
    "X_test_2d"
   ]
  },
  {
   "cell_type": "code",
   "execution_count": 42,
   "id": "6e12d34d",
   "metadata": {},
   "outputs": [
    {
     "data": {
      "text/plain": [
       "MultinomialNB()"
      ]
     },
     "execution_count": 42,
     "metadata": {},
     "output_type": "execute_result"
    }
   ],
   "source": [
    "from sklearn.naive_bayes import MultinomialNB\n",
    "from sklearn.preprocessing import MinMaxScaler\n",
    "scaler=MinMaxScaler()\n",
    "scaled_train_embed=scaler.fit_transform(X_train_2d)\n",
    "scaled_test_embed=scaler.fit_transform(X_test_2d)\n",
    "\n",
    "clf=MultinomialNB()\n",
    "clf.fit(scaled_train_embed,y_train)"
   ]
  },
  {
   "cell_type": "code",
   "execution_count": 43,
   "id": "b1a60061",
   "metadata": {},
   "outputs": [
    {
     "name": "stdout",
     "output_type": "stream",
     "text": [
      "              precision    recall  f1-score   support\n",
      "\n",
      "           0       0.95      0.94      0.95      1024\n",
      "           1       0.94      0.95      0.94       956\n",
      "\n",
      "    accuracy                           0.94      1980\n",
      "   macro avg       0.94      0.95      0.94      1980\n",
      "weighted avg       0.95      0.94      0.94      1980\n",
      "\n"
     ]
    }
   ],
   "source": [
    "from sklearn.metrics import classification_report\n",
    "y_pred=clf.predict(scaled_test_embed)\n",
    "print(classification_report(y_test,y_pred))"
   ]
  },
  {
   "cell_type": "code",
   "execution_count": 44,
   "id": "578f9575",
   "metadata": {},
   "outputs": [
    {
     "name": "stdout",
     "output_type": "stream",
     "text": [
      "              precision    recall  f1-score   support\n",
      "\n",
      "           0       0.99      0.99      0.99      1024\n",
      "           1       0.99      0.99      0.99       956\n",
      "\n",
      "    accuracy                           0.99      1980\n",
      "   macro avg       0.99      0.99      0.99      1980\n",
      "weighted avg       0.99      0.99      0.99      1980\n",
      "\n"
     ]
    }
   ],
   "source": [
    "from sklearn.neighbors import KNeighborsClassifier\n",
    "clf=KNeighborsClassifier(n_neighbors=5,metric='euclidean')\n",
    "clf.fit(scaled_train_embed,y_train)\n",
    "y_pred=clf.predict(scaled_test_embed)\n",
    "print(classification_report(y_test,y_pred))"
   ]
  },
  {
   "cell_type": "code",
   "execution_count": 45,
   "id": "5287dde5",
   "metadata": {},
   "outputs": [
    {
     "data": {
      "text/plain": [
       "Text(114.0, 0.5, 'truth')"
      ]
     },
     "execution_count": 45,
     "metadata": {},
     "output_type": "execute_result"
    },
    {
     "data": {
      "image/png": "[encoded data removed]",
      "text/plain": [
       "<Figure size 1080x720 with 2 Axes>"
      ]
     },
     "metadata": {
      "needs_background": "light"
     },
     "output_type": "display_data"
    }
   ],
   "source": [
    "from sklearn.metrics import confusion_matrix\n",
    "cm=confusion_matrix(y_test,y_pred)\n",
    "\n",
    "import matplotlib.pyplot as plt\n",
    "import seaborn as sn\n",
    "\n",
    "plt.figure(figsize=(15,10))\n",
    "sn.heatmap(cm,annot=True, fmt='d')\n",
    "plt.xlabel(\"prediction\")\n",
    "plt.ylabel(\"truth\")"
   ]
  },
  {
   "cell_type": "code",
   "execution_count": 46,
   "id": "060c942b",
   "metadata": {},
   "outputs": [],
   "source": [
    "#News Category Classifier"
   ]
  },
  {
   "cell_type": "code",
   "execution_count": 47,
   "id": "2254a93a",
   "metadata": {},
   "outputs": [],
   "source": [
    "import pandas as pd"
   ]
  },
  {
   "cell_type": "code",
   "execution_count": 55,
   "id": "9215ab40",
   "metadata": {},
   "outputs": [
    {
     "data": {
      "text/html": [
       "<div>\n",
       "<style scoped>\n",
       "    .dataframe tbody tr th:only-of-type {\n",
       "        vertical-align: middle;\n",
       "    }\n",
       "\n",
       "    .dataframe tbody tr th {\n",
       "        vertical-align: top;\n",
       "    }\n",
       "\n",
       "    .dataframe thead th {\n",
       "        text-align: right;\n",
       "    }\n",
       "</style>\n",
       "<table border=\"1\" class=\"dataframe\">\n",
       "  <thead>\n",
       "    <tr style=\"text-align: right;\">\n",
       "      <th></th>\n",
       "      <th>text</th>\n",
       "      <th>category</th>\n",
       "    </tr>\n",
       "  </thead>\n",
       "  <tbody>\n",
       "    <tr>\n",
       "      <th>0</th>\n",
       "      <td>Larry Nassar Blames His Victims, Says He 'Was ...</td>\n",
       "      <td>CRIME</td>\n",
       "    </tr>\n",
       "    <tr>\n",
       "      <th>1</th>\n",
       "      <td>Woman Beats Cancer, Dies Falling From Horse</td>\n",
       "      <td>CRIME</td>\n",
       "    </tr>\n",
       "    <tr>\n",
       "      <th>2</th>\n",
       "      <td>Vegas Taxpayers Could Spend A Record $750 Mill...</td>\n",
       "      <td>SPORTS</td>\n",
       "    </tr>\n",
       "    <tr>\n",
       "      <th>3</th>\n",
       "      <td>This Richard Sherman Interception Literally Sh...</td>\n",
       "      <td>SPORTS</td>\n",
       "    </tr>\n",
       "    <tr>\n",
       "      <th>4</th>\n",
       "      <td>7 Things That Could Totally Kill Weed Legaliza...</td>\n",
       "      <td>BUSINESS</td>\n",
       "    </tr>\n",
       "    <tr>\n",
       "      <th>...</th>\n",
       "      <td>...</td>\n",
       "      <td>...</td>\n",
       "    </tr>\n",
       "    <tr>\n",
       "      <th>7495</th>\n",
       "      <td>Sex Offender Registries Are Not Really Keeping...</td>\n",
       "      <td>CRIME</td>\n",
       "    </tr>\n",
       "    <tr>\n",
       "      <th>7496</th>\n",
       "      <td>'Stockbroker's Bible' Just Told Oil Industry T...</td>\n",
       "      <td>BUSINESS</td>\n",
       "    </tr>\n",
       "    <tr>\n",
       "      <th>7497</th>\n",
       "      <td>Want to Change It? Scale It!</td>\n",
       "      <td>BUSINESS</td>\n",
       "    </tr>\n",
       "    <tr>\n",
       "      <th>7498</th>\n",
       "      <td>How To Make A Billion Dollar Drug In 1961, new...</td>\n",
       "      <td>BUSINESS</td>\n",
       "    </tr>\n",
       "    <tr>\n",
       "      <th>7499</th>\n",
       "      <td>Souls of Wisdom It was the end of a fourth day...</td>\n",
       "      <td>BUSINESS</td>\n",
       "    </tr>\n",
       "  </tbody>\n",
       "</table>\n",
       "<p>7500 rows × 2 columns</p>\n",
       "</div>"
      ],
      "text/plain": [
       "                                                   text  category\n",
       "0     Larry Nassar Blames His Victims, Says He 'Was ...     CRIME\n",
       "1          Woman Beats Cancer, Dies Falling From Horse      CRIME\n",
       "2     Vegas Taxpayers Could Spend A Record $750 Mill...    SPORTS\n",
       "3     This Richard Sherman Interception Literally Sh...    SPORTS\n",
       "4     7 Things That Could Totally Kill Weed Legaliza...  BUSINESS\n",
       "...                                                 ...       ...\n",
       "7495  Sex Offender Registries Are Not Really Keeping...     CRIME\n",
       "7496  'Stockbroker's Bible' Just Told Oil Industry T...  BUSINESS\n",
       "7497                      Want to Change It? Scale It!   BUSINESS\n",
       "7498  How To Make A Billion Dollar Drug In 1961, new...  BUSINESS\n",
       "7499  Souls of Wisdom It was the end of a fourth day...  BUSINESS\n",
       "\n",
       "[7500 rows x 2 columns]"
      ]
     },
     "execution_count": 55,
     "metadata": {},
     "output_type": "execute_result"
    }
   ],
   "source": [
    "df=pd.read_json(r\"C:\\Users\\sohan\\Downloads\\news_dataset(embed).json\")\n",
    "df"
   ]
  },
  {
   "cell_type": "code",
   "execution_count": 56,
   "id": "1b231ae3",
   "metadata": {},
   "outputs": [
    {
     "data": {
      "text/plain": [
       "(7500, 2)"
      ]
     },
     "execution_count": 56,
     "metadata": {},
     "output_type": "execute_result"
    }
   ],
   "source": [
    "df.shape"
   ]
  },
  {
   "cell_type": "code",
   "execution_count": 57,
   "id": "ac9aa7c8",
   "metadata": {},
   "outputs": [
    {
     "name": "stdout",
     "output_type": "stream",
     "text": [
      "<class 'pandas.core.frame.DataFrame'>\n",
      "Int64Index: 7500 entries, 0 to 7499\n",
      "Data columns (total 2 columns):\n",
      " #   Column    Non-Null Count  Dtype \n",
      "---  ------    --------------  ----- \n",
      " 0   text      7500 non-null   object\n",
      " 1   category  7500 non-null   object\n",
      "dtypes: object(2)\n",
      "memory usage: 175.8+ KB\n"
     ]
    }
   ],
   "source": [
    "df.info()"
   ]
  },
  {
   "cell_type": "code",
   "execution_count": 58,
   "id": "722d0706",
   "metadata": {},
   "outputs": [
    {
     "data": {
      "text/plain": [
       "CRIME       2500\n",
       "SPORTS      2500\n",
       "BUSINESS    2500\n",
       "Name: category, dtype: int64"
      ]
     },
     "execution_count": 58,
     "metadata": {},
     "output_type": "execute_result"
    }
   ],
   "source": [
    "df.category.value_counts()"
   ]
  },
  {
   "cell_type": "code",
   "execution_count": 68,
   "id": "08156071",
   "metadata": {},
   "outputs": [
    {
     "data": {
      "text/html": [
       "<div>\n",
       "<style scoped>\n",
       "    .dataframe tbody tr th:only-of-type {\n",
       "        vertical-align: middle;\n",
       "    }\n",
       "\n",
       "    .dataframe tbody tr th {\n",
       "        vertical-align: top;\n",
       "    }\n",
       "\n",
       "    .dataframe thead th {\n",
       "        text-align: right;\n",
       "    }\n",
       "</style>\n",
       "<table border=\"1\" class=\"dataframe\">\n",
       "  <thead>\n",
       "    <tr style=\"text-align: right;\">\n",
       "      <th></th>\n",
       "      <th>text</th>\n",
       "      <th>category</th>\n",
       "      <th>label_num</th>\n",
       "    </tr>\n",
       "  </thead>\n",
       "  <tbody>\n",
       "    <tr>\n",
       "      <th>0</th>\n",
       "      <td>Larry Nassar Blames His Victims, Says He 'Was ...</td>\n",
       "      <td>CRIME</td>\n",
       "      <td>0</td>\n",
       "    </tr>\n",
       "    <tr>\n",
       "      <th>1</th>\n",
       "      <td>Woman Beats Cancer, Dies Falling From Horse</td>\n",
       "      <td>CRIME</td>\n",
       "      <td>0</td>\n",
       "    </tr>\n",
       "    <tr>\n",
       "      <th>2</th>\n",
       "      <td>Vegas Taxpayers Could Spend A Record $750 Mill...</td>\n",
       "      <td>SPORTS</td>\n",
       "      <td>1</td>\n",
       "    </tr>\n",
       "    <tr>\n",
       "      <th>3</th>\n",
       "      <td>This Richard Sherman Interception Literally Sh...</td>\n",
       "      <td>SPORTS</td>\n",
       "      <td>1</td>\n",
       "    </tr>\n",
       "    <tr>\n",
       "      <th>4</th>\n",
       "      <td>7 Things That Could Totally Kill Weed Legaliza...</td>\n",
       "      <td>BUSINESS</td>\n",
       "      <td>2</td>\n",
       "    </tr>\n",
       "    <tr>\n",
       "      <th>...</th>\n",
       "      <td>...</td>\n",
       "      <td>...</td>\n",
       "      <td>...</td>\n",
       "    </tr>\n",
       "    <tr>\n",
       "      <th>7495</th>\n",
       "      <td>Sex Offender Registries Are Not Really Keeping...</td>\n",
       "      <td>CRIME</td>\n",
       "      <td>0</td>\n",
       "    </tr>\n",
       "    <tr>\n",
       "      <th>7496</th>\n",
       "      <td>'Stockbroker's Bible' Just Told Oil Industry T...</td>\n",
       "      <td>BUSINESS</td>\n",
       "      <td>2</td>\n",
       "    </tr>\n",
       "    <tr>\n",
       "      <th>7497</th>\n",
       "      <td>Want to Change It? Scale It!</td>\n",
       "      <td>BUSINESS</td>\n",
       "      <td>2</td>\n",
       "    </tr>\n",
       "    <tr>\n",
       "      <th>7498</th>\n",
       "      <td>How To Make A Billion Dollar Drug In 1961, new...</td>\n",
       "      <td>BUSINESS</td>\n",
       "      <td>2</td>\n",
       "    </tr>\n",
       "    <tr>\n",
       "      <th>7499</th>\n",
       "      <td>Souls of Wisdom It was the end of a fourth day...</td>\n",
       "      <td>BUSINESS</td>\n",
       "      <td>2</td>\n",
       "    </tr>\n",
       "  </tbody>\n",
       "</table>\n",
       "<p>7500 rows × 3 columns</p>\n",
       "</div>"
      ],
      "text/plain": [
       "                                                   text  category  label_num\n",
       "0     Larry Nassar Blames His Victims, Says He 'Was ...     CRIME          0\n",
       "1          Woman Beats Cancer, Dies Falling From Horse      CRIME          0\n",
       "2     Vegas Taxpayers Could Spend A Record $750 Mill...    SPORTS          1\n",
       "3     This Richard Sherman Interception Literally Sh...    SPORTS          1\n",
       "4     7 Things That Could Totally Kill Weed Legaliza...  BUSINESS          2\n",
       "...                                                 ...       ...        ...\n",
       "7495  Sex Offender Registries Are Not Really Keeping...     CRIME          0\n",
       "7496  'Stockbroker's Bible' Just Told Oil Industry T...  BUSINESS          2\n",
       "7497                      Want to Change It? Scale It!   BUSINESS          2\n",
       "7498  How To Make A Billion Dollar Drug In 1961, new...  BUSINESS          2\n",
       "7499  Souls of Wisdom It was the end of a fourth day...  BUSINESS          2\n",
       "\n",
       "[7500 rows x 3 columns]"
      ]
     },
     "execution_count": 68,
     "metadata": {},
     "output_type": "execute_result"
    }
   ],
   "source": [
    "df['label_num']=df['category'].map({'CRIME':0,'SPORTS':1,'BUSINESS':2})\n",
    "df"
   ]
  },
  {
   "cell_type": "code",
   "execution_count": 69,
   "id": "aaf06b19",
   "metadata": {},
   "outputs": [],
   "source": [
    "import spacy\n",
    "nlp=spacy.load('en_core_web_lg')"
   ]
  },
  {
   "cell_type": "code",
   "execution_count": 70,
   "id": "769d9718",
   "metadata": {},
   "outputs": [],
   "source": [
    "# Preprocess text\n",
    "# remove stop words\n",
    "# convert to base words using lemmatization"
   ]
  },
  {
   "cell_type": "code",
   "execution_count": 71,
   "id": "363cdcfa",
   "metadata": {},
   "outputs": [],
   "source": [
    "def preprocess(text):\n",
    "    doc=nlp(text)\n",
    "    filtered_tokens=[]\n",
    "    for token in doc:\n",
    "         if token.is_stop or token.is_punct:\n",
    "                continue\n",
    "         filtered_tokens.append(token.lemma_)\n",
    "        \n",
    "        \n",
    "    \n",
    "    return' '.join(filtered_tokens)   \n",
    "                \n",
    "       \n",
    "   \n",
    "    "
   ]
  },
  {
   "cell_type": "code",
   "execution_count": 73,
   "id": "b8eca993",
   "metadata": {},
   "outputs": [
    {
     "data": {
      "text/html": [
       "<div>\n",
       "<style scoped>\n",
       "    .dataframe tbody tr th:only-of-type {\n",
       "        vertical-align: middle;\n",
       "    }\n",
       "\n",
       "    .dataframe tbody tr th {\n",
       "        vertical-align: top;\n",
       "    }\n",
       "\n",
       "    .dataframe thead th {\n",
       "        text-align: right;\n",
       "    }\n",
       "</style>\n",
       "<table border=\"1\" class=\"dataframe\">\n",
       "  <thead>\n",
       "    <tr style=\"text-align: right;\">\n",
       "      <th></th>\n",
       "      <th>text</th>\n",
       "      <th>category</th>\n",
       "      <th>label_num</th>\n",
       "      <th>preprocessed_text</th>\n",
       "    </tr>\n",
       "  </thead>\n",
       "  <tbody>\n",
       "    <tr>\n",
       "      <th>0</th>\n",
       "      <td>Larry Nassar Blames His Victims, Says He 'Was ...</td>\n",
       "      <td>CRIME</td>\n",
       "      <td>0</td>\n",
       "      <td>Larry Nassar blame victim say victimize newly ...</td>\n",
       "    </tr>\n",
       "    <tr>\n",
       "      <th>1</th>\n",
       "      <td>Woman Beats Cancer, Dies Falling From Horse</td>\n",
       "      <td>CRIME</td>\n",
       "      <td>0</td>\n",
       "      <td>woman beat cancer die fall horse</td>\n",
       "    </tr>\n",
       "    <tr>\n",
       "      <th>2</th>\n",
       "      <td>Vegas Taxpayers Could Spend A Record $750 Mill...</td>\n",
       "      <td>SPORTS</td>\n",
       "      <td>1</td>\n",
       "      <td>Vegas taxpayer spend Record $ 750 million New ...</td>\n",
       "    </tr>\n",
       "    <tr>\n",
       "      <th>3</th>\n",
       "      <td>This Richard Sherman Interception Literally Sh...</td>\n",
       "      <td>SPORTS</td>\n",
       "      <td>1</td>\n",
       "      <td>Richard Sherman Interception literally shake W...</td>\n",
       "    </tr>\n",
       "    <tr>\n",
       "      <th>4</th>\n",
       "      <td>7 Things That Could Totally Kill Weed Legaliza...</td>\n",
       "      <td>BUSINESS</td>\n",
       "      <td>2</td>\n",
       "      <td>7 thing totally kill Weed Legalization Buzz</td>\n",
       "    </tr>\n",
       "    <tr>\n",
       "      <th>...</th>\n",
       "      <td>...</td>\n",
       "      <td>...</td>\n",
       "      <td>...</td>\n",
       "      <td>...</td>\n",
       "    </tr>\n",
       "    <tr>\n",
       "      <th>7495</th>\n",
       "      <td>Sex Offender Registries Are Not Really Keeping...</td>\n",
       "      <td>CRIME</td>\n",
       "      <td>0</td>\n",
       "      <td>sex Offender registry keep child safe problem ...</td>\n",
       "    </tr>\n",
       "    <tr>\n",
       "      <th>7496</th>\n",
       "      <td>'Stockbroker's Bible' Just Told Oil Industry T...</td>\n",
       "      <td>BUSINESS</td>\n",
       "      <td>2</td>\n",
       "      <td>Stockbroker Bible tell oil industry accept dem...</td>\n",
       "    </tr>\n",
       "    <tr>\n",
       "      <th>7497</th>\n",
       "      <td>Want to Change It? Scale It!</td>\n",
       "      <td>BUSINESS</td>\n",
       "      <td>2</td>\n",
       "      <td>want change scale</td>\n",
       "    </tr>\n",
       "    <tr>\n",
       "      <th>7498</th>\n",
       "      <td>How To Make A Billion Dollar Drug In 1961, new...</td>\n",
       "      <td>BUSINESS</td>\n",
       "      <td>2</td>\n",
       "      <td>billion dollar drug 1961 newspaper world run s...</td>\n",
       "    </tr>\n",
       "    <tr>\n",
       "      <th>7499</th>\n",
       "      <td>Souls of Wisdom It was the end of a fourth day...</td>\n",
       "      <td>BUSINESS</td>\n",
       "      <td>2</td>\n",
       "      <td>soul Wisdom end fourth day pack programming Ma...</td>\n",
       "    </tr>\n",
       "  </tbody>\n",
       "</table>\n",
       "<p>7500 rows × 4 columns</p>\n",
       "</div>"
      ],
      "text/plain": [
       "                                                   text  category  label_num  \\\n",
       "0     Larry Nassar Blames His Victims, Says He 'Was ...     CRIME          0   \n",
       "1          Woman Beats Cancer, Dies Falling From Horse      CRIME          0   \n",
       "2     Vegas Taxpayers Could Spend A Record $750 Mill...    SPORTS          1   \n",
       "3     This Richard Sherman Interception Literally Sh...    SPORTS          1   \n",
       "4     7 Things That Could Totally Kill Weed Legaliza...  BUSINESS          2   \n",
       "...                                                 ...       ...        ...   \n",
       "7495  Sex Offender Registries Are Not Really Keeping...     CRIME          0   \n",
       "7496  'Stockbroker's Bible' Just Told Oil Industry T...  BUSINESS          2   \n",
       "7497                      Want to Change It? Scale It!   BUSINESS          2   \n",
       "7498  How To Make A Billion Dollar Drug In 1961, new...  BUSINESS          2   \n",
       "7499  Souls of Wisdom It was the end of a fourth day...  BUSINESS          2   \n",
       "\n",
       "                                      preprocessed_text  \n",
       "0     Larry Nassar blame victim say victimize newly ...  \n",
       "1                      woman beat cancer die fall horse  \n",
       "2     Vegas taxpayer spend Record $ 750 million New ...  \n",
       "3     Richard Sherman Interception literally shake W...  \n",
       "4           7 thing totally kill Weed Legalization Buzz  \n",
       "...                                                 ...  \n",
       "7495  sex Offender registry keep child safe problem ...  \n",
       "7496  Stockbroker Bible tell oil industry accept dem...  \n",
       "7497                                  want change scale  \n",
       "7498  billion dollar drug 1961 newspaper world run s...  \n",
       "7499  soul Wisdom end fourth day pack programming Ma...  \n",
       "\n",
       "[7500 rows x 4 columns]"
      ]
     },
     "execution_count": 73,
     "metadata": {},
     "output_type": "execute_result"
    }
   ],
   "source": [
    "df['preprocessed_text']=df['text'].apply(lambda text: preprocess(text))\n",
    "df"
   ]
  },
  {
   "cell_type": "code",
   "execution_count": 74,
   "id": "b294e2f2",
   "metadata": {},
   "outputs": [
    {
     "data": {
      "text/html": [
       "<div>\n",
       "<style scoped>\n",
       "    .dataframe tbody tr th:only-of-type {\n",
       "        vertical-align: middle;\n",
       "    }\n",
       "\n",
       "    .dataframe tbody tr th {\n",
       "        vertical-align: top;\n",
       "    }\n",
       "\n",
       "    .dataframe thead th {\n",
       "        text-align: right;\n",
       "    }\n",
       "</style>\n",
       "<table border=\"1\" class=\"dataframe\">\n",
       "  <thead>\n",
       "    <tr style=\"text-align: right;\">\n",
       "      <th></th>\n",
       "      <th>text</th>\n",
       "      <th>category</th>\n",
       "      <th>label_num</th>\n",
       "      <th>preprocessed_text</th>\n",
       "      <th>vector</th>\n",
       "    </tr>\n",
       "  </thead>\n",
       "  <tbody>\n",
       "    <tr>\n",
       "      <th>0</th>\n",
       "      <td>Larry Nassar Blames His Victims, Says He 'Was ...</td>\n",
       "      <td>CRIME</td>\n",
       "      <td>0</td>\n",
       "      <td>Larry Nassar blame victim say victimize newly ...</td>\n",
       "      <td>[-0.66440725, -0.068394385, -0.8237137, 0.0459...</td>\n",
       "    </tr>\n",
       "    <tr>\n",
       "      <th>1</th>\n",
       "      <td>Woman Beats Cancer, Dies Falling From Horse</td>\n",
       "      <td>CRIME</td>\n",
       "      <td>0</td>\n",
       "      <td>woman beat cancer die fall horse</td>\n",
       "      <td>[-0.4988816, 0.29439333, -1.3095832, -1.073765...</td>\n",
       "    </tr>\n",
       "    <tr>\n",
       "      <th>2</th>\n",
       "      <td>Vegas Taxpayers Could Spend A Record $750 Mill...</td>\n",
       "      <td>SPORTS</td>\n",
       "      <td>1</td>\n",
       "      <td>Vegas taxpayer spend Record $ 750 million New ...</td>\n",
       "      <td>[-1.9628284, 0.20600851, -3.4613578, 1.5881873...</td>\n",
       "    </tr>\n",
       "    <tr>\n",
       "      <th>3</th>\n",
       "      <td>This Richard Sherman Interception Literally Sh...</td>\n",
       "      <td>SPORTS</td>\n",
       "      <td>1</td>\n",
       "      <td>Richard Sherman Interception literally shake W...</td>\n",
       "      <td>[-1.4702771, -0.685319, 0.57398, -0.31135806, ...</td>\n",
       "    </tr>\n",
       "    <tr>\n",
       "      <th>4</th>\n",
       "      <td>7 Things That Could Totally Kill Weed Legaliza...</td>\n",
       "      <td>BUSINESS</td>\n",
       "      <td>2</td>\n",
       "      <td>7 thing totally kill Weed Legalization Buzz</td>\n",
       "      <td>[-1.037173, -1.9495698, -1.7179357, 1.2975286,...</td>\n",
       "    </tr>\n",
       "    <tr>\n",
       "      <th>...</th>\n",
       "      <td>...</td>\n",
       "      <td>...</td>\n",
       "      <td>...</td>\n",
       "      <td>...</td>\n",
       "      <td>...</td>\n",
       "    </tr>\n",
       "    <tr>\n",
       "      <th>7495</th>\n",
       "      <td>Sex Offender Registries Are Not Really Keeping...</td>\n",
       "      <td>CRIME</td>\n",
       "      <td>0</td>\n",
       "      <td>sex Offender registry keep child safe problem ...</td>\n",
       "      <td>[-0.7590752, 0.92723805, -2.3437989, 0.4177522...</td>\n",
       "    </tr>\n",
       "    <tr>\n",
       "      <th>7496</th>\n",
       "      <td>'Stockbroker's Bible' Just Told Oil Industry T...</td>\n",
       "      <td>BUSINESS</td>\n",
       "      <td>2</td>\n",
       "      <td>Stockbroker Bible tell oil industry accept dem...</td>\n",
       "      <td>[1.1531, -0.0626675, -0.9053362, 0.25269416, 0...</td>\n",
       "    </tr>\n",
       "    <tr>\n",
       "      <th>7497</th>\n",
       "      <td>Want to Change It? Scale It!</td>\n",
       "      <td>BUSINESS</td>\n",
       "      <td>2</td>\n",
       "      <td>want change scale</td>\n",
       "      <td>[1.4338999, 2.9818058, -5.5303, 0.044243336, 0...</td>\n",
       "    </tr>\n",
       "    <tr>\n",
       "      <th>7498</th>\n",
       "      <td>How To Make A Billion Dollar Drug In 1961, new...</td>\n",
       "      <td>BUSINESS</td>\n",
       "      <td>2</td>\n",
       "      <td>billion dollar drug 1961 newspaper world run s...</td>\n",
       "      <td>[-0.1455274, -0.1690047, -2.4465692, -1.60181,...</td>\n",
       "    </tr>\n",
       "    <tr>\n",
       "      <th>7499</th>\n",
       "      <td>Souls of Wisdom It was the end of a fourth day...</td>\n",
       "      <td>BUSINESS</td>\n",
       "      <td>2</td>\n",
       "      <td>soul Wisdom end fourth day pack programming Ma...</td>\n",
       "      <td>[-0.7867514, 0.022580221, -0.9533115, -0.46140...</td>\n",
       "    </tr>\n",
       "  </tbody>\n",
       "</table>\n",
       "<p>7500 rows × 5 columns</p>\n",
       "</div>"
      ],
      "text/plain": [
       "                                                   text  category  label_num  \\\n",
       "0     Larry Nassar Blames His Victims, Says He 'Was ...     CRIME          0   \n",
       "1          Woman Beats Cancer, Dies Falling From Horse      CRIME          0   \n",
       "2     Vegas Taxpayers Could Spend A Record $750 Mill...    SPORTS          1   \n",
       "3     This Richard Sherman Interception Literally Sh...    SPORTS          1   \n",
       "4     7 Things That Could Totally Kill Weed Legaliza...  BUSINESS          2   \n",
       "...                                                 ...       ...        ...   \n",
       "7495  Sex Offender Registries Are Not Really Keeping...     CRIME          0   \n",
       "7496  'Stockbroker's Bible' Just Told Oil Industry T...  BUSINESS          2   \n",
       "7497                      Want to Change It? Scale It!   BUSINESS          2   \n",
       "7498  How To Make A Billion Dollar Drug In 1961, new...  BUSINESS          2   \n",
       "7499  Souls of Wisdom It was the end of a fourth day...  BUSINESS          2   \n",
       "\n",
       "                                      preprocessed_text  \\\n",
       "0     Larry Nassar blame victim say victimize newly ...   \n",
       "1                      woman beat cancer die fall horse   \n",
       "2     Vegas taxpayer spend Record $ 750 million New ...   \n",
       "3     Richard Sherman Interception literally shake W...   \n",
       "4           7 thing totally kill Weed Legalization Buzz   \n",
       "...                                                 ...   \n",
       "7495  sex Offender registry keep child safe problem ...   \n",
       "7496  Stockbroker Bible tell oil industry accept dem...   \n",
       "7497                                  want change scale   \n",
       "7498  billion dollar drug 1961 newspaper world run s...   \n",
       "7499  soul Wisdom end fourth day pack programming Ma...   \n",
       "\n",
       "                                                 vector  \n",
       "0     [-0.66440725, -0.068394385, -0.8237137, 0.0459...  \n",
       "1     [-0.4988816, 0.29439333, -1.3095832, -1.073765...  \n",
       "2     [-1.9628284, 0.20600851, -3.4613578, 1.5881873...  \n",
       "3     [-1.4702771, -0.685319, 0.57398, -0.31135806, ...  \n",
       "4     [-1.037173, -1.9495698, -1.7179357, 1.2975286,...  \n",
       "...                                                 ...  \n",
       "7495  [-0.7590752, 0.92723805, -2.3437989, 0.4177522...  \n",
       "7496  [1.1531, -0.0626675, -0.9053362, 0.25269416, 0...  \n",
       "7497  [1.4338999, 2.9818058, -5.5303, 0.044243336, 0...  \n",
       "7498  [-0.1455274, -0.1690047, -2.4465692, -1.60181,...  \n",
       "7499  [-0.7867514, 0.022580221, -0.9533115, -0.46140...  \n",
       "\n",
       "[7500 rows x 5 columns]"
      ]
     },
     "execution_count": 74,
     "metadata": {},
     "output_type": "execute_result"
    }
   ],
   "source": [
    "df['vector']=df['preprocessed_text'].apply(lambda text:nlp(text).vector)\n",
    "df"
   ]
  },
  {
   "cell_type": "code",
   "execution_count": 76,
   "id": "db00558b",
   "metadata": {},
   "outputs": [],
   "source": [
    "from sklearn.model_selection import train_test_split\n",
    "X_train,X_test,y_train,y_test=train_test_split(df.vector.values,df.label_num,test_size=0.2,random_state=2022,stratify=df.label_num)"
   ]
  },
  {
   "cell_type": "code",
   "execution_count": 77,
   "id": "21c62cb0",
   "metadata": {},
   "outputs": [
    {
     "name": "stdout",
     "output_type": "stream",
     "text": [
      "Shape of X_train before reshaping: (6000,)\n",
      "Shape of X_test before reshaping: (1500,)\n",
      "Shape of X_train after reshaping: (6000, 300)\n",
      "Shape of X_test after reshaping: (1500, 300)\n"
     ]
    }
   ],
   "source": [
    "#Reshape the X_train and X_test so as to fit for models\n",
    "\n",
    "import numpy as np\n",
    "X_train_2d=np.stack(X_train)\n",
    "X_test_2d=np.stack(X_test)\n",
    "\n",
    "print(\"Shape of X_train before reshaping:\",X_train.shape)\n",
    "print(\"Shape of X_test before reshaping:\",X_test.shape)\n",
    "\n",
    "print(\"Shape of X_train after reshaping:\",X_train_2d.shape)\n",
    "print(\"Shape of X_test after reshaping:\",X_test_2d.shape)"
   ]
  },
  {
   "cell_type": "code",
   "execution_count": 78,
   "id": "72266ea3",
   "metadata": {},
   "outputs": [],
   "source": [
    "# Attempt 1:\n",
    "\n",
    "# use spacy glove embeddings for text vectorization.\n",
    "\n",
    "# use Decision Tree as the classifier.\n",
    "\n",
    "# print the classification report."
   ]
  },
  {
   "cell_type": "code",
   "execution_count": 79,
   "id": "d7705264",
   "metadata": {},
   "outputs": [
    {
     "name": "stdout",
     "output_type": "stream",
     "text": [
      "              precision    recall  f1-score   support\n",
      "\n",
      "           0       0.75      0.73      0.74       500\n",
      "           1       0.71      0.72      0.71       500\n",
      "           2       0.73      0.74      0.73       500\n",
      "\n",
      "    accuracy                           0.73      1500\n",
      "   macro avg       0.73      0.73      0.73      1500\n",
      "weighted avg       0.73      0.73      0.73      1500\n",
      "\n"
     ]
    }
   ],
   "source": [
    "from sklearn.tree import DecisionTreeClassifier\n",
    "clf=DecisionTreeClassifier()\n",
    "clf.fit(X_train_2d,y_train)\n",
    "y_pred=clf.predict(X_test_2d)\n",
    "print(classification_report(y_test,y_pred))"
   ]
  },
  {
   "cell_type": "code",
   "execution_count": 80,
   "id": "a5a02431",
   "metadata": {},
   "outputs": [],
   "source": [
    "# Attempt 2:\n",
    "\n",
    "# use spacy glove embeddings for text vectorization.\n",
    "# use MultinomialNB as the classifier after applying the MinMaxscaler.\n",
    "# print the classification report."
   ]
  },
  {
   "cell_type": "code",
   "execution_count": 81,
   "id": "a3c16a85",
   "metadata": {},
   "outputs": [
    {
     "name": "stdout",
     "output_type": "stream",
     "text": [
      "              precision    recall  f1-score   support\n",
      "\n",
      "           0       0.94      0.74      0.83       500\n",
      "           1       0.86      0.75      0.80       500\n",
      "           2       0.68      0.92      0.78       500\n",
      "\n",
      "    accuracy                           0.80      1500\n",
      "   macro avg       0.83      0.80      0.80      1500\n",
      "weighted avg       0.83      0.80      0.80      1500\n",
      "\n"
     ]
    }
   ],
   "source": [
    "from sklearn.naive_bayes import MultinomialNB\n",
    "from sklearn.preprocessing import MinMaxScaler\n",
    "scaler=MinMaxScaler()\n",
    "scaled_train_embed=scaler.fit_transform(X_train_2d)\n",
    "scaled_test_embed=scaler.fit_transform(X_test_2d)\n",
    "\n",
    "clf=MultinomialNB()\n",
    "clf.fit(scaled_train_embed,y_train)\n",
    "y_pred=clf.predict(scaled_test_embed)\n",
    "print(classification_report(y_test,y_pred))"
   ]
  },
  {
   "cell_type": "code",
   "execution_count": 82,
   "id": "e1a481de",
   "metadata": {},
   "outputs": [],
   "source": [
    "# Attempt 3:\n",
    "\n",
    "# use spacy glove embeddings for text vectorization.\n",
    "# use KNeighborsClassifier as the classifier after applying the MinMaxscaler.\n",
    "# print the classification report."
   ]
  },
  {
   "cell_type": "code",
   "execution_count": 83,
   "id": "969375df",
   "metadata": {},
   "outputs": [
    {
     "name": "stdout",
     "output_type": "stream",
     "text": [
      "              precision    recall  f1-score   support\n",
      "\n",
      "           0       0.83      0.93      0.88       500\n",
      "           1       0.90      0.81      0.85       500\n",
      "           2       0.88      0.86      0.87       500\n",
      "\n",
      "    accuracy                           0.87      1500\n",
      "   macro avg       0.87      0.87      0.87      1500\n",
      "weighted avg       0.87      0.87      0.87      1500\n",
      "\n"
     ]
    }
   ],
   "source": [
    "from sklearn.neighbors import KNeighborsClassifier\n",
    "clf=KNeighborsClassifier(n_neighbors=5,metric='euclidean')\n",
    "clf.fit(X_train_2d,y_train)\n",
    "y_pred=clf.predict(X_test_2d)\n",
    "print(classification_report(y_test,y_pred))"
   ]
  },
  {
   "cell_type": "code",
   "execution_count": 84,
   "id": "21247bed",
   "metadata": {},
   "outputs": [],
   "source": [
    "# Attempt 4:\n",
    "\n",
    "# use spacy glove embeddings for text vectorization.\n",
    "# use RandomForestClassifier as the classifier after applying the MinMaxscaler.\n",
    "# print the classification report."
   ]
  },
  {
   "cell_type": "code",
   "execution_count": 85,
   "id": "34e12d60",
   "metadata": {},
   "outputs": [
    {
     "name": "stdout",
     "output_type": "stream",
     "text": [
      "              precision    recall  f1-score   support\n",
      "\n",
      "           0       0.88      0.91      0.89       500\n",
      "           1       0.89      0.83      0.86       500\n",
      "           2       0.86      0.88      0.87       500\n",
      "\n",
      "    accuracy                           0.87      1500\n",
      "   macro avg       0.87      0.87      0.87      1500\n",
      "weighted avg       0.87      0.87      0.87      1500\n",
      "\n"
     ]
    }
   ],
   "source": [
    "from sklearn.ensemble import RandomForestClassifier\n",
    "clf=RandomForestClassifier()\n",
    "clf.fit(X_train_2d,y_train)\n",
    "y_pred=clf.predict(X_test_2d)\n",
    "print(classification_report(y_test,y_pred))"
   ]
  },
  {
   "cell_type": "code",
   "execution_count": 86,
   "id": "13f4e640",
   "metadata": {},
   "outputs": [],
   "source": [
    "# Attempt 5:\n",
    "\n",
    "# use spacy glove embeddings for text vectorization.\n",
    "# use GradientBoostingClassifier as the classifier after applying the MinMaxscaler.\n",
    "# print the classification report."
   ]
  },
  {
   "cell_type": "code",
   "execution_count": 88,
   "id": "63fe49c0",
   "metadata": {},
   "outputs": [
    {
     "name": "stdout",
     "output_type": "stream",
     "text": [
      "              precision    recall  f1-score   support\n",
      "\n",
      "           0       0.91      0.92      0.91       500\n",
      "           1       0.90      0.87      0.89       500\n",
      "           2       0.90      0.92      0.91       500\n",
      "\n",
      "    accuracy                           0.90      1500\n",
      "   macro avg       0.90      0.90      0.90      1500\n",
      "weighted avg       0.90      0.90      0.90      1500\n",
      "\n"
     ]
    }
   ],
   "source": [
    "from sklearn.ensemble import GradientBoostingClassifier\n",
    "clf=GradientBoostingClassifier()\n",
    "clf.fit(X_train_2d,y_train)\n",
    "y_pred=clf.predict(X_test_2d)\n",
    "print(classification_report(y_test,y_pred))"
   ]
  },
  {
   "cell_type": "code",
   "execution_count": 89,
   "id": "a368b40f",
   "metadata": {},
   "outputs": [
    {
     "data": {
      "text/plain": [
       "Text(114.0, 0.5, 'Truth')"
      ]
     },
     "execution_count": 89,
     "metadata": {},
     "output_type": "execute_result"
    },
    {
     "data": {
      "image/png": "[encoded data removed]",
      "text/plain": [
       "<Figure size 1080x720 with 2 Axes>"
      ]
     },
     "metadata": {
      "needs_background": "light"
     },
     "output_type": "display_data"
    }
   ],
   "source": [
    "#finally print the confusion matrix for the best model: GradientBoostingClassifier\n",
    "\n",
    "from sklearn.metrics import confusion_matrix\n",
    "cm=confusion_matrix(y_test,y_pred)\n",
    "cm\n",
    "\n",
    "import matplotlib.pyplot as plt\n",
    "import seaborn as sn\n",
    "plt.figure(figsize=(15,10))\n",
    "sn.heatmap(cm,annot=True,fmt='d')\n",
    "plt.xlabel(\"Prediction\")\n",
    "plt.ylabel(\"Truth\")"
   ]
  },
  {
   "cell_type": "code",
   "execution_count": 1,
   "id": "6416d83d",
   "metadata": {},
   "outputs": [
    {
     "name": "stdout",
     "output_type": "stream",
     "text": [
      "Requirement already satisfied: gensim in c:\\users\\sohan\\anaconda3\\lib\\site-packages (4.1.2)\n",
      "Requirement already satisfied: smart-open>=1.8.1 in c:\\users\\sohan\\anaconda3\\lib\\site-packages (from gensim) (6.3.0)\n",
      "Requirement already satisfied: scipy>=0.18.1 in c:\\users\\sohan\\anaconda3\\lib\\site-packages (from gensim) (1.7.3)\n",
      "Requirement already satisfied: numpy>=1.17.0 in c:\\users\\sohan\\anaconda3\\lib\\site-packages (from gensim) (1.21.5)\n"
     ]
    }
   ],
   "source": [
    "!pip install gensim"
   ]
  },
  {
   "cell_type": "code",
   "execution_count": 2,
   "id": "b6a5cb3e",
   "metadata": {},
   "outputs": [
    {
     "name": "stdout",
     "output_type": "stream",
     "text": [
      "[==================================================] 100.0% 1662.8/1662.8MB downloaded\n"
     ]
    }
   ],
   "source": [
    "import gensim.downloader as api\n",
    "wv=api.load('word2vec-google-news-300')"
   ]
  },
  {
   "cell_type": "code",
   "execution_count": 3,
   "id": "bd451beb",
   "metadata": {},
   "outputs": [
    {
     "name": "stdout",
     "output_type": "stream",
     "text": [
      "[==================================================] 100.0% 104.8/104.8MB downloaded\n"
     ]
    }
   ],
   "source": [
    "glv=api.load('glove-twitter-25')"
   ]
  },
  {
   "cell_type": "code",
   "execution_count": 4,
   "id": "09462c97",
   "metadata": {},
   "outputs": [
    {
     "data": {
      "text/plain": [
       "0.72915095"
      ]
     },
     "execution_count": 4,
     "metadata": {},
     "output_type": "execute_result"
    }
   ],
   "source": [
    "wv.similarity(w1=\"great\",w2=\"good\")"
   ]
  },
  {
   "cell_type": "code",
   "execution_count": 5,
   "id": "f1cab855",
   "metadata": {},
   "outputs": [
    {
     "data": {
      "text/plain": [
       "[('great', 0.7291509509086609),\n",
       " ('bad', 0.7190050482749939),\n",
       " ('terrific', 0.688911497592926),\n",
       " ('decent', 0.6837348937988281),\n",
       " ('nice', 0.6836092472076416),\n",
       " ('excellent', 0.6442928910255432),\n",
       " ('fantastic', 0.6407778263092041),\n",
       " ('better', 0.6120728850364685),\n",
       " ('solid', 0.5806034803390503),\n",
       " ('lousy', 0.576420247554779)]"
      ]
     },
     "execution_count": 5,
     "metadata": {},
     "output_type": "execute_result"
    }
   ],
   "source": [
    "wv.most_similar(\"good\")"
   ]
  },
  {
   "cell_type": "code",
   "execution_count": 6,
   "id": "46f7c701",
   "metadata": {},
   "outputs": [
    {
     "data": {
      "text/plain": [
       "[('dogs', 0.8680490851402283),\n",
       " ('puppy', 0.8106428384780884),\n",
       " ('pit_bull', 0.780396044254303),\n",
       " ('pooch', 0.762737512588501),\n",
       " ('cat', 0.7609456777572632),\n",
       " ('golden_retriever', 0.7500902414321899),\n",
       " ('German_shepherd', 0.7465173602104187),\n",
       " ('Rottweiler', 0.7437615394592285),\n",
       " ('beagle', 0.7418621182441711),\n",
       " ('pup', 0.7406911253929138)]"
      ]
     },
     "execution_count": 6,
     "metadata": {},
     "output_type": "execute_result"
    }
   ],
   "source": [
    "wv.most_similar(\"dog\")"
   ]
  },
  {
   "cell_type": "code",
   "execution_count": 7,
   "id": "0debc4b5",
   "metadata": {},
   "outputs": [
    {
     "data": {
      "text/plain": [
       "[('queen', 0.7118192911148071),\n",
       " ('monarch', 0.6189674735069275),\n",
       " ('princess', 0.5902431011199951),\n",
       " ('crown_prince', 0.549946129322052),\n",
       " ('prince', 0.5377321243286133),\n",
       " ('kings', 0.5236843824386597),\n",
       " ('Queen_Consort', 0.5235944390296936),\n",
       " ('queens', 0.5181134343147278),\n",
       " ('sultan', 0.5098593235015869),\n",
       " ('monarchy', 0.5087411403656006)]"
      ]
     },
     "execution_count": 7,
     "metadata": {},
     "output_type": "execute_result"
    }
   ],
   "source": [
    "#king-man+woman=queen\n",
    "\n",
    "wv.most_similar(positive=['king','woman'],negative=['man'])"
   ]
  },
  {
   "cell_type": "code",
   "execution_count": 8,
   "id": "701316ac",
   "metadata": {},
   "outputs": [
    {
     "data": {
      "text/plain": [
       "[('germany', 0.5094342827796936),\n",
       " ('european', 0.48650452494621277),\n",
       " ('german', 0.4714890420436859),\n",
       " ('austria', 0.46964025497436523),\n",
       " ('swedish', 0.464518278837204),\n",
       " ('Wissenschaft', 0.45328810811042786),\n",
       " ('denmark', 0.4477355182170868),\n",
       " ('München', 0.4438531994819641),\n",
       " ('europe', 0.4420619010925293),\n",
       " ('belgium', 0.43769749999046326)]"
      ]
     },
     "execution_count": 8,
     "metadata": {},
     "output_type": "execute_result"
    }
   ],
   "source": [
    "#france-paris+berlin=germany\n",
    "\n",
    "wv.most_similar(positive=['france','berlin'],negative=['paris'])"
   ]
  },
  {
   "cell_type": "code",
   "execution_count": 10,
   "id": "fb07d4f7",
   "metadata": {},
   "outputs": [
    {
     "data": {
      "text/plain": [
       "'cat'"
      ]
     },
     "execution_count": 10,
     "metadata": {},
     "output_type": "execute_result"
    }
   ],
   "source": [
    "wv.doesnt_match([\"google\",\"twitter\",\"microsoft\",\"cat\"])"
   ]
  },
  {
   "cell_type": "code",
   "execution_count": 11,
   "id": "1b4d3e00",
   "metadata": {},
   "outputs": [
    {
     "data": {
      "text/plain": [
       "'google'"
      ]
     },
     "execution_count": 11,
     "metadata": {},
     "output_type": "execute_result"
    }
   ],
   "source": [
    "wv.doesnt_match([\"dog\",\"google\",\"cat\",\"mouse\"])"
   ]
  },
  {
   "cell_type": "code",
   "execution_count": 15,
   "id": "3f082033",
   "metadata": {},
   "outputs": [
    {
     "data": {
      "text/plain": [
       "'human'"
      ]
     },
     "execution_count": 15,
     "metadata": {},
     "output_type": "execute_result"
    }
   ],
   "source": [
    "glv.doesnt_match(\"banana grape apple orange human car\".split())"
   ]
  },
  {
   "cell_type": "code",
   "execution_count": 14,
   "id": "6a4e8351",
   "metadata": {},
   "outputs": [
    {
     "data": {
      "text/plain": [
       "'wheat'"
      ]
     },
     "execution_count": 14,
     "metadata": {},
     "output_type": "execute_result"
    }
   ],
   "source": [
    "glv.doesnt_match(\"breakfast lunch dinner cereal wheat\".split())"
   ]
  },
  {
   "cell_type": "code",
   "execution_count": 20,
   "id": "a663c55f",
   "metadata": {},
   "outputs": [],
   "source": [
    "#Fake vs Real News Classification Using This Word2Vec Embeddings(Gensim library)"
   ]
  },
  {
   "cell_type": "code",
   "execution_count": 30,
   "id": "eaff793c",
   "metadata": {},
   "outputs": [
    {
     "data": {
      "text/html": [
       "<div>\n",
       "<style scoped>\n",
       "    .dataframe tbody tr th:only-of-type {\n",
       "        vertical-align: middle;\n",
       "    }\n",
       "\n",
       "    .dataframe tbody tr th {\n",
       "        vertical-align: top;\n",
       "    }\n",
       "\n",
       "    .dataframe thead th {\n",
       "        text-align: right;\n",
       "    }\n",
       "</style>\n",
       "<table border=\"1\" class=\"dataframe\">\n",
       "  <thead>\n",
       "    <tr style=\"text-align: right;\">\n",
       "      <th></th>\n",
       "      <th>Text</th>\n",
       "      <th>label</th>\n",
       "    </tr>\n",
       "  </thead>\n",
       "  <tbody>\n",
       "    <tr>\n",
       "      <th>0</th>\n",
       "      <td>Top Trump Surrogate BRUTALLY Stabs Him In The...</td>\n",
       "      <td>Fake</td>\n",
       "    </tr>\n",
       "    <tr>\n",
       "      <th>1</th>\n",
       "      <td>U.S. conservative leader optimistic of common ...</td>\n",
       "      <td>Real</td>\n",
       "    </tr>\n",
       "    <tr>\n",
       "      <th>2</th>\n",
       "      <td>Trump proposes U.S. tax overhaul, stirs concer...</td>\n",
       "      <td>Real</td>\n",
       "    </tr>\n",
       "    <tr>\n",
       "      <th>3</th>\n",
       "      <td>Court Forces Ohio To Allow Millions Of Illega...</td>\n",
       "      <td>Fake</td>\n",
       "    </tr>\n",
       "    <tr>\n",
       "      <th>4</th>\n",
       "      <td>Democrats say Trump agrees to work on immigrat...</td>\n",
       "      <td>Real</td>\n",
       "    </tr>\n",
       "    <tr>\n",
       "      <th>...</th>\n",
       "      <td>...</td>\n",
       "      <td>...</td>\n",
       "    </tr>\n",
       "    <tr>\n",
       "      <th>9895</th>\n",
       "      <td>Wikileaks Admits To Screwing Up IMMENSELY Wit...</td>\n",
       "      <td>Fake</td>\n",
       "    </tr>\n",
       "    <tr>\n",
       "      <th>9896</th>\n",
       "      <td>Trump consults Republican senators on Fed chie...</td>\n",
       "      <td>Real</td>\n",
       "    </tr>\n",
       "    <tr>\n",
       "      <th>9897</th>\n",
       "      <td>Trump lawyers say judge lacks jurisdiction for...</td>\n",
       "      <td>Real</td>\n",
       "    </tr>\n",
       "    <tr>\n",
       "      <th>9898</th>\n",
       "      <td>WATCH: Right-Wing Pastor Falsely Credits Trum...</td>\n",
       "      <td>Fake</td>\n",
       "    </tr>\n",
       "    <tr>\n",
       "      <th>9899</th>\n",
       "      <td>Sean Spicer HILARIOUSLY Branded As Chickensh*...</td>\n",
       "      <td>Fake</td>\n",
       "    </tr>\n",
       "  </tbody>\n",
       "</table>\n",
       "<p>9900 rows × 2 columns</p>\n",
       "</div>"
      ],
      "text/plain": [
       "                                                   Text label\n",
       "0      Top Trump Surrogate BRUTALLY Stabs Him In The...  Fake\n",
       "1     U.S. conservative leader optimistic of common ...  Real\n",
       "2     Trump proposes U.S. tax overhaul, stirs concer...  Real\n",
       "3      Court Forces Ohio To Allow Millions Of Illega...  Fake\n",
       "4     Democrats say Trump agrees to work on immigrat...  Real\n",
       "...                                                 ...   ...\n",
       "9895   Wikileaks Admits To Screwing Up IMMENSELY Wit...  Fake\n",
       "9896  Trump consults Republican senators on Fed chie...  Real\n",
       "9897  Trump lawyers say judge lacks jurisdiction for...  Real\n",
       "9898   WATCH: Right-Wing Pastor Falsely Credits Trum...  Fake\n",
       "9899   Sean Spicer HILARIOUSLY Branded As Chickensh*...  Fake\n",
       "\n",
       "[9900 rows x 2 columns]"
      ]
     },
     "execution_count": 30,
     "metadata": {},
     "output_type": "execute_result"
    }
   ],
   "source": [
    "import pandas as pd\n",
    "import numpy as np\n",
    "df=pd.read_csv(r\"C:\\Users\\sohan\\Downloads\\Fake_Real_data.csv\")\n",
    "df"
   ]
  },
  {
   "cell_type": "code",
   "execution_count": 39,
   "id": "2e2d75df",
   "metadata": {},
   "outputs": [
    {
     "data": {
      "text/plain": [
       "Fake    5000\n",
       "Real    4900\n",
       "Name: label, dtype: int64"
      ]
     },
     "execution_count": 39,
     "metadata": {},
     "output_type": "execute_result"
    }
   ],
   "source": [
    "df['label'].value_counts()"
   ]
  },
  {
   "cell_type": "code",
   "execution_count": 37,
   "id": "55b20cc3",
   "metadata": {},
   "outputs": [
    {
     "data": {
      "text/html": [
       "<div>\n",
       "<style scoped>\n",
       "    .dataframe tbody tr th:only-of-type {\n",
       "        vertical-align: middle;\n",
       "    }\n",
       "\n",
       "    .dataframe tbody tr th {\n",
       "        vertical-align: top;\n",
       "    }\n",
       "\n",
       "    .dataframe thead th {\n",
       "        text-align: right;\n",
       "    }\n",
       "</style>\n",
       "<table border=\"1\" class=\"dataframe\">\n",
       "  <thead>\n",
       "    <tr style=\"text-align: right;\">\n",
       "      <th></th>\n",
       "      <th>Text</th>\n",
       "      <th>label</th>\n",
       "      <th>vector</th>\n",
       "      <th>label_num</th>\n",
       "    </tr>\n",
       "  </thead>\n",
       "  <tbody>\n",
       "    <tr>\n",
       "      <th>0</th>\n",
       "      <td>Top Trump Surrogate BRUTALLY Stabs Him In The...</td>\n",
       "      <td>Fake</td>\n",
       "      <td>[0.02258159, 0.05388445, -0.03275299, 0.090447...</td>\n",
       "      <td>0</td>\n",
       "    </tr>\n",
       "    <tr>\n",
       "      <th>1</th>\n",
       "      <td>U.S. conservative leader optimistic of common ...</td>\n",
       "      <td>Real</td>\n",
       "      <td>[0.026498506, 0.020161483, -0.0019263065, 0.04...</td>\n",
       "      <td>1</td>\n",
       "    </tr>\n",
       "    <tr>\n",
       "      <th>2</th>\n",
       "      <td>Trump proposes U.S. tax overhaul, stirs concer...</td>\n",
       "      <td>Real</td>\n",
       "      <td>[0.05416526, 0.016652081, -0.020621402, 0.1046...</td>\n",
       "      <td>1</td>\n",
       "    </tr>\n",
       "    <tr>\n",
       "      <th>3</th>\n",
       "      <td>Court Forces Ohio To Allow Millions Of Illega...</td>\n",
       "      <td>Fake</td>\n",
       "      <td>[0.034434557, 0.02840763, -0.0012550161, 0.051...</td>\n",
       "      <td>0</td>\n",
       "    </tr>\n",
       "    <tr>\n",
       "      <th>4</th>\n",
       "      <td>Democrats say Trump agrees to work on immigrat...</td>\n",
       "      <td>Real</td>\n",
       "      <td>[-0.002889013, 0.032910448, 0.0063928296, 0.08...</td>\n",
       "      <td>1</td>\n",
       "    </tr>\n",
       "    <tr>\n",
       "      <th>...</th>\n",
       "      <td>...</td>\n",
       "      <td>...</td>\n",
       "      <td>...</td>\n",
       "      <td>...</td>\n",
       "    </tr>\n",
       "    <tr>\n",
       "      <th>9895</th>\n",
       "      <td>Wikileaks Admits To Screwing Up IMMENSELY Wit...</td>\n",
       "      <td>Fake</td>\n",
       "      <td>[0.026661772, 0.041288666, -0.014590095, 0.077...</td>\n",
       "      <td>0</td>\n",
       "    </tr>\n",
       "    <tr>\n",
       "      <th>9896</th>\n",
       "      <td>Trump consults Republican senators on Fed chie...</td>\n",
       "      <td>Real</td>\n",
       "      <td>[0.027333153, 0.009771475, -0.020276472, 0.083...</td>\n",
       "      <td>1</td>\n",
       "    </tr>\n",
       "    <tr>\n",
       "      <th>9897</th>\n",
       "      <td>Trump lawyers say judge lacks jurisdiction for...</td>\n",
       "      <td>Real</td>\n",
       "      <td>[0.0087502105, 0.013226986, 0.027893683, -0.01...</td>\n",
       "      <td>1</td>\n",
       "    </tr>\n",
       "    <tr>\n",
       "      <th>9898</th>\n",
       "      <td>WATCH: Right-Wing Pastor Falsely Credits Trum...</td>\n",
       "      <td>Fake</td>\n",
       "      <td>[0.022271512, 0.04074119, 0.002994298, 0.04668...</td>\n",
       "      <td>0</td>\n",
       "    </tr>\n",
       "    <tr>\n",
       "      <th>9899</th>\n",
       "      <td>Sean Spicer HILARIOUSLY Branded As Chickensh*...</td>\n",
       "      <td>Fake</td>\n",
       "      <td>[0.014219754, 0.054427706, -0.024574814, 0.050...</td>\n",
       "      <td>0</td>\n",
       "    </tr>\n",
       "  </tbody>\n",
       "</table>\n",
       "<p>9900 rows × 4 columns</p>\n",
       "</div>"
      ],
      "text/plain": [
       "                                                   Text label  \\\n",
       "0      Top Trump Surrogate BRUTALLY Stabs Him In The...  Fake   \n",
       "1     U.S. conservative leader optimistic of common ...  Real   \n",
       "2     Trump proposes U.S. tax overhaul, stirs concer...  Real   \n",
       "3      Court Forces Ohio To Allow Millions Of Illega...  Fake   \n",
       "4     Democrats say Trump agrees to work on immigrat...  Real   \n",
       "...                                                 ...   ...   \n",
       "9895   Wikileaks Admits To Screwing Up IMMENSELY Wit...  Fake   \n",
       "9896  Trump consults Republican senators on Fed chie...  Real   \n",
       "9897  Trump lawyers say judge lacks jurisdiction for...  Real   \n",
       "9898   WATCH: Right-Wing Pastor Falsely Credits Trum...  Fake   \n",
       "9899   Sean Spicer HILARIOUSLY Branded As Chickensh*...  Fake   \n",
       "\n",
       "                                                 vector  label_num  \n",
       "0     [0.02258159, 0.05388445, -0.03275299, 0.090447...          0  \n",
       "1     [0.026498506, 0.020161483, -0.0019263065, 0.04...          1  \n",
       "2     [0.05416526, 0.016652081, -0.020621402, 0.1046...          1  \n",
       "3     [0.034434557, 0.02840763, -0.0012550161, 0.051...          0  \n",
       "4     [-0.002889013, 0.032910448, 0.0063928296, 0.08...          1  \n",
       "...                                                 ...        ...  \n",
       "9895  [0.026661772, 0.041288666, -0.014590095, 0.077...          0  \n",
       "9896  [0.027333153, 0.009771475, -0.020276472, 0.083...          1  \n",
       "9897  [0.0087502105, 0.013226986, 0.027893683, -0.01...          1  \n",
       "9898  [0.022271512, 0.04074119, 0.002994298, 0.04668...          0  \n",
       "9899  [0.014219754, 0.054427706, -0.024574814, 0.050...          0  \n",
       "\n",
       "[9900 rows x 4 columns]"
      ]
     },
     "execution_count": 37,
     "metadata": {},
     "output_type": "execute_result"
    }
   ],
   "source": [
    "df['label_num']=df['label'].map({'Fake':0,'Real':1})\n",
    "df"
   ]
  },
  {
   "cell_type": "code",
   "execution_count": 31,
   "id": "a6183c57",
   "metadata": {},
   "outputs": [],
   "source": [
    "import spacy\n",
    "nlp=spacy.load('en_core_web_lg')\n",
    "def preprocess_and_vectorize(text):\n",
    "    doc=nlp(text)\n",
    "    filtered_tokens=[]\n",
    "    for token in doc:\n",
    "        if token.is_stop or token.is_punct:\n",
    "            continue\n",
    "        filtered_tokens.append(token.lemma_)\n",
    "    vectors = []\n",
    "    for token in filtered_tokens:\n",
    "        try:\n",
    "            vectors.append(wv[token])\n",
    "        except KeyError:\n",
    "            continue\n",
    "    return np.mean(vectors, axis=0)\n",
    "    "
   ]
  },
  {
   "cell_type": "code",
   "execution_count": 33,
   "id": "098971c5",
   "metadata": {},
   "outputs": [
    {
     "data": {
      "text/plain": [
       "(300,)"
      ]
     },
     "execution_count": 33,
     "metadata": {},
     "output_type": "execute_result"
    }
   ],
   "source": [
    "v=preprocess_and_vectorize(\"Don't worry if you don't understand\")\n",
    "v.shape"
   ]
  },
  {
   "cell_type": "code",
   "execution_count": 36,
   "id": "3132e279",
   "metadata": {},
   "outputs": [],
   "source": [
    "#dir(wv)"
   ]
  },
  {
   "cell_type": "code",
   "execution_count": 38,
   "id": "3d46a640",
   "metadata": {},
   "outputs": [
    {
     "data": {
      "text/html": [
       "<div>\n",
       "<style scoped>\n",
       "    .dataframe tbody tr th:only-of-type {\n",
       "        vertical-align: middle;\n",
       "    }\n",
       "\n",
       "    .dataframe tbody tr th {\n",
       "        vertical-align: top;\n",
       "    }\n",
       "\n",
       "    .dataframe thead th {\n",
       "        text-align: right;\n",
       "    }\n",
       "</style>\n",
       "<table border=\"1\" class=\"dataframe\">\n",
       "  <thead>\n",
       "    <tr style=\"text-align: right;\">\n",
       "      <th></th>\n",
       "      <th>Text</th>\n",
       "      <th>label</th>\n",
       "      <th>vector</th>\n",
       "      <th>label_num</th>\n",
       "    </tr>\n",
       "  </thead>\n",
       "  <tbody>\n",
       "    <tr>\n",
       "      <th>0</th>\n",
       "      <td>Top Trump Surrogate BRUTALLY Stabs Him In The...</td>\n",
       "      <td>Fake</td>\n",
       "      <td>[0.02258159, 0.05388445, -0.03275299, 0.090447...</td>\n",
       "      <td>0</td>\n",
       "    </tr>\n",
       "    <tr>\n",
       "      <th>1</th>\n",
       "      <td>U.S. conservative leader optimistic of common ...</td>\n",
       "      <td>Real</td>\n",
       "      <td>[0.026498506, 0.020161483, -0.0019263065, 0.04...</td>\n",
       "      <td>1</td>\n",
       "    </tr>\n",
       "    <tr>\n",
       "      <th>2</th>\n",
       "      <td>Trump proposes U.S. tax overhaul, stirs concer...</td>\n",
       "      <td>Real</td>\n",
       "      <td>[0.05416526, 0.016652081, -0.020621402, 0.1046...</td>\n",
       "      <td>1</td>\n",
       "    </tr>\n",
       "    <tr>\n",
       "      <th>3</th>\n",
       "      <td>Court Forces Ohio To Allow Millions Of Illega...</td>\n",
       "      <td>Fake</td>\n",
       "      <td>[0.034434557, 0.02840763, -0.0012550161, 0.051...</td>\n",
       "      <td>0</td>\n",
       "    </tr>\n",
       "    <tr>\n",
       "      <th>4</th>\n",
       "      <td>Democrats say Trump agrees to work on immigrat...</td>\n",
       "      <td>Real</td>\n",
       "      <td>[-0.002889013, 0.032910448, 0.0063928296, 0.08...</td>\n",
       "      <td>1</td>\n",
       "    </tr>\n",
       "    <tr>\n",
       "      <th>...</th>\n",
       "      <td>...</td>\n",
       "      <td>...</td>\n",
       "      <td>...</td>\n",
       "      <td>...</td>\n",
       "    </tr>\n",
       "    <tr>\n",
       "      <th>9895</th>\n",
       "      <td>Wikileaks Admits To Screwing Up IMMENSELY Wit...</td>\n",
       "      <td>Fake</td>\n",
       "      <td>[0.026661772, 0.041288666, -0.014590095, 0.077...</td>\n",
       "      <td>0</td>\n",
       "    </tr>\n",
       "    <tr>\n",
       "      <th>9896</th>\n",
       "      <td>Trump consults Republican senators on Fed chie...</td>\n",
       "      <td>Real</td>\n",
       "      <td>[0.027333153, 0.009771475, -0.020276472, 0.083...</td>\n",
       "      <td>1</td>\n",
       "    </tr>\n",
       "    <tr>\n",
       "      <th>9897</th>\n",
       "      <td>Trump lawyers say judge lacks jurisdiction for...</td>\n",
       "      <td>Real</td>\n",
       "      <td>[0.0087502105, 0.013226986, 0.027893683, -0.01...</td>\n",
       "      <td>1</td>\n",
       "    </tr>\n",
       "    <tr>\n",
       "      <th>9898</th>\n",
       "      <td>WATCH: Right-Wing Pastor Falsely Credits Trum...</td>\n",
       "      <td>Fake</td>\n",
       "      <td>[0.022271512, 0.04074119, 0.002994298, 0.04668...</td>\n",
       "      <td>0</td>\n",
       "    </tr>\n",
       "    <tr>\n",
       "      <th>9899</th>\n",
       "      <td>Sean Spicer HILARIOUSLY Branded As Chickensh*...</td>\n",
       "      <td>Fake</td>\n",
       "      <td>[0.014219754, 0.054427706, -0.024574814, 0.050...</td>\n",
       "      <td>0</td>\n",
       "    </tr>\n",
       "  </tbody>\n",
       "</table>\n",
       "<p>9900 rows × 4 columns</p>\n",
       "</div>"
      ],
      "text/plain": [
       "                                                   Text label  \\\n",
       "0      Top Trump Surrogate BRUTALLY Stabs Him In The...  Fake   \n",
       "1     U.S. conservative leader optimistic of common ...  Real   \n",
       "2     Trump proposes U.S. tax overhaul, stirs concer...  Real   \n",
       "3      Court Forces Ohio To Allow Millions Of Illega...  Fake   \n",
       "4     Democrats say Trump agrees to work on immigrat...  Real   \n",
       "...                                                 ...   ...   \n",
       "9895   Wikileaks Admits To Screwing Up IMMENSELY Wit...  Fake   \n",
       "9896  Trump consults Republican senators on Fed chie...  Real   \n",
       "9897  Trump lawyers say judge lacks jurisdiction for...  Real   \n",
       "9898   WATCH: Right-Wing Pastor Falsely Credits Trum...  Fake   \n",
       "9899   Sean Spicer HILARIOUSLY Branded As Chickensh*...  Fake   \n",
       "\n",
       "                                                 vector  label_num  \n",
       "0     [0.02258159, 0.05388445, -0.03275299, 0.090447...          0  \n",
       "1     [0.026498506, 0.020161483, -0.0019263065, 0.04...          1  \n",
       "2     [0.05416526, 0.016652081, -0.020621402, 0.1046...          1  \n",
       "3     [0.034434557, 0.02840763, -0.0012550161, 0.051...          0  \n",
       "4     [-0.002889013, 0.032910448, 0.0063928296, 0.08...          1  \n",
       "...                                                 ...        ...  \n",
       "9895  [0.026661772, 0.041288666, -0.014590095, 0.077...          0  \n",
       "9896  [0.027333153, 0.009771475, -0.020276472, 0.083...          1  \n",
       "9897  [0.0087502105, 0.013226986, 0.027893683, -0.01...          1  \n",
       "9898  [0.022271512, 0.04074119, 0.002994298, 0.04668...          0  \n",
       "9899  [0.014219754, 0.054427706, -0.024574814, 0.050...          0  \n",
       "\n",
       "[9900 rows x 4 columns]"
      ]
     },
     "execution_count": 38,
     "metadata": {},
     "output_type": "execute_result"
    }
   ],
   "source": [
    "df['vector']=df['Text'].apply(lambda text:preprocess_and_vectorize(text))\n",
    "df"
   ]
  },
  {
   "cell_type": "code",
   "execution_count": 40,
   "id": "084243e2",
   "metadata": {},
   "outputs": [],
   "source": [
    "from sklearn.model_selection import train_test_split\n",
    "X_train,X_test,y_train,y_test=train_test_split(df.vector.values,df.label_num,test_size=0.2,random_state=2022,stratify=df.label_num)"
   ]
  },
  {
   "cell_type": "code",
   "execution_count": 41,
   "id": "5cd43a5c",
   "metadata": {},
   "outputs": [
    {
     "name": "stdout",
     "output_type": "stream",
     "text": [
      "Shape of X_train before reshaping: (7920,)\n",
      "Shape of X_test before reshaping: (1980,)\n",
      "Shape of X_train after reshaping: (7920, 300)\n",
      "Shape of X_test after reshaping: (1980, 300)\n"
     ]
    }
   ],
   "source": [
    "X_train_2d=np.stack(X_train)\n",
    "X__test_2d=np.stack(X_test)\n",
    "print(\"Shape of X_train before reshaping:\",X_train.shape)\n",
    "print(\"Shape of X_test before reshaping:\",X_test.shape)\n",
    "print(\"Shape of X_train after reshaping:\",X_train_2d.shape)\n",
    "print(\"Shape of X_test after reshaping:\",X__test_2d.shape)"
   ]
  },
  {
   "cell_type": "code",
   "execution_count": 42,
   "id": "c27e48d7",
   "metadata": {},
   "outputs": [
    {
     "name": "stdout",
     "output_type": "stream",
     "text": [
      "              precision    recall  f1-score   support\n",
      "\n",
      "           0       0.99      0.97      0.98      1000\n",
      "           1       0.97      0.99      0.98       980\n",
      "\n",
      "    accuracy                           0.98      1980\n",
      "   macro avg       0.98      0.98      0.98      1980\n",
      "weighted avg       0.98      0.98      0.98      1980\n",
      "\n"
     ]
    }
   ],
   "source": [
    "from sklearn.ensemble import GradientBoostingClassifier\n",
    "from sklearn.metrics import classification_report\n",
    "\n",
    "clf=GradientBoostingClassifier()\n",
    "clf.fit(X_train_2d,y_train)\n",
    "y_pred=clf.predict(X__test_2d)\n",
    "print(classification_report(y_test,y_pred))"
   ]
  },
  {
   "cell_type": "code",
   "execution_count": 44,
   "id": "bf8f8820",
   "metadata": {},
   "outputs": [],
   "source": [
    "#make some predictions\n",
    "text=[\"Michigan governor denies misleading U.S. House on Flint water (Reuters) - Michigan Governor Rick Snyder denied Thursday that he had misled a U.S. House of Representatives committee last year over testimony on Flintâ€™s water crisis after lawmakers asked if his testimony had been contradicted by a witness in a court hearing. The House Oversight and Government Reform Committee wrote Snyder earlier Thursday asking him about published reports that one of his aides, Harvey Hollins, testified in a court hearing last week in Michigan that he had notified Snyder of an outbreak of Legionnairesâ€™ disease linked to the Flint water crisis in December 2015, rather than 2016 as Snyder had testified. â€œMy testimony was truthful and I stand by it,â€ Snyder told the committee in a letter, adding that his office has provided tens of thousands of pages of records to the committee and would continue to cooperate fully.  Last week, prosecutors in Michigan said Dr. Eden Wells, the stateâ€™s chief medical executive who already faced lesser charges, would become the sixth current or former official to face involuntary manslaughter charges in connection with the crisis. The charges stem from more than 80 cases of Legionnairesâ€™ disease and at least 12 deaths that were believed to be linked to the water in Flint after the city switched its source from Lake Huron to the Flint River in April 2014. Wells was among six current and former Michigan and Flint officials charged in June. The other five, including Michigan Health and Human Services Director Nick Lyon, were charged at the time with involuntary manslaughter\",\n",
    "    \" WATCH: Fox News Host Loses Her Sh*t, Says Investigating Russia For Hacking Our Election Is Unpatriotic This woman is insane.In an incredibly disrespectful rant against President Obama and anyone else who supports investigating Russian interference in our election, Fox News host Jeanine Pirro said that anybody who is against Donald Trump is anti-American. Look, it s time to take sides,  she began.\",\n",
    "    \" Sarah Palin Celebrates After White Man Who Pulled Gun On Black Protesters Goes Unpunished (VIDEO) Sarah Palin, one of the nigh-innumerable  deplorab\"]"
   ]
  },
  {
   "cell_type": "code",
   "execution_count": 45,
   "id": "7fd9e765",
   "metadata": {},
   "outputs": [
    {
     "data": {
      "text/plain": [
       "array([1, 0, 0], dtype=int64)"
      ]
     },
     "execution_count": 45,
     "metadata": {},
     "output_type": "execute_result"
    }
   ],
   "source": [
    "test_news_vectors=[preprocess_and_vectorize(n) for n in text]\n",
    "clf.predict(test_news_vectors)"
   ]
  },
  {
   "cell_type": "code",
   "execution_count": 46,
   "id": "a9beb6c7",
   "metadata": {},
   "outputs": [
    {
     "data": {
      "text/plain": [
       "Text(114.0, 0.5, 'truth')"
      ]
     },
     "execution_count": 46,
     "metadata": {},
     "output_type": "execute_result"
    },
    {
     "data": {
      "image/png": "[encoded data removed]",
      "text/plain": [
       "<Figure size 1080x720 with 2 Axes>"
      ]
     },
     "metadata": {
      "needs_background": "light"
     },
     "output_type": "display_data"
    }
   ],
   "source": [
    "from sklearn.metrics import confusion_matrix\n",
    "import matplotlib.pyplot as plt\n",
    "import seaborn as sn\n",
    "\n",
    "cm=confusion_matrix(y_test,y_pred)\n",
    "cm\n",
    "plt.figure(figsize=(15,10))\n",
    "sn.heatmap(cm,annot=True,fmt='d')\n",
    "plt.xlabel(\"prediction\")\n",
    "plt.ylabel(\"truth\")"
   ]
  },
  {
   "cell_type": "code",
   "execution_count": 47,
   "id": "f412019a",
   "metadata": {},
   "outputs": [],
   "source": [
    "#fastText"
   ]
  },
  {
   "cell_type": "code",
   "execution_count": 48,
   "id": "015518f9",
   "metadata": {},
   "outputs": [
    {
     "name": "stdout",
     "output_type": "stream",
     "text": [
      "Collecting fasttext\n",
      "  Downloading fasttext-0.9.2.tar.gz (68 kB)\n",
      "Collecting pybind11>=2.2\n",
      "  Using cached pybind11-2.10.3-py3-none-any.whl (222 kB)\n",
      "Requirement already satisfied: setuptools>=0.7.0 in c:\\users\\sohan\\anaconda3\\lib\\site-packages (from fasttext) (61.2.0)\n",
      "Requirement already satisfied: numpy in c:\\users\\sohan\\anaconda3\\lib\\site-packages (from fasttext) (1.21.5)\n",
      "Building wheels for collected packages: fasttext\n",
      "  Building wheel for fasttext (setup.py): started\n",
      "  Building wheel for fasttext (setup.py): finished with status 'error'\n"
     ]
    },
    {
     "name": "stderr",
     "output_type": "stream",
     "text": [
      "  ERROR: Command errored out with exit status 1:\n",
      "   command: 'C:\\Users\\sohan\\anaconda3\\python.exe' -u -c 'import io, os, sys, setuptools, tokenize; sys.argv[0] = '\"'\"'C:\\\\Users\\\\sohan\\\\AppData\\\\Local\\\\Temp\\\\pip-install-f7fv3bv2\\\\fasttext_c9a27f81f5f54029a33aeb729e36f513\\\\setup.py'\"'\"'; __file__='\"'\"'C:\\\\Users\\\\sohan\\\\AppData\\\\Local\\\\Temp\\\\pip-install-f7fv3bv2\\\\fasttext_c9a27f81f5f54029a33aeb729e36f513\\\\setup.py'\"'\"';f = getattr(tokenize, '\"'\"'open'\"'\"', open)(__file__) if os.path.exists(__file__) else io.StringIO('\"'\"'from setuptools import setup; setup()'\"'\"');code = f.read().replace('\"'\"'\\r\\n'\"'\"', '\"'\"'\\n'\"'\"');f.close();exec(compile(code, __file__, '\"'\"'exec'\"'\"'))' bdist_wheel -d 'C:\\Users\\sohan\\AppData\\Local\\Temp\\pip-wheel-5sit9kuj'\n",
      "       cwd: C:\\Users\\sohan\\AppData\\Local\\Temp\\pip-install-f7fv3bv2\\fasttext_c9a27f81f5f54029a33aeb729e36f513\\\n",
      "  Complete output (20 lines):\n",
      "  C:\\Users\\sohan\\anaconda3\\lib\\site-packages\\setuptools\\dist.py:757: UserWarning: Usage of dash-separated 'description-file' will not be supported in future versions. Please use the underscore name 'description_file' instead\n",
      "    warnings.warn(\n",
      "  running bdist_wheel\n",
      "  running build\n",
      "  running build_py\n",
      "  creating build\n",
      "  creating build\\lib.win-amd64-3.9\n",
      "  creating build\\lib.win-amd64-3.9\\fasttext\n",
      "  copying python\\fasttext_module\\fasttext\\FastText.py -> build\\lib.win-amd64-3.9\\fasttext\n",
      "  copying python\\fasttext_module\\fasttext\\__init__.py -> build\\lib.win-amd64-3.9\\fasttext\n",
      "  creating build\\lib.win-amd64-3.9\\fasttext\\util\n",
      "  copying python\\fasttext_module\\fasttext\\util\\util.py -> build\\lib.win-amd64-3.9\\fasttext\\util\n",
      "  copying python\\fasttext_module\\fasttext\\util\\__init__.py -> build\\lib.win-amd64-3.9\\fasttext\\util\n",
      "  creating build\\lib.win-amd64-3.9\\fasttext\\tests\n",
      "  copying python\\fasttext_module\\fasttext\\tests\\test_configurations.py -> build\\lib.win-amd64-3.9\\fasttext\\tests\n",
      "  copying python\\fasttext_module\\fasttext\\tests\\test_script.py -> build\\lib.win-amd64-3.9\\fasttext\\tests\n",
      "  copying python\\fasttext_module\\fasttext\\tests\\__init__.py -> build\\lib.win-amd64-3.9\\fasttext\\tests\n",
      "  running build_ext\n",
      "  building 'fasttext_pybind' extension\n",
      "  error: Microsoft Visual C++ 14.0 or greater is required. Get it with \"Microsoft C++ Build Tools\": https://visualstudio.microsoft.com/visual-cpp-build-tools/\n",
      "  ----------------------------------------\n",
      "  ERROR: Failed building wheel for fasttext\n",
      "    ERROR: Command errored out with exit status 1:\n",
      "     command: 'C:\\Users\\sohan\\anaconda3\\python.exe' -u -c 'import io, os, sys, setuptools, tokenize; sys.argv[0] = '\"'\"'C:\\\\Users\\\\sohan\\\\AppData\\\\Local\\\\Temp\\\\pip-install-f7fv3bv2\\\\fasttext_c9a27f81f5f54029a33aeb729e36f513\\\\setup.py'\"'\"'; __file__='\"'\"'C:\\\\Users\\\\sohan\\\\AppData\\\\Local\\\\Temp\\\\pip-install-f7fv3bv2\\\\fasttext_c9a27f81f5f54029a33aeb729e36f513\\\\setup.py'\"'\"';f = getattr(tokenize, '\"'\"'open'\"'\"', open)(__file__) if os.path.exists(__file__) else io.StringIO('\"'\"'from setuptools import setup; setup()'\"'\"');code = f.read().replace('\"'\"'\\r\\n'\"'\"', '\"'\"'\\n'\"'\"');f.close();exec(compile(code, __file__, '\"'\"'exec'\"'\"'))' install --record 'C:\\Users\\sohan\\AppData\\Local\\Temp\\pip-record-w89t3s3l\\install-record.txt' --single-version-externally-managed --compile --install-headers 'C:\\Users\\sohan\\anaconda3\\Include\\fasttext'\n",
      "         cwd: C:\\Users\\sohan\\AppData\\Local\\Temp\\pip-install-f7fv3bv2\\fasttext_c9a27f81f5f54029a33aeb729e36f513\\\n",
      "    Complete output (22 lines):\n",
      "    C:\\Users\\sohan\\anaconda3\\lib\\site-packages\\setuptools\\dist.py:757: UserWarning: Usage of dash-separated 'description-file' will not be supported in future versions. Please use the underscore name 'description_file' instead\n",
      "      warnings.warn(\n",
      "    running install\n",
      "    C:\\Users\\sohan\\anaconda3\\lib\\site-packages\\setuptools\\command\\install.py:34: SetuptoolsDeprecationWarning: setup.py install is deprecated. Use build and pip and other standards-based tools.\n",
      "      warnings.warn(\n",
      "    running build\n",
      "    running build_py\n",
      "    creating build\n",
      "    creating build\\lib.win-amd64-3.9\n",
      "    creating build\\lib.win-amd64-3.9\\fasttext\n",
      "    copying python\\fasttext_module\\fasttext\\FastText.py -> build\\lib.win-amd64-3.9\\fasttext\n",
      "    copying python\\fasttext_module\\fasttext\\__init__.py -> build\\lib.win-amd64-3.9\\fasttext\n",
      "    creating build\\lib.win-amd64-3.9\\fasttext\\util\n",
      "    copying python\\fasttext_module\\fasttext\\util\\util.py -> build\\lib.win-amd64-3.9\\fasttext\\util\n",
      "    copying python\\fasttext_module\\fasttext\\util\\__init__.py -> build\\lib.win-amd64-3.9\\fasttext\\util\n",
      "    creating build\\lib.win-amd64-3.9\\fasttext\\tests\n",
      "    copying python\\fasttext_module\\fasttext\\tests\\test_configurations.py -> build\\lib.win-amd64-3.9\\fasttext\\tests\n",
      "    copying python\\fasttext_module\\fasttext\\tests\\test_script.py -> build\\lib.win-amd64-3.9\\fasttext\\tests\n",
      "    copying python\\fasttext_module\\fasttext\\tests\\__init__.py -> build\\lib.win-amd64-3.9\\fasttext\\tests\n",
      "    running build_ext\n",
      "    building 'fasttext_pybind' extension\n",
      "    error: Microsoft Visual C++ 14.0 or greater is required. Get it with \"Microsoft C++ Build Tools\": https://visualstudio.microsoft.com/visual-cpp-build-tools/\n",
      "    ----------------------------------------\n",
      "ERROR: Command errored out with exit status 1: 'C:\\Users\\sohan\\anaconda3\\python.exe' -u -c 'import io, os, sys, setuptools, tokenize; sys.argv[0] = '\"'\"'C:\\\\Users\\\\sohan\\\\AppData\\\\Local\\\\Temp\\\\pip-install-f7fv3bv2\\\\fasttext_c9a27f81f5f54029a33aeb729e36f513\\\\setup.py'\"'\"'; __file__='\"'\"'C:\\\\Users\\\\sohan\\\\AppData\\\\Local\\\\Temp\\\\pip-install-f7fv3bv2\\\\fasttext_c9a27f81f5f54029a33aeb729e36f513\\\\setup.py'\"'\"';f = getattr(tokenize, '\"'\"'open'\"'\"', open)(__file__) if os.path.exists(__file__) else io.StringIO('\"'\"'from setuptools import setup; setup()'\"'\"');code = f.read().replace('\"'\"'\\r\\n'\"'\"', '\"'\"'\\n'\"'\"');f.close();exec(compile(code, __file__, '\"'\"'exec'\"'\"'))' install --record 'C:\\Users\\sohan\\AppData\\Local\\Temp\\pip-record-w89t3s3l\\install-record.txt' --single-version-externally-managed --compile --install-headers 'C:\\Users\\sohan\\anaconda3\\Include\\fasttext' Check the logs for full command output.\n"
     ]
    },
    {
     "name": "stdout",
     "output_type": "stream",
     "text": [
      "  Running setup.py clean for fasttext\n",
      "Failed to build fasttext\n",
      "Installing collected packages: pybind11, fasttext\n",
      "    Running setup.py install for fasttext: started\n",
      "    Running setup.py install for fasttext: finished with status 'error'\n"
     ]
    }
   ],
   "source": [
    "!pip install fasttext"
   ]
  },
  {
   "cell_type": "code",
   "execution_count": 51,
   "id": "2d087d43",
   "metadata": {},
   "outputs": [
    {
     "data": {
      "text/plain": [
       "'To begin making the Masala Karela Recipe,de-seed the karela and slice.\\nDo not remove the skin as the skin has all the nutrients.\\nAdd the karela to the pressure cooker with 3 tablespoon of water, salt and turmeric powder and pressure cook for three whistles.\\nRelease the pressure immediately and open the lids.\\nKeep aside.Heat oil in a heavy bottomed pan or a kadhai.\\nAdd cumin seeds and let it sizzle.Once the cumin seeds have sizzled, add onions and saute them till it turns golden brown in color.Add the karela, red chilli powder, amchur powder, coriander powder and besan.\\nStir to combine the masalas into the karela.Drizzle a little extra oil on the top and mix again.\\nCover the pan and simmer Masala Karela stirring occasionally until everything comes together well.\\nTurn off the heat.Transfer Masala Karela into a serving bowl and serve.Serve Masala Karela along with Panchmel Dal and Phulka for a weekday meal with your family.\\n'"
      ]
     },
     "execution_count": 51,
     "metadata": {},
     "output_type": "execute_result"
    }
   ],
   "source": [
    "df.TranslatedInstructions[0]"
   ]
  },
  {
   "cell_type": "code",
   "execution_count": 54,
   "id": "9303393e",
   "metadata": {},
   "outputs": [
    {
     "data": {
      "text/plain": [
       "'To begin making the Masala Karela Recipe de seed the karela and slice  Do not remove the skin as the skin has all the nutrients  Add the karela to the pressure cooker with 3 tablespoon of water  salt and turmeric powder and pressure cook for three whistles  Release the pressure immediately and open the lids  Keep aside Heat oil in a heavy bottomed pan or a kadhai  Add cumin seeds and let it sizzle Once the cumin seeds have sizzled  add onions and saute them till it turns golden brown in color Add the karela  red chilli powder  amchur powder  coriander powder and besan  Stir to combine the masalas into the karela Drizzle a little extra oil on the top and mix again  Cover the pan and simmer Masala Karela stirring occasionally until everything comes together well  Turn off the heat Transfer Masala Karela into a serving bowl and serve Serve Masala Karela along with Panchmel Dal and Phulka for a weekday meal with your family  '"
      ]
     },
     "execution_count": 54,
     "metadata": {},
     "output_type": "execute_result"
    }
   ],
   "source": [
    "import re\n",
    "text='To begin making the Masala Karela Recipe,de-seed the karela and slice.\\nDo not remove the skin as the skin has all the nutrients.\\nAdd the karela to the pressure cooker with 3 tablespoon of water, salt and turmeric powder and pressure cook for three whistles.\\nRelease the pressure immediately and open the lids.\\nKeep aside.Heat oil in a heavy bottomed pan or a kadhai.\\nAdd cumin seeds and let it sizzle.Once the cumin seeds have sizzled, add onions and saute them till it turns golden brown in color.Add the karela, red chilli powder, amchur powder, coriander powder and besan.\\nStir to combine the masalas into the karela.Drizzle a little extra oil on the top and mix again.\\nCover the pan and simmer Masala Karela stirring occasionally until everything comes together well.\\nTurn off the heat.Transfer Masala Karela into a serving bowl and serve.Serve Masala Karela along with Panchmel Dal and Phulka for a weekday meal with your family.\\n'\n",
    "re.sub(r\"[^\\w\\s]|[ \\n]+\",\" \",text,flags=re.MULTILINE)"
   ]
  },
  {
   "cell_type": "code",
   "execution_count": 55,
   "id": "d537ad02",
   "metadata": {},
   "outputs": [],
   "source": [
    "def preprocess(text):\n",
    "    text=re.sub(r\"[^\\w\\s]|[ \\n]+\",\" \",text)\n",
    "    return text.strip().lower()"
   ]
  },
  {
   "cell_type": "code",
   "execution_count": 56,
   "id": "1cee7dcc",
   "metadata": {},
   "outputs": [
    {
     "data": {
      "text/plain": [
       "'To make tomato puliogere, first cut the tomatoes.\\nNow put in a mixer grinder and puree it.\\nNow heat oil in a pan.\\nAfter the oil is hot, add chana dal, urad dal, cashew and let it cook for 10 to 20 seconds.\\nAfter 10 to 20 seconds, add cumin seeds, mustard seeds, green chillies, dry red chillies and curry leaves.\\nAfter 30 seconds, add tomato puree to it and mix.\\nAdd BC Belle Bhat powder, salt and mix it.\\nAllow to cook for 7 to 8 minutes and then turn off the gas.\\nTake it out in a bowl, add cooked rice and mix it.\\nServe hot.\\nServe tomato puliogre with tomato cucumber raita and papad for dinner.'"
      ]
     },
     "execution_count": 56,
     "metadata": {},
     "output_type": "execute_result"
    }
   ],
   "source": [
    "df.TranslatedInstructions[1]"
   ]
  },
  {
   "cell_type": "code",
   "execution_count": 57,
   "id": "5c15bcf0",
   "metadata": {},
   "outputs": [],
   "source": [
    "text2='To make tomato puliogere, first cut the tomatoes.\\nNow put in a mixer grinder and puree it.\\nNow heat oil in a pan.\\nAfter the oil is hot, add chana dal, urad dal, cashew and let it cook for 10 to 20 seconds.\\nAfter 10 to 20 seconds, add cumin seeds, mustard seeds, green chillies, dry red chillies and curry leaves.\\nAfter 30 seconds, add tomato puree to it and mix.\\nAdd BC Belle Bhat powder, salt and mix it.\\nAllow to cook for 7 to 8 minutes and then turn off the gas.\\nTake it out in a bowl, add cooked rice and mix it.\\nServe hot.\\nServe tomato puliogre with tomato cucumber raita and papad for dinner.'\n"
   ]
  },
  {
   "cell_type": "code",
   "execution_count": 58,
   "id": "9b7a2514",
   "metadata": {},
   "outputs": [
    {
     "data": {
      "text/plain": [
       "'to make tomato puliogere  first cut the tomatoes  now put in a mixer grinder and puree it  now heat oil in a pan  after the oil is hot  add chana dal  urad dal  cashew and let it cook for 10 to 20 seconds  after 10 to 20 seconds  add cumin seeds  mustard seeds  green chillies  dry red chillies and curry leaves  after 30 seconds  add tomato puree to it and mix  add bc belle bhat powder  salt and mix it  allow to cook for 7 to 8 minutes and then turn off the gas  take it out in a bowl  add cooked rice and mix it  serve hot  serve tomato puliogre with tomato cucumber raita and papad for dinner'"
      ]
     },
     "execution_count": 58,
     "metadata": {},
     "output_type": "execute_result"
    }
   ],
   "source": [
    "preprocess(text2)"
   ]
  },
  {
   "cell_type": "code",
   "execution_count": 59,
   "id": "ec7fa90d",
   "metadata": {},
   "outputs": [],
   "source": [
    "df.TranslatedInstructions=df.TranslatedInstructions.map(preprocess)"
   ]
  },
  {
   "cell_type": "code",
   "execution_count": 60,
   "id": "d6665802",
   "metadata": {},
   "outputs": [
    {
     "data": {
      "text/plain": [
       "'to begin making gongura chicken curry recipe first prep all the ingredients and keep them aside in a small pan  dry roast the methi seeds  coriander seeds  fennel seeds and red chillies for about 3 to 4 minutes on medium heat  until you notice the seeds crackling  once done  turn off the heat and allow it to cool a bit and blend it into a smooth powder heat oil in a pressure cooker over medium heat  add the chopped onions  ginger  garlic and green chillies and saute until the onions are lightly browned and tender add the tomatoes  and saute until the tomatoes become soft and mushy  once done add the chicken  the garam masala and turmeric powder  add 1 4 cup of water and pressure cook the chicken for 3 to 4 whistles and turn off the heat once done  allow the pressure to release naturally make sure there are no stems when you pick the gongura leaves  wash and chop the gongura leaves and keep aside in another pan add some oil along garlic and saute the chopped gongura leaves along with a little salt and the ground masala  the gongura leaves will wilt almost instantly  saute the gongura in the masala for about 3 to 4 minutes until it becomes like a mushy paste once done  add the cooked chicken curry into the gongura masala and saute on high heat for another 2 minutes and turn off the heat check the salt and spices and adjust according to taste  transfer the gongura chicken curry to a serving bowl and serve hot serve gongura chicken with ghee rice recipe   neychoru   tomato onion cucumber raita recipe and a semiya payasam for a delicious weekend lunch'"
      ]
     },
     "execution_count": 60,
     "metadata": {},
     "output_type": "execute_result"
    }
   ],
   "source": [
    "df.TranslatedInstructions[3]"
   ]
  },
  {
   "cell_type": "code",
   "execution_count": null,
   "id": "d50064d1",
   "metadata": {},
   "outputs": [],
   "source": []
  }
 ],
 "metadata": {
  "kernelspec": {
   "display_name": "Python 3 (ipykernel)",
   "language": "python",
   "name": "python3"
  },
  "language_info": {
   "codemirror_mode": {
    "name": "ipython",
    "version": 3
   },
   "file_extension": ".py",
   "mimetype": "text/x-python",
   "name": "python",
   "nbconvert_exporter": "python",
   "pygments_lexer": "ipython3",
   "version": "3.9.12"
  }
 },
 "nbformat": 4,
 "nbformat_minor": 5
}
